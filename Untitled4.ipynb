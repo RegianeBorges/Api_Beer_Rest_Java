{
  "nbformat": 4,
  "nbformat_minor": 0,
  "metadata": {
    "colab": {
      "provenance": [],
      "authorship_tag": "ABX9TyOan9ToT5gw901cn4qvv7vg",
      "include_colab_link": true
    },
    "kernelspec": {
      "name": "python3",
      "display_name": "Python 3"
    },
    "language_info": {
      "name": "python"
    }
  },
  "cells": [
    {
      "cell_type": "markdown",
      "metadata": {
        "id": "view-in-github",
        "colab_type": "text"
      },
      "source": [
        "<a href=\"https://colab.research.google.com/github/RegianeBorges/Api_Beer_Rest_Java/blob/main/Untitled4.ipynb\" target=\"_parent\"><img src=\"https://colab.research.google.com/assets/colab-badge.svg\" alt=\"Open In Colab\"/></a>"
      ]
    },
    {
      "cell_type": "code",
      "source": [
        "pip install GoogleNews newspaper3k pandas nltk\n"
      ],
      "metadata": {
        "id": "U1T5drCkzDWp"
      },
      "execution_count": null,
      "outputs": []
    },
    {
      "cell_type": "code",
      "source": [],
      "metadata": {
        "id": "MvnCk18HzQpR"
      },
      "execution_count": null,
      "outputs": []
    },
    {
      "cell_type": "markdown",
      "source": [
        "# NÃO ESTÁ FUNCIONANDO"
      ],
      "metadata": {
        "id": "gKK4f99IcyRS"
      }
    },
    {
      "cell_type": "code",
      "source": [
        "from GoogleNews import GoogleNews\n",
        "from datetime import timedelta, date\n",
        "import pandas as pd\n",
        "\n",
        "googlenews = GoogleNews(lang='pt', region='br')\n",
        "googlenews.get_news('a')\n",
        "googlenews.search('a')\n",
        "\n",
        "result_0 = googlenews.page_at(1)\n",
        "\n",
        "desc_1 = googlenews.get_texts()\n",
        "link_1 = googlenews.get_links()\n",
        "\n",
        "for i in list(range(2, 70)):\n",
        "    result = googlenews.page_at(i)\n",
        "    desc = googlenews.get_texts()\n",
        "    link = googlenews.get_links()\n",
        "\n",
        "    desc_1 = desc_1 + desc\n",
        "    link_1 = link_1 + link\n",
        "\n",
        "resultados = googlenews.results()\n",
        "df = pd.DataFrame(resultados)\n",
        "\n",
        "# Configuração para exibir todas as colunas\n",
        "pd.set_option('display.max_columns', None)\n",
        "\n",
        "print(df)\n",
        "\n",
        "column_names = [\"description_text\", 'link']\n",
        "df = pd.DataFrame(columns = column_names)\n",
        "\n",
        "df['description_text'] = desc_1\n",
        "df['link'] = link_1\n",
        "\n",
        "df.to_csv('google_news.csv', index = False)\n"
      ],
      "metadata": {
        "colab": {
          "base_uri": "https://localhost:8080/"
        },
        "id": "6aXkW1rgDOFw",
        "outputId": "3108bc0c-e440-418b-891a-80cb837f7c0f"
      },
      "execution_count": null,
      "outputs": [
        {
          "output_type": "stream",
          "name": "stdout",
          "text": [
            "HTTP Error 429: Too Many Requests\n",
            "HTTP Error 429: Too Many Requests\n",
            "HTTP Error 429: Too Many Requests\n",
            "HTTP Error 429: Too Many Requests\n",
            "HTTP Error 429: Too Many Requests\n",
            "HTTP Error 429: Too Many Requests\n",
            "HTTP Error 429: Too Many Requests\n",
            "HTTP Error 429: Too Many Requests\n",
            "HTTP Error 429: Too Many Requests\n",
            "HTTP Error 429: Too Many Requests\n",
            "HTTP Error 429: Too Many Requests\n",
            "HTTP Error 429: Too Many Requests\n",
            "HTTP Error 429: Too Many Requests\n",
            "                                                title  desc            date  \\\n",
            "0   Menino de 11 anos é obrigado a trabalhar para ...  None   8 horas atrás   \n",
            "1   Danilo Lavieri: Empresa da presidente do Palme...  None   5 horas atrás   \n",
            "2   Polônia diz que não fornecerá mais armas à Ucr...  None   8 horas atrás   \n",
            "3   Faustão volta a ser internado às pressas em Sã...  None  21 horas atrás   \n",
            "4   Filho revela que Faustão decidiu não se encont...  None   7 horas atrás   \n",
            "..                                                ...   ...             ...   \n",
            "95  Nesara Gesara: quem é a pastora presa em SC ap...              á 1 hora   \n",
            "96  STJD aplica só advertência a Ramón Díaz, técni...              á 1 hora   \n",
            "97  Bombeiros tentam conter incêndio de grandes pr...              á 1 hora   \n",
            "98  Getninjas vai devolver a acionistas parte do q...              á 1 hora   \n",
            "99  Pergunta do Dia: Por que o Brasil é sempre o p...             á 2 horas   \n",
            "\n",
            "    datetime                                               link  \\\n",
            "0        NaN  news.google.com/./articles/CBMikgFodHRwczovL2c...   \n",
            "1        NaN  news.google.com/./articles/CBMikAFodHRwczovL3d...   \n",
            "2        NaN  news.google.com/./articles/CBMib2h0dHBzOi8vd3d...   \n",
            "3        NaN  news.google.com/./articles/CBMiYWh0dHBzOi8vdmV...   \n",
            "4        NaN  news.google.com/./articles/CBMiiwFodHRwczovL25...   \n",
            "..       ...                                                ...   \n",
            "95       NaN  https://g1.globo.com/sc/santa-catarina/noticia...   \n",
            "96       NaN  https://ge.globo.com/futebol/times/vasco/notic...   \n",
            "97       NaN  https://g1.globo.com/jornal-hoje/noticia/2023/...   \n",
            "98       NaN  https://pipelinevalor.globo.com/negocios/notic...   \n",
            "99       NaN  https://g1.globo.com/mundo/noticia/2023/09/21/...   \n",
            "\n",
            "                                                  img           media  site  \n",
            "0   https://lh3.googleusercontent.com/proxy/5OTvnt...              G1   NaN  \n",
            "1   https://lh3.googleusercontent.com/hMltWRpxC8ei...     UOL Esporte   NaN  \n",
            "2   https://lh3.googleusercontent.com/proxy/yo0Lwp...     DW (Brasil)   NaN  \n",
            "3   https://lh3.googleusercontent.com/proxy/t1UKue...            VEJA   NaN  \n",
            "4   https://lh3.googleusercontent.com/proxy/ZaYiCN...  Notícias da TV   NaN  \n",
            "..                                                ...             ...   ...  \n",
            "95  data:image/gif;base64,R0lGODlhAQABAIAAAP//////...              G1   NaN  \n",
            "96  data:image/gif;base64,R0lGODlhAQABAIAAAP//////...   Globo Esporte   NaN  \n",
            "97  data:image/gif;base64,R0lGODlhAQABAIAAAP//////...              G1   NaN  \n",
            "98  data:image/gif;base64,R0lGODlhAQABAIAAAP//////...        Pipeline   NaN  \n",
            "99  data:image/gif;base64,R0lGODlhAQABAIAAAP//////...              G1   NaN  \n",
            "\n",
            "[100 rows x 8 columns]\n"
          ]
        }
      ]
    },
    {
      "cell_type": "code",
      "source": [
        "df.to_csv('google_news.csv', index = False)"
      ],
      "metadata": {
        "id": "givqcF8_EW2u"
      },
      "execution_count": null,
      "outputs": []
    },
    {
      "cell_type": "code",
      "source": [
        "print(len(df))\n"
      ],
      "metadata": {
        "colab": {
          "base_uri": "https://localhost:8080/"
        },
        "id": "nFa54y6LEa94",
        "outputId": "65ecba54-56cd-47ce-eab9-c4ec6c266fc3"
      },
      "execution_count": null,
      "outputs": [
        {
          "output_type": "stream",
          "name": "stdout",
          "text": [
            "23260\n"
          ]
        }
      ]
    },
    {
      "cell_type": "markdown",
      "source": [
        "NÃO ESTÁ F"
      ],
      "metadata": {
        "id": "VFeDmxQVKaFV"
      }
    },
    {
      "cell_type": "code",
      "execution_count": null,
      "metadata": {
        "colab": {
          "base_uri": "https://localhost:8080/",
          "height": 262
        },
        "id": "5UUen6DIzCIo",
        "outputId": "7c07e425-8c7c-4dc9-f811-028da2b9fafb"
      },
      "outputs": [
        {
          "output_type": "error",
          "ename": "NameError",
          "evalue": "ignored",
          "traceback": [
            "\u001b[0;31m---------------------------------------------------------------------------\u001b[0m",
            "\u001b[0;31mNameError\u001b[0m                                 Traceback (most recent call last)",
            "\u001b[0;32m<ipython-input-2-e4cf9f0ecc46>\u001b[0m in \u001b[0;36m<cell line: 7>\u001b[0;34m()\u001b[0m\n\u001b[1;32m      5\u001b[0m \u001b[0;34m\u001b[0m\u001b[0m\n\u001b[1;32m      6\u001b[0m \u001b[0muser_agent\u001b[0m \u001b[0;34m=\u001b[0m \u001b[0;34m'Mozilla/5.0 (Windows NT 10.0; Win64; x64) AppleWebKit/537.36 (KHTML, like Gecko) Chrome/117.0.0.0 Safari/537.36 Edg/117.0.2045.31'\u001b[0m\u001b[0;34m\u001b[0m\u001b[0;34m\u001b[0m\u001b[0m\n\u001b[0;32m----> 7\u001b[0;31m \u001b[0mconfig\u001b[0m \u001b[0;34m=\u001b[0m \u001b[0mConfig\u001b[0m\u001b[0;34m(\u001b[0m\u001b[0;34m)\u001b[0m\u001b[0;34m\u001b[0m\u001b[0;34m\u001b[0m\u001b[0m\n\u001b[0m\u001b[1;32m      8\u001b[0m \u001b[0mconfig\u001b[0m\u001b[0;34m.\u001b[0m\u001b[0mbrowser_user_agent\u001b[0m \u001b[0;34m=\u001b[0m \u001b[0muser_agent\u001b[0m\u001b[0;34m\u001b[0m\u001b[0;34m\u001b[0m\u001b[0m\n\u001b[1;32m      9\u001b[0m \u001b[0;34m\u001b[0m\u001b[0m\n",
            "\u001b[0;31mNameError\u001b[0m: name 'Config' is not defined"
          ]
        }
      ],
      "source": [
        "from GoogleNews import GoogleNews\n",
        "from datetime import timedelta, date\n",
        "import pandas as pd\n",
        "\n",
        "\n",
        "user_agent = 'Mozilla/5.0 (Windows NT 10.0; Win64; x64) AppleWebKit/537.36 (KHTML, like Gecko) Chrome/117.0.0.0 Safari/537.36 Edg/117.0.2045.31'\n",
        "config = Config()\n",
        "config.browser_user_agent = user_agent\n",
        "\n",
        "googlenews = GoogleNews(lang='pt', region='br')\n",
        "googlenews.get_news('mundo')\n",
        "googlenews.search(' ')\n",
        "\n",
        "result_0 = googlenews.page_at(1)\n",
        "\n",
        "desc_1 = googlenews.get_texts()\n",
        "link_1 = googlenews.get_links()\n",
        "\n",
        "\n",
        "for i in list(range(2, 10)):\n",
        "\n",
        "    result = googlenews.page_at(i)\n",
        "    desc = googlenews.get_texts()\n",
        "    link = googlenews.get_links()\n",
        "\n",
        "    desc_1 = desc_1 + desc\n",
        "    link_1 = link_1 + link\n",
        "\n",
        "\n",
        "column_names = [\"description_text\", 'link']\n",
        "dfnew = pd.DataFrame(columns = column_names)\n",
        "\n",
        "dfnew['description_text'] = desc_1\n",
        "dfnew['link'] = link_1\n",
        "display(dfnew)\n",
        "\n",
        "\n",
        "\n",
        "\n"
      ]
    },
    {
      "cell_type": "code",
      "source": [
        "print(dfnew)"
      ],
      "metadata": {
        "colab": {
          "base_uri": "https://localhost:8080/"
        },
        "id": "VWDGZTiw4FkE",
        "outputId": "5040ea88-f2db-45d2-e1c6-d0acaab5dd52"
      },
      "execution_count": null,
      "outputs": [
        {
          "output_type": "stream",
          "name": "stdout",
          "text": [
            "                                      description_text  \\\n",
            "0    A técnica ancestral que substitui ar-condicion...   \n",
            "1    Polônia diz que não vai mais armar a Ucrânia c...   \n",
            "2    Quais cidades ainda serão habitáveis em um mun...   \n",
            "3    Revista lista as 50 equipes esportivas mais va...   \n",
            "4            VAR: sucesso no mundo, fracasso no Brasil   \n",
            "..                                                 ...   \n",
            "814  Ativistas climáticos picham Portão de Brandemb...   \n",
            "815  BCs pelo mundo se adaptam ao Fed em sequência ...   \n",
            "816  Dia da Capivara: dez vezes em que o maior roed...   \n",
            "817  Por que tantos turistas estão fazendo coisas a...   \n",
            "818  'Tecendo um mundo de possibilidades': Crochê d...   \n",
            "\n",
            "                                                  link  \n",
            "0    news.google.com/./articles/CBMid2h0dHBzOi8vZzE...  \n",
            "1    news.google.com/./articles/CBMibmh0dHBzOi8vd3d...  \n",
            "2    news.google.com/./articles/CBMikgFodHRwczovL3d...  \n",
            "3    news.google.com/./articles/CBMihQFodHRwczovL3d...  \n",
            "4    news.google.com/./articles/CBMiZWh0dHBzOi8vZ2U...  \n",
            "..                                                 ...  \n",
            "814  news.google.com/./articles/CBMifmh0dHBzOi8vZzE...  \n",
            "815  news.google.com/./articles/CBMiY2h0dHBzOi8vd3d...  \n",
            "816  news.google.com/./articles/CBMilQFodHRwczovL2c...  \n",
            "817  news.google.com/./articles/CBMiaWh0dHBzOi8vZzE...  \n",
            "818  news.google.com/./articles/CBMirgFodHRwczovL2c...  \n",
            "\n",
            "[819 rows x 2 columns]\n"
          ]
        }
      ]
    },
    {
      "cell_type": "code",
      "source": [
        "\n",
        "dfnew.to_csv('google_news.csv', index = False)\n"
      ],
      "metadata": {
        "id": "iqIAM_6m3ZhQ"
      },
      "execution_count": null,
      "outputs": []
    },
    {
      "cell_type": "markdown",
      "source": [
        "# Esse está funcionando = pegando 88 resultados"
      ],
      "metadata": {
        "id": "sMkJvPpicWKB"
      }
    },
    {
      "cell_type": "code",
      "source": [],
      "metadata": {
        "id": "cYAElFCZcVPe"
      },
      "execution_count": null,
      "outputs": []
    },
    {
      "cell_type": "code",
      "source": [
        "from GoogleNews import GoogleNews\n",
        "from datetime import date\n",
        "\n",
        "\n",
        "googlenews.clear()\n",
        "\n",
        "# Cria uma instância do GoogleNews\n",
        "googlenews = GoogleNews(lang='pt', region='br')\n",
        "\n",
        "\n",
        "# Busca as notícias\n",
        "googlenews.get_news('mundo')\n",
        "\n",
        "# Obtém os resultados\n",
        "resultados = googlenews.results(sort=True)\n",
        "all_news.extend(resultados)\n",
        "\n",
        "df = pd.DataFrame(resultados)\n",
        "print(df)\n",
        "\n"
      ],
      "metadata": {
        "colab": {
          "base_uri": "https://localhost:8080/"
        },
        "id": "o_fVOQ5tpVJm",
        "outputId": "72aa6449-06fd-4daf-fb80-1dde436e188f"
      },
      "execution_count": null,
      "outputs": [
        {
          "output_type": "stream",
          "name": "stdout",
          "text": [
            "                                                title  desc            date  \\\n",
            "0   A técnica ancestral que substitui ar-condicion...  None   6 horas atrás   \n",
            "1   Índia aconselha cidadãos a evitar viagem ao Ca...  None   9 horas atrás   \n",
            "2   Quais cidades ainda serão habitáveis em um mun...  None   8 horas atrás   \n",
            "3   Futebol leva surra em ranking das 50 equipes m...  None   6 horas atrás   \n",
            "4   Dallas Cowboys lidera lista de 50 equipes espo...  None  12 horas atrás   \n",
            "..                                                ...   ...             ...   \n",
            "82  Blumenau faz participação histórica na maior O...  None    2 dias atrás   \n",
            "83  Chamou o empresário dele, aconteceu AGORA: Cri...  None    1 hora atrás   \n",
            "84  Ativistas climáticos picham Portão de Brandemb...  None    3 dias atrás   \n",
            "85  Revista elege os 100 escudos mais bonitos do m...  None    5 dias atrás   \n",
            "86  BCs pelo mundo se adaptam ao Fed em sequência ...  None    3 dias atrás   \n",
            "\n",
            "    datetime                                               link  \\\n",
            "0        NaN  news.google.com/./articles/CBMid2h0dHBzOi8vZzE...   \n",
            "1        NaN  news.google.com/./articles/CBMigAFodHRwczovL3d...   \n",
            "2        NaN  news.google.com/./articles/CBMikgFodHRwczovL3d...   \n",
            "3        NaN  news.google.com/./articles/CBMinAFodHRwczovL3d...   \n",
            "4        NaN  news.google.com/./articles/CBMiiwFodHRwczovL2d...   \n",
            "..       ...                                                ...   \n",
            "82       NaN  news.google.com/./articles/CBMiiAFodHRwczovL3d...   \n",
            "83       NaN  news.google.com/./articles/CBMiogFodHRwczovL2J...   \n",
            "84       NaN  news.google.com/./articles/CBMifmh0dHBzOi8vZzE...   \n",
            "85       NaN  news.google.com/./articles/CBMioAFodHRwczovL2d...   \n",
            "86       NaN  news.google.com/./articles/CBMiY2h0dHBzOi8vd3d...   \n",
            "\n",
            "                                                  img  \\\n",
            "0   https://lh3.googleusercontent.com/proxy/5OTvnt...   \n",
            "1   https://lh3.googleusercontent.com/proxy/SqMOdc...   \n",
            "2   https://lh3.googleusercontent.com/W-RGTXx0lweC...   \n",
            "3   https://lh3.googleusercontent.com/proxy/qxhHnE...   \n",
            "4   https://lh3.googleusercontent.com/proxy/4cInxP...   \n",
            "..                                                ...   \n",
            "82  https://encrypted-tbn2.gstatic.com/faviconV2?u...   \n",
            "83  https://lh3.googleusercontent.com/Rzj9CKF4NRQh...   \n",
            "84  https://lh3.googleusercontent.com/proxy/5OTvnt...   \n",
            "85  https://lh3.googleusercontent.com/proxy/9n997c...   \n",
            "86  https://lh3.googleusercontent.com/ItNZqRYf9ym-...   \n",
            "\n",
            "                         media  site  \n",
            "0                           G1  None  \n",
            "1                          UOL  None  \n",
            "2   National Geographic Brasil  None  \n",
            "3                      Estadão  None  \n",
            "4                        Globo  None  \n",
            "..                         ...   ...  \n",
            "82      Prefeitura de Blumenau  None  \n",
            "83              Bolavip Brasil  None  \n",
            "84                          G1  None  \n",
            "85                       Globo  None  \n",
            "86                   InfoMoney  None  \n",
            "\n",
            "[87 rows x 8 columns]\n"
          ]
        }
      ]
    },
    {
      "cell_type": "code",
      "source": [
        "print(len(df))"
      ],
      "metadata": {
        "colab": {
          "base_uri": "https://localhost:8080/"
        },
        "id": "DiskiuUYE1u6",
        "outputId": "538c67b7-dafc-4a24-9aa9-7eb38e638e2a"
      },
      "execution_count": null,
      "outputs": [
        {
          "output_type": "stream",
          "name": "stdout",
          "text": [
            "87\n"
          ]
        }
      ]
    },
    {
      "cell_type": "code",
      "source": [
        "df.to_csv('noticias0.csv', encoding='utf-8', sep=';')\n"
      ],
      "metadata": {
        "id": "vEL-0WY3zdfn"
      },
      "execution_count": null,
      "outputs": []
    },
    {
      "cell_type": "code",
      "source": [
        "print(df)\n"
      ],
      "metadata": {
        "colab": {
          "base_uri": "https://localhost:8080/"
        },
        "id": "DL_YVjzf6o6I",
        "outputId": "ed5bedc1-a381-4c55-9846-c31f05f8cc21"
      },
      "execution_count": null,
      "outputs": [
        {
          "output_type": "stream",
          "name": "stdout",
          "text": [
            "                                                title  desc            date  \\\n",
            "0   A técnica ancestral que substitui ar-condicion...  None   6 horas atrás   \n",
            "1   Índia aconselha cidadãos a evitar viagem ao Ca...  None   9 horas atrás   \n",
            "2   Quais cidades ainda serão habitáveis em um mun...  None   8 horas atrás   \n",
            "3   Futebol leva surra em ranking das 50 equipes m...  None   6 horas atrás   \n",
            "4   Dallas Cowboys lidera lista de 50 equipes espo...  None  12 horas atrás   \n",
            "..                                                ...   ...             ...   \n",
            "83  Blumenau faz participação histórica na maior O...  None    2 dias atrás   \n",
            "84  Chamou o empresário dele, aconteceu AGORA: Cri...  None    1 hora atrás   \n",
            "85  Ativistas climáticos picham Portão de Brandemb...  None    3 dias atrás   \n",
            "86  Revista elege os 100 escudos mais bonitos do m...  None    5 dias atrás   \n",
            "87  BCs pelo mundo se adaptam ao Fed em sequência ...  None    3 dias atrás   \n",
            "\n",
            "    datetime                                               link  \\\n",
            "0        NaN  news.google.com/./articles/CBMid2h0dHBzOi8vZzE...   \n",
            "1        NaN  news.google.com/./articles/CBMigAFodHRwczovL3d...   \n",
            "2        NaN  news.google.com/./articles/CBMikgFodHRwczovL3d...   \n",
            "3        NaN  news.google.com/./articles/CBMinAFodHRwczovL3d...   \n",
            "4        NaN  news.google.com/./articles/CBMiiwFodHRwczovL2d...   \n",
            "..       ...                                                ...   \n",
            "83       NaN  news.google.com/./articles/CBMiiAFodHRwczovL3d...   \n",
            "84       NaN  news.google.com/./articles/CBMiogFodHRwczovL2J...   \n",
            "85       NaN  news.google.com/./articles/CBMifmh0dHBzOi8vZzE...   \n",
            "86       NaN  news.google.com/./articles/CBMioAFodHRwczovL2d...   \n",
            "87       NaN  news.google.com/./articles/CBMiY2h0dHBzOi8vd3d...   \n",
            "\n",
            "                                                  img  \\\n",
            "0   https://lh3.googleusercontent.com/proxy/5OTvnt...   \n",
            "1   https://lh3.googleusercontent.com/proxy/SqMOdc...   \n",
            "2   https://lh3.googleusercontent.com/W-RGTXx0lweC...   \n",
            "3   https://lh3.googleusercontent.com/proxy/qxhHnE...   \n",
            "4   https://lh3.googleusercontent.com/proxy/4cInxP...   \n",
            "..                                                ...   \n",
            "83  https://encrypted-tbn2.gstatic.com/faviconV2?u...   \n",
            "84  https://lh3.googleusercontent.com/Rzj9CKF4NRQh...   \n",
            "85  https://lh3.googleusercontent.com/proxy/5OTvnt...   \n",
            "86  https://lh3.googleusercontent.com/proxy/9n997c...   \n",
            "87  https://lh3.googleusercontent.com/ItNZqRYf9ym-...   \n",
            "\n",
            "                         media  site  \n",
            "0                           G1  None  \n",
            "1                          UOL  None  \n",
            "2   National Geographic Brasil  None  \n",
            "3                      Estadão  None  \n",
            "4                        Globo  None  \n",
            "..                         ...   ...  \n",
            "83      Prefeitura de Blumenau  None  \n",
            "84              Bolavip Brasil  None  \n",
            "85                          G1  None  \n",
            "86                       Globo  None  \n",
            "87                   InfoMoney  None  \n",
            "\n",
            "[88 rows x 8 columns]\n"
          ]
        }
      ]
    },
    {
      "cell_type": "code",
      "source": [],
      "metadata": {
        "id": "xT49CiTGbXdB"
      },
      "execution_count": null,
      "outputs": []
    },
    {
      "cell_type": "markdown",
      "source": [
        "# Nova seção\n",
        "\n",
        "pegando 88 também\n",
        "\n"
      ],
      "metadata": {
        "id": "WqBtcafYcdf8"
      }
    },
    {
      "cell_type": "code",
      "source": [
        "from GoogleNews import GoogleNews\n",
        "from datetime import date\n",
        "import pytz\n",
        "import pandas as pd\n",
        "\n",
        "user_agent = 'Mozilla/5.0 (Windows NT 10.0; Win64; x64) AppleWebKit/537.36 (KHTML, like Gecko) Chrome/117.0.0.0 Safari/537.36 Edg/117.0.2045.31'\n",
        "config = Config()\n",
        "config.browser_user_agent = user_agent\n",
        "\n",
        "# Cria uma instância do GoogleNews\n",
        "\n",
        "googlenews = GoogleNews(lang='pt', region='br')\n",
        "#googlenews.set_period('3h')\n",
        "#googlenews.set_encode('utf-8')\n",
        "\n",
        "# Busca as notícias\n",
        "googlenews.get_news('mundo')\n",
        "\n",
        "# Obtém os resultados\n",
        "resultados = googlenews.results()\n",
        "df = pd.DataFrame(resultados)\n",
        "print(df)\n",
        "googlenews.clear()"
      ],
      "metadata": {
        "colab": {
          "base_uri": "https://localhost:8080/"
        },
        "id": "tpStGe8DeGam",
        "outputId": "b6f98cbb-f85c-4d82-ab3e-a11fd16a84a8"
      },
      "execution_count": null,
      "outputs": [
        {
          "output_type": "stream",
          "name": "stdout",
          "text": [
            "                                                title  desc            date  \\\n",
            "0   A técnica ancestral que substitui ar-condicion...  None   9 horas atrás   \n",
            "1   Polônia diz que não vai mais armar a Ucrânia c...  None   5 horas atrás   \n",
            "2   Quais cidades ainda serão habitáveis em um mun...  None  11 horas atrás   \n",
            "3   Revista lista as 50 equipes esportivas mais va...  None  13 horas atrás   \n",
            "4           VAR: sucesso no mundo, fracasso no Brasil  None    2 dias atrás   \n",
            "..                                                ...   ...             ...   \n",
            "85  Investida da Treecorp, Wiboo incorpora Cria pa...  None    3 dias atrás   \n",
            "86  Revista elege os 100 escudos mais bonitos do m...  None    6 dias atrás   \n",
            "87  Ativistas climáticos picham Portão de Brandemb...  None    4 dias atrás   \n",
            "88  BCs pelo mundo se adaptam ao Fed em sequência ...  None    4 dias atrás   \n",
            "89  O mundo se reúne na ONU para medir o pulso do ...  None    3 dias atrás   \n",
            "\n",
            "    datetime                                               link  \\\n",
            "0        NaN  news.google.com/./articles/CBMid2h0dHBzOi8vZzE...   \n",
            "1        NaN  news.google.com/./articles/CBMibmh0dHBzOi8vd3d...   \n",
            "2        NaN  news.google.com/./articles/CBMikgFodHRwczovL3d...   \n",
            "3        NaN  news.google.com/./articles/CBMihQFodHRwczovL3d...   \n",
            "4        NaN  news.google.com/./articles/CBMiZWh0dHBzOi8vZ2U...   \n",
            "..       ...                                                ...   \n",
            "85       NaN  news.google.com/./articles/CBMifWh0dHBzOi8vcGl...   \n",
            "86       NaN  news.google.com/./articles/CBMioAFodHRwczovL2d...   \n",
            "87       NaN  news.google.com/./articles/CBMifmh0dHBzOi8vZzE...   \n",
            "88       NaN  news.google.com/./articles/CBMiY2h0dHBzOi8vd3d...   \n",
            "89       NaN  news.google.com/./articles/CBMiLGh0dHBzOi8vbmV...   \n",
            "\n",
            "                                                  img  \\\n",
            "0   https://lh3.googleusercontent.com/proxy/5OTvnt...   \n",
            "1   https://lh3.googleusercontent.com/proxy/SqMOdc...   \n",
            "2   https://lh3.googleusercontent.com/W-RGTXx0lweC...   \n",
            "3   https://lh3.googleusercontent.com/proxy/r9Amgt...   \n",
            "4   https://lh3.googleusercontent.com/proxy/9Y0lc-...   \n",
            "..                                                ...   \n",
            "85  https://lh3.googleusercontent.com/_fnsyL5CU1H-...   \n",
            "86  https://lh3.googleusercontent.com/proxy/9n997c...   \n",
            "87  https://lh3.googleusercontent.com/proxy/5OTvnt...   \n",
            "88  https://lh3.googleusercontent.com/ItNZqRYf9ym-...   \n",
            "89  https://encrypted-tbn0.gstatic.com/faviconV2?u...   \n",
            "\n",
            "                         media  site  \n",
            "0                           G1  None  \n",
            "1                          UOL  None  \n",
            "2   National Geographic Brasil  None  \n",
            "3                  ESPN.com.br  None  \n",
            "4                        Globo  None  \n",
            "..                         ...   ...  \n",
            "85                    Pipeline  None  \n",
            "86                       Globo  None  \n",
            "87                          G1  None  \n",
            "88                   InfoMoney  None  \n",
            "89                    ONU News  None  \n",
            "\n",
            "[90 rows x 8 columns]\n"
          ]
        }
      ]
    },
    {
      "cell_type": "code",
      "source": [
        "df.to_excel('noticias3.xlsx')"
      ],
      "metadata": {
        "id": "2jDrL_E127XF"
      },
      "execution_count": null,
      "outputs": []
    },
    {
      "cell_type": "code",
      "source": [
        "print(len(df))"
      ],
      "metadata": {
        "colab": {
          "base_uri": "https://localhost:8080/"
        },
        "id": "jfBUfAPjN-8b",
        "outputId": "1a210532-9c6f-4ff3-94d5-c79bd5ab56e8"
      },
      "execution_count": null,
      "outputs": [
        {
          "output_type": "stream",
          "name": "stdout",
          "text": [
            "90\n"
          ]
        }
      ]
    },
    {
      "cell_type": "markdown",
      "source": [
        "# testando pandas"
      ],
      "metadata": {
        "id": "xDfDsDNhOLM4"
      }
    },
    {
      "cell_type": "code",
      "source": [
        "import pandas as pd\n",
        "\n",
        "# Carrega as planilhas\n",
        "df1 = pd.read_excel('/content/noticias.csv')\n",
        "df2 = pd.read_excel('/content/noticias2.csv')\n",
        "df3 = pd.read_excel('/content/noticias3.csv')\n",
        "\n",
        "# Concatena as linhas das planilhas\n",
        "df_concatenado = pd.concat([df1, df2, df3], ignore_index=True)\n",
        "\n",
        "# Salva o DataFrame concatenado em uma nova planilha\n",
        "df_concatenado.to_excel('/content/noticias-total.csv', index=False)"
      ],
      "metadata": {
        "id": "HW270-eq-tE2"
      },
      "execution_count": null,
      "outputs": []
    },
    {
      "cell_type": "markdown",
      "source": [
        "# Nova seção"
      ],
      "metadata": {
        "id": "G0TL_8c057aT"
      }
    },
    {
      "cell_type": "code",
      "source": [
        "pip install langdetect\n"
      ],
      "metadata": {
        "id": "ZQGlZ46tNUof"
      },
      "execution_count": null,
      "outputs": []
    },
    {
      "cell_type": "code",
      "source": [
        "from bs4 import BeautifulSoup as soup\n",
        "from urllib.request import urlopen\n",
        "import pandas as pd\n",
        "from langdetect import detect\n",
        "\n",
        "url = \"https://news.google.com/rss?hl=pt-BR&gl=BR&ceid=BR:pt-419\"\n",
        "cl = urlopen(url)\n",
        "xp = cl.read()\n",
        "cl.close()\n",
        "s = soup(xp, 'xml')\n",
        "nl = s.findAll('item')\n",
        "\n",
        "\n",
        "# Pega apenas os primeiros 100 resultados\n",
        "for news in nl[:100]:\n",
        "    title = news.title.text\n",
        "    link = news.link.text\n",
        "    pubdate = news.pubdate.text if news.pubdate else 'No date provided'\n",
        "\n",
        "    # Verifica se o título da notícia está em português\n",
        "    if detect(title) == 'pt-br':\n",
        "        df_new = pd.concat([df_new, pd.DataFrame()], ignore_index=True)\n",
        "\n",
        "print(df_new)\n"
      ],
      "metadata": {
        "id": "uKVVg2HS6R3K"
      },
      "execution_count": null,
      "outputs": []
    },
    {
      "cell_type": "code",
      "source": [
        "print(df_new)"
      ],
      "metadata": {
        "id": "fIMIF8QM6WTB"
      },
      "execution_count": null,
      "outputs": []
    },
    {
      "cell_type": "code",
      "source": [
        "len(df_new)"
      ],
      "metadata": {
        "colab": {
          "base_uri": "https://localhost:8080/",
          "height": 175
        },
        "id": "uyU16m0757gk",
        "outputId": "7aa0817c-2ddc-4a42-c42c-5b3fed237126"
      },
      "execution_count": null,
      "outputs": [
        {
          "output_type": "error",
          "ename": "NameError",
          "evalue": "ignored",
          "traceback": [
            "\u001b[0;31m---------------------------------------------------------------------------\u001b[0m",
            "\u001b[0;31mNameError\u001b[0m                                 Traceback (most recent call last)",
            "\u001b[0;32m<ipython-input-48-a5f8264fc1c2>\u001b[0m in \u001b[0;36m<cell line: 1>\u001b[0;34m()\u001b[0m\n\u001b[0;32m----> 1\u001b[0;31m \u001b[0mlen\u001b[0m\u001b[0;34m(\u001b[0m\u001b[0mdf_new\u001b[0m\u001b[0;34m)\u001b[0m\u001b[0;34m\u001b[0m\u001b[0;34m\u001b[0m\u001b[0m\n\u001b[0m",
            "\u001b[0;31mNameError\u001b[0m: name 'df_new' is not defined"
          ]
        }
      ]
    },
    {
      "cell_type": "code",
      "source": [
        "df.to_excel('noticias2.xlsx')"
      ],
      "metadata": {
        "id": "xlrWTzDT6gcU"
      },
      "execution_count": null,
      "outputs": []
    },
    {
      "cell_type": "code",
      "source": [
        "\n"
      ],
      "metadata": {
        "id": "sOAfMWOZ7k4Q"
      },
      "execution_count": null,
      "outputs": []
    },
    {
      "cell_type": "markdown",
      "source": [
        "# **# Teste Google News**"
      ],
      "metadata": {
        "id": "G7RTurcPt2Rc"
      }
    },
    {
      "cell_type": "markdown",
      "source": [],
      "metadata": {
        "id": "J2VGnryaFCum"
      }
    },
    {
      "cell_type": "code",
      "source": [
        "pip install newspaper3k\n",
        "pip install googlenews"
      ],
      "metadata": {
        "id": "EuUYz4JkFbsI"
      },
      "execution_count": null,
      "outputs": []
    },
    {
      "cell_type": "code",
      "source": [
        "# Importando as bibliotecas necessárias\n",
        "from GoogleNews import GoogleNews\n",
        "from newspaper import Article\n",
        "from newspaper import Config\n",
        "import pandas as pd\n",
        "import nltk\n",
        "\n",
        "# Baixando o pacote 'punkt' do NLTK, necessário para a biblioteca newspaper\n",
        "nltk.download('punkt')\n",
        "\n",
        "# Configurando o user_agent para evitar problemas de autorização ao acessar URLs\n",
        "user_agent = 'Mozilla/5.0 (Macintosh; Intel Mac OS X 10_11_5) AppleWebKit/537.36 (KHTML, like Gecko) Chrome/50.0.2661.102 Safari/537.36'\n",
        "config = Config()\n",
        "config.browser_user_agent = user_agent\n",
        "\n",
        "# Inicializando o GoogleNews para buscar notícias em português do Brasil no período de 05/09/2023 a 17/09/2023\n",
        "googlenews = GoogleNews(start='15/09/2023',end='20/09/2023')\n",
        "googlenews = GoogleNews(lang='pt', region='BR')\n",
        "\n",
        "# Pesquisando notícias com o termo 'Mundo'\n",
        "googlenews.search('Mundo')\n",
        "\n",
        "# Obtendo os resultados da pesquisa\n",
        "result=googlenews.result()\n",
        "\n",
        "# Convertendo os resultados em um DataFrame do pandas\n",
        "df=pd.DataFrame(result)\n",
        "\n",
        "# Imprimindo as primeiras linhas do DataFrame\n",
        "print(df.head())\n",
        "\n",
        "# Obtendo mais páginas de resultados até atingir aproximadamente 100 resultados\n",
        "for i in range(0,10):\n",
        "    googlenews.getpage(i)\n",
        "    result=googlenews.result()\n",
        "    df=pd.DataFrame(result)\n",
        "\n",
        "# Lista para armazenar os dicionários com as informações das notícias\n",
        "list=[]\n",
        "\n",
        "# Iterando sobre cada linha do DataFrame, baixando e analisando cada notícia\n",
        "for ind in df.index:\n",
        "    dict={}\n",
        "    article = Article(df['link'][ind],config=config)\n",
        "    article.download()\n",
        "    article.parse()\n",
        "    article.nlp()\n",
        "    dict['Date']=df['date'][ind]\n",
        "    dict['Media']=df['media'][ind]\n",
        "    dict['Title']=article.title\n",
        "    dict['Article']=article.text\n",
        "    dict['Summary']=article.summary\n",
        "    list.append(dict)\n",
        "\n",
        "# Convertendo a lista de dicionários em um DataFrame\n",
        "news_df=pd.DataFrame(list)\n",
        "\n",
        "# Salvando o DataFrame em um arquivo Excel\n",
        "news_df.to_excel(\"articles.xlsx\")\n"
      ],
      "metadata": {
        "id": "TURG-QBQ7uVL"
      },
      "execution_count": null,
      "outputs": []
    },
    {
      "cell_type": "code",
      "source": [
        "len(df)"
      ],
      "metadata": {
        "colab": {
          "base_uri": "https://localhost:8080/"
        },
        "id": "PZw2YAtDB1Pu",
        "outputId": "5492e990-c626-485e-dc70-c55d4877b844"
      },
      "execution_count": null,
      "outputs": [
        {
          "output_type": "execute_result",
          "data": {
            "text/plain": [
              "33"
            ]
          },
          "metadata": {},
          "execution_count": 5
        }
      ]
    },
    {
      "cell_type": "code",
      "source": [
        "df.to_csv('noticias6.csv', encoding='utf-8', sep=';')"
      ],
      "metadata": {
        "id": "tQNn4tAS8NGE"
      },
      "execution_count": null,
      "outputs": []
    },
    {
      "cell_type": "code",
      "source": [
        "\n"
      ],
      "metadata": {
        "id": "dBgPBl4Y3z5k"
      },
      "execution_count": null,
      "outputs": []
    },
    {
      "cell_type": "code",
      "source": [
        "# Importando as bibliotecas necessárias\n",
        "from GoogleNews import GoogleNews\n",
        "from newspaper import Article\n",
        "from newspaper import Config\n",
        "import pandas as pd\n",
        "import nltk\n",
        "\n",
        "# Baixando o pacote 'punkt' do NLTK, necessário para a biblioteca newspaper\n",
        "nltk.download('punkt')\n",
        "\n",
        "# Configurando o user_agent para evitar problemas de autorização ao acessar URLs\n",
        "user_agent = 'Mozilla/5.0 (Macintosh; Intel Mac OS X 10_11_5) AppleWebKit/537.36 (KHTML, like Gecko) Chrome/50.0.2661.102 Safari/537.36'\n",
        "config = Config()\n",
        "config.browser_user_agent = user_agent\n",
        "\n",
        "# Inicializando o GoogleNews para buscar notícias em português do Brasil no período de 05/09/2023 a 17/09/2023\n",
        "googlenews = GoogleNews(start='15/09/2023',end='20/09/2023')\n",
        "googlenews = GoogleNews(lang='pt', region='BR')\n",
        "\n",
        "# Pesquisando notícias com o termo 'Mundo'\n",
        "googlenews.search('Mundo')\n",
        "\n",
        "# Obtendo os resultados da pesquisa\n",
        "result=googlenews.result()\n",
        "\n",
        "# Convertendo os resultados em um DataFrame do pandas\n",
        "df=pd.DataFrame(result)\n",
        "\n",
        "# Imprimindo as primeiras linhas do DataFrame\n",
        "print(df.head())\n",
        "\n",
        "# Obtendo mais páginas de resultados até atingir aproximadamente 100 resultados\n",
        "for i in range(0,5):\n",
        "    googlenews.getpage(i)\n",
        "    result=googlenews.result()\n",
        "    df=pd.DataFrame(result)\n",
        "\n",
        "# Lista para armazenar os dicionários com as informações das notícias\n",
        "list=[]\n",
        "\n",
        "# Iterando sobre cada linha do DataFrame, baixando e analisando cada notícia\n",
        "from newspaper.article import ArticleException\n",
        "\n",
        "for ind in df.index:\n",
        "    dict={}\n",
        "    article = Article(df['link'][ind],config=config)\n",
        "    try:\n",
        "        article.download()\n",
        "        article.parse()\n",
        "        article.nlp()\n",
        "    except ArticleException:\n",
        "        print(f\"Não foi possível baixar o artigo: {df['link'][ind]}\")\n",
        "        continue\n",
        "    dict['Date']=df['date'][ind]\n",
        "    dict['Media']=df['media'][ind]\n",
        "    dict['Title']=article.title\n",
        "    dict['Article']=article.text\n",
        "    dict['Summary']=article.summary\n",
        "    list.append(dict)\n",
        "\n",
        "# Convertendo a lista de dicionários em um DataFrame\n",
        "news_df=pd.DataFrame(list)\n",
        "\n",
        "# Salvando o DataFrame em um arquivo Excel\n",
        "news_df.to_excel(\"articles.xlsx\")\n"
      ],
      "metadata": {
        "id": "Sh17xYJgGVHT"
      },
      "execution_count": null,
      "outputs": []
    },
    {
      "cell_type": "code",
      "source": [
        "print(len(news_df))"
      ],
      "metadata": {
        "colab": {
          "base_uri": "https://localhost:8080/"
        },
        "id": "i4NbBzWwHyPf",
        "outputId": "90e542f2-1cda-4a21-cc59-33d3d8c64caa"
      },
      "execution_count": null,
      "outputs": [
        {
          "output_type": "stream",
          "name": "stdout",
          "text": [
            "21\n"
          ]
        }
      ]
    },
    {
      "cell_type": "markdown",
      "source": [
        "# **NOVA TENTATIVA DE EXTRAÇÃO DE NOTICIAS**"
      ],
      "metadata": {
        "id": "w3jTzVxCJvyd"
      }
    },
    {
      "cell_type": "code",
      "source": [
        "#Import Libraries\n",
        "from GoogleNews import GoogleNews\n",
        "googlenews = GoogleNews()"
      ],
      "metadata": {
        "id": "lkcSsj6SJ6aK"
      },
      "execution_count": null,
      "outputs": []
    },
    {
      "cell_type": "code",
      "source": [
        "#config will allow us to access the specified url for which we are #not authorized. Sometimes we may get 403 client error while parsing #the link to download the article.\n",
        "nltk.download('punkt')"
      ],
      "metadata": {
        "id": "-fC-WzUKVltM"
      },
      "execution_count": null,
      "outputs": []
    },
    {
      "cell_type": "code",
      "source": [
        "from GoogleNews import GoogleNews\n",
        "from newspaper import Article\n",
        "from newspaper import Config\n",
        "import pandas as pd\n",
        "import nltk\n",
        "\n",
        "\n",
        "user_agent = 'Mozilla/5.0 (Windows NT 10.0; Win64; x64) AppleWebKit/537.36 (KHTML, like Gecko) Chrome/117.0.0.0 Safari/537.36 Edg/117.0.2045.31'\n",
        "config = Config()\n",
        "config.browser_user_agent = user_agent\n",
        "\n",
        "#googlenews=GoogleNews(start='05/01/2020',end='05/31/2020')\n",
        "\n",
        "# Cria uma instância do GoogleNews\n",
        "googlenews = GoogleNews(lang='pt', region='BR')\n",
        "googlenews.get_news('Mundo')\n",
        "result=googlenews.result()\n",
        "df=pd.DataFrame(result)\n",
        "print(df.head())\n",
        "\n",
        "#for i in range(1,33):\n",
        " #   googlenews.getpage(i)\n",
        " #   result=googlenews.result()\n",
        "#    df=pd.DataFrame(result)\n",
        "\n",
        "\n",
        "list=[]\n",
        "for ind in df.index:\n",
        "    dict={}\n",
        "    article = Article(df['link'][ind],config=config)\n",
        "    article.download()\n",
        "    article.parse()\n",
        "    article.nlp()\n",
        "    dict['Date']=df['date'][ind]\n",
        "    dict['Media']=df['media'][ind]\n",
        "    dict['Title']=article.title\n",
        "    dict['Article']=article.text\n",
        "    dict['Summary']=article.summary\n",
        "    list.append(dict)\n",
        "\n",
        "\n",
        "\n",
        "news_df=pd.DataFrame(list)\n",
        "\n",
        "googlenews.clear()\n"
      ],
      "metadata": {
        "id": "DKgpaaLBKkvP"
      },
      "execution_count": null,
      "outputs": []
    },
    {
      "cell_type": "code",
      "source": [
        "from GoogleNews import GoogleNews\n",
        "from newspaper import Article\n",
        "from newspaper import Config\n",
        "import pandas as pd\n",
        "import nltk\n",
        "\n",
        "#config will allow us to access the specified url for which we are #not authorized. Sometimes we may get 403 client error while parsing #the link to download the article.\n",
        "nltk.download('punkt')\n",
        "\n",
        "user_agent = 'Mozilla/5.0 (Windows NT 10.0; Win64; x64) AppleWebKit/537.36 (KHTML, like Gecko) Chrome/117.0.0.0 Safari/537.36 Edg/117.0.2045.31'\n",
        "config = Config()\n",
        "config.browser_user_agent = user_agent\n",
        "googlenews=GoogleNews(start='05/01/2020',end='05/31/2020')\n",
        "googlenews.get_news('Mundo')\n",
        "result=googlenews.result()\n",
        "df=pd.DataFrame(result)\n",
        "print(df.head())\n",
        "\n",
        "for i in range(2,10):\n",
        "    googlenews.getpage(i)\n",
        "    result=googlenews.result()\n",
        "    df=pd.DataFrame(result)\n",
        "\n",
        "list=[]\n",
        "for ind in df.index:\n",
        "    dict={}\n",
        "    article = Article(df['link'][ind],config=config)\n",
        "\n",
        "    dict['Date']=df['date'][ind]\n",
        "    dict['Media']=df['media'][ind]\n",
        "    dict['Title']=article.title\n",
        "    dict['Article']=article.text\n",
        "    dict['Summary']=article.summary\n",
        "    list.append(dict)\n",
        "\n",
        "\n",
        "news_df=pd.DataFrame(list)\n",
        "\n",
        "googlenews.clear()\n",
        "\n"
      ],
      "metadata": {
        "id": "pmxWUQv6Sn6-"
      },
      "execution_count": null,
      "outputs": []
    },
    {
      "cell_type": "code",
      "source": [
        "print(len(news_df))"
      ],
      "metadata": {
        "colab": {
          "base_uri": "https://localhost:8080/"
        },
        "id": "LZlhTMxjUwGc",
        "outputId": "d00c9744-4d3a-4f21-dd40-4cc81c1e7a41"
      },
      "execution_count": null,
      "outputs": [
        {
          "output_type": "stream",
          "name": "stdout",
          "text": [
            "30\n"
          ]
        }
      ]
    },
    {
      "cell_type": "markdown",
      "source": [
        "\n",
        "# LENDO O ARQUIVO CSV COM AS NOTICIAS"
      ],
      "metadata": {
        "id": "t5V-c3cm3P2j"
      }
    },
    {
      "cell_type": "code",
      "source": [
        "import re\n",
        "import pandas as pd\n",
        "import seaborn as sns\n",
        "import numpy as np\n",
        "from sklearn.feature_extraction.text import CountVectorizer\n",
        "from sklearn.naive_bayes import MultinomialNB\n",
        "from sklearn import metrics\n",
        "from sklearn.model_selection import cross_val_predict\n",
        "import nltk\n",
        "nltk.download('stopwords')\n",
        "nltk.download('rslp')\n",
        "from nltk import word_tokenize\n",
        "from sklearn.pipeline import Pipeline\n",
        "from plotnine import *\n",
        "from plotnine.data import mpg\n",
        "%matplotlib inline"
      ],
      "metadata": {
        "colab": {
          "base_uri": "https://localhost:8080/"
        },
        "id": "aFTaTqv7uO7_",
        "outputId": "fb1fab1b-4039-4bd1-9d54-ec58df54a51a"
      },
      "execution_count": 88,
      "outputs": [
        {
          "output_type": "stream",
          "name": "stderr",
          "text": [
            "[nltk_data] Downloading package stopwords to /root/nltk_data...\n",
            "[nltk_data]   Package stopwords is already up-to-date!\n",
            "[nltk_data] Downloading package rslp to /root/nltk_data...\n",
            "[nltk_data]   Unzipping stemmers/rslp.zip.\n"
          ]
        }
      ]
    },
    {
      "cell_type": "code",
      "source": [
        "pip install unidecode"
      ],
      "metadata": {
        "id": "-ZVz3rQI6K0W"
      },
      "execution_count": null,
      "outputs": []
    },
    {
      "cell_type": "code",
      "source": [
        "df1 = pd.read_excel('Noticias_All.xlsx')"
      ],
      "metadata": {
        "id": "7qpv8hOsu9LS"
      },
      "execution_count": 89,
      "outputs": []
    },
    {
      "cell_type": "code",
      "source": [
        "# Salva o DataFrame 'data' em um arquivo CSV\n",
        "df1.head()\n"
      ],
      "metadata": {
        "id": "k3kKO9ua3W6T"
      },
      "execution_count": null,
      "outputs": []
    },
    {
      "cell_type": "code",
      "source": [
        "df1.shape #dimensão da tabela"
      ],
      "metadata": {
        "id": "KgME4fw9AeZr"
      },
      "execution_count": null,
      "outputs": []
    },
    {
      "cell_type": "code",
      "source": [
        "df1.head(10)"
      ],
      "metadata": {
        "id": "RL-rZhix9DUA"
      },
      "execution_count": null,
      "outputs": []
    },
    {
      "cell_type": "code",
      "source": [
        "print(df1.columns)"
      ],
      "metadata": {
        "colab": {
          "base_uri": "https://localhost:8080/"
        },
        "id": "Hf-Ptwny_lK1",
        "outputId": "4e3e4102-58fc-4a1c-c49b-7242511ffb6c"
      },
      "execution_count": null,
      "outputs": [
        {
          "output_type": "stream",
          "name": "stdout",
          "text": [
            "Index(['Unnamed: 0', 'title', 'media', 'date', 'datetime', 'desc', 'link',\n",
            "       'img'],\n",
            "      dtype='object')\n"
          ]
        }
      ]
    },
    {
      "cell_type": "code",
      "source": [
        "df = df1[['title', 'media', 'datetime']]\n",
        "\n",
        "df.head(5)"
      ],
      "metadata": {
        "colab": {
          "base_uri": "https://localhost:8080/",
          "height": 206
        },
        "id": "4LFPWGlp9JXw",
        "outputId": "3a4264ed-26e0-4321-c842-f5899f74b295"
      },
      "execution_count": 94,
      "outputs": [
        {
          "output_type": "execute_result",
          "data": {
            "text/plain": [
              "                                               title           media  \\\n",
              "0  São Paulo pode quebrar tabus incômodos contra ...           Terra   \n",
              "1  Brasil atropela Peru e engata 2ª vitória no Pr...     ESPN Brasil   \n",
              "2  Mostra reúne mais de mil obras para o Museu da...  Agência Brasil   \n",
              "3  Final da Copa do Brasil: Onde assistir a Flame...  Notícias da TV   \n",
              "4  Flamengo e São Paulo iniciam hoje a briga pelo...            Band   \n",
              "\n",
              "             datetime  \n",
              "0 2023-09-17 11:14:00  \n",
              "1 2023-09-17 11:14:00  \n",
              "2 2023-09-17 11:14:00  \n",
              "3 2023-09-17 11:14:00  \n",
              "4 2023-09-17 11:14:00  "
            ],
            "text/html": [
              "\n",
              "  <div id=\"df-9edc5ef4-4da4-450f-9199-0548e918ea18\" class=\"colab-df-container\">\n",
              "    <div>\n",
              "<style scoped>\n",
              "    .dataframe tbody tr th:only-of-type {\n",
              "        vertical-align: middle;\n",
              "    }\n",
              "\n",
              "    .dataframe tbody tr th {\n",
              "        vertical-align: top;\n",
              "    }\n",
              "\n",
              "    .dataframe thead th {\n",
              "        text-align: right;\n",
              "    }\n",
              "</style>\n",
              "<table border=\"1\" class=\"dataframe\">\n",
              "  <thead>\n",
              "    <tr style=\"text-align: right;\">\n",
              "      <th></th>\n",
              "      <th>title</th>\n",
              "      <th>media</th>\n",
              "      <th>datetime</th>\n",
              "    </tr>\n",
              "  </thead>\n",
              "  <tbody>\n",
              "    <tr>\n",
              "      <th>0</th>\n",
              "      <td>São Paulo pode quebrar tabus incômodos contra ...</td>\n",
              "      <td>Terra</td>\n",
              "      <td>2023-09-17 11:14:00</td>\n",
              "    </tr>\n",
              "    <tr>\n",
              "      <th>1</th>\n",
              "      <td>Brasil atropela Peru e engata 2ª vitória no Pr...</td>\n",
              "      <td>ESPN Brasil</td>\n",
              "      <td>2023-09-17 11:14:00</td>\n",
              "    </tr>\n",
              "    <tr>\n",
              "      <th>2</th>\n",
              "      <td>Mostra reúne mais de mil obras para o Museu da...</td>\n",
              "      <td>Agência Brasil</td>\n",
              "      <td>2023-09-17 11:14:00</td>\n",
              "    </tr>\n",
              "    <tr>\n",
              "      <th>3</th>\n",
              "      <td>Final da Copa do Brasil: Onde assistir a Flame...</td>\n",
              "      <td>Notícias da TV</td>\n",
              "      <td>2023-09-17 11:14:00</td>\n",
              "    </tr>\n",
              "    <tr>\n",
              "      <th>4</th>\n",
              "      <td>Flamengo e São Paulo iniciam hoje a briga pelo...</td>\n",
              "      <td>Band</td>\n",
              "      <td>2023-09-17 11:14:00</td>\n",
              "    </tr>\n",
              "  </tbody>\n",
              "</table>\n",
              "</div>\n",
              "    <div class=\"colab-df-buttons\">\n",
              "\n",
              "  <div class=\"colab-df-container\">\n",
              "    <button class=\"colab-df-convert\" onclick=\"convertToInteractive('df-9edc5ef4-4da4-450f-9199-0548e918ea18')\"\n",
              "            title=\"Convert this dataframe to an interactive table.\"\n",
              "            style=\"display:none;\">\n",
              "\n",
              "  <svg xmlns=\"http://www.w3.org/2000/svg\" height=\"24px\" viewBox=\"0 -960 960 960\">\n",
              "    <path d=\"M120-120v-720h720v720H120Zm60-500h600v-160H180v160Zm220 220h160v-160H400v160Zm0 220h160v-160H400v160ZM180-400h160v-160H180v160Zm440 0h160v-160H620v160ZM180-180h160v-160H180v160Zm440 0h160v-160H620v160Z\"/>\n",
              "  </svg>\n",
              "    </button>\n",
              "\n",
              "  <style>\n",
              "    .colab-df-container {\n",
              "      display:flex;\n",
              "      gap: 12px;\n",
              "    }\n",
              "\n",
              "    .colab-df-convert {\n",
              "      background-color: #E8F0FE;\n",
              "      border: none;\n",
              "      border-radius: 50%;\n",
              "      cursor: pointer;\n",
              "      display: none;\n",
              "      fill: #1967D2;\n",
              "      height: 32px;\n",
              "      padding: 0 0 0 0;\n",
              "      width: 32px;\n",
              "    }\n",
              "\n",
              "    .colab-df-convert:hover {\n",
              "      background-color: #E2EBFA;\n",
              "      box-shadow: 0px 1px 2px rgba(60, 64, 67, 0.3), 0px 1px 3px 1px rgba(60, 64, 67, 0.15);\n",
              "      fill: #174EA6;\n",
              "    }\n",
              "\n",
              "    .colab-df-buttons div {\n",
              "      margin-bottom: 4px;\n",
              "    }\n",
              "\n",
              "    [theme=dark] .colab-df-convert {\n",
              "      background-color: #3B4455;\n",
              "      fill: #D2E3FC;\n",
              "    }\n",
              "\n",
              "    [theme=dark] .colab-df-convert:hover {\n",
              "      background-color: #434B5C;\n",
              "      box-shadow: 0px 1px 3px 1px rgba(0, 0, 0, 0.15);\n",
              "      filter: drop-shadow(0px 1px 2px rgba(0, 0, 0, 0.3));\n",
              "      fill: #FFFFFF;\n",
              "    }\n",
              "  </style>\n",
              "\n",
              "    <script>\n",
              "      const buttonEl =\n",
              "        document.querySelector('#df-9edc5ef4-4da4-450f-9199-0548e918ea18 button.colab-df-convert');\n",
              "      buttonEl.style.display =\n",
              "        google.colab.kernel.accessAllowed ? 'block' : 'none';\n",
              "\n",
              "      async function convertToInteractive(key) {\n",
              "        const element = document.querySelector('#df-9edc5ef4-4da4-450f-9199-0548e918ea18');\n",
              "        const dataTable =\n",
              "          await google.colab.kernel.invokeFunction('convertToInteractive',\n",
              "                                                    [key], {});\n",
              "        if (!dataTable) return;\n",
              "\n",
              "        const docLinkHtml = 'Like what you see? Visit the ' +\n",
              "          '<a target=\"_blank\" href=https://colab.research.google.com/notebooks/data_table.ipynb>data table notebook</a>'\n",
              "          + ' to learn more about interactive tables.';\n",
              "        element.innerHTML = '';\n",
              "        dataTable['output_type'] = 'display_data';\n",
              "        await google.colab.output.renderOutput(dataTable, element);\n",
              "        const docLink = document.createElement('div');\n",
              "        docLink.innerHTML = docLinkHtml;\n",
              "        element.appendChild(docLink);\n",
              "      }\n",
              "    </script>\n",
              "  </div>\n",
              "\n",
              "\n",
              "<div id=\"df-21c0d40e-72c8-42bb-b6b2-39088ff0ed40\">\n",
              "  <button class=\"colab-df-quickchart\" onclick=\"quickchart('df-21c0d40e-72c8-42bb-b6b2-39088ff0ed40')\"\n",
              "            title=\"Suggest charts.\"\n",
              "            style=\"display:none;\">\n",
              "\n",
              "<svg xmlns=\"http://www.w3.org/2000/svg\" height=\"24px\"viewBox=\"0 0 24 24\"\n",
              "     width=\"24px\">\n",
              "    <g>\n",
              "        <path d=\"M19 3H5c-1.1 0-2 .9-2 2v14c0 1.1.9 2 2 2h14c1.1 0 2-.9 2-2V5c0-1.1-.9-2-2-2zM9 17H7v-7h2v7zm4 0h-2V7h2v10zm4 0h-2v-4h2v4z\"/>\n",
              "    </g>\n",
              "</svg>\n",
              "  </button>\n",
              "\n",
              "<style>\n",
              "  .colab-df-quickchart {\n",
              "      --bg-color: #E8F0FE;\n",
              "      --fill-color: #1967D2;\n",
              "      --hover-bg-color: #E2EBFA;\n",
              "      --hover-fill-color: #174EA6;\n",
              "      --disabled-fill-color: #AAA;\n",
              "      --disabled-bg-color: #DDD;\n",
              "  }\n",
              "\n",
              "  [theme=dark] .colab-df-quickchart {\n",
              "      --bg-color: #3B4455;\n",
              "      --fill-color: #D2E3FC;\n",
              "      --hover-bg-color: #434B5C;\n",
              "      --hover-fill-color: #FFFFFF;\n",
              "      --disabled-bg-color: #3B4455;\n",
              "      --disabled-fill-color: #666;\n",
              "  }\n",
              "\n",
              "  .colab-df-quickchart {\n",
              "    background-color: var(--bg-color);\n",
              "    border: none;\n",
              "    border-radius: 50%;\n",
              "    cursor: pointer;\n",
              "    display: none;\n",
              "    fill: var(--fill-color);\n",
              "    height: 32px;\n",
              "    padding: 0;\n",
              "    width: 32px;\n",
              "  }\n",
              "\n",
              "  .colab-df-quickchart:hover {\n",
              "    background-color: var(--hover-bg-color);\n",
              "    box-shadow: 0 1px 2px rgba(60, 64, 67, 0.3), 0 1px 3px 1px rgba(60, 64, 67, 0.15);\n",
              "    fill: var(--button-hover-fill-color);\n",
              "  }\n",
              "\n",
              "  .colab-df-quickchart-complete:disabled,\n",
              "  .colab-df-quickchart-complete:disabled:hover {\n",
              "    background-color: var(--disabled-bg-color);\n",
              "    fill: var(--disabled-fill-color);\n",
              "    box-shadow: none;\n",
              "  }\n",
              "\n",
              "  .colab-df-spinner {\n",
              "    border: 2px solid var(--fill-color);\n",
              "    border-color: transparent;\n",
              "    border-bottom-color: var(--fill-color);\n",
              "    animation:\n",
              "      spin 1s steps(1) infinite;\n",
              "  }\n",
              "\n",
              "  @keyframes spin {\n",
              "    0% {\n",
              "      border-color: transparent;\n",
              "      border-bottom-color: var(--fill-color);\n",
              "      border-left-color: var(--fill-color);\n",
              "    }\n",
              "    20% {\n",
              "      border-color: transparent;\n",
              "      border-left-color: var(--fill-color);\n",
              "      border-top-color: var(--fill-color);\n",
              "    }\n",
              "    30% {\n",
              "      border-color: transparent;\n",
              "      border-left-color: var(--fill-color);\n",
              "      border-top-color: var(--fill-color);\n",
              "      border-right-color: var(--fill-color);\n",
              "    }\n",
              "    40% {\n",
              "      border-color: transparent;\n",
              "      border-right-color: var(--fill-color);\n",
              "      border-top-color: var(--fill-color);\n",
              "    }\n",
              "    60% {\n",
              "      border-color: transparent;\n",
              "      border-right-color: var(--fill-color);\n",
              "    }\n",
              "    80% {\n",
              "      border-color: transparent;\n",
              "      border-right-color: var(--fill-color);\n",
              "      border-bottom-color: var(--fill-color);\n",
              "    }\n",
              "    90% {\n",
              "      border-color: transparent;\n",
              "      border-bottom-color: var(--fill-color);\n",
              "    }\n",
              "  }\n",
              "</style>\n",
              "\n",
              "  <script>\n",
              "    async function quickchart(key) {\n",
              "      const quickchartButtonEl =\n",
              "        document.querySelector('#' + key + ' button');\n",
              "      quickchartButtonEl.disabled = true;  // To prevent multiple clicks.\n",
              "      quickchartButtonEl.classList.add('colab-df-spinner');\n",
              "      try {\n",
              "        const charts = await google.colab.kernel.invokeFunction(\n",
              "            'suggestCharts', [key], {});\n",
              "      } catch (error) {\n",
              "        console.error('Error during call to suggestCharts:', error);\n",
              "      }\n",
              "      quickchartButtonEl.classList.remove('colab-df-spinner');\n",
              "      quickchartButtonEl.classList.add('colab-df-quickchart-complete');\n",
              "    }\n",
              "    (() => {\n",
              "      let quickchartButtonEl =\n",
              "        document.querySelector('#df-21c0d40e-72c8-42bb-b6b2-39088ff0ed40 button');\n",
              "      quickchartButtonEl.style.display =\n",
              "        google.colab.kernel.accessAllowed ? 'block' : 'none';\n",
              "    })();\n",
              "  </script>\n",
              "</div>\n",
              "    </div>\n",
              "  </div>\n"
            ]
          },
          "metadata": {},
          "execution_count": 94
        }
      ]
    },
    {
      "cell_type": "code",
      "source": [
        "df.shape #dimensão da tabela"
      ],
      "metadata": {
        "colab": {
          "base_uri": "https://localhost:8080/"
        },
        "id": "x4zniWn-AaUW",
        "outputId": "e23b50bc-3551-4515-f7ae-a5700ecbd0e7"
      },
      "execution_count": null,
      "outputs": [
        {
          "output_type": "execute_result",
          "data": {
            "text/plain": [
              "(1533, 3)"
            ]
          },
          "metadata": {},
          "execution_count": 11
        }
      ]
    },
    {
      "cell_type": "code",
      "source": [
        "df.describe()"
      ],
      "metadata": {
        "colab": {
          "base_uri": "https://localhost:8080/",
          "height": 275
        },
        "id": "3n9KQYdDAmZO",
        "outputId": "f5a9519f-643a-4c2b-e87f-9be37bf00a39"
      },
      "execution_count": 95,
      "outputs": [
        {
          "output_type": "stream",
          "name": "stderr",
          "text": [
            "<ipython-input-95-ea8415b8a3ee>:1: FutureWarning: Treating datetime data as categorical rather than numeric in `.describe` is deprecated and will be removed in a future version of pandas. Specify `datetime_is_numeric=True` to silence this warning and adopt the future behavior now.\n"
          ]
        },
        {
          "output_type": "execute_result",
          "data": {
            "text/plain": [
              "                             title               media             datetime\n",
              "count                         1533                1497                 1533\n",
              "unique                        1185                 289                   13\n",
              "top     Cinema é Tudo Isso! - Blog  Notícias ao Minuto  2023-09-16 00:00:00\n",
              "freq                             8                 179                  393\n",
              "first                          NaN                 NaN  2023-07-14 00:00:00\n",
              "last                           NaN                 NaN  2023-09-18 00:00:00"
            ],
            "text/html": [
              "\n",
              "  <div id=\"df-92b63a0d-b919-4d64-955f-c17f43a4ea69\" class=\"colab-df-container\">\n",
              "    <div>\n",
              "<style scoped>\n",
              "    .dataframe tbody tr th:only-of-type {\n",
              "        vertical-align: middle;\n",
              "    }\n",
              "\n",
              "    .dataframe tbody tr th {\n",
              "        vertical-align: top;\n",
              "    }\n",
              "\n",
              "    .dataframe thead th {\n",
              "        text-align: right;\n",
              "    }\n",
              "</style>\n",
              "<table border=\"1\" class=\"dataframe\">\n",
              "  <thead>\n",
              "    <tr style=\"text-align: right;\">\n",
              "      <th></th>\n",
              "      <th>title</th>\n",
              "      <th>media</th>\n",
              "      <th>datetime</th>\n",
              "    </tr>\n",
              "  </thead>\n",
              "  <tbody>\n",
              "    <tr>\n",
              "      <th>count</th>\n",
              "      <td>1533</td>\n",
              "      <td>1497</td>\n",
              "      <td>1533</td>\n",
              "    </tr>\n",
              "    <tr>\n",
              "      <th>unique</th>\n",
              "      <td>1185</td>\n",
              "      <td>289</td>\n",
              "      <td>13</td>\n",
              "    </tr>\n",
              "    <tr>\n",
              "      <th>top</th>\n",
              "      <td>Cinema é Tudo Isso! - Blog</td>\n",
              "      <td>Notícias ao Minuto</td>\n",
              "      <td>2023-09-16 00:00:00</td>\n",
              "    </tr>\n",
              "    <tr>\n",
              "      <th>freq</th>\n",
              "      <td>8</td>\n",
              "      <td>179</td>\n",
              "      <td>393</td>\n",
              "    </tr>\n",
              "    <tr>\n",
              "      <th>first</th>\n",
              "      <td>NaN</td>\n",
              "      <td>NaN</td>\n",
              "      <td>2023-07-14 00:00:00</td>\n",
              "    </tr>\n",
              "    <tr>\n",
              "      <th>last</th>\n",
              "      <td>NaN</td>\n",
              "      <td>NaN</td>\n",
              "      <td>2023-09-18 00:00:00</td>\n",
              "    </tr>\n",
              "  </tbody>\n",
              "</table>\n",
              "</div>\n",
              "    <div class=\"colab-df-buttons\">\n",
              "\n",
              "  <div class=\"colab-df-container\">\n",
              "    <button class=\"colab-df-convert\" onclick=\"convertToInteractive('df-92b63a0d-b919-4d64-955f-c17f43a4ea69')\"\n",
              "            title=\"Convert this dataframe to an interactive table.\"\n",
              "            style=\"display:none;\">\n",
              "\n",
              "  <svg xmlns=\"http://www.w3.org/2000/svg\" height=\"24px\" viewBox=\"0 -960 960 960\">\n",
              "    <path d=\"M120-120v-720h720v720H120Zm60-500h600v-160H180v160Zm220 220h160v-160H400v160Zm0 220h160v-160H400v160ZM180-400h160v-160H180v160Zm440 0h160v-160H620v160ZM180-180h160v-160H180v160Zm440 0h160v-160H620v160Z\"/>\n",
              "  </svg>\n",
              "    </button>\n",
              "\n",
              "  <style>\n",
              "    .colab-df-container {\n",
              "      display:flex;\n",
              "      gap: 12px;\n",
              "    }\n",
              "\n",
              "    .colab-df-convert {\n",
              "      background-color: #E8F0FE;\n",
              "      border: none;\n",
              "      border-radius: 50%;\n",
              "      cursor: pointer;\n",
              "      display: none;\n",
              "      fill: #1967D2;\n",
              "      height: 32px;\n",
              "      padding: 0 0 0 0;\n",
              "      width: 32px;\n",
              "    }\n",
              "\n",
              "    .colab-df-convert:hover {\n",
              "      background-color: #E2EBFA;\n",
              "      box-shadow: 0px 1px 2px rgba(60, 64, 67, 0.3), 0px 1px 3px 1px rgba(60, 64, 67, 0.15);\n",
              "      fill: #174EA6;\n",
              "    }\n",
              "\n",
              "    .colab-df-buttons div {\n",
              "      margin-bottom: 4px;\n",
              "    }\n",
              "\n",
              "    [theme=dark] .colab-df-convert {\n",
              "      background-color: #3B4455;\n",
              "      fill: #D2E3FC;\n",
              "    }\n",
              "\n",
              "    [theme=dark] .colab-df-convert:hover {\n",
              "      background-color: #434B5C;\n",
              "      box-shadow: 0px 1px 3px 1px rgba(0, 0, 0, 0.15);\n",
              "      filter: drop-shadow(0px 1px 2px rgba(0, 0, 0, 0.3));\n",
              "      fill: #FFFFFF;\n",
              "    }\n",
              "  </style>\n",
              "\n",
              "    <script>\n",
              "      const buttonEl =\n",
              "        document.querySelector('#df-92b63a0d-b919-4d64-955f-c17f43a4ea69 button.colab-df-convert');\n",
              "      buttonEl.style.display =\n",
              "        google.colab.kernel.accessAllowed ? 'block' : 'none';\n",
              "\n",
              "      async function convertToInteractive(key) {\n",
              "        const element = document.querySelector('#df-92b63a0d-b919-4d64-955f-c17f43a4ea69');\n",
              "        const dataTable =\n",
              "          await google.colab.kernel.invokeFunction('convertToInteractive',\n",
              "                                                    [key], {});\n",
              "        if (!dataTable) return;\n",
              "\n",
              "        const docLinkHtml = 'Like what you see? Visit the ' +\n",
              "          '<a target=\"_blank\" href=https://colab.research.google.com/notebooks/data_table.ipynb>data table notebook</a>'\n",
              "          + ' to learn more about interactive tables.';\n",
              "        element.innerHTML = '';\n",
              "        dataTable['output_type'] = 'display_data';\n",
              "        await google.colab.output.renderOutput(dataTable, element);\n",
              "        const docLink = document.createElement('div');\n",
              "        docLink.innerHTML = docLinkHtml;\n",
              "        element.appendChild(docLink);\n",
              "      }\n",
              "    </script>\n",
              "  </div>\n",
              "\n",
              "\n",
              "<div id=\"df-ca3fcff0-bbcb-438f-886d-6d024000cd17\">\n",
              "  <button class=\"colab-df-quickchart\" onclick=\"quickchart('df-ca3fcff0-bbcb-438f-886d-6d024000cd17')\"\n",
              "            title=\"Suggest charts.\"\n",
              "            style=\"display:none;\">\n",
              "\n",
              "<svg xmlns=\"http://www.w3.org/2000/svg\" height=\"24px\"viewBox=\"0 0 24 24\"\n",
              "     width=\"24px\">\n",
              "    <g>\n",
              "        <path d=\"M19 3H5c-1.1 0-2 .9-2 2v14c0 1.1.9 2 2 2h14c1.1 0 2-.9 2-2V5c0-1.1-.9-2-2-2zM9 17H7v-7h2v7zm4 0h-2V7h2v10zm4 0h-2v-4h2v4z\"/>\n",
              "    </g>\n",
              "</svg>\n",
              "  </button>\n",
              "\n",
              "<style>\n",
              "  .colab-df-quickchart {\n",
              "      --bg-color: #E8F0FE;\n",
              "      --fill-color: #1967D2;\n",
              "      --hover-bg-color: #E2EBFA;\n",
              "      --hover-fill-color: #174EA6;\n",
              "      --disabled-fill-color: #AAA;\n",
              "      --disabled-bg-color: #DDD;\n",
              "  }\n",
              "\n",
              "  [theme=dark] .colab-df-quickchart {\n",
              "      --bg-color: #3B4455;\n",
              "      --fill-color: #D2E3FC;\n",
              "      --hover-bg-color: #434B5C;\n",
              "      --hover-fill-color: #FFFFFF;\n",
              "      --disabled-bg-color: #3B4455;\n",
              "      --disabled-fill-color: #666;\n",
              "  }\n",
              "\n",
              "  .colab-df-quickchart {\n",
              "    background-color: var(--bg-color);\n",
              "    border: none;\n",
              "    border-radius: 50%;\n",
              "    cursor: pointer;\n",
              "    display: none;\n",
              "    fill: var(--fill-color);\n",
              "    height: 32px;\n",
              "    padding: 0;\n",
              "    width: 32px;\n",
              "  }\n",
              "\n",
              "  .colab-df-quickchart:hover {\n",
              "    background-color: var(--hover-bg-color);\n",
              "    box-shadow: 0 1px 2px rgba(60, 64, 67, 0.3), 0 1px 3px 1px rgba(60, 64, 67, 0.15);\n",
              "    fill: var(--button-hover-fill-color);\n",
              "  }\n",
              "\n",
              "  .colab-df-quickchart-complete:disabled,\n",
              "  .colab-df-quickchart-complete:disabled:hover {\n",
              "    background-color: var(--disabled-bg-color);\n",
              "    fill: var(--disabled-fill-color);\n",
              "    box-shadow: none;\n",
              "  }\n",
              "\n",
              "  .colab-df-spinner {\n",
              "    border: 2px solid var(--fill-color);\n",
              "    border-color: transparent;\n",
              "    border-bottom-color: var(--fill-color);\n",
              "    animation:\n",
              "      spin 1s steps(1) infinite;\n",
              "  }\n",
              "\n",
              "  @keyframes spin {\n",
              "    0% {\n",
              "      border-color: transparent;\n",
              "      border-bottom-color: var(--fill-color);\n",
              "      border-left-color: var(--fill-color);\n",
              "    }\n",
              "    20% {\n",
              "      border-color: transparent;\n",
              "      border-left-color: var(--fill-color);\n",
              "      border-top-color: var(--fill-color);\n",
              "    }\n",
              "    30% {\n",
              "      border-color: transparent;\n",
              "      border-left-color: var(--fill-color);\n",
              "      border-top-color: var(--fill-color);\n",
              "      border-right-color: var(--fill-color);\n",
              "    }\n",
              "    40% {\n",
              "      border-color: transparent;\n",
              "      border-right-color: var(--fill-color);\n",
              "      border-top-color: var(--fill-color);\n",
              "    }\n",
              "    60% {\n",
              "      border-color: transparent;\n",
              "      border-right-color: var(--fill-color);\n",
              "    }\n",
              "    80% {\n",
              "      border-color: transparent;\n",
              "      border-right-color: var(--fill-color);\n",
              "      border-bottom-color: var(--fill-color);\n",
              "    }\n",
              "    90% {\n",
              "      border-color: transparent;\n",
              "      border-bottom-color: var(--fill-color);\n",
              "    }\n",
              "  }\n",
              "</style>\n",
              "\n",
              "  <script>\n",
              "    async function quickchart(key) {\n",
              "      const quickchartButtonEl =\n",
              "        document.querySelector('#' + key + ' button');\n",
              "      quickchartButtonEl.disabled = true;  // To prevent multiple clicks.\n",
              "      quickchartButtonEl.classList.add('colab-df-spinner');\n",
              "      try {\n",
              "        const charts = await google.colab.kernel.invokeFunction(\n",
              "            'suggestCharts', [key], {});\n",
              "      } catch (error) {\n",
              "        console.error('Error during call to suggestCharts:', error);\n",
              "      }\n",
              "      quickchartButtonEl.classList.remove('colab-df-spinner');\n",
              "      quickchartButtonEl.classList.add('colab-df-quickchart-complete');\n",
              "    }\n",
              "    (() => {\n",
              "      let quickchartButtonEl =\n",
              "        document.querySelector('#df-ca3fcff0-bbcb-438f-886d-6d024000cd17 button');\n",
              "      quickchartButtonEl.style.display =\n",
              "        google.colab.kernel.accessAllowed ? 'block' : 'none';\n",
              "    })();\n",
              "  </script>\n",
              "</div>\n",
              "    </div>\n",
              "  </div>\n"
            ]
          },
          "metadata": {},
          "execution_count": 95
        }
      ]
    },
    {
      "cell_type": "code",
      "source": [
        "df.isna().sum()"
      ],
      "metadata": {
        "colab": {
          "base_uri": "https://localhost:8080/"
        },
        "id": "KDK3euef5ZqF",
        "outputId": "9decb03e-51d1-4caa-cdf2-e5faecc292f1"
      },
      "execution_count": null,
      "outputs": [
        {
          "output_type": "execute_result",
          "data": {
            "text/plain": [
              "title        0\n",
              "media       36\n",
              "datetime     0\n",
              "dtype: int64"
            ]
          },
          "metadata": {},
          "execution_count": 13
        }
      ]
    },
    {
      "cell_type": "code",
      "source": [
        "df.dropna(inplace=True)\n",
        "df.isnull().sum()"
      ],
      "metadata": {
        "colab": {
          "base_uri": "https://localhost:8080/"
        },
        "id": "MySdDTSZ96do",
        "outputId": "b8103ec4-afdd-40d9-caa3-fcabd9842821"
      },
      "execution_count": 96,
      "outputs": [
        {
          "output_type": "stream",
          "name": "stderr",
          "text": [
            "<ipython-input-96-ade90e9e5014>:1: SettingWithCopyWarning: \n",
            "A value is trying to be set on a copy of a slice from a DataFrame\n",
            "\n",
            "See the caveats in the documentation: https://pandas.pydata.org/pandas-docs/stable/user_guide/indexing.html#returning-a-view-versus-a-copy\n"
          ]
        },
        {
          "output_type": "execute_result",
          "data": {
            "text/plain": [
              "title       0\n",
              "media       0\n",
              "datetime    0\n",
              "dtype: int64"
            ]
          },
          "metadata": {},
          "execution_count": 96
        }
      ]
    },
    {
      "cell_type": "markdown",
      "source": [
        "## PreProcessing"
      ],
      "metadata": {
        "id": "PfFzXEV8-JRB"
      }
    },
    {
      "cell_type": "code",
      "source": [
        "#Função para converte texto para minúsculo\n",
        "def converte_minusculo(text):\n",
        "\t  return text.lower()\n",
        "\n",
        "# Função para remover espços em branco do texto\n",
        "def remove_espacos_branco(text):\n",
        "\t  return text.strip()\n",
        "\n",
        "def remover_acentos_e_caracteres_especiais(palavra):\n",
        "    # Unicode normalize transforma um caracter em seu equivalente em latin.\n",
        "    nfkd = unicodedata.normalize('NFKD', palavra)\n",
        "    palavra_sem_acento = u\"\".join([c for c in nfkd if not unicodedata.combining(c)])\n",
        "\n",
        "    # Usa expressão regular para retornar a palavra apenas com números, letras e espaço\n",
        "    return re.sub('[^a-zA-Z0-9 \\\\\\]', '', palavra_sem_acento)\n",
        "\n",
        "# Função para remover emojis do texto\n",
        "def remove_emoji(text):\n",
        "    emoji_pattern = re.compile(\"[\"\n",
        "                           u\"\\U0001F600-\\U0001F64F\"  # emoticons\n",
        "                           u\"\\U0001F300-\\U0001F5FF\"  # symbols & pictographs\n",
        "                           u\"\\U0001F680-\\U0001F6FF\"  # transport & map symbols\n",
        "                           u\"\\U0001F1E0-\\U0001F1FF\"  # flags (iOS)\n",
        "                           u\"\\U00002702-\\U000027B0\"\n",
        "                           u\"\\U000024C2-\\U0001F251\"\n",
        "                           \"]+\", flags=re.UNICODE)\n",
        "    return emoji_pattern.sub(r'', text)\n",
        "\n",
        "# Função para remover http do texto\n",
        "def remove_http(text):\n",
        "\t  http = \"http?://\\ S + |www.\\.\\S+\"\n",
        "\t  pattern = r\"({})\".format(http)\n",
        "\t  return re.sub(pattern, \"\", text)\n",
        "\n"
      ],
      "metadata": {
        "id": "FcHMoK0t-KBR"
      },
      "execution_count": 103,
      "outputs": []
    },
    {
      "cell_type": "code",
      "source": [
        "print(df.columns)"
      ],
      "metadata": {
        "colab": {
          "base_uri": "https://localhost:8080/"
        },
        "id": "_kUnkGlhMm7B",
        "outputId": "cbda320b-bf9c-4680-dbb0-8e58b974625f"
      },
      "execution_count": 102,
      "outputs": [
        {
          "output_type": "stream",
          "name": "stdout",
          "text": [
            "Index(['title', 'media', 'datetime'], dtype='object')\n"
          ]
        }
      ]
    },
    {
      "cell_type": "code",
      "source": [
        "df['title2'] = df['title'].apply(converte_minusculo).apply(remove_espacos_branco).apply(remove_emoji).apply(remove_http).apply(remover_acentos_e_caracteres_especiais)\n",
        "\n",
        "\n",
        "df[['title','title2']].head(5)"
      ],
      "metadata": {
        "id": "bV_wsJg_BIIt",
        "colab": {
          "base_uri": "https://localhost:8080/",
          "height": 313
        },
        "outputId": "b38c5156-7e34-401a-9296-eb728ecb4499"
      },
      "execution_count": 104,
      "outputs": [
        {
          "output_type": "stream",
          "name": "stderr",
          "text": [
            "<ipython-input-104-1f306ea722b7>:1: SettingWithCopyWarning: \n",
            "A value is trying to be set on a copy of a slice from a DataFrame.\n",
            "Try using .loc[row_indexer,col_indexer] = value instead\n",
            "\n",
            "See the caveats in the documentation: https://pandas.pydata.org/pandas-docs/stable/user_guide/indexing.html#returning-a-view-versus-a-copy\n"
          ]
        },
        {
          "output_type": "execute_result",
          "data": {
            "text/plain": [
              "                                               title  \\\n",
              "0  São Paulo pode quebrar tabus incômodos contra ...   \n",
              "1  Brasil atropela Peru e engata 2ª vitória no Pr...   \n",
              "2  Mostra reúne mais de mil obras para o Museu da...   \n",
              "3  Final da Copa do Brasil: Onde assistir a Flame...   \n",
              "4  Flamengo e São Paulo iniciam hoje a briga pelo...   \n",
              "\n",
              "                                              title2  \n",
              "0  sao paulo pode quebrar tabus incomodos contra ...  \n",
              "1  brasil atropela peru e engata 2a vitoria no pr...  \n",
              "2  mostra reune mais de mil obras para o museu da...  \n",
              "3  final da copa do brasil onde assistir a flamen...  \n",
              "4  flamengo e sao paulo iniciam hoje a briga pelo...  "
            ],
            "text/html": [
              "\n",
              "  <div id=\"df-644dafa8-ae82-426a-903c-fed8a89e69d8\" class=\"colab-df-container\">\n",
              "    <div>\n",
              "<style scoped>\n",
              "    .dataframe tbody tr th:only-of-type {\n",
              "        vertical-align: middle;\n",
              "    }\n",
              "\n",
              "    .dataframe tbody tr th {\n",
              "        vertical-align: top;\n",
              "    }\n",
              "\n",
              "    .dataframe thead th {\n",
              "        text-align: right;\n",
              "    }\n",
              "</style>\n",
              "<table border=\"1\" class=\"dataframe\">\n",
              "  <thead>\n",
              "    <tr style=\"text-align: right;\">\n",
              "      <th></th>\n",
              "      <th>title</th>\n",
              "      <th>title2</th>\n",
              "    </tr>\n",
              "  </thead>\n",
              "  <tbody>\n",
              "    <tr>\n",
              "      <th>0</th>\n",
              "      <td>São Paulo pode quebrar tabus incômodos contra ...</td>\n",
              "      <td>sao paulo pode quebrar tabus incomodos contra ...</td>\n",
              "    </tr>\n",
              "    <tr>\n",
              "      <th>1</th>\n",
              "      <td>Brasil atropela Peru e engata 2ª vitória no Pr...</td>\n",
              "      <td>brasil atropela peru e engata 2a vitoria no pr...</td>\n",
              "    </tr>\n",
              "    <tr>\n",
              "      <th>2</th>\n",
              "      <td>Mostra reúne mais de mil obras para o Museu da...</td>\n",
              "      <td>mostra reune mais de mil obras para o museu da...</td>\n",
              "    </tr>\n",
              "    <tr>\n",
              "      <th>3</th>\n",
              "      <td>Final da Copa do Brasil: Onde assistir a Flame...</td>\n",
              "      <td>final da copa do brasil onde assistir a flamen...</td>\n",
              "    </tr>\n",
              "    <tr>\n",
              "      <th>4</th>\n",
              "      <td>Flamengo e São Paulo iniciam hoje a briga pelo...</td>\n",
              "      <td>flamengo e sao paulo iniciam hoje a briga pelo...</td>\n",
              "    </tr>\n",
              "  </tbody>\n",
              "</table>\n",
              "</div>\n",
              "    <div class=\"colab-df-buttons\">\n",
              "\n",
              "  <div class=\"colab-df-container\">\n",
              "    <button class=\"colab-df-convert\" onclick=\"convertToInteractive('df-644dafa8-ae82-426a-903c-fed8a89e69d8')\"\n",
              "            title=\"Convert this dataframe to an interactive table.\"\n",
              "            style=\"display:none;\">\n",
              "\n",
              "  <svg xmlns=\"http://www.w3.org/2000/svg\" height=\"24px\" viewBox=\"0 -960 960 960\">\n",
              "    <path d=\"M120-120v-720h720v720H120Zm60-500h600v-160H180v160Zm220 220h160v-160H400v160Zm0 220h160v-160H400v160ZM180-400h160v-160H180v160Zm440 0h160v-160H620v160ZM180-180h160v-160H180v160Zm440 0h160v-160H620v160Z\"/>\n",
              "  </svg>\n",
              "    </button>\n",
              "\n",
              "  <style>\n",
              "    .colab-df-container {\n",
              "      display:flex;\n",
              "      gap: 12px;\n",
              "    }\n",
              "\n",
              "    .colab-df-convert {\n",
              "      background-color: #E8F0FE;\n",
              "      border: none;\n",
              "      border-radius: 50%;\n",
              "      cursor: pointer;\n",
              "      display: none;\n",
              "      fill: #1967D2;\n",
              "      height: 32px;\n",
              "      padding: 0 0 0 0;\n",
              "      width: 32px;\n",
              "    }\n",
              "\n",
              "    .colab-df-convert:hover {\n",
              "      background-color: #E2EBFA;\n",
              "      box-shadow: 0px 1px 2px rgba(60, 64, 67, 0.3), 0px 1px 3px 1px rgba(60, 64, 67, 0.15);\n",
              "      fill: #174EA6;\n",
              "    }\n",
              "\n",
              "    .colab-df-buttons div {\n",
              "      margin-bottom: 4px;\n",
              "    }\n",
              "\n",
              "    [theme=dark] .colab-df-convert {\n",
              "      background-color: #3B4455;\n",
              "      fill: #D2E3FC;\n",
              "    }\n",
              "\n",
              "    [theme=dark] .colab-df-convert:hover {\n",
              "      background-color: #434B5C;\n",
              "      box-shadow: 0px 1px 3px 1px rgba(0, 0, 0, 0.15);\n",
              "      filter: drop-shadow(0px 1px 2px rgba(0, 0, 0, 0.3));\n",
              "      fill: #FFFFFF;\n",
              "    }\n",
              "  </style>\n",
              "\n",
              "    <script>\n",
              "      const buttonEl =\n",
              "        document.querySelector('#df-644dafa8-ae82-426a-903c-fed8a89e69d8 button.colab-df-convert');\n",
              "      buttonEl.style.display =\n",
              "        google.colab.kernel.accessAllowed ? 'block' : 'none';\n",
              "\n",
              "      async function convertToInteractive(key) {\n",
              "        const element = document.querySelector('#df-644dafa8-ae82-426a-903c-fed8a89e69d8');\n",
              "        const dataTable =\n",
              "          await google.colab.kernel.invokeFunction('convertToInteractive',\n",
              "                                                    [key], {});\n",
              "        if (!dataTable) return;\n",
              "\n",
              "        const docLinkHtml = 'Like what you see? Visit the ' +\n",
              "          '<a target=\"_blank\" href=https://colab.research.google.com/notebooks/data_table.ipynb>data table notebook</a>'\n",
              "          + ' to learn more about interactive tables.';\n",
              "        element.innerHTML = '';\n",
              "        dataTable['output_type'] = 'display_data';\n",
              "        await google.colab.output.renderOutput(dataTable, element);\n",
              "        const docLink = document.createElement('div');\n",
              "        docLink.innerHTML = docLinkHtml;\n",
              "        element.appendChild(docLink);\n",
              "      }\n",
              "    </script>\n",
              "  </div>\n",
              "\n",
              "\n",
              "<div id=\"df-5faaf209-460b-48b9-b69c-4a7b13f5afd3\">\n",
              "  <button class=\"colab-df-quickchart\" onclick=\"quickchart('df-5faaf209-460b-48b9-b69c-4a7b13f5afd3')\"\n",
              "            title=\"Suggest charts.\"\n",
              "            style=\"display:none;\">\n",
              "\n",
              "<svg xmlns=\"http://www.w3.org/2000/svg\" height=\"24px\"viewBox=\"0 0 24 24\"\n",
              "     width=\"24px\">\n",
              "    <g>\n",
              "        <path d=\"M19 3H5c-1.1 0-2 .9-2 2v14c0 1.1.9 2 2 2h14c1.1 0 2-.9 2-2V5c0-1.1-.9-2-2-2zM9 17H7v-7h2v7zm4 0h-2V7h2v10zm4 0h-2v-4h2v4z\"/>\n",
              "    </g>\n",
              "</svg>\n",
              "  </button>\n",
              "\n",
              "<style>\n",
              "  .colab-df-quickchart {\n",
              "      --bg-color: #E8F0FE;\n",
              "      --fill-color: #1967D2;\n",
              "      --hover-bg-color: #E2EBFA;\n",
              "      --hover-fill-color: #174EA6;\n",
              "      --disabled-fill-color: #AAA;\n",
              "      --disabled-bg-color: #DDD;\n",
              "  }\n",
              "\n",
              "  [theme=dark] .colab-df-quickchart {\n",
              "      --bg-color: #3B4455;\n",
              "      --fill-color: #D2E3FC;\n",
              "      --hover-bg-color: #434B5C;\n",
              "      --hover-fill-color: #FFFFFF;\n",
              "      --disabled-bg-color: #3B4455;\n",
              "      --disabled-fill-color: #666;\n",
              "  }\n",
              "\n",
              "  .colab-df-quickchart {\n",
              "    background-color: var(--bg-color);\n",
              "    border: none;\n",
              "    border-radius: 50%;\n",
              "    cursor: pointer;\n",
              "    display: none;\n",
              "    fill: var(--fill-color);\n",
              "    height: 32px;\n",
              "    padding: 0;\n",
              "    width: 32px;\n",
              "  }\n",
              "\n",
              "  .colab-df-quickchart:hover {\n",
              "    background-color: var(--hover-bg-color);\n",
              "    box-shadow: 0 1px 2px rgba(60, 64, 67, 0.3), 0 1px 3px 1px rgba(60, 64, 67, 0.15);\n",
              "    fill: var(--button-hover-fill-color);\n",
              "  }\n",
              "\n",
              "  .colab-df-quickchart-complete:disabled,\n",
              "  .colab-df-quickchart-complete:disabled:hover {\n",
              "    background-color: var(--disabled-bg-color);\n",
              "    fill: var(--disabled-fill-color);\n",
              "    box-shadow: none;\n",
              "  }\n",
              "\n",
              "  .colab-df-spinner {\n",
              "    border: 2px solid var(--fill-color);\n",
              "    border-color: transparent;\n",
              "    border-bottom-color: var(--fill-color);\n",
              "    animation:\n",
              "      spin 1s steps(1) infinite;\n",
              "  }\n",
              "\n",
              "  @keyframes spin {\n",
              "    0% {\n",
              "      border-color: transparent;\n",
              "      border-bottom-color: var(--fill-color);\n",
              "      border-left-color: var(--fill-color);\n",
              "    }\n",
              "    20% {\n",
              "      border-color: transparent;\n",
              "      border-left-color: var(--fill-color);\n",
              "      border-top-color: var(--fill-color);\n",
              "    }\n",
              "    30% {\n",
              "      border-color: transparent;\n",
              "      border-left-color: var(--fill-color);\n",
              "      border-top-color: var(--fill-color);\n",
              "      border-right-color: var(--fill-color);\n",
              "    }\n",
              "    40% {\n",
              "      border-color: transparent;\n",
              "      border-right-color: var(--fill-color);\n",
              "      border-top-color: var(--fill-color);\n",
              "    }\n",
              "    60% {\n",
              "      border-color: transparent;\n",
              "      border-right-color: var(--fill-color);\n",
              "    }\n",
              "    80% {\n",
              "      border-color: transparent;\n",
              "      border-right-color: var(--fill-color);\n",
              "      border-bottom-color: var(--fill-color);\n",
              "    }\n",
              "    90% {\n",
              "      border-color: transparent;\n",
              "      border-bottom-color: var(--fill-color);\n",
              "    }\n",
              "  }\n",
              "</style>\n",
              "\n",
              "  <script>\n",
              "    async function quickchart(key) {\n",
              "      const quickchartButtonEl =\n",
              "        document.querySelector('#' + key + ' button');\n",
              "      quickchartButtonEl.disabled = true;  // To prevent multiple clicks.\n",
              "      quickchartButtonEl.classList.add('colab-df-spinner');\n",
              "      try {\n",
              "        const charts = await google.colab.kernel.invokeFunction(\n",
              "            'suggestCharts', [key], {});\n",
              "      } catch (error) {\n",
              "        console.error('Error during call to suggestCharts:', error);\n",
              "      }\n",
              "      quickchartButtonEl.classList.remove('colab-df-spinner');\n",
              "      quickchartButtonEl.classList.add('colab-df-quickchart-complete');\n",
              "    }\n",
              "    (() => {\n",
              "      let quickchartButtonEl =\n",
              "        document.querySelector('#df-5faaf209-460b-48b9-b69c-4a7b13f5afd3 button');\n",
              "      quickchartButtonEl.style.display =\n",
              "        google.colab.kernel.accessAllowed ? 'block' : 'none';\n",
              "    })();\n",
              "  </script>\n",
              "</div>\n",
              "    </div>\n",
              "  </div>\n"
            ]
          },
          "metadata": {},
          "execution_count": 104
        }
      ]
    },
    {
      "cell_type": "markdown",
      "source": [
        "# COMEÇA AQUI"
      ],
      "metadata": {
        "id": "OzXoAi76J_Dm"
      }
    },
    {
      "cell_type": "code",
      "source": [
        "from pandas.core.groupby.generic import DataFrameGroupBy\n",
        "from pandas.io.formats.info import DataFrameInfo\n",
        "\n",
        "import re\n",
        "def remove_pattern(text,pattern):\n",
        "  r = re.findall(pattern,text)\n",
        "  for i in r:\n",
        "    text = re.sub(i, '' , text)\n",
        "  return text\n",
        "\n",
        "df['title2']=np.vectorize(remove_pattern)(df['title2'],\"#[\\w]*\")\n",
        "df['title2']=np.vectorize(remove_pattern)(df['title2'],\"@[\\w]*\")\n",
        "df.head(5)"
      ],
      "metadata": {
        "id": "RFVeqB4VBMEo"
      },
      "execution_count": null,
      "outputs": []
    },
    {
      "cell_type": "code",
      "source": [
        "df['title2'] = df['title'].str.lower()\n",
        "df['title2'] = df['title2'].apply(converte_minusculo).apply(remove_espacos_branco).apply(remove_emoji)\n",
        "\n",
        "df[['title','title2']].head(5)"
      ],
      "metadata": {
        "id": "8UwCd0E1BipS"
      },
      "execution_count": null,
      "outputs": []
    },
    {
      "cell_type": "code",
      "source": [
        "#remove url\n",
        "import re\n",
        "def clean_links(text):\n",
        "  text = re.sub(r\"http\\S+\", \"\", text)\n",
        "  return text\n",
        "\n",
        "df['title2']=df['title2'].apply(clean_links)\n",
        "df['title2'].head(5)"
      ],
      "metadata": {
        "id": "SD2J8ssMD6TS"
      },
      "execution_count": null,
      "outputs": []
    },
    {
      "cell_type": "code",
      "source": [
        "# Importando as bibliotecas necessárias\n",
        "import string\n",
        "import re\n",
        "from nltk.tokenize import word_tokenize\n",
        "from nltk.probability import FreqDist\n",
        "from unidecode import unidecode\n",
        "\n",
        "# Função para remover caracteres específicos do texto\n",
        "def remove_char(text):\n",
        "  text = text.replace(\"ç\",\"c\")\n",
        "  text = text.replace(\"ã\",\"a\")\n",
        "  text = text.replace(\"õ\",\"o\")\n",
        "  text = text.replace(\"é\",\"e\")\n",
        "  text = text.replace(\"ó\",\"o\")\n",
        "  text = text.replace(\"à\",\"a\")\n",
        "  text = text.replace(\"ô\",\"o\")\n",
        "  text = text.replace(\"í\",\"i\")\n",
        "  text = text.replace(\"ú\",\"u\")\n",
        "  text = text.replace(\"º\",\" \")\n",
        "  text = text.replace(\"ª\",\" \")\n",
        "  text = text.replace(\",\",\" \")\n",
        "  text = text.replace(\"-\",\" \")  # Substitui \"-\" por espaço\n",
        "  return text.replace(\":\", \" \")  # Substitui \":\" por espaço\n",
        "\n",
        "# Função para remover pontuação do texto\n",
        "def remove_punctuation(text):\n",
        "    punctuation_comments=\"\".join([i for i in text if i not in string.punctuation])  # Remove todos os caracteres de pontuação do texto\n",
        "    text.replace(punctuation_comments,\" \")\n",
        "    return punctuation_comments\n",
        "\n",
        "# Função para remover emojis do texto\n",
        "def deEmojify(text):\n",
        "    return text.encode('ascii', 'replace').decode('ascii')  # Remove todos os emojis do texto\n",
        "\n",
        "# Função para remover números do texto\n",
        "def remove_number(text):\n",
        "    return  re.sub(r\"\\d+\", \"\", text)  # Remove todos os números do texto\n",
        "\n",
        "# Função para remover acentos e caracteres especiais do texto\n",
        "def remove_accent_and_special_char(text):\n",
        "    return unidecode(text)  # Remove todos os acentos e caracteres especiais do texto\n",
        "\n",
        "# Aplica todas as funções de limpeza na coluna 'title2' do DataFrame\n",
        "df['title2'] = df['title2'].apply(remove_char).apply(deEmojify).apply(remove_accent_and_special_char)\n",
        "\n",
        "# Exibe as colunas 'title2' e 'title' das primeiras 10 linhas do DataFrame\n",
        "df[['title2','title']].head(10)"
      ],
      "metadata": {
        "colab": {
          "base_uri": "https://localhost:8080/",
          "height": 363
        },
        "id": "19kfs35nEqz0",
        "outputId": "9f0f5c01-1556-453c-cf77-1e7b5cdb43f1"
      },
      "execution_count": null,
      "outputs": [
        {
          "output_type": "execute_result",
          "data": {
            "text/plain": [
              "                                              title2  \\\n",
              "0  sao paulo pode quebrar tabus incomodos contra ...   \n",
              "1  brasil atropela peru e engata 2? vitoria no pr...   \n",
              "2  mostra reune mais de mil obras para o museu da...   \n",
              "3  final da copa do brasil  onde assistir a flame...   \n",
              "4  flamengo e sao paulo iniciam hoje a briga pelo...   \n",
              "5  \"abusamos do direito de errar\"  diz biologo so...   \n",
              "6  brasil vence o peru e conquista segunda vitori...   \n",
              "7  ultimo domingo de inverno com calor de verao n...   \n",
              "8  brasil atropela o peru e engata segunda vitori...   \n",
              "9  como e a nova gasolina que o governo quer no b...   \n",
              "\n",
              "                                               title  \n",
              "0  São Paulo pode quebrar tabus incômodos contra ...  \n",
              "1  Brasil atropela Peru e engata 2ª vitória no Pr...  \n",
              "2  Mostra reúne mais de mil obras para o Museu da...  \n",
              "3  Final da Copa do Brasil: Onde assistir a Flame...  \n",
              "4  Flamengo e São Paulo iniciam hoje a briga pelo...  \n",
              "5  \"Abusamos do direito de errar\", diz biólogo so...  \n",
              "6  Brasil vence o Peru e conquista segunda vitóri...  \n",
              "7  Último domingo de inverno com calor de verão n...  \n",
              "8  Brasil atropela o Peru e engata segunda vitóri...  \n",
              "9  Como é a nova gasolina que o governo quer no B...  "
            ],
            "text/html": [
              "\n",
              "  <div id=\"df-7ca18bf8-d946-420d-9574-a8fd25f8a008\" class=\"colab-df-container\">\n",
              "    <div>\n",
              "<style scoped>\n",
              "    .dataframe tbody tr th:only-of-type {\n",
              "        vertical-align: middle;\n",
              "    }\n",
              "\n",
              "    .dataframe tbody tr th {\n",
              "        vertical-align: top;\n",
              "    }\n",
              "\n",
              "    .dataframe thead th {\n",
              "        text-align: right;\n",
              "    }\n",
              "</style>\n",
              "<table border=\"1\" class=\"dataframe\">\n",
              "  <thead>\n",
              "    <tr style=\"text-align: right;\">\n",
              "      <th></th>\n",
              "      <th>title2</th>\n",
              "      <th>title</th>\n",
              "    </tr>\n",
              "  </thead>\n",
              "  <tbody>\n",
              "    <tr>\n",
              "      <th>0</th>\n",
              "      <td>sao paulo pode quebrar tabus incomodos contra ...</td>\n",
              "      <td>São Paulo pode quebrar tabus incômodos contra ...</td>\n",
              "    </tr>\n",
              "    <tr>\n",
              "      <th>1</th>\n",
              "      <td>brasil atropela peru e engata 2? vitoria no pr...</td>\n",
              "      <td>Brasil atropela Peru e engata 2ª vitória no Pr...</td>\n",
              "    </tr>\n",
              "    <tr>\n",
              "      <th>2</th>\n",
              "      <td>mostra reune mais de mil obras para o museu da...</td>\n",
              "      <td>Mostra reúne mais de mil obras para o Museu da...</td>\n",
              "    </tr>\n",
              "    <tr>\n",
              "      <th>3</th>\n",
              "      <td>final da copa do brasil  onde assistir a flame...</td>\n",
              "      <td>Final da Copa do Brasil: Onde assistir a Flame...</td>\n",
              "    </tr>\n",
              "    <tr>\n",
              "      <th>4</th>\n",
              "      <td>flamengo e sao paulo iniciam hoje a briga pelo...</td>\n",
              "      <td>Flamengo e São Paulo iniciam hoje a briga pelo...</td>\n",
              "    </tr>\n",
              "    <tr>\n",
              "      <th>5</th>\n",
              "      <td>\"abusamos do direito de errar\"  diz biologo so...</td>\n",
              "      <td>\"Abusamos do direito de errar\", diz biólogo so...</td>\n",
              "    </tr>\n",
              "    <tr>\n",
              "      <th>6</th>\n",
              "      <td>brasil vence o peru e conquista segunda vitori...</td>\n",
              "      <td>Brasil vence o Peru e conquista segunda vitóri...</td>\n",
              "    </tr>\n",
              "    <tr>\n",
              "      <th>7</th>\n",
              "      <td>ultimo domingo de inverno com calor de verao n...</td>\n",
              "      <td>Último domingo de inverno com calor de verão n...</td>\n",
              "    </tr>\n",
              "    <tr>\n",
              "      <th>8</th>\n",
              "      <td>brasil atropela o peru e engata segunda vitori...</td>\n",
              "      <td>Brasil atropela o Peru e engata segunda vitóri...</td>\n",
              "    </tr>\n",
              "    <tr>\n",
              "      <th>9</th>\n",
              "      <td>como e a nova gasolina que o governo quer no b...</td>\n",
              "      <td>Como é a nova gasolina que o governo quer no B...</td>\n",
              "    </tr>\n",
              "  </tbody>\n",
              "</table>\n",
              "</div>\n",
              "    <div class=\"colab-df-buttons\">\n",
              "\n",
              "  <div class=\"colab-df-container\">\n",
              "    <button class=\"colab-df-convert\" onclick=\"convertToInteractive('df-7ca18bf8-d946-420d-9574-a8fd25f8a008')\"\n",
              "            title=\"Convert this dataframe to an interactive table.\"\n",
              "            style=\"display:none;\">\n",
              "\n",
              "  <svg xmlns=\"http://www.w3.org/2000/svg\" height=\"24px\" viewBox=\"0 -960 960 960\">\n",
              "    <path d=\"M120-120v-720h720v720H120Zm60-500h600v-160H180v160Zm220 220h160v-160H400v160Zm0 220h160v-160H400v160ZM180-400h160v-160H180v160Zm440 0h160v-160H620v160ZM180-180h160v-160H180v160Zm440 0h160v-160H620v160Z\"/>\n",
              "  </svg>\n",
              "    </button>\n",
              "\n",
              "  <style>\n",
              "    .colab-df-container {\n",
              "      display:flex;\n",
              "      gap: 12px;\n",
              "    }\n",
              "\n",
              "    .colab-df-convert {\n",
              "      background-color: #E8F0FE;\n",
              "      border: none;\n",
              "      border-radius: 50%;\n",
              "      cursor: pointer;\n",
              "      display: none;\n",
              "      fill: #1967D2;\n",
              "      height: 32px;\n",
              "      padding: 0 0 0 0;\n",
              "      width: 32px;\n",
              "    }\n",
              "\n",
              "    .colab-df-convert:hover {\n",
              "      background-color: #E2EBFA;\n",
              "      box-shadow: 0px 1px 2px rgba(60, 64, 67, 0.3), 0px 1px 3px 1px rgba(60, 64, 67, 0.15);\n",
              "      fill: #174EA6;\n",
              "    }\n",
              "\n",
              "    .colab-df-buttons div {\n",
              "      margin-bottom: 4px;\n",
              "    }\n",
              "\n",
              "    [theme=dark] .colab-df-convert {\n",
              "      background-color: #3B4455;\n",
              "      fill: #D2E3FC;\n",
              "    }\n",
              "\n",
              "    [theme=dark] .colab-df-convert:hover {\n",
              "      background-color: #434B5C;\n",
              "      box-shadow: 0px 1px 3px 1px rgba(0, 0, 0, 0.15);\n",
              "      filter: drop-shadow(0px 1px 2px rgba(0, 0, 0, 0.3));\n",
              "      fill: #FFFFFF;\n",
              "    }\n",
              "  </style>\n",
              "\n",
              "    <script>\n",
              "      const buttonEl =\n",
              "        document.querySelector('#df-7ca18bf8-d946-420d-9574-a8fd25f8a008 button.colab-df-convert');\n",
              "      buttonEl.style.display =\n",
              "        google.colab.kernel.accessAllowed ? 'block' : 'none';\n",
              "\n",
              "      async function convertToInteractive(key) {\n",
              "        const element = document.querySelector('#df-7ca18bf8-d946-420d-9574-a8fd25f8a008');\n",
              "        const dataTable =\n",
              "          await google.colab.kernel.invokeFunction('convertToInteractive',\n",
              "                                                    [key], {});\n",
              "        if (!dataTable) return;\n",
              "\n",
              "        const docLinkHtml = 'Like what you see? Visit the ' +\n",
              "          '<a target=\"_blank\" href=https://colab.research.google.com/notebooks/data_table.ipynb>data table notebook</a>'\n",
              "          + ' to learn more about interactive tables.';\n",
              "        element.innerHTML = '';\n",
              "        dataTable['output_type'] = 'display_data';\n",
              "        await google.colab.output.renderOutput(dataTable, element);\n",
              "        const docLink = document.createElement('div');\n",
              "        docLink.innerHTML = docLinkHtml;\n",
              "        element.appendChild(docLink);\n",
              "      }\n",
              "    </script>\n",
              "  </div>\n",
              "\n",
              "\n",
              "<div id=\"df-dc0da7f3-5aab-4dcc-b0a6-9259ed3c0bc3\">\n",
              "  <button class=\"colab-df-quickchart\" onclick=\"quickchart('df-dc0da7f3-5aab-4dcc-b0a6-9259ed3c0bc3')\"\n",
              "            title=\"Suggest charts.\"\n",
              "            style=\"display:none;\">\n",
              "\n",
              "<svg xmlns=\"http://www.w3.org/2000/svg\" height=\"24px\"viewBox=\"0 0 24 24\"\n",
              "     width=\"24px\">\n",
              "    <g>\n",
              "        <path d=\"M19 3H5c-1.1 0-2 .9-2 2v14c0 1.1.9 2 2 2h14c1.1 0 2-.9 2-2V5c0-1.1-.9-2-2-2zM9 17H7v-7h2v7zm4 0h-2V7h2v10zm4 0h-2v-4h2v4z\"/>\n",
              "    </g>\n",
              "</svg>\n",
              "  </button>\n",
              "\n",
              "<style>\n",
              "  .colab-df-quickchart {\n",
              "      --bg-color: #E8F0FE;\n",
              "      --fill-color: #1967D2;\n",
              "      --hover-bg-color: #E2EBFA;\n",
              "      --hover-fill-color: #174EA6;\n",
              "      --disabled-fill-color: #AAA;\n",
              "      --disabled-bg-color: #DDD;\n",
              "  }\n",
              "\n",
              "  [theme=dark] .colab-df-quickchart {\n",
              "      --bg-color: #3B4455;\n",
              "      --fill-color: #D2E3FC;\n",
              "      --hover-bg-color: #434B5C;\n",
              "      --hover-fill-color: #FFFFFF;\n",
              "      --disabled-bg-color: #3B4455;\n",
              "      --disabled-fill-color: #666;\n",
              "  }\n",
              "\n",
              "  .colab-df-quickchart {\n",
              "    background-color: var(--bg-color);\n",
              "    border: none;\n",
              "    border-radius: 50%;\n",
              "    cursor: pointer;\n",
              "    display: none;\n",
              "    fill: var(--fill-color);\n",
              "    height: 32px;\n",
              "    padding: 0;\n",
              "    width: 32px;\n",
              "  }\n",
              "\n",
              "  .colab-df-quickchart:hover {\n",
              "    background-color: var(--hover-bg-color);\n",
              "    box-shadow: 0 1px 2px rgba(60, 64, 67, 0.3), 0 1px 3px 1px rgba(60, 64, 67, 0.15);\n",
              "    fill: var(--button-hover-fill-color);\n",
              "  }\n",
              "\n",
              "  .colab-df-quickchart-complete:disabled,\n",
              "  .colab-df-quickchart-complete:disabled:hover {\n",
              "    background-color: var(--disabled-bg-color);\n",
              "    fill: var(--disabled-fill-color);\n",
              "    box-shadow: none;\n",
              "  }\n",
              "\n",
              "  .colab-df-spinner {\n",
              "    border: 2px solid var(--fill-color);\n",
              "    border-color: transparent;\n",
              "    border-bottom-color: var(--fill-color);\n",
              "    animation:\n",
              "      spin 1s steps(1) infinite;\n",
              "  }\n",
              "\n",
              "  @keyframes spin {\n",
              "    0% {\n",
              "      border-color: transparent;\n",
              "      border-bottom-color: var(--fill-color);\n",
              "      border-left-color: var(--fill-color);\n",
              "    }\n",
              "    20% {\n",
              "      border-color: transparent;\n",
              "      border-left-color: var(--fill-color);\n",
              "      border-top-color: var(--fill-color);\n",
              "    }\n",
              "    30% {\n",
              "      border-color: transparent;\n",
              "      border-left-color: var(--fill-color);\n",
              "      border-top-color: var(--fill-color);\n",
              "      border-right-color: var(--fill-color);\n",
              "    }\n",
              "    40% {\n",
              "      border-color: transparent;\n",
              "      border-right-color: var(--fill-color);\n",
              "      border-top-color: var(--fill-color);\n",
              "    }\n",
              "    60% {\n",
              "      border-color: transparent;\n",
              "      border-right-color: var(--fill-color);\n",
              "    }\n",
              "    80% {\n",
              "      border-color: transparent;\n",
              "      border-right-color: var(--fill-color);\n",
              "      border-bottom-color: var(--fill-color);\n",
              "    }\n",
              "    90% {\n",
              "      border-color: transparent;\n",
              "      border-bottom-color: var(--fill-color);\n",
              "    }\n",
              "  }\n",
              "</style>\n",
              "\n",
              "  <script>\n",
              "    async function quickchart(key) {\n",
              "      const quickchartButtonEl =\n",
              "        document.querySelector('#' + key + ' button');\n",
              "      quickchartButtonEl.disabled = true;  // To prevent multiple clicks.\n",
              "      quickchartButtonEl.classList.add('colab-df-spinner');\n",
              "      try {\n",
              "        const charts = await google.colab.kernel.invokeFunction(\n",
              "            'suggestCharts', [key], {});\n",
              "      } catch (error) {\n",
              "        console.error('Error during call to suggestCharts:', error);\n",
              "      }\n",
              "      quickchartButtonEl.classList.remove('colab-df-spinner');\n",
              "      quickchartButtonEl.classList.add('colab-df-quickchart-complete');\n",
              "    }\n",
              "    (() => {\n",
              "      let quickchartButtonEl =\n",
              "        document.querySelector('#df-dc0da7f3-5aab-4dcc-b0a6-9259ed3c0bc3 button');\n",
              "      quickchartButtonEl.style.display =\n",
              "        google.colab.kernel.accessAllowed ? 'block' : 'none';\n",
              "    })();\n",
              "  </script>\n",
              "</div>\n",
              "    </div>\n",
              "  </div>\n"
            ]
          },
          "metadata": {},
          "execution_count": 198
        }
      ]
    },
    {
      "cell_type": "code",
      "source": [
        "#defining function for tokenization\n",
        "import re\n",
        "import nltk\n",
        "nltk.download('punkt')\n",
        "\n",
        "def word_tokenize_wrapper(text):\n",
        "    return word_tokenize(text)\n",
        "\n",
        "#applying function to the column\n",
        "df['tokenizing']= df['title2'].apply(word_tokenize_wrapper)\n",
        "df[['title', 'title2', 'tokenizing']].head(5)"
      ],
      "metadata": {
        "colab": {
          "base_uri": "https://localhost:8080/",
          "height": 382
        },
        "id": "8b3ZbAL8GJ6G",
        "outputId": "89e51a26-2426-4a83-d3ed-49a2899254bf"
      },
      "execution_count": 107,
      "outputs": [
        {
          "output_type": "stream",
          "name": "stderr",
          "text": [
            "[nltk_data] Downloading package punkt to /root/nltk_data...\n",
            "[nltk_data]   Package punkt is already up-to-date!\n",
            "<ipython-input-107-ee9d19e39866>:10: SettingWithCopyWarning: \n",
            "A value is trying to be set on a copy of a slice from a DataFrame.\n",
            "Try using .loc[row_indexer,col_indexer] = value instead\n",
            "\n",
            "See the caveats in the documentation: https://pandas.pydata.org/pandas-docs/stable/user_guide/indexing.html#returning-a-view-versus-a-copy\n"
          ]
        },
        {
          "output_type": "execute_result",
          "data": {
            "text/plain": [
              "                                               title  \\\n",
              "0  São Paulo pode quebrar tabus incômodos contra ...   \n",
              "1  Brasil atropela Peru e engata 2ª vitória no Pr...   \n",
              "2  Mostra reúne mais de mil obras para o Museu da...   \n",
              "3  Final da Copa do Brasil: Onde assistir a Flame...   \n",
              "4  Flamengo e São Paulo iniciam hoje a briga pelo...   \n",
              "\n",
              "                                              title2  \\\n",
              "0  sao paulo pode quebrar tabus incomodos contra ...   \n",
              "1  brasil atropela peru e engata 2a vitoria no pr...   \n",
              "2  mostra reune mais de mil obras para o museu da...   \n",
              "3  final da copa do brasil onde assistir a flamen...   \n",
              "4  flamengo e sao paulo iniciam hoje a briga pelo...   \n",
              "\n",
              "                                          tokenizing  \n",
              "0  [sao, paulo, pode, quebrar, tabus, incomodos, ...  \n",
              "1  [brasil, atropela, peru, e, engata, 2a, vitori...  \n",
              "2  [mostra, reune, mais, de, mil, obras, para, o,...  \n",
              "3  [final, da, copa, do, brasil, onde, assistir, ...  \n",
              "4  [flamengo, e, sao, paulo, iniciam, hoje, a, br...  "
            ],
            "text/html": [
              "\n",
              "  <div id=\"df-7f85476f-7a7b-4c08-b9d6-3b894c456000\" class=\"colab-df-container\">\n",
              "    <div>\n",
              "<style scoped>\n",
              "    .dataframe tbody tr th:only-of-type {\n",
              "        vertical-align: middle;\n",
              "    }\n",
              "\n",
              "    .dataframe tbody tr th {\n",
              "        vertical-align: top;\n",
              "    }\n",
              "\n",
              "    .dataframe thead th {\n",
              "        text-align: right;\n",
              "    }\n",
              "</style>\n",
              "<table border=\"1\" class=\"dataframe\">\n",
              "  <thead>\n",
              "    <tr style=\"text-align: right;\">\n",
              "      <th></th>\n",
              "      <th>title</th>\n",
              "      <th>title2</th>\n",
              "      <th>tokenizing</th>\n",
              "    </tr>\n",
              "  </thead>\n",
              "  <tbody>\n",
              "    <tr>\n",
              "      <th>0</th>\n",
              "      <td>São Paulo pode quebrar tabus incômodos contra ...</td>\n",
              "      <td>sao paulo pode quebrar tabus incomodos contra ...</td>\n",
              "      <td>[sao, paulo, pode, quebrar, tabus, incomodos, ...</td>\n",
              "    </tr>\n",
              "    <tr>\n",
              "      <th>1</th>\n",
              "      <td>Brasil atropela Peru e engata 2ª vitória no Pr...</td>\n",
              "      <td>brasil atropela peru e engata 2a vitoria no pr...</td>\n",
              "      <td>[brasil, atropela, peru, e, engata, 2a, vitori...</td>\n",
              "    </tr>\n",
              "    <tr>\n",
              "      <th>2</th>\n",
              "      <td>Mostra reúne mais de mil obras para o Museu da...</td>\n",
              "      <td>mostra reune mais de mil obras para o museu da...</td>\n",
              "      <td>[mostra, reune, mais, de, mil, obras, para, o,...</td>\n",
              "    </tr>\n",
              "    <tr>\n",
              "      <th>3</th>\n",
              "      <td>Final da Copa do Brasil: Onde assistir a Flame...</td>\n",
              "      <td>final da copa do brasil onde assistir a flamen...</td>\n",
              "      <td>[final, da, copa, do, brasil, onde, assistir, ...</td>\n",
              "    </tr>\n",
              "    <tr>\n",
              "      <th>4</th>\n",
              "      <td>Flamengo e São Paulo iniciam hoje a briga pelo...</td>\n",
              "      <td>flamengo e sao paulo iniciam hoje a briga pelo...</td>\n",
              "      <td>[flamengo, e, sao, paulo, iniciam, hoje, a, br...</td>\n",
              "    </tr>\n",
              "  </tbody>\n",
              "</table>\n",
              "</div>\n",
              "    <div class=\"colab-df-buttons\">\n",
              "\n",
              "  <div class=\"colab-df-container\">\n",
              "    <button class=\"colab-df-convert\" onclick=\"convertToInteractive('df-7f85476f-7a7b-4c08-b9d6-3b894c456000')\"\n",
              "            title=\"Convert this dataframe to an interactive table.\"\n",
              "            style=\"display:none;\">\n",
              "\n",
              "  <svg xmlns=\"http://www.w3.org/2000/svg\" height=\"24px\" viewBox=\"0 -960 960 960\">\n",
              "    <path d=\"M120-120v-720h720v720H120Zm60-500h600v-160H180v160Zm220 220h160v-160H400v160Zm0 220h160v-160H400v160ZM180-400h160v-160H180v160Zm440 0h160v-160H620v160ZM180-180h160v-160H180v160Zm440 0h160v-160H620v160Z\"/>\n",
              "  </svg>\n",
              "    </button>\n",
              "\n",
              "  <style>\n",
              "    .colab-df-container {\n",
              "      display:flex;\n",
              "      gap: 12px;\n",
              "    }\n",
              "\n",
              "    .colab-df-convert {\n",
              "      background-color: #E8F0FE;\n",
              "      border: none;\n",
              "      border-radius: 50%;\n",
              "      cursor: pointer;\n",
              "      display: none;\n",
              "      fill: #1967D2;\n",
              "      height: 32px;\n",
              "      padding: 0 0 0 0;\n",
              "      width: 32px;\n",
              "    }\n",
              "\n",
              "    .colab-df-convert:hover {\n",
              "      background-color: #E2EBFA;\n",
              "      box-shadow: 0px 1px 2px rgba(60, 64, 67, 0.3), 0px 1px 3px 1px rgba(60, 64, 67, 0.15);\n",
              "      fill: #174EA6;\n",
              "    }\n",
              "\n",
              "    .colab-df-buttons div {\n",
              "      margin-bottom: 4px;\n",
              "    }\n",
              "\n",
              "    [theme=dark] .colab-df-convert {\n",
              "      background-color: #3B4455;\n",
              "      fill: #D2E3FC;\n",
              "    }\n",
              "\n",
              "    [theme=dark] .colab-df-convert:hover {\n",
              "      background-color: #434B5C;\n",
              "      box-shadow: 0px 1px 3px 1px rgba(0, 0, 0, 0.15);\n",
              "      filter: drop-shadow(0px 1px 2px rgba(0, 0, 0, 0.3));\n",
              "      fill: #FFFFFF;\n",
              "    }\n",
              "  </style>\n",
              "\n",
              "    <script>\n",
              "      const buttonEl =\n",
              "        document.querySelector('#df-7f85476f-7a7b-4c08-b9d6-3b894c456000 button.colab-df-convert');\n",
              "      buttonEl.style.display =\n",
              "        google.colab.kernel.accessAllowed ? 'block' : 'none';\n",
              "\n",
              "      async function convertToInteractive(key) {\n",
              "        const element = document.querySelector('#df-7f85476f-7a7b-4c08-b9d6-3b894c456000');\n",
              "        const dataTable =\n",
              "          await google.colab.kernel.invokeFunction('convertToInteractive',\n",
              "                                                    [key], {});\n",
              "        if (!dataTable) return;\n",
              "\n",
              "        const docLinkHtml = 'Like what you see? Visit the ' +\n",
              "          '<a target=\"_blank\" href=https://colab.research.google.com/notebooks/data_table.ipynb>data table notebook</a>'\n",
              "          + ' to learn more about interactive tables.';\n",
              "        element.innerHTML = '';\n",
              "        dataTable['output_type'] = 'display_data';\n",
              "        await google.colab.output.renderOutput(dataTable, element);\n",
              "        const docLink = document.createElement('div');\n",
              "        docLink.innerHTML = docLinkHtml;\n",
              "        element.appendChild(docLink);\n",
              "      }\n",
              "    </script>\n",
              "  </div>\n",
              "\n",
              "\n",
              "<div id=\"df-a25cba62-fe58-4e0c-aee6-011ec7db182a\">\n",
              "  <button class=\"colab-df-quickchart\" onclick=\"quickchart('df-a25cba62-fe58-4e0c-aee6-011ec7db182a')\"\n",
              "            title=\"Suggest charts.\"\n",
              "            style=\"display:none;\">\n",
              "\n",
              "<svg xmlns=\"http://www.w3.org/2000/svg\" height=\"24px\"viewBox=\"0 0 24 24\"\n",
              "     width=\"24px\">\n",
              "    <g>\n",
              "        <path d=\"M19 3H5c-1.1 0-2 .9-2 2v14c0 1.1.9 2 2 2h14c1.1 0 2-.9 2-2V5c0-1.1-.9-2-2-2zM9 17H7v-7h2v7zm4 0h-2V7h2v10zm4 0h-2v-4h2v4z\"/>\n",
              "    </g>\n",
              "</svg>\n",
              "  </button>\n",
              "\n",
              "<style>\n",
              "  .colab-df-quickchart {\n",
              "      --bg-color: #E8F0FE;\n",
              "      --fill-color: #1967D2;\n",
              "      --hover-bg-color: #E2EBFA;\n",
              "      --hover-fill-color: #174EA6;\n",
              "      --disabled-fill-color: #AAA;\n",
              "      --disabled-bg-color: #DDD;\n",
              "  }\n",
              "\n",
              "  [theme=dark] .colab-df-quickchart {\n",
              "      --bg-color: #3B4455;\n",
              "      --fill-color: #D2E3FC;\n",
              "      --hover-bg-color: #434B5C;\n",
              "      --hover-fill-color: #FFFFFF;\n",
              "      --disabled-bg-color: #3B4455;\n",
              "      --disabled-fill-color: #666;\n",
              "  }\n",
              "\n",
              "  .colab-df-quickchart {\n",
              "    background-color: var(--bg-color);\n",
              "    border: none;\n",
              "    border-radius: 50%;\n",
              "    cursor: pointer;\n",
              "    display: none;\n",
              "    fill: var(--fill-color);\n",
              "    height: 32px;\n",
              "    padding: 0;\n",
              "    width: 32px;\n",
              "  }\n",
              "\n",
              "  .colab-df-quickchart:hover {\n",
              "    background-color: var(--hover-bg-color);\n",
              "    box-shadow: 0 1px 2px rgba(60, 64, 67, 0.3), 0 1px 3px 1px rgba(60, 64, 67, 0.15);\n",
              "    fill: var(--button-hover-fill-color);\n",
              "  }\n",
              "\n",
              "  .colab-df-quickchart-complete:disabled,\n",
              "  .colab-df-quickchart-complete:disabled:hover {\n",
              "    background-color: var(--disabled-bg-color);\n",
              "    fill: var(--disabled-fill-color);\n",
              "    box-shadow: none;\n",
              "  }\n",
              "\n",
              "  .colab-df-spinner {\n",
              "    border: 2px solid var(--fill-color);\n",
              "    border-color: transparent;\n",
              "    border-bottom-color: var(--fill-color);\n",
              "    animation:\n",
              "      spin 1s steps(1) infinite;\n",
              "  }\n",
              "\n",
              "  @keyframes spin {\n",
              "    0% {\n",
              "      border-color: transparent;\n",
              "      border-bottom-color: var(--fill-color);\n",
              "      border-left-color: var(--fill-color);\n",
              "    }\n",
              "    20% {\n",
              "      border-color: transparent;\n",
              "      border-left-color: var(--fill-color);\n",
              "      border-top-color: var(--fill-color);\n",
              "    }\n",
              "    30% {\n",
              "      border-color: transparent;\n",
              "      border-left-color: var(--fill-color);\n",
              "      border-top-color: var(--fill-color);\n",
              "      border-right-color: var(--fill-color);\n",
              "    }\n",
              "    40% {\n",
              "      border-color: transparent;\n",
              "      border-right-color: var(--fill-color);\n",
              "      border-top-color: var(--fill-color);\n",
              "    }\n",
              "    60% {\n",
              "      border-color: transparent;\n",
              "      border-right-color: var(--fill-color);\n",
              "    }\n",
              "    80% {\n",
              "      border-color: transparent;\n",
              "      border-right-color: var(--fill-color);\n",
              "      border-bottom-color: var(--fill-color);\n",
              "    }\n",
              "    90% {\n",
              "      border-color: transparent;\n",
              "      border-bottom-color: var(--fill-color);\n",
              "    }\n",
              "  }\n",
              "</style>\n",
              "\n",
              "  <script>\n",
              "    async function quickchart(key) {\n",
              "      const quickchartButtonEl =\n",
              "        document.querySelector('#' + key + ' button');\n",
              "      quickchartButtonEl.disabled = true;  // To prevent multiple clicks.\n",
              "      quickchartButtonEl.classList.add('colab-df-spinner');\n",
              "      try {\n",
              "        const charts = await google.colab.kernel.invokeFunction(\n",
              "            'suggestCharts', [key], {});\n",
              "      } catch (error) {\n",
              "        console.error('Error during call to suggestCharts:', error);\n",
              "      }\n",
              "      quickchartButtonEl.classList.remove('colab-df-spinner');\n",
              "      quickchartButtonEl.classList.add('colab-df-quickchart-complete');\n",
              "    }\n",
              "    (() => {\n",
              "      let quickchartButtonEl =\n",
              "        document.querySelector('#df-a25cba62-fe58-4e0c-aee6-011ec7db182a button');\n",
              "      quickchartButtonEl.style.display =\n",
              "        google.colab.kernel.accessAllowed ? 'block' : 'none';\n",
              "    })();\n",
              "  </script>\n",
              "</div>\n",
              "    </div>\n",
              "  </div>\n"
            ]
          },
          "metadata": {},
          "execution_count": 107
        }
      ]
    },
    {
      "cell_type": "code",
      "source": [
        "doc = df('tokenizing')\n",
        "for token in doc:\n",
        "    print(f'{token.text:<20}{token.pos_:>5}{token.tag_:>5}')"
      ],
      "metadata": {
        "colab": {
          "base_uri": "https://localhost:8080/",
          "height": 210
        },
        "id": "J_da-_mmKqfP",
        "outputId": "8f1a6e00-e1b8-4ea6-b164-e03d66cd32ef"
      },
      "execution_count": 111,
      "outputs": [
        {
          "output_type": "error",
          "ename": "TypeError",
          "evalue": "ignored",
          "traceback": [
            "\u001b[0;31m---------------------------------------------------------------------------\u001b[0m",
            "\u001b[0;31mTypeError\u001b[0m                                 Traceback (most recent call last)",
            "\u001b[0;32m<ipython-input-111-7a15e1ed12c0>\u001b[0m in \u001b[0;36m<cell line: 1>\u001b[0;34m()\u001b[0m\n\u001b[0;32m----> 1\u001b[0;31m \u001b[0mdoc\u001b[0m \u001b[0;34m=\u001b[0m \u001b[0mdf\u001b[0m\u001b[0;34m(\u001b[0m\u001b[0;34m'tokenizing'\u001b[0m\u001b[0;34m)\u001b[0m\u001b[0;34m\u001b[0m\u001b[0;34m\u001b[0m\u001b[0m\n\u001b[0m\u001b[1;32m      2\u001b[0m \u001b[0;32mfor\u001b[0m \u001b[0mtoken\u001b[0m \u001b[0;32min\u001b[0m \u001b[0mdoc\u001b[0m\u001b[0;34m:\u001b[0m\u001b[0;34m\u001b[0m\u001b[0;34m\u001b[0m\u001b[0m\n\u001b[1;32m      3\u001b[0m     \u001b[0mprint\u001b[0m\u001b[0;34m(\u001b[0m\u001b[0;34mf'{token.text:<20}{token.pos_:>5}{token.tag_:>5}'\u001b[0m\u001b[0;34m)\u001b[0m\u001b[0;34m\u001b[0m\u001b[0;34m\u001b[0m\u001b[0m\n",
            "\u001b[0;31mTypeError\u001b[0m: 'DataFrame' object is not callable"
          ]
        }
      ]
    },
    {
      "cell_type": "code",
      "source": [
        "\n",
        "# importando a classe\n",
        "from leia import SentimentIntensityAnalyzer\n",
        "\n",
        "# instanciando\n",
        "analyser = SentimentIntensityAnalyzer()\n",
        "\n",
        "def analise(texto):\n",
        " df_analisado = analyser.polarity_scores(texto)['compound']\n",
        " return df_analisado\n",
        "\n",
        "# aplicando a função e guardando na coluna new_review\n",
        "df['new_review'] = df['media'].apply(analise)"
      ],
      "metadata": {
        "colab": {
          "base_uri": "https://localhost:8080/",
          "height": 383
        },
        "id": "Obny5GfYMoN6",
        "outputId": "02504695-4a95-46ad-d9c5-546ae2fb4e7e"
      },
      "execution_count": 121,
      "outputs": [
        {
          "output_type": "error",
          "ename": "ImportError",
          "evalue": "ignored",
          "traceback": [
            "\u001b[0;31m---------------------------------------------------------------------------\u001b[0m",
            "\u001b[0;31mImportError\u001b[0m                               Traceback (most recent call last)",
            "\u001b[0;32m<ipython-input-121-8f7e7000da93>\u001b[0m in \u001b[0;36m<cell line: 2>\u001b[0;34m()\u001b[0m\n\u001b[1;32m      1\u001b[0m \u001b[0;31m# importando a classe\u001b[0m\u001b[0;34m\u001b[0m\u001b[0;34m\u001b[0m\u001b[0m\n\u001b[0;32m----> 2\u001b[0;31m \u001b[0;32mfrom\u001b[0m \u001b[0mleia\u001b[0m \u001b[0;32mimport\u001b[0m \u001b[0mSentimentIntensityAnalyzer\u001b[0m\u001b[0;34m\u001b[0m\u001b[0;34m\u001b[0m\u001b[0m\n\u001b[0m\u001b[1;32m      3\u001b[0m \u001b[0;34m\u001b[0m\u001b[0m\n\u001b[1;32m      4\u001b[0m \u001b[0;31m# instanciando\u001b[0m\u001b[0;34m\u001b[0m\u001b[0;34m\u001b[0m\u001b[0m\n\u001b[1;32m      5\u001b[0m \u001b[0manalyser\u001b[0m \u001b[0;34m=\u001b[0m \u001b[0mSentimentIntensityAnalyzer\u001b[0m\u001b[0;34m(\u001b[0m\u001b[0;34m)\u001b[0m\u001b[0;34m\u001b[0m\u001b[0;34m\u001b[0m\u001b[0m\n",
            "\u001b[0;31mImportError\u001b[0m: cannot import name 'SentimentIntensityAnalyzer' from 'leia' (/usr/local/lib/python3.10/dist-packages/leia/__init__.py)",
            "",
            "\u001b[0;31m---------------------------------------------------------------------------\u001b[0;32m\nNOTE: If your import is failing due to a missing package, you can\nmanually install dependencies using either !pip or !apt.\n\nTo view examples of installing some common dependencies, click the\n\"Open Examples\" button below.\n\u001b[0;31m---------------------------------------------------------------------------\u001b[0m\n"
          ],
          "errorDetails": {
            "actions": [
              {
                "action": "open_url",
                "actionText": "Open Examples",
                "url": "/notebooks/snippets/importing_libraries.ipynb"
              }
            ]
          }
        }
      ]
    },
    {
      "cell_type": "code",
      "source": [
        "df"
      ],
      "metadata": {
        "id": "4o0mR87jN9Dg",
        "colab": {
          "base_uri": "https://localhost:8080/",
          "height": 597
        },
        "outputId": "1ab1a73b-0ab1-4085-a585-054ca8b40247"
      },
      "execution_count": 116,
      "outputs": [
        {
          "output_type": "execute_result",
          "data": {
            "text/plain": [
              "                                                  title               media  \\\n",
              "0     São Paulo pode quebrar tabus incômodos contra ...               Terra   \n",
              "1     Brasil atropela Peru e engata 2ª vitória no Pr...         ESPN Brasil   \n",
              "2     Mostra reúne mais de mil obras para o Museu da...      Agência Brasil   \n",
              "3     Final da Copa do Brasil: Onde assistir a Flame...      Notícias da TV   \n",
              "4     Flamengo e São Paulo iniciam hoje a briga pelo...                Band   \n",
              "...                                                 ...                 ...   \n",
              "1528  O dia em direto nos mercados e na economia – 1...                 Eco   \n",
              "1529  Nova edição do Expresso nas bancas, com novida...            Expresso   \n",
              "1530  Mercado do Bolhão. Maioria dos comerciantes de...  Notícias ao Minuto   \n",
              "1531  Cimeira G77+China começa hoje em Cuba procuran...                SAPO   \n",
              "1532  Turismo mantém economia europeia à tona. Até q...               Visão   \n",
              "\n",
              "                datetime                                             title2  \\\n",
              "0    2023-09-17 11:14:00  sao paulo pode quebrar tabus incomodos contra ...   \n",
              "1    2023-09-17 11:14:00  brasil atropela peru e engata 2a vitoria no pr...   \n",
              "2    2023-09-17 11:14:00  mostra reune mais de mil obras para o museu da...   \n",
              "3    2023-09-17 11:14:00  final da copa do brasil onde assistir a flamen...   \n",
              "4    2023-09-17 11:14:00  flamengo e sao paulo iniciam hoje a briga pelo...   \n",
              "...                  ...                                                ...   \n",
              "1528 2023-09-15 00:00:00  o dia em direto nos mercados e na economia  15...   \n",
              "1529 2023-09-15 00:00:00  nova edicao do expresso nas bancas com novidad...   \n",
              "1530 2023-09-15 00:00:00  mercado do bolhao maioria dos comerciantes des...   \n",
              "1531 2023-09-15 00:00:00  cimeira g77china comeca hoje em cuba procurand...   \n",
              "1532 2023-09-15 00:00:00  turismo mantem economia europeia a tona ate qu...   \n",
              "\n",
              "                                             tokenizing  new_review  \n",
              "0     [sao, paulo, pode, quebrar, tabus, incomodos, ...         0.0  \n",
              "1     [brasil, atropela, peru, e, engata, 2a, vitori...         0.0  \n",
              "2     [mostra, reune, mais, de, mil, obras, para, o,...         0.0  \n",
              "3     [final, da, copa, do, brasil, onde, assistir, ...         0.0  \n",
              "4     [flamengo, e, sao, paulo, iniciam, hoje, a, br...         0.0  \n",
              "...                                                 ...         ...  \n",
              "1528  [o, dia, em, direto, nos, mercados, e, na, eco...         0.0  \n",
              "1529  [nova, edicao, do, expresso, nas, bancas, com,...         0.0  \n",
              "1530  [mercado, do, bolhao, maioria, dos, comerciant...         0.0  \n",
              "1531  [cimeira, g77china, comeca, hoje, em, cuba, pr...         0.0  \n",
              "1532  [turismo, mantem, economia, europeia, a, tona,...         0.0  \n",
              "\n",
              "[1497 rows x 6 columns]"
            ],
            "text/html": [
              "\n",
              "  <div id=\"df-6d416291-e7b2-43a2-ae09-985c2f5239f6\" class=\"colab-df-container\">\n",
              "    <div>\n",
              "<style scoped>\n",
              "    .dataframe tbody tr th:only-of-type {\n",
              "        vertical-align: middle;\n",
              "    }\n",
              "\n",
              "    .dataframe tbody tr th {\n",
              "        vertical-align: top;\n",
              "    }\n",
              "\n",
              "    .dataframe thead th {\n",
              "        text-align: right;\n",
              "    }\n",
              "</style>\n",
              "<table border=\"1\" class=\"dataframe\">\n",
              "  <thead>\n",
              "    <tr style=\"text-align: right;\">\n",
              "      <th></th>\n",
              "      <th>title</th>\n",
              "      <th>media</th>\n",
              "      <th>datetime</th>\n",
              "      <th>title2</th>\n",
              "      <th>tokenizing</th>\n",
              "      <th>new_review</th>\n",
              "    </tr>\n",
              "  </thead>\n",
              "  <tbody>\n",
              "    <tr>\n",
              "      <th>0</th>\n",
              "      <td>São Paulo pode quebrar tabus incômodos contra ...</td>\n",
              "      <td>Terra</td>\n",
              "      <td>2023-09-17 11:14:00</td>\n",
              "      <td>sao paulo pode quebrar tabus incomodos contra ...</td>\n",
              "      <td>[sao, paulo, pode, quebrar, tabus, incomodos, ...</td>\n",
              "      <td>0.0</td>\n",
              "    </tr>\n",
              "    <tr>\n",
              "      <th>1</th>\n",
              "      <td>Brasil atropela Peru e engata 2ª vitória no Pr...</td>\n",
              "      <td>ESPN Brasil</td>\n",
              "      <td>2023-09-17 11:14:00</td>\n",
              "      <td>brasil atropela peru e engata 2a vitoria no pr...</td>\n",
              "      <td>[brasil, atropela, peru, e, engata, 2a, vitori...</td>\n",
              "      <td>0.0</td>\n",
              "    </tr>\n",
              "    <tr>\n",
              "      <th>2</th>\n",
              "      <td>Mostra reúne mais de mil obras para o Museu da...</td>\n",
              "      <td>Agência Brasil</td>\n",
              "      <td>2023-09-17 11:14:00</td>\n",
              "      <td>mostra reune mais de mil obras para o museu da...</td>\n",
              "      <td>[mostra, reune, mais, de, mil, obras, para, o,...</td>\n",
              "      <td>0.0</td>\n",
              "    </tr>\n",
              "    <tr>\n",
              "      <th>3</th>\n",
              "      <td>Final da Copa do Brasil: Onde assistir a Flame...</td>\n",
              "      <td>Notícias da TV</td>\n",
              "      <td>2023-09-17 11:14:00</td>\n",
              "      <td>final da copa do brasil onde assistir a flamen...</td>\n",
              "      <td>[final, da, copa, do, brasil, onde, assistir, ...</td>\n",
              "      <td>0.0</td>\n",
              "    </tr>\n",
              "    <tr>\n",
              "      <th>4</th>\n",
              "      <td>Flamengo e São Paulo iniciam hoje a briga pelo...</td>\n",
              "      <td>Band</td>\n",
              "      <td>2023-09-17 11:14:00</td>\n",
              "      <td>flamengo e sao paulo iniciam hoje a briga pelo...</td>\n",
              "      <td>[flamengo, e, sao, paulo, iniciam, hoje, a, br...</td>\n",
              "      <td>0.0</td>\n",
              "    </tr>\n",
              "    <tr>\n",
              "      <th>...</th>\n",
              "      <td>...</td>\n",
              "      <td>...</td>\n",
              "      <td>...</td>\n",
              "      <td>...</td>\n",
              "      <td>...</td>\n",
              "      <td>...</td>\n",
              "    </tr>\n",
              "    <tr>\n",
              "      <th>1528</th>\n",
              "      <td>O dia em direto nos mercados e na economia – 1...</td>\n",
              "      <td>Eco</td>\n",
              "      <td>2023-09-15 00:00:00</td>\n",
              "      <td>o dia em direto nos mercados e na economia  15...</td>\n",
              "      <td>[o, dia, em, direto, nos, mercados, e, na, eco...</td>\n",
              "      <td>0.0</td>\n",
              "    </tr>\n",
              "    <tr>\n",
              "      <th>1529</th>\n",
              "      <td>Nova edição do Expresso nas bancas, com novida...</td>\n",
              "      <td>Expresso</td>\n",
              "      <td>2023-09-15 00:00:00</td>\n",
              "      <td>nova edicao do expresso nas bancas com novidad...</td>\n",
              "      <td>[nova, edicao, do, expresso, nas, bancas, com,...</td>\n",
              "      <td>0.0</td>\n",
              "    </tr>\n",
              "    <tr>\n",
              "      <th>1530</th>\n",
              "      <td>Mercado do Bolhão. Maioria dos comerciantes de...</td>\n",
              "      <td>Notícias ao Minuto</td>\n",
              "      <td>2023-09-15 00:00:00</td>\n",
              "      <td>mercado do bolhao maioria dos comerciantes des...</td>\n",
              "      <td>[mercado, do, bolhao, maioria, dos, comerciant...</td>\n",
              "      <td>0.0</td>\n",
              "    </tr>\n",
              "    <tr>\n",
              "      <th>1531</th>\n",
              "      <td>Cimeira G77+China começa hoje em Cuba procuran...</td>\n",
              "      <td>SAPO</td>\n",
              "      <td>2023-09-15 00:00:00</td>\n",
              "      <td>cimeira g77china comeca hoje em cuba procurand...</td>\n",
              "      <td>[cimeira, g77china, comeca, hoje, em, cuba, pr...</td>\n",
              "      <td>0.0</td>\n",
              "    </tr>\n",
              "    <tr>\n",
              "      <th>1532</th>\n",
              "      <td>Turismo mantém economia europeia à tona. Até q...</td>\n",
              "      <td>Visão</td>\n",
              "      <td>2023-09-15 00:00:00</td>\n",
              "      <td>turismo mantem economia europeia a tona ate qu...</td>\n",
              "      <td>[turismo, mantem, economia, europeia, a, tona,...</td>\n",
              "      <td>0.0</td>\n",
              "    </tr>\n",
              "  </tbody>\n",
              "</table>\n",
              "<p>1497 rows × 6 columns</p>\n",
              "</div>\n",
              "    <div class=\"colab-df-buttons\">\n",
              "\n",
              "  <div class=\"colab-df-container\">\n",
              "    <button class=\"colab-df-convert\" onclick=\"convertToInteractive('df-6d416291-e7b2-43a2-ae09-985c2f5239f6')\"\n",
              "            title=\"Convert this dataframe to an interactive table.\"\n",
              "            style=\"display:none;\">\n",
              "\n",
              "  <svg xmlns=\"http://www.w3.org/2000/svg\" height=\"24px\" viewBox=\"0 -960 960 960\">\n",
              "    <path d=\"M120-120v-720h720v720H120Zm60-500h600v-160H180v160Zm220 220h160v-160H400v160Zm0 220h160v-160H400v160ZM180-400h160v-160H180v160Zm440 0h160v-160H620v160ZM180-180h160v-160H180v160Zm440 0h160v-160H620v160Z\"/>\n",
              "  </svg>\n",
              "    </button>\n",
              "\n",
              "  <style>\n",
              "    .colab-df-container {\n",
              "      display:flex;\n",
              "      gap: 12px;\n",
              "    }\n",
              "\n",
              "    .colab-df-convert {\n",
              "      background-color: #E8F0FE;\n",
              "      border: none;\n",
              "      border-radius: 50%;\n",
              "      cursor: pointer;\n",
              "      display: none;\n",
              "      fill: #1967D2;\n",
              "      height: 32px;\n",
              "      padding: 0 0 0 0;\n",
              "      width: 32px;\n",
              "    }\n",
              "\n",
              "    .colab-df-convert:hover {\n",
              "      background-color: #E2EBFA;\n",
              "      box-shadow: 0px 1px 2px rgba(60, 64, 67, 0.3), 0px 1px 3px 1px rgba(60, 64, 67, 0.15);\n",
              "      fill: #174EA6;\n",
              "    }\n",
              "\n",
              "    .colab-df-buttons div {\n",
              "      margin-bottom: 4px;\n",
              "    }\n",
              "\n",
              "    [theme=dark] .colab-df-convert {\n",
              "      background-color: #3B4455;\n",
              "      fill: #D2E3FC;\n",
              "    }\n",
              "\n",
              "    [theme=dark] .colab-df-convert:hover {\n",
              "      background-color: #434B5C;\n",
              "      box-shadow: 0px 1px 3px 1px rgba(0, 0, 0, 0.15);\n",
              "      filter: drop-shadow(0px 1px 2px rgba(0, 0, 0, 0.3));\n",
              "      fill: #FFFFFF;\n",
              "    }\n",
              "  </style>\n",
              "\n",
              "    <script>\n",
              "      const buttonEl =\n",
              "        document.querySelector('#df-6d416291-e7b2-43a2-ae09-985c2f5239f6 button.colab-df-convert');\n",
              "      buttonEl.style.display =\n",
              "        google.colab.kernel.accessAllowed ? 'block' : 'none';\n",
              "\n",
              "      async function convertToInteractive(key) {\n",
              "        const element = document.querySelector('#df-6d416291-e7b2-43a2-ae09-985c2f5239f6');\n",
              "        const dataTable =\n",
              "          await google.colab.kernel.invokeFunction('convertToInteractive',\n",
              "                                                    [key], {});\n",
              "        if (!dataTable) return;\n",
              "\n",
              "        const docLinkHtml = 'Like what you see? Visit the ' +\n",
              "          '<a target=\"_blank\" href=https://colab.research.google.com/notebooks/data_table.ipynb>data table notebook</a>'\n",
              "          + ' to learn more about interactive tables.';\n",
              "        element.innerHTML = '';\n",
              "        dataTable['output_type'] = 'display_data';\n",
              "        await google.colab.output.renderOutput(dataTable, element);\n",
              "        const docLink = document.createElement('div');\n",
              "        docLink.innerHTML = docLinkHtml;\n",
              "        element.appendChild(docLink);\n",
              "      }\n",
              "    </script>\n",
              "  </div>\n",
              "\n",
              "\n",
              "<div id=\"df-2670278d-4808-422d-a7ec-c1b94a55575b\">\n",
              "  <button class=\"colab-df-quickchart\" onclick=\"quickchart('df-2670278d-4808-422d-a7ec-c1b94a55575b')\"\n",
              "            title=\"Suggest charts.\"\n",
              "            style=\"display:none;\">\n",
              "\n",
              "<svg xmlns=\"http://www.w3.org/2000/svg\" height=\"24px\"viewBox=\"0 0 24 24\"\n",
              "     width=\"24px\">\n",
              "    <g>\n",
              "        <path d=\"M19 3H5c-1.1 0-2 .9-2 2v14c0 1.1.9 2 2 2h14c1.1 0 2-.9 2-2V5c0-1.1-.9-2-2-2zM9 17H7v-7h2v7zm4 0h-2V7h2v10zm4 0h-2v-4h2v4z\"/>\n",
              "    </g>\n",
              "</svg>\n",
              "  </button>\n",
              "\n",
              "<style>\n",
              "  .colab-df-quickchart {\n",
              "      --bg-color: #E8F0FE;\n",
              "      --fill-color: #1967D2;\n",
              "      --hover-bg-color: #E2EBFA;\n",
              "      --hover-fill-color: #174EA6;\n",
              "      --disabled-fill-color: #AAA;\n",
              "      --disabled-bg-color: #DDD;\n",
              "  }\n",
              "\n",
              "  [theme=dark] .colab-df-quickchart {\n",
              "      --bg-color: #3B4455;\n",
              "      --fill-color: #D2E3FC;\n",
              "      --hover-bg-color: #434B5C;\n",
              "      --hover-fill-color: #FFFFFF;\n",
              "      --disabled-bg-color: #3B4455;\n",
              "      --disabled-fill-color: #666;\n",
              "  }\n",
              "\n",
              "  .colab-df-quickchart {\n",
              "    background-color: var(--bg-color);\n",
              "    border: none;\n",
              "    border-radius: 50%;\n",
              "    cursor: pointer;\n",
              "    display: none;\n",
              "    fill: var(--fill-color);\n",
              "    height: 32px;\n",
              "    padding: 0;\n",
              "    width: 32px;\n",
              "  }\n",
              "\n",
              "  .colab-df-quickchart:hover {\n",
              "    background-color: var(--hover-bg-color);\n",
              "    box-shadow: 0 1px 2px rgba(60, 64, 67, 0.3), 0 1px 3px 1px rgba(60, 64, 67, 0.15);\n",
              "    fill: var(--button-hover-fill-color);\n",
              "  }\n",
              "\n",
              "  .colab-df-quickchart-complete:disabled,\n",
              "  .colab-df-quickchart-complete:disabled:hover {\n",
              "    background-color: var(--disabled-bg-color);\n",
              "    fill: var(--disabled-fill-color);\n",
              "    box-shadow: none;\n",
              "  }\n",
              "\n",
              "  .colab-df-spinner {\n",
              "    border: 2px solid var(--fill-color);\n",
              "    border-color: transparent;\n",
              "    border-bottom-color: var(--fill-color);\n",
              "    animation:\n",
              "      spin 1s steps(1) infinite;\n",
              "  }\n",
              "\n",
              "  @keyframes spin {\n",
              "    0% {\n",
              "      border-color: transparent;\n",
              "      border-bottom-color: var(--fill-color);\n",
              "      border-left-color: var(--fill-color);\n",
              "    }\n",
              "    20% {\n",
              "      border-color: transparent;\n",
              "      border-left-color: var(--fill-color);\n",
              "      border-top-color: var(--fill-color);\n",
              "    }\n",
              "    30% {\n",
              "      border-color: transparent;\n",
              "      border-left-color: var(--fill-color);\n",
              "      border-top-color: var(--fill-color);\n",
              "      border-right-color: var(--fill-color);\n",
              "    }\n",
              "    40% {\n",
              "      border-color: transparent;\n",
              "      border-right-color: var(--fill-color);\n",
              "      border-top-color: var(--fill-color);\n",
              "    }\n",
              "    60% {\n",
              "      border-color: transparent;\n",
              "      border-right-color: var(--fill-color);\n",
              "    }\n",
              "    80% {\n",
              "      border-color: transparent;\n",
              "      border-right-color: var(--fill-color);\n",
              "      border-bottom-color: var(--fill-color);\n",
              "    }\n",
              "    90% {\n",
              "      border-color: transparent;\n",
              "      border-bottom-color: var(--fill-color);\n",
              "    }\n",
              "  }\n",
              "</style>\n",
              "\n",
              "  <script>\n",
              "    async function quickchart(key) {\n",
              "      const quickchartButtonEl =\n",
              "        document.querySelector('#' + key + ' button');\n",
              "      quickchartButtonEl.disabled = true;  // To prevent multiple clicks.\n",
              "      quickchartButtonEl.classList.add('colab-df-spinner');\n",
              "      try {\n",
              "        const charts = await google.colab.kernel.invokeFunction(\n",
              "            'suggestCharts', [key], {});\n",
              "      } catch (error) {\n",
              "        console.error('Error during call to suggestCharts:', error);\n",
              "      }\n",
              "      quickchartButtonEl.classList.remove('colab-df-spinner');\n",
              "      quickchartButtonEl.classList.add('colab-df-quickchart-complete');\n",
              "    }\n",
              "    (() => {\n",
              "      let quickchartButtonEl =\n",
              "        document.querySelector('#df-2670278d-4808-422d-a7ec-c1b94a55575b button');\n",
              "      quickchartButtonEl.style.display =\n",
              "        google.colab.kernel.accessAllowed ? 'block' : 'none';\n",
              "    })();\n",
              "  </script>\n",
              "</div>\n",
              "    </div>\n",
              "  </div>\n"
            ]
          },
          "metadata": {},
          "execution_count": 116
        }
      ]
    },
    {
      "cell_type": "code",
      "source": [
        "normalizad_word = df2\n",
        "\n",
        "normalizad_word_dict = {}\n",
        "\n",
        "for index, row in normalizad_word.iterrows():\n",
        "    if row[0] not in normalizad_word_dict:\n",
        "        normalizad_word_dict[row[0]] = row[1]\n",
        "\n",
        "def normalized_term(document):\n",
        "    return [normalizad_word_dict[term] if term in normalizad_word_dict else term for term in document]\n",
        "\n",
        "df2['tokenizing'] = df2['tokenizing'].apply(normalized_term)\n",
        "\n",
        "df2[['tokenizing','title2']].head(20)\n"
      ],
      "metadata": {
        "colab": {
          "base_uri": "https://localhost:8080/",
          "height": 676
        },
        "id": "Wvzblh68NmGG",
        "outputId": "7520bb8e-9389-4776-efd6-f288287cf3f1"
      },
      "execution_count": null,
      "outputs": [
        {
          "output_type": "execute_result",
          "data": {
            "text/plain": [
              "                                           tokenizing  \\\n",
              "0   [sao, paulo, pode, quebrar, tabus, incomodos, ...   \n",
              "1   [brasil, atropela, peru, e, engata, 2, ?, vito...   \n",
              "2   [mostra, reune, mais, de, mil, obras, para, o,...   \n",
              "3   [final, da, copa, do, brasil, onde, assistir, ...   \n",
              "4   [flamengo, e, sao, paulo, iniciam, hoje, a, br...   \n",
              "5   [``, abusamos, do, direito, de, errar, '', diz...   \n",
              "6   [brasil, vence, o, peru, e, conquista, segunda...   \n",
              "7   [ultimo, domingo, de, inverno, com, calor, de,...   \n",
              "8   [brasil, atropela, o, peru, e, engata, segunda...   \n",
              "9   [como, e, a, nova, gasolina, que, o, governo, ...   \n",
              "10  [comissao, de, relacoes, exteriores, aprova, g...   \n",
              "11  [olinda, inaugura, escola, zumbi, dos, palmare...   \n",
              "12  [marilia, mendonca, lidera, ranking, das, 50, ...   \n",
              "13  [lula, transicao, energetica, pode, tornar, o,...   \n",
              "14  [defesa, pede, que, stj, negue, pedido, da, it...   \n",
              "15  [pre, olimpico, de, volei, masculino, 2023, le...   \n",
              "16  [com, curadoria, de, adelia, borges, ?, design...   \n",
              "17  [primeiro, reu, julgado, pelos, ataques, de, 8...   \n",
              "18  [lula, lanca, programa, de, combustivel, renov...   \n",
              "19  [criacao, do, grupo, parlamentar, brasil, unia...   \n",
              "\n",
              "                                               title2  \n",
              "0   sao paulo pode quebrar tabus incomodos contra ...  \n",
              "1   brasil atropela peru e engata 2? vitoria no pr...  \n",
              "2   mostra reune mais de mil obras para o museu da...  \n",
              "3   final da copa do brasil  onde assistir a flame...  \n",
              "4   flamengo e sao paulo iniciam hoje a briga pelo...  \n",
              "5   \"abusamos do direito de errar\"  diz biologo so...  \n",
              "6   brasil vence o peru e conquista segunda vitori...  \n",
              "7   ultimo domingo de inverno com calor de verao n...  \n",
              "8   brasil atropela o peru e engata segunda vitori...  \n",
              "9   como e a nova gasolina que o governo quer no b...  \n",
              "10  comissao de relacoes exteriores aprova grupo p...  \n",
              "11  olinda inaugura escola zumbi dos palmares  em ...  \n",
              "12  marilia mendonca lidera ranking das 50 musicas...  \n",
              "13  lula  transicao energetica pode tornar o brasi...  \n",
              "14  defesa pede que stj negue pedido da it?lia par...  \n",
              "15  pre olimpico de volei masculino 2023  leal ped...  \n",
              "16  com curadoria de adelia borges  ?designers do ...  \n",
              "17  primeiro reu julgado pelos ataques de 8 de jan...  \n",
              "18  lula lanca programa de combustivel renov?vel e...  \n",
              "19  criacao do grupo parlamentar brasil uniao euro...  "
            ],
            "text/html": [
              "\n",
              "  <div id=\"df-3ab49853-5466-4f84-86c0-b61972f52a35\" class=\"colab-df-container\">\n",
              "    <div>\n",
              "<style scoped>\n",
              "    .dataframe tbody tr th:only-of-type {\n",
              "        vertical-align: middle;\n",
              "    }\n",
              "\n",
              "    .dataframe tbody tr th {\n",
              "        vertical-align: top;\n",
              "    }\n",
              "\n",
              "    .dataframe thead th {\n",
              "        text-align: right;\n",
              "    }\n",
              "</style>\n",
              "<table border=\"1\" class=\"dataframe\">\n",
              "  <thead>\n",
              "    <tr style=\"text-align: right;\">\n",
              "      <th></th>\n",
              "      <th>tokenizing</th>\n",
              "      <th>title2</th>\n",
              "    </tr>\n",
              "  </thead>\n",
              "  <tbody>\n",
              "    <tr>\n",
              "      <th>0</th>\n",
              "      <td>[sao, paulo, pode, quebrar, tabus, incomodos, ...</td>\n",
              "      <td>sao paulo pode quebrar tabus incomodos contra ...</td>\n",
              "    </tr>\n",
              "    <tr>\n",
              "      <th>1</th>\n",
              "      <td>[brasil, atropela, peru, e, engata, 2, ?, vito...</td>\n",
              "      <td>brasil atropela peru e engata 2? vitoria no pr...</td>\n",
              "    </tr>\n",
              "    <tr>\n",
              "      <th>2</th>\n",
              "      <td>[mostra, reune, mais, de, mil, obras, para, o,...</td>\n",
              "      <td>mostra reune mais de mil obras para o museu da...</td>\n",
              "    </tr>\n",
              "    <tr>\n",
              "      <th>3</th>\n",
              "      <td>[final, da, copa, do, brasil, onde, assistir, ...</td>\n",
              "      <td>final da copa do brasil  onde assistir a flame...</td>\n",
              "    </tr>\n",
              "    <tr>\n",
              "      <th>4</th>\n",
              "      <td>[flamengo, e, sao, paulo, iniciam, hoje, a, br...</td>\n",
              "      <td>flamengo e sao paulo iniciam hoje a briga pelo...</td>\n",
              "    </tr>\n",
              "    <tr>\n",
              "      <th>5</th>\n",
              "      <td>[``, abusamos, do, direito, de, errar, '', diz...</td>\n",
              "      <td>\"abusamos do direito de errar\"  diz biologo so...</td>\n",
              "    </tr>\n",
              "    <tr>\n",
              "      <th>6</th>\n",
              "      <td>[brasil, vence, o, peru, e, conquista, segunda...</td>\n",
              "      <td>brasil vence o peru e conquista segunda vitori...</td>\n",
              "    </tr>\n",
              "    <tr>\n",
              "      <th>7</th>\n",
              "      <td>[ultimo, domingo, de, inverno, com, calor, de,...</td>\n",
              "      <td>ultimo domingo de inverno com calor de verao n...</td>\n",
              "    </tr>\n",
              "    <tr>\n",
              "      <th>8</th>\n",
              "      <td>[brasil, atropela, o, peru, e, engata, segunda...</td>\n",
              "      <td>brasil atropela o peru e engata segunda vitori...</td>\n",
              "    </tr>\n",
              "    <tr>\n",
              "      <th>9</th>\n",
              "      <td>[como, e, a, nova, gasolina, que, o, governo, ...</td>\n",
              "      <td>como e a nova gasolina que o governo quer no b...</td>\n",
              "    </tr>\n",
              "    <tr>\n",
              "      <th>10</th>\n",
              "      <td>[comissao, de, relacoes, exteriores, aprova, g...</td>\n",
              "      <td>comissao de relacoes exteriores aprova grupo p...</td>\n",
              "    </tr>\n",
              "    <tr>\n",
              "      <th>11</th>\n",
              "      <td>[olinda, inaugura, escola, zumbi, dos, palmare...</td>\n",
              "      <td>olinda inaugura escola zumbi dos palmares  em ...</td>\n",
              "    </tr>\n",
              "    <tr>\n",
              "      <th>12</th>\n",
              "      <td>[marilia, mendonca, lidera, ranking, das, 50, ...</td>\n",
              "      <td>marilia mendonca lidera ranking das 50 musicas...</td>\n",
              "    </tr>\n",
              "    <tr>\n",
              "      <th>13</th>\n",
              "      <td>[lula, transicao, energetica, pode, tornar, o,...</td>\n",
              "      <td>lula  transicao energetica pode tornar o brasi...</td>\n",
              "    </tr>\n",
              "    <tr>\n",
              "      <th>14</th>\n",
              "      <td>[defesa, pede, que, stj, negue, pedido, da, it...</td>\n",
              "      <td>defesa pede que stj negue pedido da it?lia par...</td>\n",
              "    </tr>\n",
              "    <tr>\n",
              "      <th>15</th>\n",
              "      <td>[pre, olimpico, de, volei, masculino, 2023, le...</td>\n",
              "      <td>pre olimpico de volei masculino 2023  leal ped...</td>\n",
              "    </tr>\n",
              "    <tr>\n",
              "      <th>16</th>\n",
              "      <td>[com, curadoria, de, adelia, borges, ?, design...</td>\n",
              "      <td>com curadoria de adelia borges  ?designers do ...</td>\n",
              "    </tr>\n",
              "    <tr>\n",
              "      <th>17</th>\n",
              "      <td>[primeiro, reu, julgado, pelos, ataques, de, 8...</td>\n",
              "      <td>primeiro reu julgado pelos ataques de 8 de jan...</td>\n",
              "    </tr>\n",
              "    <tr>\n",
              "      <th>18</th>\n",
              "      <td>[lula, lanca, programa, de, combustivel, renov...</td>\n",
              "      <td>lula lanca programa de combustivel renov?vel e...</td>\n",
              "    </tr>\n",
              "    <tr>\n",
              "      <th>19</th>\n",
              "      <td>[criacao, do, grupo, parlamentar, brasil, unia...</td>\n",
              "      <td>criacao do grupo parlamentar brasil uniao euro...</td>\n",
              "    </tr>\n",
              "  </tbody>\n",
              "</table>\n",
              "</div>\n",
              "    <div class=\"colab-df-buttons\">\n",
              "\n",
              "  <div class=\"colab-df-container\">\n",
              "    <button class=\"colab-df-convert\" onclick=\"convertToInteractive('df-3ab49853-5466-4f84-86c0-b61972f52a35')\"\n",
              "            title=\"Convert this dataframe to an interactive table.\"\n",
              "            style=\"display:none;\">\n",
              "\n",
              "  <svg xmlns=\"http://www.w3.org/2000/svg\" height=\"24px\" viewBox=\"0 -960 960 960\">\n",
              "    <path d=\"M120-120v-720h720v720H120Zm60-500h600v-160H180v160Zm220 220h160v-160H400v160Zm0 220h160v-160H400v160ZM180-400h160v-160H180v160Zm440 0h160v-160H620v160ZM180-180h160v-160H180v160Zm440 0h160v-160H620v160Z\"/>\n",
              "  </svg>\n",
              "    </button>\n",
              "\n",
              "  <style>\n",
              "    .colab-df-container {\n",
              "      display:flex;\n",
              "      gap: 12px;\n",
              "    }\n",
              "\n",
              "    .colab-df-convert {\n",
              "      background-color: #E8F0FE;\n",
              "      border: none;\n",
              "      border-radius: 50%;\n",
              "      cursor: pointer;\n",
              "      display: none;\n",
              "      fill: #1967D2;\n",
              "      height: 32px;\n",
              "      padding: 0 0 0 0;\n",
              "      width: 32px;\n",
              "    }\n",
              "\n",
              "    .colab-df-convert:hover {\n",
              "      background-color: #E2EBFA;\n",
              "      box-shadow: 0px 1px 2px rgba(60, 64, 67, 0.3), 0px 1px 3px 1px rgba(60, 64, 67, 0.15);\n",
              "      fill: #174EA6;\n",
              "    }\n",
              "\n",
              "    .colab-df-buttons div {\n",
              "      margin-bottom: 4px;\n",
              "    }\n",
              "\n",
              "    [theme=dark] .colab-df-convert {\n",
              "      background-color: #3B4455;\n",
              "      fill: #D2E3FC;\n",
              "    }\n",
              "\n",
              "    [theme=dark] .colab-df-convert:hover {\n",
              "      background-color: #434B5C;\n",
              "      box-shadow: 0px 1px 3px 1px rgba(0, 0, 0, 0.15);\n",
              "      filter: drop-shadow(0px 1px 2px rgba(0, 0, 0, 0.3));\n",
              "      fill: #FFFFFF;\n",
              "    }\n",
              "  </style>\n",
              "\n",
              "    <script>\n",
              "      const buttonEl =\n",
              "        document.querySelector('#df-3ab49853-5466-4f84-86c0-b61972f52a35 button.colab-df-convert');\n",
              "      buttonEl.style.display =\n",
              "        google.colab.kernel.accessAllowed ? 'block' : 'none';\n",
              "\n",
              "      async function convertToInteractive(key) {\n",
              "        const element = document.querySelector('#df-3ab49853-5466-4f84-86c0-b61972f52a35');\n",
              "        const dataTable =\n",
              "          await google.colab.kernel.invokeFunction('convertToInteractive',\n",
              "                                                    [key], {});\n",
              "        if (!dataTable) return;\n",
              "\n",
              "        const docLinkHtml = 'Like what you see? Visit the ' +\n",
              "          '<a target=\"_blank\" href=https://colab.research.google.com/notebooks/data_table.ipynb>data table notebook</a>'\n",
              "          + ' to learn more about interactive tables.';\n",
              "        element.innerHTML = '';\n",
              "        dataTable['output_type'] = 'display_data';\n",
              "        await google.colab.output.renderOutput(dataTable, element);\n",
              "        const docLink = document.createElement('div');\n",
              "        docLink.innerHTML = docLinkHtml;\n",
              "        element.appendChild(docLink);\n",
              "      }\n",
              "    </script>\n",
              "  </div>\n",
              "\n",
              "\n",
              "<div id=\"df-55f0bd2f-4a78-44e4-a427-cee104297ffe\">\n",
              "  <button class=\"colab-df-quickchart\" onclick=\"quickchart('df-55f0bd2f-4a78-44e4-a427-cee104297ffe')\"\n",
              "            title=\"Suggest charts.\"\n",
              "            style=\"display:none;\">\n",
              "\n",
              "<svg xmlns=\"http://www.w3.org/2000/svg\" height=\"24px\"viewBox=\"0 0 24 24\"\n",
              "     width=\"24px\">\n",
              "    <g>\n",
              "        <path d=\"M19 3H5c-1.1 0-2 .9-2 2v14c0 1.1.9 2 2 2h14c1.1 0 2-.9 2-2V5c0-1.1-.9-2-2-2zM9 17H7v-7h2v7zm4 0h-2V7h2v10zm4 0h-2v-4h2v4z\"/>\n",
              "    </g>\n",
              "</svg>\n",
              "  </button>\n",
              "\n",
              "<style>\n",
              "  .colab-df-quickchart {\n",
              "      --bg-color: #E8F0FE;\n",
              "      --fill-color: #1967D2;\n",
              "      --hover-bg-color: #E2EBFA;\n",
              "      --hover-fill-color: #174EA6;\n",
              "      --disabled-fill-color: #AAA;\n",
              "      --disabled-bg-color: #DDD;\n",
              "  }\n",
              "\n",
              "  [theme=dark] .colab-df-quickchart {\n",
              "      --bg-color: #3B4455;\n",
              "      --fill-color: #D2E3FC;\n",
              "      --hover-bg-color: #434B5C;\n",
              "      --hover-fill-color: #FFFFFF;\n",
              "      --disabled-bg-color: #3B4455;\n",
              "      --disabled-fill-color: #666;\n",
              "  }\n",
              "\n",
              "  .colab-df-quickchart {\n",
              "    background-color: var(--bg-color);\n",
              "    border: none;\n",
              "    border-radius: 50%;\n",
              "    cursor: pointer;\n",
              "    display: none;\n",
              "    fill: var(--fill-color);\n",
              "    height: 32px;\n",
              "    padding: 0;\n",
              "    width: 32px;\n",
              "  }\n",
              "\n",
              "  .colab-df-quickchart:hover {\n",
              "    background-color: var(--hover-bg-color);\n",
              "    box-shadow: 0 1px 2px rgba(60, 64, 67, 0.3), 0 1px 3px 1px rgba(60, 64, 67, 0.15);\n",
              "    fill: var(--button-hover-fill-color);\n",
              "  }\n",
              "\n",
              "  .colab-df-quickchart-complete:disabled,\n",
              "  .colab-df-quickchart-complete:disabled:hover {\n",
              "    background-color: var(--disabled-bg-color);\n",
              "    fill: var(--disabled-fill-color);\n",
              "    box-shadow: none;\n",
              "  }\n",
              "\n",
              "  .colab-df-spinner {\n",
              "    border: 2px solid var(--fill-color);\n",
              "    border-color: transparent;\n",
              "    border-bottom-color: var(--fill-color);\n",
              "    animation:\n",
              "      spin 1s steps(1) infinite;\n",
              "  }\n",
              "\n",
              "  @keyframes spin {\n",
              "    0% {\n",
              "      border-color: transparent;\n",
              "      border-bottom-color: var(--fill-color);\n",
              "      border-left-color: var(--fill-color);\n",
              "    }\n",
              "    20% {\n",
              "      border-color: transparent;\n",
              "      border-left-color: var(--fill-color);\n",
              "      border-top-color: var(--fill-color);\n",
              "    }\n",
              "    30% {\n",
              "      border-color: transparent;\n",
              "      border-left-color: var(--fill-color);\n",
              "      border-top-color: var(--fill-color);\n",
              "      border-right-color: var(--fill-color);\n",
              "    }\n",
              "    40% {\n",
              "      border-color: transparent;\n",
              "      border-right-color: var(--fill-color);\n",
              "      border-top-color: var(--fill-color);\n",
              "    }\n",
              "    60% {\n",
              "      border-color: transparent;\n",
              "      border-right-color: var(--fill-color);\n",
              "    }\n",
              "    80% {\n",
              "      border-color: transparent;\n",
              "      border-right-color: var(--fill-color);\n",
              "      border-bottom-color: var(--fill-color);\n",
              "    }\n",
              "    90% {\n",
              "      border-color: transparent;\n",
              "      border-bottom-color: var(--fill-color);\n",
              "    }\n",
              "  }\n",
              "</style>\n",
              "\n",
              "  <script>\n",
              "    async function quickchart(key) {\n",
              "      const quickchartButtonEl =\n",
              "        document.querySelector('#' + key + ' button');\n",
              "      quickchartButtonEl.disabled = true;  // To prevent multiple clicks.\n",
              "      quickchartButtonEl.classList.add('colab-df-spinner');\n",
              "      try {\n",
              "        const charts = await google.colab.kernel.invokeFunction(\n",
              "            'suggestCharts', [key], {});\n",
              "      } catch (error) {\n",
              "        console.error('Error during call to suggestCharts:', error);\n",
              "      }\n",
              "      quickchartButtonEl.classList.remove('colab-df-spinner');\n",
              "      quickchartButtonEl.classList.add('colab-df-quickchart-complete');\n",
              "    }\n",
              "    (() => {\n",
              "      let quickchartButtonEl =\n",
              "        document.querySelector('#df-55f0bd2f-4a78-44e4-a427-cee104297ffe button');\n",
              "      quickchartButtonEl.style.display =\n",
              "        google.colab.kernel.accessAllowed ? 'block' : 'none';\n",
              "    })();\n",
              "  </script>\n",
              "</div>\n",
              "    </div>\n",
              "  </div>\n"
            ]
          },
          "metadata": {},
          "execution_count": 201
        }
      ]
    },
    {
      "cell_type": "code",
      "source": [
        "nltk.download('stopwords')"
      ],
      "metadata": {
        "colab": {
          "base_uri": "https://localhost:8080/"
        },
        "id": "lU_bupfZPVnH",
        "outputId": "d3113198-4cb8-4164-d552-2caa128707e1"
      },
      "execution_count": null,
      "outputs": [
        {
          "output_type": "stream",
          "name": "stderr",
          "text": [
            "[nltk_data] Downloading package stopwords to /root/nltk_data...\n",
            "[nltk_data]   Package stopwords is already up-to-date!\n"
          ]
        },
        {
          "output_type": "execute_result",
          "data": {
            "text/plain": [
              "True"
            ]
          },
          "metadata": {},
          "execution_count": 203
        }
      ]
    },
    {
      "cell_type": "code",
      "source": [
        "# Importando as bibliotecas necessárias\n",
        "import nltk\n",
        "import pandas as pd\n",
        "\n",
        "# Baixando o pacote de stopwords do NLTK\n",
        "nltk.download('stopwords')\n",
        "\n",
        "from nltk.corpus import stopwords\n",
        "\n",
        "# Obtendo a lista de stopwords em português do NLTK\n",
        "list_stopwords = stopwords.words('portuguese')\n",
        "\n",
        "# Adicionando manualmente mais stopwords à lista\n",
        "list_stopwords.extend([ 'a', 'à', 'adeus', 'agora', 'aí', 'ainda', 'além', 'algo', 'alguém', 'algum', 'alguma',\n",
        "                                      'algumas', 'alguns', 'ali', 'ampla', 'amplas', 'amplo', 'amplos', 'ano', 'anos', 'ante',\n",
        "                                       'antes', 'ao', 'aos', 'apenas', 'apoio', 'após', 'aquela', 'aquelas', 'aquele', 'aqueles',\n",
        "                                       'aqui', 'aquilo', 'área', 'as', 'às', 'assim', 'até', 'atrás', 'através', 'baixo', 'bastante',\n",
        "                                       'bem', 'boa', 'boas', 'bom', 'bons', 'breve', 'cá', 'cada', 'catorze', 'cedo', 'cento',\n",
        "                                       'certamente', 'certeza', 'cima', 'cinco', 'coisa', 'coisas', 'com', 'como', 'conselho',\n",
        "                                       'contra', 'contudo', 'custa', 'da', 'dá', 'dão', 'daquela', 'daquelas', 'daquele', 'daqueles',\n",
        "                                       'dar', 'das', 'de', 'debaixo', 'dela', 'delas', 'dele', 'deles', 'demais', 'dentro', 'depois',\n",
        "                                       'desde', 'dessa', 'dessas', 'desse', 'desses', 'desta', 'destas', 'deste', 'destes', 'deve',\n",
        "                                       'devem', 'devendo', 'dever', 'deverá', 'deverão', 'deveria', 'deveriam', 'devia', 'deviam',\n",
        "                                       'dez', 'dezanove', 'dezasseis', 'dezassete', 'dezoito', 'dia', 'diante', 'disse', 'disso',\n",
        "                                       'disto', 'dito', 'diz', 'dizem', 'dizer', 'do', 'dois', 'dos', 'doze', 'duas', 'dúvida', 'e',\n",
        "                                       'é', 'ela', 'elas', 'ele', 'eles', 'em', 'embora', 'enquanto', 'entre', 'era', 'eram', 'éramos'\n",
        "                                       , 'és', 'essa', 'essas', 'esse', 'esses', 'esta', 'está', 'estamos', 'estão', 'estar', 'estas',\n",
        "                                       'estás', 'estava', 'estavam', 'estávamos', 'este', 'esteja', 'estejam', 'estejamos', 'estes',\n",
        "                                       'esteve', 'estive', 'estivemos', 'estiver', 'estivera', 'estiveram', 'estivéramos', 'estiverem'\n",
        "                                       , 'estivermos', 'estivesse', 'estivessem', 'estivéssemos', 'estiveste', 'estivestes', 'estou',\n",
        "                                       'etc', 'eu', 'exemplo', 'faço', 'falta', 'favor', 'faz', 'fazeis', 'fazem', 'fazemos',\n",
        "                                       'fazendo', 'fazer', 'fazes', 'feita', 'feitas', 'feito', 'feitos', 'fez', 'fim', 'final',\n",
        "                                       'foi', 'fomos', 'for', 'fora', 'foram', 'fôramos', 'forem', 'forma', 'formos', 'fosse',\n",
        "                                       'fossem', 'fôssemos', 'foste', 'fostes', 'fui', 'geral', 'grande', 'grandes', 'grupo', 'há',\n",
        "                                       'haja', 'hajam', 'hajamos', 'hão', 'havemos', 'havia', 'hei', 'hoje', 'hora', 'horas',\n",
        "                                       'houve', 'houvemos', 'houver', 'houvera', 'houverá', 'houveram', 'houvéramos', 'houverão',\n",
        "                                       'houverei', 'houverem', 'houveremos', 'houveria', 'houveriam', 'houveríamos', 'houvermos',\n",
        "                                       'houvesse', 'houvessem', 'houvéssemos', 'isso', 'isto', 'já', 'la', 'lá', 'lado', 'lhe',\n",
        "                                       'lhes', 'lo', 'local', 'logo', 'longe', 'lugar', 'maior', 'maioria', 'mais', 'mal', 'mas',\n",
        "                                       'máximo', 'me', 'meio', 'menor', 'menos', 'mês', 'meses', 'mesma', 'mesmas', 'mesmo', 'mesmos'\n",
        "                                        'meu', 'meus', 'mil', 'minha', 'minhas', 'momento', 'muita', 'muitas', 'muito', 'muitos',\n",
        "                                        'na', 'nada', 'não', 'naquela', 'naquelas', 'naquele', 'naqueles', 'nas', 'nem', 'nenhum',\n",
        "                                        'nenhuma', 'nessa', 'nessas', 'nesse', 'nesses', 'nesta', 'nestas', 'neste', 'nestes',\n",
        "                                        'ninguém', 'nível', 'no', 'noite', 'nome', 'nos', 'nós', 'nossa', 'nossas', 'nosso', 'nossos',\n",
        "                                       'nova', 'novas', 'nove', 'novo', 'novos', 'num', 'numa', 'número', 'nunca', 'o', 'obra',\n",
        "                                       'obrigada', 'obrigado', 'oitava', 'oitavo', 'oito', 'onde', 'ontem', 'onze', 'os', 'ou',\n",
        "                                       'outra', 'outras', 'outro', 'outros', 'para', 'parece', 'parte', 'partir', 'paucas', 'pela',\n",
        "                                       'pelas', 'pelo', 'pelos', 'pequena', 'pequenas', 'pequeno', 'pequenos', 'per', 'perante',\n",
        "                                       'perto', 'pode', 'pude', 'pôde', 'podem', 'podendo', 'poder', 'poderia', 'poderiam', 'podia',\n",
        "                                       'podiam', 'põe', 'põem', 'pois', 'ponto', 'pontos', 'por', 'porém', 'porque', 'porquê',\n",
        "                                       'posição', 'possível', 'possivelmente', 'posso', 'pouca', 'poucas', 'pouco', 'poucos', 'primeira', 'primeiras', 'primeiro', 'primeiros', 'própria', 'próprias', 'próprio', 'próprios', 'próxima', 'próximas', 'próximo', 'próximos', 'pude', 'puderam', 'quais', 'quáis', 'qual', 'quando', 'quanto', 'quantos', 'quarta', 'quarto', 'quatro', 'que', 'quê', 'quem', 'quer', 'quereis', 'querem', 'queremas', 'queres', 'quero', 'questão', 'quinta', 'quinto', 'quinze', 'relação', 'sabe', 'sabem', 'são', 'se', 'segunda', 'segundo', 'sei', 'seis', 'seja', 'sejam', 'sejamos', 'sem', 'sempre', 'sendo', 'ser', 'será', 'serão', 'serei', 'seremos', 'seria', 'seriam', 'seríamos', 'sete', 'sétima', 'sétimo', 'seu', 'seus', 'sexta', 'sexto', 'si', 'sido', 'sim', 'sistema', 'só', 'sob', 'sobre', 'sois', 'somos', 'sou', 'sua', 'suas', 'tal', 'talvez', 'também', 'tampouco', 'tanta', 'tantas', 'tanto', 'tão', 'tarde', 'te', 'tem', 'tém', 'têm', 'temos', 'tendes', 'tendo', 'tenha', 'tenham', 'tenhamos', 'tenho', 'tens', 'ter', 'terá', 'terão', 'terceira', 'terceiro', 'terei', 'teremos', 'teria', 'teriam', 'teríamos', 'teu', 'teus', 'teve', 'ti', 'tido', 'tinha', 'tinham', 'tínhamos', 'tive', 'tivemos', 'tiver', 'tivera', 'tiveram', 'tivéramos', 'tiverem', 'tivermos', 'tivesse', 'tivessem', 'tivéssemos', 'tiveste', 'tivestes', 'toda', 'todas', 'todavia', 'todo', 'todos', 'trabalho', 'três', 'treze', 'tu', 'tua', 'tuas', 'tudo', 'última', 'últimas', 'último', 'últimos', 'um', 'uma', 'umas', 'uns', 'vai', 'vais', 'vão', 'vários', 'vem', 'vêm', 'vendo', 'vens', 'ver', 'vez', 'vezes', 'viagem', 'vindo', 'vinte', 'vir', 'você', 'vocês', 'vos', 'vós', 'vossa', 'vossas', 'vosso', 'vossos', 'zero', '1', '2', '3', '4', '5', '6', '7', '8', '9', '0', '_' ])\n",
        "\n",
        "# Lendo mais stopwords de um arquivo txt e adicionando à lista\n",
        "txt_stopword = pd.read_csv(\"stopwords.txt\", names= [\"stopwords\"], header = None)\n",
        "list_stopwords.extend(txt_stopword[\"stopwords\"][0].split(' '))\n",
        "list_stopwords = set(list_stopwords)\n",
        "\n",
        "# Função para remover stopwords de uma lista de palavras\n",
        "def stopwords_removal(words):\n",
        "    return [word for word in words if word not in list_stopwords]\n",
        "\n",
        "# Aplicando a função de remoção de stopwords na coluna 'tokenizing' do DataFrame\n",
        "df2['token'] = df2['tokenizing'].apply(stopwords_removal)\n",
        "\n",
        "# Exibindo as colunas 'hasil' e 'tokenizing' das primeiras 5 linhas do DataFrame\n",
        "df2[['token', 'tokenizing']].head(5)"
      ],
      "metadata": {
        "colab": {
          "base_uri": "https://localhost:8080/",
          "height": 241
        },
        "id": "fc0KdLXbOd08",
        "outputId": "44c9225b-828c-443e-a57a-83bde38c6c57"
      },
      "execution_count": null,
      "outputs": [
        {
          "output_type": "stream",
          "name": "stderr",
          "text": [
            "[nltk_data] Downloading package stopwords to /root/nltk_data...\n",
            "[nltk_data]   Package stopwords is already up-to-date!\n"
          ]
        },
        {
          "output_type": "execute_result",
          "data": {
            "text/plain": [
              "                                               token  \\\n",
              "0  [sao, paulo, quebrar, tabus, incomodos, flamen...   \n",
              "1  [brasil, atropela, peru, engata, ?, vitoria, p...   \n",
              "2         [mostra, reune, obras, museu, origens, sp]   \n",
              "3  [copa, brasil, assistir, flamengo, x, sao, pau...   \n",
              "4  [flamengo, sao, paulo, iniciam, briga, titulo,...   \n",
              "\n",
              "                                          tokenizing  \n",
              "0  [sao, paulo, pode, quebrar, tabus, incomodos, ...  \n",
              "1  [brasil, atropela, peru, e, engata, 2, ?, vito...  \n",
              "2  [mostra, reune, mais, de, mil, obras, para, o,...  \n",
              "3  [final, da, copa, do, brasil, onde, assistir, ...  \n",
              "4  [flamengo, e, sao, paulo, iniciam, hoje, a, br...  "
            ],
            "text/html": [
              "\n",
              "  <div id=\"df-dbe95061-8d19-43c1-9e7d-455d2ba0ecb0\" class=\"colab-df-container\">\n",
              "    <div>\n",
              "<style scoped>\n",
              "    .dataframe tbody tr th:only-of-type {\n",
              "        vertical-align: middle;\n",
              "    }\n",
              "\n",
              "    .dataframe tbody tr th {\n",
              "        vertical-align: top;\n",
              "    }\n",
              "\n",
              "    .dataframe thead th {\n",
              "        text-align: right;\n",
              "    }\n",
              "</style>\n",
              "<table border=\"1\" class=\"dataframe\">\n",
              "  <thead>\n",
              "    <tr style=\"text-align: right;\">\n",
              "      <th></th>\n",
              "      <th>token</th>\n",
              "      <th>tokenizing</th>\n",
              "    </tr>\n",
              "  </thead>\n",
              "  <tbody>\n",
              "    <tr>\n",
              "      <th>0</th>\n",
              "      <td>[sao, paulo, quebrar, tabus, incomodos, flamen...</td>\n",
              "      <td>[sao, paulo, pode, quebrar, tabus, incomodos, ...</td>\n",
              "    </tr>\n",
              "    <tr>\n",
              "      <th>1</th>\n",
              "      <td>[brasil, atropela, peru, engata, ?, vitoria, p...</td>\n",
              "      <td>[brasil, atropela, peru, e, engata, 2, ?, vito...</td>\n",
              "    </tr>\n",
              "    <tr>\n",
              "      <th>2</th>\n",
              "      <td>[mostra, reune, obras, museu, origens, sp]</td>\n",
              "      <td>[mostra, reune, mais, de, mil, obras, para, o,...</td>\n",
              "    </tr>\n",
              "    <tr>\n",
              "      <th>3</th>\n",
              "      <td>[copa, brasil, assistir, flamengo, x, sao, pau...</td>\n",
              "      <td>[final, da, copa, do, brasil, onde, assistir, ...</td>\n",
              "    </tr>\n",
              "    <tr>\n",
              "      <th>4</th>\n",
              "      <td>[flamengo, sao, paulo, iniciam, briga, titulo,...</td>\n",
              "      <td>[flamengo, e, sao, paulo, iniciam, hoje, a, br...</td>\n",
              "    </tr>\n",
              "  </tbody>\n",
              "</table>\n",
              "</div>\n",
              "    <div class=\"colab-df-buttons\">\n",
              "\n",
              "  <div class=\"colab-df-container\">\n",
              "    <button class=\"colab-df-convert\" onclick=\"convertToInteractive('df-dbe95061-8d19-43c1-9e7d-455d2ba0ecb0')\"\n",
              "            title=\"Convert this dataframe to an interactive table.\"\n",
              "            style=\"display:none;\">\n",
              "\n",
              "  <svg xmlns=\"http://www.w3.org/2000/svg\" height=\"24px\" viewBox=\"0 -960 960 960\">\n",
              "    <path d=\"M120-120v-720h720v720H120Zm60-500h600v-160H180v160Zm220 220h160v-160H400v160Zm0 220h160v-160H400v160ZM180-400h160v-160H180v160Zm440 0h160v-160H620v160ZM180-180h160v-160H180v160Zm440 0h160v-160H620v160Z\"/>\n",
              "  </svg>\n",
              "    </button>\n",
              "\n",
              "  <style>\n",
              "    .colab-df-container {\n",
              "      display:flex;\n",
              "      gap: 12px;\n",
              "    }\n",
              "\n",
              "    .colab-df-convert {\n",
              "      background-color: #E8F0FE;\n",
              "      border: none;\n",
              "      border-radius: 50%;\n",
              "      cursor: pointer;\n",
              "      display: none;\n",
              "      fill: #1967D2;\n",
              "      height: 32px;\n",
              "      padding: 0 0 0 0;\n",
              "      width: 32px;\n",
              "    }\n",
              "\n",
              "    .colab-df-convert:hover {\n",
              "      background-color: #E2EBFA;\n",
              "      box-shadow: 0px 1px 2px rgba(60, 64, 67, 0.3), 0px 1px 3px 1px rgba(60, 64, 67, 0.15);\n",
              "      fill: #174EA6;\n",
              "    }\n",
              "\n",
              "    .colab-df-buttons div {\n",
              "      margin-bottom: 4px;\n",
              "    }\n",
              "\n",
              "    [theme=dark] .colab-df-convert {\n",
              "      background-color: #3B4455;\n",
              "      fill: #D2E3FC;\n",
              "    }\n",
              "\n",
              "    [theme=dark] .colab-df-convert:hover {\n",
              "      background-color: #434B5C;\n",
              "      box-shadow: 0px 1px 3px 1px rgba(0, 0, 0, 0.15);\n",
              "      filter: drop-shadow(0px 1px 2px rgba(0, 0, 0, 0.3));\n",
              "      fill: #FFFFFF;\n",
              "    }\n",
              "  </style>\n",
              "\n",
              "    <script>\n",
              "      const buttonEl =\n",
              "        document.querySelector('#df-dbe95061-8d19-43c1-9e7d-455d2ba0ecb0 button.colab-df-convert');\n",
              "      buttonEl.style.display =\n",
              "        google.colab.kernel.accessAllowed ? 'block' : 'none';\n",
              "\n",
              "      async function convertToInteractive(key) {\n",
              "        const element = document.querySelector('#df-dbe95061-8d19-43c1-9e7d-455d2ba0ecb0');\n",
              "        const dataTable =\n",
              "          await google.colab.kernel.invokeFunction('convertToInteractive',\n",
              "                                                    [key], {});\n",
              "        if (!dataTable) return;\n",
              "\n",
              "        const docLinkHtml = 'Like what you see? Visit the ' +\n",
              "          '<a target=\"_blank\" href=https://colab.research.google.com/notebooks/data_table.ipynb>data table notebook</a>'\n",
              "          + ' to learn more about interactive tables.';\n",
              "        element.innerHTML = '';\n",
              "        dataTable['output_type'] = 'display_data';\n",
              "        await google.colab.output.renderOutput(dataTable, element);\n",
              "        const docLink = document.createElement('div');\n",
              "        docLink.innerHTML = docLinkHtml;\n",
              "        element.appendChild(docLink);\n",
              "      }\n",
              "    </script>\n",
              "  </div>\n",
              "\n",
              "\n",
              "<div id=\"df-27d13f6a-79f8-4a10-bd81-62ed35cabad1\">\n",
              "  <button class=\"colab-df-quickchart\" onclick=\"quickchart('df-27d13f6a-79f8-4a10-bd81-62ed35cabad1')\"\n",
              "            title=\"Suggest charts.\"\n",
              "            style=\"display:none;\">\n",
              "\n",
              "<svg xmlns=\"http://www.w3.org/2000/svg\" height=\"24px\"viewBox=\"0 0 24 24\"\n",
              "     width=\"24px\">\n",
              "    <g>\n",
              "        <path d=\"M19 3H5c-1.1 0-2 .9-2 2v14c0 1.1.9 2 2 2h14c1.1 0 2-.9 2-2V5c0-1.1-.9-2-2-2zM9 17H7v-7h2v7zm4 0h-2V7h2v10zm4 0h-2v-4h2v4z\"/>\n",
              "    </g>\n",
              "</svg>\n",
              "  </button>\n",
              "\n",
              "<style>\n",
              "  .colab-df-quickchart {\n",
              "      --bg-color: #E8F0FE;\n",
              "      --fill-color: #1967D2;\n",
              "      --hover-bg-color: #E2EBFA;\n",
              "      --hover-fill-color: #174EA6;\n",
              "      --disabled-fill-color: #AAA;\n",
              "      --disabled-bg-color: #DDD;\n",
              "  }\n",
              "\n",
              "  [theme=dark] .colab-df-quickchart {\n",
              "      --bg-color: #3B4455;\n",
              "      --fill-color: #D2E3FC;\n",
              "      --hover-bg-color: #434B5C;\n",
              "      --hover-fill-color: #FFFFFF;\n",
              "      --disabled-bg-color: #3B4455;\n",
              "      --disabled-fill-color: #666;\n",
              "  }\n",
              "\n",
              "  .colab-df-quickchart {\n",
              "    background-color: var(--bg-color);\n",
              "    border: none;\n",
              "    border-radius: 50%;\n",
              "    cursor: pointer;\n",
              "    display: none;\n",
              "    fill: var(--fill-color);\n",
              "    height: 32px;\n",
              "    padding: 0;\n",
              "    width: 32px;\n",
              "  }\n",
              "\n",
              "  .colab-df-quickchart:hover {\n",
              "    background-color: var(--hover-bg-color);\n",
              "    box-shadow: 0 1px 2px rgba(60, 64, 67, 0.3), 0 1px 3px 1px rgba(60, 64, 67, 0.15);\n",
              "    fill: var(--button-hover-fill-color);\n",
              "  }\n",
              "\n",
              "  .colab-df-quickchart-complete:disabled,\n",
              "  .colab-df-quickchart-complete:disabled:hover {\n",
              "    background-color: var(--disabled-bg-color);\n",
              "    fill: var(--disabled-fill-color);\n",
              "    box-shadow: none;\n",
              "  }\n",
              "\n",
              "  .colab-df-spinner {\n",
              "    border: 2px solid var(--fill-color);\n",
              "    border-color: transparent;\n",
              "    border-bottom-color: var(--fill-color);\n",
              "    animation:\n",
              "      spin 1s steps(1) infinite;\n",
              "  }\n",
              "\n",
              "  @keyframes spin {\n",
              "    0% {\n",
              "      border-color: transparent;\n",
              "      border-bottom-color: var(--fill-color);\n",
              "      border-left-color: var(--fill-color);\n",
              "    }\n",
              "    20% {\n",
              "      border-color: transparent;\n",
              "      border-left-color: var(--fill-color);\n",
              "      border-top-color: var(--fill-color);\n",
              "    }\n",
              "    30% {\n",
              "      border-color: transparent;\n",
              "      border-left-color: var(--fill-color);\n",
              "      border-top-color: var(--fill-color);\n",
              "      border-right-color: var(--fill-color);\n",
              "    }\n",
              "    40% {\n",
              "      border-color: transparent;\n",
              "      border-right-color: var(--fill-color);\n",
              "      border-top-color: var(--fill-color);\n",
              "    }\n",
              "    60% {\n",
              "      border-color: transparent;\n",
              "      border-right-color: var(--fill-color);\n",
              "    }\n",
              "    80% {\n",
              "      border-color: transparent;\n",
              "      border-right-color: var(--fill-color);\n",
              "      border-bottom-color: var(--fill-color);\n",
              "    }\n",
              "    90% {\n",
              "      border-color: transparent;\n",
              "      border-bottom-color: var(--fill-color);\n",
              "    }\n",
              "  }\n",
              "</style>\n",
              "\n",
              "  <script>\n",
              "    async function quickchart(key) {\n",
              "      const quickchartButtonEl =\n",
              "        document.querySelector('#' + key + ' button');\n",
              "      quickchartButtonEl.disabled = true;  // To prevent multiple clicks.\n",
              "      quickchartButtonEl.classList.add('colab-df-spinner');\n",
              "      try {\n",
              "        const charts = await google.colab.kernel.invokeFunction(\n",
              "            'suggestCharts', [key], {});\n",
              "      } catch (error) {\n",
              "        console.error('Error during call to suggestCharts:', error);\n",
              "      }\n",
              "      quickchartButtonEl.classList.remove('colab-df-spinner');\n",
              "      quickchartButtonEl.classList.add('colab-df-quickchart-complete');\n",
              "    }\n",
              "    (() => {\n",
              "      let quickchartButtonEl =\n",
              "        document.querySelector('#df-27d13f6a-79f8-4a10-bd81-62ed35cabad1 button');\n",
              "      quickchartButtonEl.style.display =\n",
              "        google.colab.kernel.accessAllowed ? 'block' : 'none';\n",
              "    })();\n",
              "  </script>\n",
              "</div>\n",
              "    </div>\n",
              "  </div>\n"
            ]
          },
          "metadata": {},
          "execution_count": 215
        }
      ]
    },
    {
      "cell_type": "code",
      "source": [
        "df2[['token', 'tokenizing']].head(5)"
      ],
      "metadata": {
        "colab": {
          "base_uri": "https://localhost:8080/",
          "height": 206
        },
        "id": "VlBL87odrLmX",
        "outputId": "eb5cc73b-0191-416a-d333-e38fc8c88f33"
      },
      "execution_count": null,
      "outputs": [
        {
          "output_type": "execute_result",
          "data": {
            "text/plain": [
              "                                               token  \\\n",
              "0  sao paulo quebrar tabus incomodos flamengo cop...   \n",
              "1  brasil atropela peru engata  vitoria pre olimp...   \n",
              "2                mostra reune obras museu origens sp   \n",
              "3  copa brasil assistir flamengo x sao paulo vivo...   \n",
              "4  flamengo sao paulo iniciam briga titulo copa b...   \n",
              "\n",
              "                                          tokenizing  \n",
              "0  ['sao', 'paulo', 'pode', 'quebrar', 'tabus', '...  \n",
              "1  ['brasil', 'atropela', 'peru', 'e', 'engata', ...  \n",
              "2  ['mostra', 'reune', 'mais', 'de', 'mil', 'obra...  \n",
              "3  ['final', 'da', 'copa', 'do', 'brasil', 'onde'...  \n",
              "4  ['flamengo', 'e', 'sao', 'paulo', 'iniciam', '...  "
            ],
            "text/html": [
              "\n",
              "  <div id=\"df-bf488d44-210a-44d9-9089-052649b37218\" class=\"colab-df-container\">\n",
              "    <div>\n",
              "<style scoped>\n",
              "    .dataframe tbody tr th:only-of-type {\n",
              "        vertical-align: middle;\n",
              "    }\n",
              "\n",
              "    .dataframe tbody tr th {\n",
              "        vertical-align: top;\n",
              "    }\n",
              "\n",
              "    .dataframe thead th {\n",
              "        text-align: right;\n",
              "    }\n",
              "</style>\n",
              "<table border=\"1\" class=\"dataframe\">\n",
              "  <thead>\n",
              "    <tr style=\"text-align: right;\">\n",
              "      <th></th>\n",
              "      <th>token</th>\n",
              "      <th>tokenizing</th>\n",
              "    </tr>\n",
              "  </thead>\n",
              "  <tbody>\n",
              "    <tr>\n",
              "      <th>0</th>\n",
              "      <td>sao paulo quebrar tabus incomodos flamengo cop...</td>\n",
              "      <td>['sao', 'paulo', 'pode', 'quebrar', 'tabus', '...</td>\n",
              "    </tr>\n",
              "    <tr>\n",
              "      <th>1</th>\n",
              "      <td>brasil atropela peru engata  vitoria pre olimp...</td>\n",
              "      <td>['brasil', 'atropela', 'peru', 'e', 'engata', ...</td>\n",
              "    </tr>\n",
              "    <tr>\n",
              "      <th>2</th>\n",
              "      <td>mostra reune obras museu origens sp</td>\n",
              "      <td>['mostra', 'reune', 'mais', 'de', 'mil', 'obra...</td>\n",
              "    </tr>\n",
              "    <tr>\n",
              "      <th>3</th>\n",
              "      <td>copa brasil assistir flamengo x sao paulo vivo...</td>\n",
              "      <td>['final', 'da', 'copa', 'do', 'brasil', 'onde'...</td>\n",
              "    </tr>\n",
              "    <tr>\n",
              "      <th>4</th>\n",
              "      <td>flamengo sao paulo iniciam briga titulo copa b...</td>\n",
              "      <td>['flamengo', 'e', 'sao', 'paulo', 'iniciam', '...</td>\n",
              "    </tr>\n",
              "  </tbody>\n",
              "</table>\n",
              "</div>\n",
              "    <div class=\"colab-df-buttons\">\n",
              "\n",
              "  <div class=\"colab-df-container\">\n",
              "    <button class=\"colab-df-convert\" onclick=\"convertToInteractive('df-bf488d44-210a-44d9-9089-052649b37218')\"\n",
              "            title=\"Convert this dataframe to an interactive table.\"\n",
              "            style=\"display:none;\">\n",
              "\n",
              "  <svg xmlns=\"http://www.w3.org/2000/svg\" height=\"24px\" viewBox=\"0 -960 960 960\">\n",
              "    <path d=\"M120-120v-720h720v720H120Zm60-500h600v-160H180v160Zm220 220h160v-160H400v160Zm0 220h160v-160H400v160ZM180-400h160v-160H180v160Zm440 0h160v-160H620v160ZM180-180h160v-160H180v160Zm440 0h160v-160H620v160Z\"/>\n",
              "  </svg>\n",
              "    </button>\n",
              "\n",
              "  <style>\n",
              "    .colab-df-container {\n",
              "      display:flex;\n",
              "      gap: 12px;\n",
              "    }\n",
              "\n",
              "    .colab-df-convert {\n",
              "      background-color: #E8F0FE;\n",
              "      border: none;\n",
              "      border-radius: 50%;\n",
              "      cursor: pointer;\n",
              "      display: none;\n",
              "      fill: #1967D2;\n",
              "      height: 32px;\n",
              "      padding: 0 0 0 0;\n",
              "      width: 32px;\n",
              "    }\n",
              "\n",
              "    .colab-df-convert:hover {\n",
              "      background-color: #E2EBFA;\n",
              "      box-shadow: 0px 1px 2px rgba(60, 64, 67, 0.3), 0px 1px 3px 1px rgba(60, 64, 67, 0.15);\n",
              "      fill: #174EA6;\n",
              "    }\n",
              "\n",
              "    .colab-df-buttons div {\n",
              "      margin-bottom: 4px;\n",
              "    }\n",
              "\n",
              "    [theme=dark] .colab-df-convert {\n",
              "      background-color: #3B4455;\n",
              "      fill: #D2E3FC;\n",
              "    }\n",
              "\n",
              "    [theme=dark] .colab-df-convert:hover {\n",
              "      background-color: #434B5C;\n",
              "      box-shadow: 0px 1px 3px 1px rgba(0, 0, 0, 0.15);\n",
              "      filter: drop-shadow(0px 1px 2px rgba(0, 0, 0, 0.3));\n",
              "      fill: #FFFFFF;\n",
              "    }\n",
              "  </style>\n",
              "\n",
              "    <script>\n",
              "      const buttonEl =\n",
              "        document.querySelector('#df-bf488d44-210a-44d9-9089-052649b37218 button.colab-df-convert');\n",
              "      buttonEl.style.display =\n",
              "        google.colab.kernel.accessAllowed ? 'block' : 'none';\n",
              "\n",
              "      async function convertToInteractive(key) {\n",
              "        const element = document.querySelector('#df-bf488d44-210a-44d9-9089-052649b37218');\n",
              "        const dataTable =\n",
              "          await google.colab.kernel.invokeFunction('convertToInteractive',\n",
              "                                                    [key], {});\n",
              "        if (!dataTable) return;\n",
              "\n",
              "        const docLinkHtml = 'Like what you see? Visit the ' +\n",
              "          '<a target=\"_blank\" href=https://colab.research.google.com/notebooks/data_table.ipynb>data table notebook</a>'\n",
              "          + ' to learn more about interactive tables.';\n",
              "        element.innerHTML = '';\n",
              "        dataTable['output_type'] = 'display_data';\n",
              "        await google.colab.output.renderOutput(dataTable, element);\n",
              "        const docLink = document.createElement('div');\n",
              "        docLink.innerHTML = docLinkHtml;\n",
              "        element.appendChild(docLink);\n",
              "      }\n",
              "    </script>\n",
              "  </div>\n",
              "\n",
              "\n",
              "<div id=\"df-a830158d-d2fe-4021-91db-0def7bd1f8f6\">\n",
              "  <button class=\"colab-df-quickchart\" onclick=\"quickchart('df-a830158d-d2fe-4021-91db-0def7bd1f8f6')\"\n",
              "            title=\"Suggest charts.\"\n",
              "            style=\"display:none;\">\n",
              "\n",
              "<svg xmlns=\"http://www.w3.org/2000/svg\" height=\"24px\"viewBox=\"0 0 24 24\"\n",
              "     width=\"24px\">\n",
              "    <g>\n",
              "        <path d=\"M19 3H5c-1.1 0-2 .9-2 2v14c0 1.1.9 2 2 2h14c1.1 0 2-.9 2-2V5c0-1.1-.9-2-2-2zM9 17H7v-7h2v7zm4 0h-2V7h2v10zm4 0h-2v-4h2v4z\"/>\n",
              "    </g>\n",
              "</svg>\n",
              "  </button>\n",
              "\n",
              "<style>\n",
              "  .colab-df-quickchart {\n",
              "      --bg-color: #E8F0FE;\n",
              "      --fill-color: #1967D2;\n",
              "      --hover-bg-color: #E2EBFA;\n",
              "      --hover-fill-color: #174EA6;\n",
              "      --disabled-fill-color: #AAA;\n",
              "      --disabled-bg-color: #DDD;\n",
              "  }\n",
              "\n",
              "  [theme=dark] .colab-df-quickchart {\n",
              "      --bg-color: #3B4455;\n",
              "      --fill-color: #D2E3FC;\n",
              "      --hover-bg-color: #434B5C;\n",
              "      --hover-fill-color: #FFFFFF;\n",
              "      --disabled-bg-color: #3B4455;\n",
              "      --disabled-fill-color: #666;\n",
              "  }\n",
              "\n",
              "  .colab-df-quickchart {\n",
              "    background-color: var(--bg-color);\n",
              "    border: none;\n",
              "    border-radius: 50%;\n",
              "    cursor: pointer;\n",
              "    display: none;\n",
              "    fill: var(--fill-color);\n",
              "    height: 32px;\n",
              "    padding: 0;\n",
              "    width: 32px;\n",
              "  }\n",
              "\n",
              "  .colab-df-quickchart:hover {\n",
              "    background-color: var(--hover-bg-color);\n",
              "    box-shadow: 0 1px 2px rgba(60, 64, 67, 0.3), 0 1px 3px 1px rgba(60, 64, 67, 0.15);\n",
              "    fill: var(--button-hover-fill-color);\n",
              "  }\n",
              "\n",
              "  .colab-df-quickchart-complete:disabled,\n",
              "  .colab-df-quickchart-complete:disabled:hover {\n",
              "    background-color: var(--disabled-bg-color);\n",
              "    fill: var(--disabled-fill-color);\n",
              "    box-shadow: none;\n",
              "  }\n",
              "\n",
              "  .colab-df-spinner {\n",
              "    border: 2px solid var(--fill-color);\n",
              "    border-color: transparent;\n",
              "    border-bottom-color: var(--fill-color);\n",
              "    animation:\n",
              "      spin 1s steps(1) infinite;\n",
              "  }\n",
              "\n",
              "  @keyframes spin {\n",
              "    0% {\n",
              "      border-color: transparent;\n",
              "      border-bottom-color: var(--fill-color);\n",
              "      border-left-color: var(--fill-color);\n",
              "    }\n",
              "    20% {\n",
              "      border-color: transparent;\n",
              "      border-left-color: var(--fill-color);\n",
              "      border-top-color: var(--fill-color);\n",
              "    }\n",
              "    30% {\n",
              "      border-color: transparent;\n",
              "      border-left-color: var(--fill-color);\n",
              "      border-top-color: var(--fill-color);\n",
              "      border-right-color: var(--fill-color);\n",
              "    }\n",
              "    40% {\n",
              "      border-color: transparent;\n",
              "      border-right-color: var(--fill-color);\n",
              "      border-top-color: var(--fill-color);\n",
              "    }\n",
              "    60% {\n",
              "      border-color: transparent;\n",
              "      border-right-color: var(--fill-color);\n",
              "    }\n",
              "    80% {\n",
              "      border-color: transparent;\n",
              "      border-right-color: var(--fill-color);\n",
              "      border-bottom-color: var(--fill-color);\n",
              "    }\n",
              "    90% {\n",
              "      border-color: transparent;\n",
              "      border-bottom-color: var(--fill-color);\n",
              "    }\n",
              "  }\n",
              "</style>\n",
              "\n",
              "  <script>\n",
              "    async function quickchart(key) {\n",
              "      const quickchartButtonEl =\n",
              "        document.querySelector('#' + key + ' button');\n",
              "      quickchartButtonEl.disabled = true;  // To prevent multiple clicks.\n",
              "      quickchartButtonEl.classList.add('colab-df-spinner');\n",
              "      try {\n",
              "        const charts = await google.colab.kernel.invokeFunction(\n",
              "            'suggestCharts', [key], {});\n",
              "      } catch (error) {\n",
              "        console.error('Error during call to suggestCharts:', error);\n",
              "      }\n",
              "      quickchartButtonEl.classList.remove('colab-df-spinner');\n",
              "      quickchartButtonEl.classList.add('colab-df-quickchart-complete');\n",
              "    }\n",
              "    (() => {\n",
              "      let quickchartButtonEl =\n",
              "        document.querySelector('#df-a830158d-d2fe-4021-91db-0def7bd1f8f6 button');\n",
              "      quickchartButtonEl.style.display =\n",
              "        google.colab.kernel.accessAllowed ? 'block' : 'none';\n",
              "    })();\n",
              "  </script>\n",
              "</div>\n",
              "    </div>\n",
              "  </div>\n"
            ]
          },
          "metadata": {},
          "execution_count": 354
        }
      ]
    },
    {
      "cell_type": "code",
      "source": [],
      "metadata": {
        "id": "s6ICP_poJiMb"
      },
      "execution_count": null,
      "outputs": []
    },
    {
      "cell_type": "markdown",
      "source": [
        "# Spacy"
      ],
      "metadata": {
        "id": "kIcCkj-5JjE0"
      }
    },
    {
      "cell_type": "code",
      "source": [
        "!pip install spacy\n",
        "!python -m spacy download pt_core_news_sm"
      ],
      "metadata": {
        "id": "GbPHPbLSKnFI"
      },
      "execution_count": null,
      "outputs": []
    },
    {
      "cell_type": "code",
      "source": [
        "import spacy\n",
        "from spacy.lang.pt.examples import sentences\n",
        "\n",
        "nlp = spacy.load(\"pt_core_news_sm\")\n",
        "doc = nlp(sentences[0])\n",
        "print(doc.text)\n",
        "for token in doc:\n",
        "    print(token.text, token.pos_, token.dep_)"
      ],
      "metadata": {
        "id": "_11f-b_7JixG"
      },
      "execution_count": null,
      "outputs": []
    },
    {
      "cell_type": "code",
      "source": [
        "# from spacy.lang.pt import Portuguese\n",
        "# nlp = Portuguese()\n",
        "# or below\n",
        "nlp = spacy.load('pt_core_news_sm')"
      ],
      "metadata": {
        "id": "VG7WVqNtLM2g"
      },
      "execution_count": null,
      "outputs": []
    },
    {
      "cell_type": "code",
      "source": [
        "doc = nlp(u'Meu nome é Marcelo.')"
      ],
      "metadata": {
        "id": "5npkLZWoLSFi"
      },
      "execution_count": null,
      "outputs": []
    },
    {
      "cell_type": "code",
      "source": [
        "doc"
      ],
      "metadata": {
        "colab": {
          "base_uri": "https://localhost:8080/"
        },
        "id": "ZwX-9L3xLZH6",
        "outputId": "8f9038a1-5f96-43ee-ec0c-6d81540cefad"
      },
      "execution_count": null,
      "outputs": [
        {
          "output_type": "execute_result",
          "data": {
            "text/plain": [
              "Meu nome é Marcelo."
            ]
          },
          "metadata": {},
          "execution_count": 23
        }
      ]
    },
    {
      "cell_type": "code",
      "source": [
        "print([d for d in doc])"
      ],
      "metadata": {
        "colab": {
          "base_uri": "https://localhost:8080/"
        },
        "id": "KGk6-k7mLbya",
        "outputId": "638ada80-8cc3-48ef-9e2e-93674b098147"
      },
      "execution_count": null,
      "outputs": [
        {
          "output_type": "stream",
          "name": "stdout",
          "text": [
            "[Meu, nome, é, Marcelo, .]\n"
          ]
        }
      ]
    },
    {
      "cell_type": "code",
      "source": [
        "#Entendendo melhor a estrutura de palavras\n",
        "\n",
        "\n",
        "# tokenizing doc object\n",
        "[token.text for token in doc]"
      ],
      "metadata": {
        "colab": {
          "base_uri": "https://localhost:8080/"
        },
        "id": "f9oDBhTmLncr",
        "outputId": "63000738-e840-4b6d-818a-3a4e7317a05e"
      },
      "execution_count": null,
      "outputs": [
        {
          "output_type": "execute_result",
          "data": {
            "text/plain": [
              "['Meu', 'nome', 'é', 'Marcelo', '.']"
            ]
          },
          "metadata": {},
          "execution_count": 26
        }
      ]
    },
    {
      "cell_type": "code",
      "source": [
        "# attribute, example: text GOING, lemma: numbers, lemma: GO\n",
        "for token in doc:\n",
        "  print(token.text, token.lemma, token.lemma_)\n",
        "\n",
        "\n"
      ],
      "metadata": {
        "colab": {
          "base_uri": "https://localhost:8080/"
        },
        "id": "r_qTCvspLdm3",
        "outputId": "ce68483f-de27-425a-f81c-008d84d3a0d4"
      },
      "execution_count": null,
      "outputs": [
        {
          "output_type": "stream",
          "name": "stdout",
          "text": [
            "Meu 11178592158705709895 meu\n",
            "nome 6174595923410281353 nome\n",
            "é 940341820454552972 ser\n",
            "Marcelo 14946079260229080921 Marcelo\n",
            ". 12646065887601541794 .\n"
          ]
        }
      ]
    },
    {
      "cell_type": "code",
      "source": [
        "# viewing sentece's structure\n",
        "from spacy import displacy\n",
        "from IPython.display import SVG, display\n",
        "def showSVG(s):\n",
        "  display(SVG(s))\n",
        "\n",
        "graph01 = displacy.render(doc)\n",
        "showSVG(graph01)"
      ],
      "metadata": {
        "colab": {
          "base_uri": "https://localhost:8080/",
          "height": 334
        },
        "id": "2gcQkhiWLu3u",
        "outputId": "0b82a62e-91fa-4b92-cf90-130a8648c16d"
      },
      "execution_count": null,
      "outputs": [
        {
          "output_type": "display_data",
          "data": {
            "text/plain": [
              "<IPython.core.display.SVG object>"
            ],
            "image/svg+xml": "<svg xmlns=\"http://www.w3.org/2000/svg\" xmlns:xlink=\"http://www.w3.org/1999/xlink\" xml:lang=\"pt\" id=\"b1acc490358a47eba1940c4798353bb1-0\" class=\"displacy\" width=\"750\" height=\"312.0\" direction=\"ltr\" style=\"max-width: none; height: 312.0px; color: #000000; background: #ffffff; font-family: Arial; direction: ltr\">\n<text class=\"displacy-token\" fill=\"currentColor\" text-anchor=\"middle\" y=\"222.0\">\n    <tspan class=\"displacy-word\" fill=\"currentColor\" x=\"50\">Meu</tspan>\n    <tspan class=\"displacy-tag\" dy=\"2em\" fill=\"currentColor\" x=\"50\">DET</tspan>\n</text>\n\n<text class=\"displacy-token\" fill=\"currentColor\" text-anchor=\"middle\" y=\"222.0\">\n    <tspan class=\"displacy-word\" fill=\"currentColor\" x=\"225\">nome</tspan>\n    <tspan class=\"displacy-tag\" dy=\"2em\" fill=\"currentColor\" x=\"225\">NOUN</tspan>\n</text>\n\n<text class=\"displacy-token\" fill=\"currentColor\" text-anchor=\"middle\" y=\"222.0\">\n    <tspan class=\"displacy-word\" fill=\"currentColor\" x=\"400\">é</tspan>\n    <tspan class=\"displacy-tag\" dy=\"2em\" fill=\"currentColor\" x=\"400\">AUX</tspan>\n</text>\n\n<text class=\"displacy-token\" fill=\"currentColor\" text-anchor=\"middle\" y=\"222.0\">\n    <tspan class=\"displacy-word\" fill=\"currentColor\" x=\"575\">Marcelo.</tspan>\n    <tspan class=\"displacy-tag\" dy=\"2em\" fill=\"currentColor\" x=\"575\">PROPN</tspan>\n</text>\n\n<g class=\"displacy-arrow\">\n    <path class=\"displacy-arc\" id=\"arrow-b1acc490358a47eba1940c4798353bb1-0-0\" stroke-width=\"2px\" d=\"M70,177.0 C70,89.5 220.0,89.5 220.0,177.0\" fill=\"none\" stroke=\"currentColor\"/>\n    <text dy=\"1.25em\" style=\"font-size: 0.8em; letter-spacing: 1px\">\n        <textPath xlink:href=\"#arrow-b1acc490358a47eba1940c4798353bb1-0-0\" class=\"displacy-label\" startOffset=\"50%\" side=\"left\" fill=\"currentColor\" text-anchor=\"middle\">det</textPath>\n    </text>\n    <path class=\"displacy-arrowhead\" d=\"M70,179.0 L62,167.0 78,167.0\" fill=\"currentColor\"/>\n</g>\n\n<g class=\"displacy-arrow\">\n    <path class=\"displacy-arc\" id=\"arrow-b1acc490358a47eba1940c4798353bb1-0-1\" stroke-width=\"2px\" d=\"M245,177.0 C245,2.0 575.0,2.0 575.0,177.0\" fill=\"none\" stroke=\"currentColor\"/>\n    <text dy=\"1.25em\" style=\"font-size: 0.8em; letter-spacing: 1px\">\n        <textPath xlink:href=\"#arrow-b1acc490358a47eba1940c4798353bb1-0-1\" class=\"displacy-label\" startOffset=\"50%\" side=\"left\" fill=\"currentColor\" text-anchor=\"middle\">nsubj</textPath>\n    </text>\n    <path class=\"displacy-arrowhead\" d=\"M245,179.0 L237,167.0 253,167.0\" fill=\"currentColor\"/>\n</g>\n\n<g class=\"displacy-arrow\">\n    <path class=\"displacy-arc\" id=\"arrow-b1acc490358a47eba1940c4798353bb1-0-2\" stroke-width=\"2px\" d=\"M420,177.0 C420,89.5 570.0,89.5 570.0,177.0\" fill=\"none\" stroke=\"currentColor\"/>\n    <text dy=\"1.25em\" style=\"font-size: 0.8em; letter-spacing: 1px\">\n        <textPath xlink:href=\"#arrow-b1acc490358a47eba1940c4798353bb1-0-2\" class=\"displacy-label\" startOffset=\"50%\" side=\"left\" fill=\"currentColor\" text-anchor=\"middle\">cop</textPath>\n    </text>\n    <path class=\"displacy-arrowhead\" d=\"M420,179.0 L412,167.0 428,167.0\" fill=\"currentColor\"/>\n</g>\n</svg>"
          },
          "metadata": {}
        }
      ]
    },
    {
      "cell_type": "code",
      "source": [
        "# IS ALPHA, IS PUNCT, IS LOWER.. etc\n",
        "for token in doc:\n",
        "  print('TXT:',token.text, ' -- é caracter?:',token.is_alpha,\n",
        "        'é pontuacao?:', token.is_punct, 'está em caixa baixa?:', token.is_lower)"
      ],
      "metadata": {
        "colab": {
          "base_uri": "https://localhost:8080/"
        },
        "id": "bORh2s2CLzgQ",
        "outputId": "20c0555f-bdec-4777-ef1f-065c67a469ad"
      },
      "execution_count": null,
      "outputs": [
        {
          "output_type": "stream",
          "name": "stdout",
          "text": [
            "TXT: Meu  -- é caracter?: True é pontuacao?: False está em caixa baixa?: False\n",
            "TXT: nome  -- é caracter?: True é pontuacao?: False está em caixa baixa?: True\n",
            "TXT: é  -- é caracter?: True é pontuacao?: False está em caixa baixa?: True\n",
            "TXT: Marcelo  -- é caracter?: True é pontuacao?: False está em caixa baixa?: False\n",
            "TXT: .  -- é caracter?: False é pontuacao?: True está em caixa baixa?: False\n"
          ]
        }
      ]
    },
    {
      "cell_type": "code",
      "source": [
        "#Similaridade\n",
        "\n",
        "# similarity between two words\n",
        "# I did metrics with all token's position\n",
        "d2 = [token for token in nlp('O doce de batata doce')]\n",
        "for a in d2:\n",
        "  for b in d2:\n",
        "    print('A similaridade entre \"',a, '\" e \"',b, '\" : ', a.similarity(b))"
      ],
      "metadata": {
        "colab": {
          "base_uri": "https://localhost:8080/"
        },
        "id": "6eyA8KV3L0Yc",
        "outputId": "a7707f48-cd79-48ac-98b7-8f8deb492daa"
      },
      "execution_count": null,
      "outputs": [
        {
          "output_type": "stream",
          "name": "stdout",
          "text": [
            "A similaridade entre \" O \" e \" O \" :  1.0\n",
            "A similaridade entre \" O \" e \" doce \" :  0.097267284989357\n",
            "A similaridade entre \" O \" e \" de \" :  0.022016683593392372\n",
            "A similaridade entre \" O \" e \" batata \" :  -0.10052694380283356\n",
            "A similaridade entre \" O \" e \" doce \" :  -0.049322012811899185\n",
            "A similaridade entre \" doce \" e \" O \" :  0.097267284989357\n",
            "A similaridade entre \" doce \" e \" doce \" :  1.0\n",
            "A similaridade entre \" doce \" e \" de \" :  0.09102620929479599\n",
            "A similaridade entre \" doce \" e \" batata \" :  0.2853968143463135\n",
            "A similaridade entre \" doce \" e \" doce \" :  1.0\n",
            "A similaridade entre \" de \" e \" O \" :  0.022016683593392372\n",
            "A similaridade entre \" de \" e \" doce \" :  0.09102620929479599\n",
            "A similaridade entre \" de \" e \" de \" :  1.0\n",
            "A similaridade entre \" de \" e \" batata \" :  0.12741662561893463\n",
            "A similaridade entre \" de \" e \" doce \" :  0.1702784150838852\n",
            "A similaridade entre \" batata \" e \" O \" :  -0.10052694380283356\n",
            "A similaridade entre \" batata \" e \" doce \" :  0.2853968143463135\n",
            "A similaridade entre \" batata \" e \" de \" :  0.12741662561893463\n",
            "A similaridade entre \" batata \" e \" batata \" :  1.0\n",
            "A similaridade entre \" batata \" e \" doce \" :  0.1333717256784439\n",
            "A similaridade entre \" doce \" e \" O \" :  -0.049322012811899185\n",
            "A similaridade entre \" doce \" e \" doce \" :  1.0\n",
            "A similaridade entre \" doce \" e \" de \" :  0.1702784150838852\n",
            "A similaridade entre \" doce \" e \" batata \" :  0.1333717256784439\n",
            "A similaridade entre \" doce \" e \" doce \" :  1.0\n"
          ]
        },
        {
          "output_type": "stream",
          "name": "stderr",
          "text": [
            "<ipython-input-30-8cdb6fe826fd>:8: UserWarning: [W007] The model you're using has no word vectors loaded, so the result of the Token.similarity method will be based on the tagger, parser and NER, which may not give useful similarity judgements. This may happen if you're using one of the small models, e.g. `en_core_web_sm`, which don't ship with word vectors and only use context-sensitive tensors. You can always add your own word vectors, or use one of the larger models instead if available.\n"
          ]
        }
      ]
    },
    {
      "cell_type": "code",
      "source": [
        "'Doc: ', doc"
      ],
      "metadata": {
        "colab": {
          "base_uri": "https://localhost:8080/"
        },
        "id": "aFrJR8iHL4_Q",
        "outputId": "415f61da-de84-4374-aacd-d8cacb8d168b"
      },
      "execution_count": null,
      "outputs": [
        {
          "output_type": "execute_result",
          "data": {
            "text/plain": [
              "('Doc: ', Meu nome é Marcelo.)"
            ]
          },
          "metadata": {},
          "execution_count": 31
        }
      ]
    },
    {
      "cell_type": "code",
      "source": [
        "# structure POS (Part-of-Speech)\n",
        "[(token.text, token.pos, token.pos_) for token in doc]"
      ],
      "metadata": {
        "colab": {
          "base_uri": "https://localhost:8080/"
        },
        "id": "b9vZYcoLL_1i",
        "outputId": "98b824fd-98de-4b90-8c50-b923a5a6521a"
      },
      "execution_count": null,
      "outputs": [
        {
          "output_type": "execute_result",
          "data": {
            "text/plain": [
              "[('Meu', 90, 'DET'),\n",
              " ('nome', 92, 'NOUN'),\n",
              " ('é', 87, 'AUX'),\n",
              " ('Marcelo', 96, 'PROPN'),\n",
              " ('.', 97, 'PUNCT')]"
            ]
          },
          "metadata": {},
          "execution_count": 32
        }
      ]
    },
    {
      "cell_type": "code",
      "source": [
        "# return tokens that pos_ is VERB\n",
        "[(token.text, token.lemma_, token.pos_) for token in doc if token.pos_ == 'VERB']"
      ],
      "metadata": {
        "colab": {
          "base_uri": "https://localhost:8080/"
        },
        "id": "MaqhpO0QMCqN",
        "outputId": "c6313e96-90da-478b-eeac-fbe3cb167051"
      },
      "execution_count": null,
      "outputs": [
        {
          "output_type": "execute_result",
          "data": {
            "text/plain": [
              "[]"
            ]
          },
          "metadata": {},
          "execution_count": 33
        }
      ]
    },
    {
      "cell_type": "code",
      "source": [
        "[(token.text, token.lemma_, token.pos_) for token in nlp('Calça a bota.') if token.pos_ == 'VERB']\n"
      ],
      "metadata": {
        "colab": {
          "base_uri": "https://localhost:8080/"
        },
        "id": "sE0d-4RgMFMn",
        "outputId": "ebdfb7e8-ecbc-4d86-fec4-37055a9a8879"
      },
      "execution_count": null,
      "outputs": [
        {
          "output_type": "execute_result",
          "data": {
            "text/plain": [
              "[]"
            ]
          },
          "metadata": {},
          "execution_count": 34
        }
      ]
    },
    {
      "cell_type": "code",
      "source": [
        "[(token.text, token.lemma_, token.pos_) for token in nlp('Bota a calça.') if token.pos_ == 'VERB']\n"
      ],
      "metadata": {
        "colab": {
          "base_uri": "https://localhost:8080/"
        },
        "id": "2tZHhaQdMLCB",
        "outputId": "02e83b96-4771-43a2-a64b-6604de952222"
      },
      "execution_count": null,
      "outputs": [
        {
          "output_type": "execute_result",
          "data": {
            "text/plain": [
              "[]"
            ]
          },
          "metadata": {},
          "execution_count": 35
        }
      ]
    },
    {
      "cell_type": "code",
      "source": [
        "doc = nlp('Salvador parece ser uma grande cidade. Recife aparenta ser grande tambem. Aguas de Lindoya, nao')\n",
        "\n",
        "# TOKENIZING\n",
        "for token in doc:\n",
        "    # check if token POS is PROPN\n",
        "    if token.pos_ == \"PROPN\":\n",
        "        # and check if token POS [position + 1] is VERB\n",
        "        if doc[token.i + 1].pos_ == \"VERB\":\n",
        "            print(f\"PROPN [Nome Proprio] {token.text} ANTES DE UM VERBO: {doc[token.i + 1].lemma_}\")"
      ],
      "metadata": {
        "colab": {
          "base_uri": "https://localhost:8080/"
        },
        "id": "H_k65uvqMOVp",
        "outputId": "ff9cb77e-af30-4cfc-d862-2e70a89a3959"
      },
      "execution_count": null,
      "outputs": [
        {
          "output_type": "stream",
          "name": "stdout",
          "text": [
            "PROPN [Nome Proprio] Salvador ANTES DE UM VERBO: parecer\n",
            "PROPN [Nome Proprio] Recife ANTES DE UM VERBO: aparentar\n"
          ]
        }
      ]
    },
    {
      "cell_type": "code",
      "source": [
        "# portuguese model is incomplete\n",
        "doc = nlp('Donald curte a praia de Miami')\n",
        "[(e, e.label_) for e in doc.ents]"
      ],
      "metadata": {
        "colab": {
          "base_uri": "https://localhost:8080/"
        },
        "id": "OFd7FCKvMRRM",
        "outputId": "43487586-3ef4-42de-d9c3-ab0f5427d3eb"
      },
      "execution_count": null,
      "outputs": [
        {
          "output_type": "execute_result",
          "data": {
            "text/plain": [
              "[(Donald, 'PER'), (Miami, 'LOC')]"
            ]
          },
          "metadata": {},
          "execution_count": 37
        }
      ]
    },
    {
      "cell_type": "code",
      "source": [
        "nlpEn = spacy.load(\"en_core_web_sm\")\n",
        "[(e, e.label_) for e in nlpEn('Donald enjoys Miami beach').ents]"
      ],
      "metadata": {
        "colab": {
          "base_uri": "https://localhost:8080/"
        },
        "id": "zXew3L9LMYna",
        "outputId": "d5fed212-31e4-4a50-c62b-d0b0694806ab"
      },
      "execution_count": null,
      "outputs": [
        {
          "output_type": "execute_result",
          "data": {
            "text/plain": [
              "[(Donald, 'PERSON'), (Miami beach, 'GPE')]"
            ]
          },
          "metadata": {},
          "execution_count": 38
        }
      ]
    },
    {
      "cell_type": "code",
      "source": [
        "# portuguese, Reino Unido = UK\n",
        "dp = nlp('Apple está pensando em comprar uma startup do Reino Unido por $1 bilhão')\n",
        "[(e, e.label_) for e in dp.ents]"
      ],
      "metadata": {
        "colab": {
          "base_uri": "https://localhost:8080/"
        },
        "id": "Kg4-L62JMb1H",
        "outputId": "c806f5fe-1f62-4182-abbd-1ddb482a2d60"
      },
      "execution_count": null,
      "outputs": [
        {
          "output_type": "execute_result",
          "data": {
            "text/plain": [
              "[(Apple, 'ORG'), (Reino Unido, 'LOC')]"
            ]
          },
          "metadata": {},
          "execution_count": 39
        }
      ]
    },
    {
      "cell_type": "code",
      "source": [
        "# english\n",
        "de = nlpEn('Apple is looking at buying UK startup for $1 billion')\n",
        "[(e, e.label_) for e in de.ents]"
      ],
      "metadata": {
        "colab": {
          "base_uri": "https://localhost:8080/"
        },
        "id": "fgpdlJt4MgAw",
        "outputId": "5872a8ce-905c-4715-88fa-ddfc8e27be5d"
      },
      "execution_count": null,
      "outputs": [
        {
          "output_type": "execute_result",
          "data": {
            "text/plain": [
              "[(Apple, 'ORG'), (UK, 'GPE'), ($1 billion, 'MONEY')]"
            ]
          },
          "metadata": {},
          "execution_count": 40
        }
      ]
    },
    {
      "cell_type": "code",
      "source": [
        "from spacy.matcher import Matcher"
      ],
      "metadata": {
        "id": "OPlt5AWUMiGX"
      },
      "execution_count": null,
      "outputs": []
    },
    {
      "cell_type": "code",
      "source": [
        "doc = nlp('Problemas no iOS: iphones com iOS 14 continuam com problemas na bateria e Wi-Fi')"
      ],
      "metadata": {
        "id": "XxHmTEX_Moxc"
      },
      "execution_count": null,
      "outputs": []
    },
    {
      "cell_type": "code",
      "source": [
        "matcher = Matcher(nlp.vocab)\n",
        "# pattern with word iOs\n",
        "pattern = [{'TEXT': 'iOS'}]\n",
        "# add pattern to the matcher and apply to the doc\n",
        "matcher.add('MEU_PATTERN_IOS', None, pattern)\n",
        "matches = matcher(doc)\n",
        "print('Total de matches encontrados:', len(matches))\n",
        "\n",
        "for match, start, end in matches:\n",
        "  print('Match:', doc[start:end].text)"
      ],
      "metadata": {
        "colab": {
          "base_uri": "https://localhost:8080/",
          "height": 279
        },
        "id": "5URotgwFMruZ",
        "outputId": "30067ce7-f895-481e-d361-c67eed0f52cc"
      },
      "execution_count": null,
      "outputs": [
        {
          "output_type": "error",
          "ename": "TypeError",
          "evalue": "ignored",
          "traceback": [
            "\u001b[0;31m---------------------------------------------------------------------------\u001b[0m",
            "\u001b[0;31mTypeError\u001b[0m                                 Traceback (most recent call last)",
            "\u001b[0;32m<ipython-input-43-096f70a7f8c4>\u001b[0m in \u001b[0;36m<cell line: 5>\u001b[0;34m()\u001b[0m\n\u001b[1;32m      3\u001b[0m \u001b[0mpattern\u001b[0m \u001b[0;34m=\u001b[0m \u001b[0;34m[\u001b[0m\u001b[0;34m{\u001b[0m\u001b[0;34m'TEXT'\u001b[0m\u001b[0;34m:\u001b[0m \u001b[0;34m'iOS'\u001b[0m\u001b[0;34m}\u001b[0m\u001b[0;34m]\u001b[0m\u001b[0;34m\u001b[0m\u001b[0;34m\u001b[0m\u001b[0m\n\u001b[1;32m      4\u001b[0m \u001b[0;31m# add pattern to the matcher and apply to the doc\u001b[0m\u001b[0;34m\u001b[0m\u001b[0;34m\u001b[0m\u001b[0m\n\u001b[0;32m----> 5\u001b[0;31m \u001b[0mmatcher\u001b[0m\u001b[0;34m.\u001b[0m\u001b[0madd\u001b[0m\u001b[0;34m(\u001b[0m\u001b[0;34m'MEU_PATTERN_IOS'\u001b[0m\u001b[0;34m,\u001b[0m \u001b[0;32mNone\u001b[0m\u001b[0;34m,\u001b[0m \u001b[0mpattern\u001b[0m\u001b[0;34m)\u001b[0m\u001b[0;34m\u001b[0m\u001b[0;34m\u001b[0m\u001b[0m\n\u001b[0m\u001b[1;32m      6\u001b[0m \u001b[0mmatches\u001b[0m \u001b[0;34m=\u001b[0m \u001b[0mmatcher\u001b[0m\u001b[0;34m(\u001b[0m\u001b[0mdoc\u001b[0m\u001b[0;34m)\u001b[0m\u001b[0;34m\u001b[0m\u001b[0;34m\u001b[0m\u001b[0m\n\u001b[1;32m      7\u001b[0m \u001b[0mprint\u001b[0m\u001b[0;34m(\u001b[0m\u001b[0;34m'Total de matches encontrados:'\u001b[0m\u001b[0;34m,\u001b[0m \u001b[0mlen\u001b[0m\u001b[0;34m(\u001b[0m\u001b[0mmatches\u001b[0m\u001b[0;34m)\u001b[0m\u001b[0;34m)\u001b[0m\u001b[0;34m\u001b[0m\u001b[0;34m\u001b[0m\u001b[0m\n",
            "\u001b[0;32m/usr/local/lib/python3.10/dist-packages/spacy/matcher/matcher.pyx\u001b[0m in \u001b[0;36mspacy.matcher.matcher.Matcher.add\u001b[0;34m()\u001b[0m\n",
            "\u001b[0;31mTypeError\u001b[0m: add() takes exactly 2 positional arguments (3 given)"
          ]
        }
      ]
    },
    {
      "cell_type": "code",
      "source": [
        "doc = nlp(\n",
        "           'Problemas no iOS: '\n",
        "           '- iphones com iOS 14 continuam com problemas na bateria e Wi-Fi '\n",
        "           '- Arrependido de ter baixado o iOS 14? Aprenda a voltar ao iOS 13 '\n",
        "         )"
      ],
      "metadata": {
        "id": "wasxPCDmM1bm"
      },
      "execution_count": null,
      "outputs": []
    },
    {
      "cell_type": "code",
      "source": [
        "# goal: match will return only matchs with version\n",
        "matcher = Matcher(nlp.vocab)\n",
        "# pattern with word iOs\n",
        "pattern = [{'TEXT': 'iOS'}, {'IS_DIGIT': True}]\n",
        "# add pattern to the matcher and apply to the doc\n",
        "matcher.add('MEU_PATTERN_IOS_COM_VERSAO', [pattern])  # Note the change here\n",
        "matches = matcher(doc)\n",
        "print('Total de matches encontrados:', len(matches))\n",
        "\n",
        "for match, start, end in matches:\n",
        "  print('Match:', doc[start:end].text)"
      ],
      "metadata": {
        "colab": {
          "base_uri": "https://localhost:8080/"
        },
        "id": "eY5r_zddM6Ju",
        "outputId": "fba7cebc-76af-4c64-d727-09ad38d60af4"
      },
      "execution_count": null,
      "outputs": [
        {
          "output_type": "stream",
          "name": "stdout",
          "text": [
            "Total de matches encontrados: 0\n"
          ]
        }
      ]
    },
    {
      "cell_type": "code",
      "source": [
        "tweets = [\n",
        "          'Sem dúvida o Joaquim, #selecao 8',\n",
        "          'Neymar 10 é o melhor em campo #selecao',\n",
        "          'Neymar!!! #selecao 10',\n",
        "          'Vai Brazil #selecao 10',\n",
        "          'Melhor ataque é a defesa #selecao 3',\n",
        "          'Com certeza, Zagallo ... #selecao 13',\n",
        "]\n",
        "txt = ' '.join(tweets)\n",
        "doc = nlp(txt)\n",
        "\n",
        "# goal: match will return only matchs with version\n",
        "matcher = Matcher(nlp.vocab)\n",
        "# pattern with word iOs\n",
        "pattern = [{'TEXT': '#'}, {'TEXT': 'selecao'}, {'POS': 'NUM'}]\n",
        "# add pattern to the matcher and apply to the doc\n",
        "matcher.add('MEU_PATTERN_IOS_COM_VERSAO', [pattern])  # Note the change here\n",
        "matches = matcher(doc)\n",
        "print('Total de matches encontrados:', len(matches))\n",
        "\n",
        "for match, start, end in matches:\n",
        "  print('Match:', doc[start:end].text)\n"
      ],
      "metadata": {
        "colab": {
          "base_uri": "https://localhost:8080/"
        },
        "id": "9wYnfiXDM9RG",
        "outputId": "e1048881-7c98-487f-acbf-cf616ae7f242"
      },
      "execution_count": null,
      "outputs": [
        {
          "output_type": "stream",
          "name": "stdout",
          "text": [
            "Total de matches encontrados: 5\n",
            "Match: #selecao 8\n",
            "Match: #selecao 10\n",
            "Match: #selecao 10\n",
            "Match: #selecao 3\n",
            "Match: #selecao 13\n"
          ]
        }
      ]
    },
    {
      "cell_type": "code",
      "source": [
        "# HASH\n",
        "doc = nlp('Eu tenho a força')\n",
        "eu = nlp.vocab.strings['Eu']\n",
        "print('Hash:',eu)\n",
        "print('Texto:',nlp.vocab.strings[eu])"
      ],
      "metadata": {
        "colab": {
          "base_uri": "https://localhost:8080/"
        },
        "id": "8Q9Mj6A0NgZG",
        "outputId": "319484aa-a154-4f2b-c52b-186f41b7a8b7"
      },
      "execution_count": null,
      "outputs": [
        {
          "output_type": "stream",
          "name": "stdout",
          "text": [
            "Hash: 2189649992217667433\n",
            "Texto: Eu\n"
          ]
        }
      ]
    },
    {
      "cell_type": "code",
      "source": [
        "dochash = [nlp.vocab.strings[token.text] for token in doc]\n",
        "print('Mensagem Hash:', dochash)"
      ],
      "metadata": {
        "colab": {
          "base_uri": "https://localhost:8080/"
        },
        "id": "3WbHH4aGNlJm",
        "outputId": "0244636d-3d2a-4155-ab2a-b4f79026bbb0"
      },
      "execution_count": null,
      "outputs": [
        {
          "output_type": "stream",
          "name": "stdout",
          "text": [
            "Mensagem Hash: [2189649992217667433, 15998303230521801815, 11901859001352538922, 7939209954146911793]\n"
          ]
        }
      ]
    },
    {
      "cell_type": "code",
      "source": [
        "dochash = [nlp.vocab.strings[token] for token in dochash]\n",
        "print(*dochash, sep=' ')"
      ],
      "metadata": {
        "colab": {
          "base_uri": "https://localhost:8080/"
        },
        "id": "0clmSY3vNmqD",
        "outputId": "ed0a0ecf-7d6c-453d-fc8d-7e4fde0a279d"
      },
      "execution_count": null,
      "outputs": [
        {
          "output_type": "stream",
          "name": "stdout",
          "text": [
            "Eu tenho a força\n"
          ]
        }
      ]
    },
    {
      "cell_type": "code",
      "source": [
        "from spacy.tokens import Doc\n",
        "\n",
        "palavras = ['Hello', 'SPACY', '!']\n",
        "espacos = [True, False, False]\n",
        "doc = Doc(nlp.vocab, words=palavras, spaces=espacos)\n",
        "doc.text"
      ],
      "metadata": {
        "colab": {
          "base_uri": "https://localhost:8080/",
          "height": 36
        },
        "id": "K0gso9TTNo34",
        "outputId": "b3f69ed4-3eee-4f9c-e901-0168d2d8b62c"
      },
      "execution_count": null,
      "outputs": [
        {
          "output_type": "execute_result",
          "data": {
            "text/plain": [
              "'Hello SPACY!'"
            ],
            "application/vnd.google.colaboratory.intrinsic+json": {
              "type": "string"
            }
          },
          "metadata": {},
          "execution_count": 53
        }
      ]
    },
    {
      "cell_type": "code",
      "source": [
        "palavras = ['Eita', ',', 'que', 'pegadinha', '.']\n",
        "espacos = [False, True, True, False, False]\n",
        "doc = Doc(nlp.vocab, words=palavras, spaces=espacos)\n",
        "doc.text"
      ],
      "metadata": {
        "colab": {
          "base_uri": "https://localhost:8080/",
          "height": 36
        },
        "id": "n2Zmarh6Ntyu",
        "outputId": "5eda0c17-30cf-4a01-ff9a-4bd9c01dd753"
      },
      "execution_count": null,
      "outputs": [
        {
          "output_type": "execute_result",
          "data": {
            "text/plain": [
              "'Eita, que pegadinha.'"
            ],
            "application/vnd.google.colaboratory.intrinsic+json": {
              "type": "string"
            }
          },
          "metadata": {},
          "execution_count": 54
        }
      ]
    },
    {
      "cell_type": "code",
      "source": [
        "from spacy.tokens import Span\n",
        "\n",
        "# create doc with sentence *Melhor piloto: Lewis Hamilton*\n",
        "palavras = ['Melhor', 'piloto', ':', 'Lewis', 'Hamilton']\n",
        "espacos = [True, False, True, True, False]\n",
        "doc = Doc(nlp.vocab, words=palavras, spaces=espacos)\n",
        "doc.text"
      ],
      "metadata": {
        "colab": {
          "base_uri": "https://localhost:8080/",
          "height": 36
        },
        "id": "ez1K0Zq1Nwmh",
        "outputId": "f76477c3-0f98-4405-9ddf-227d470294c0"
      },
      "execution_count": null,
      "outputs": [
        {
          "output_type": "execute_result",
          "data": {
            "text/plain": [
              "'Melhor piloto: Lewis Hamilton'"
            ],
            "application/vnd.google.colaboratory.intrinsic+json": {
              "type": "string"
            }
          },
          "metadata": {},
          "execution_count": 55
        }
      ]
    },
    {
      "cell_type": "code",
      "source": [
        "# create span from the doc and assign it with label PERSON\n",
        "span = Span(doc, 3, 5, label='PERSON')\n",
        "span.text, span.label_"
      ],
      "metadata": {
        "colab": {
          "base_uri": "https://localhost:8080/"
        },
        "id": "qDmBj73rNy-E",
        "outputId": "192c0e35-c371-4eb4-b174-58f46fcb5e00"
      },
      "execution_count": null,
      "outputs": [
        {
          "output_type": "execute_result",
          "data": {
            "text/plain": [
              "('Lewis Hamilton', 'PERSON')"
            ]
          },
          "metadata": {},
          "execution_count": 56
        }
      ]
    },
    {
      "cell_type": "code",
      "source": [
        "[(ent.text, ent.label_) for ent in doc.ents]"
      ],
      "metadata": {
        "colab": {
          "base_uri": "https://localhost:8080/"
        },
        "id": "7Ececzc4N1Xt",
        "outputId": "89a51196-5a82-4248-bacb-d8cfb2b9d71f"
      },
      "execution_count": null,
      "outputs": [
        {
          "output_type": "execute_result",
          "data": {
            "text/plain": [
              "[]"
            ]
          },
          "metadata": {},
          "execution_count": 57
        }
      ]
    },
    {
      "cell_type": "code",
      "source": [
        "doc.ents = [span]\n",
        "[(ent.text, ent.label_) for ent in doc.ents]"
      ],
      "metadata": {
        "colab": {
          "base_uri": "https://localhost:8080/"
        },
        "id": "sLX_bNFzN4ZT",
        "outputId": "cd9bb5c7-9a73-43ba-b3de-52c1a4d4ff8d"
      },
      "execution_count": null,
      "outputs": [
        {
          "output_type": "execute_result",
          "data": {
            "text/plain": [
              "[('Lewis Hamilton', 'PERSON')]"
            ]
          },
          "metadata": {},
          "execution_count": 58
        }
      ]
    },
    {
      "cell_type": "code",
      "source": [],
      "metadata": {
        "id": "0Vy85nFmLfc5"
      },
      "execution_count": null,
      "outputs": []
    },
    {
      "cell_type": "markdown",
      "source": [
        "# SPACY TEXTBLOB"
      ],
      "metadata": {
        "id": "yMw9E1OuLhAZ"
      }
    },
    {
      "cell_type": "code",
      "source": [
        "pip install spacytextblob\n"
      ],
      "metadata": {
        "id": "T6EjHxnJOu02"
      },
      "execution_count": null,
      "outputs": []
    },
    {
      "cell_type": "code",
      "source": [
        "# As seguintes instalações são necessárias\n",
        "# python -m textblob.download_corpora\n",
        "# python -m spacy download en_core_web_sm\n",
        "\n",
        "import spacy\n",
        "from spacytextblob.spacytextblob import SpacyTextBlob\n",
        "\n",
        "nlp = spacy.load('en_core_news_sm')\n",
        "nlp.add_pipe('spacytextblob')\n",
        "\n",
        "texto = 'i HAVE NOTHING TO SAY.'\n",
        "doc = nlp(texto)\n",
        "\n",
        "print('Polaridade:', doc._.blob.polarity)\n",
        "print('Subjetividade:', doc._.blob.subjectivity)\n",
        "print('Avaliações:', doc._.blob.sentiment_assessments.assessments)\n"
      ],
      "metadata": {
        "id": "1P4NN_tOOs76"
      },
      "execution_count": null,
      "outputs": []
    },
    {
      "cell_type": "code",
      "source": [
        "# Primeiro, instale o Spark NLP se ainda não o fez\n",
        "!pip install pyspark\n"
      ],
      "metadata": {
        "id": "LJiwiX5oTT3m"
      },
      "execution_count": null,
      "outputs": []
    },
    {
      "cell_type": "code",
      "source": [
        "!pip install pyspark"
      ],
      "metadata": {
        "colab": {
          "base_uri": "https://localhost:8080/"
        },
        "id": "-e0mYfhaq7K1",
        "outputId": "b1d46761-fa78-413d-9c73-65a8fb9ff9e3"
      },
      "execution_count": 109,
      "outputs": [
        {
          "output_type": "stream",
          "name": "stdout",
          "text": [
            "Requirement already satisfied: pyspark in /usr/local/lib/python3.10/dist-packages (3.4.1)\n",
            "Requirement already satisfied: py4j==0.10.9.7 in /usr/local/lib/python3.10/dist-packages (from pyspark) (0.10.9.7)\n"
          ]
        }
      ]
    },
    {
      "cell_type": "code",
      "source": [
        "from pyspark.sql import SparkSession\n",
        "from sparknlp.base import DocumentAssembler\n",
        "from sparknlp.annotator import SentenceDetectorDLModel, Tokenizer, PerceptronModel\n",
        "from pyspark.ml import Pipeline\n",
        "\n",
        "# Inicie uma SparkSession\n",
        "spark = SparkSession.builder \\\n",
        "    .appName(\"Spark NLP\") \\\n",
        "    .master(\"local[4]\") \\\n",
        "    .config(\"spark.driver.memory\",\"16G\") \\\n",
        "    .config(\"spark.driver.maxResultSize\", \"0\") \\\n",
        "    .config(\"spark.kryoserializer.buffer.max\", \"2000M\") \\\n",
        "    .getOrCreate()\n",
        "\n",
        "document = DocumentAssembler() \\\n",
        ".setInputCol(\"text\") \\\n",
        ".setOutputCol(\"document\")\n",
        "\n",
        "sentence = SentenceDetectorDLModel.pretrained(\"sentence_detector_dl\", \"xx\") \\\n",
        ".setInputCols([\"document\"]) \\\n",
        ".setOutputCol(\"sentence\")\n",
        "\n",
        "tokenizer = Tokenizer() \\\n",
        ".setInputCols([\"sentence\"]) \\\n",
        ".setOutputCol(\"token\")\n",
        "\n",
        "pos = PerceptronModel.pretrained(\"pos_bosque\", \"pt\") \\\n",
        ".setInputCols([\"sentence\", \"token\"]) \\\n",
        ".setOutputCol(\"pos\")\n",
        "\n",
        "pipeline = Pipeline(stages=[document, sentence, tokenizer, pos])\n",
        "\n",
        "data = spark.createDataFrame([[\"I love Spark NLP\"]]).toDF(\"text\")\n",
        "\n",
        "result = pipeline.fit(data).transform(data)\n"
      ],
      "metadata": {
        "id": "eI3HoPMHSiJs"
      },
      "execution_count": null,
      "outputs": []
    },
    {
      "cell_type": "code",
      "source": [
        "!pip install transformers\n"
      ],
      "metadata": {
        "id": "jCE2pevrWS1T"
      },
      "execution_count": null,
      "outputs": []
    },
    {
      "cell_type": "code",
      "source": [
        "noticias = pd.read_excel(\"Noticias_All.xlsx\")"
      ],
      "metadata": {
        "id": "h-Y5iPzffiPN"
      },
      "execution_count": null,
      "outputs": []
    },
    {
      "cell_type": "code",
      "source": [
        "# Primeiro, instale a biblioteca transformers se ainda não o fez\n",
        "\n",
        "import pandas as pd\n",
        "import transformers\n",
        "from transformers import BertModel, BertTokenizer, AdamW, get_linear_schedule_with_warmup\n",
        "\n",
        "\n",
        "\n",
        "PRE_TRAINED_MODEL_NAME = 'neuralmind/bert-base-portuguese-cased'\n",
        "tokenizer = BertTokenizer.from_pretrained(PRE_TRAINED_MODEL_NAME)\n",
        "\n",
        "# Inicialize o tokenizer com o BERTimbau\n",
        "tokenizer = BertTokenizer.from_pretrained('neuralmind/bert-base-portuguese-cased')\n",
        "\n",
        "sample_txt = 'Quem conta um conto aumenta um ponto'\n"
      ],
      "metadata": {
        "id": "JM9Wvpf_WErO"
      },
      "execution_count": null,
      "outputs": []
    },
    {
      "cell_type": "code",
      "source": [
        "\n",
        "tokens = tokenizer.tokenize(sample_txt)\n",
        "token_ids = tokenizer.convert_tokens_to_ids(tokens)\n",
        "\n",
        "print(f' Sentence: {sample_txt}')\n",
        "print(f'   Tokens: {tokens}')\n",
        "print(f'Token IDs: {token_ids}')\n"
      ],
      "metadata": {
        "colab": {
          "base_uri": "https://localhost:8080/"
        },
        "id": "_lqbTh6VhfT7",
        "outputId": "5a01cf34-5ce3-4a0a-beb6-c6f00e065df7"
      },
      "execution_count": null,
      "outputs": [
        {
          "output_type": "stream",
          "name": "stdout",
          "text": [
            " Sentence: Empty DataFrame\n",
            "Columns: [title]\n",
            "Index: []\n",
            "   Tokens: []\n",
            "Token IDs: []\n"
          ]
        }
      ]
    },
    {
      "cell_type": "code",
      "source": [
        "\n",
        "# Suponha que você tenha um DataFrame chamado 'noticias' com uma coluna 'texto'\n",
        "noticia = pd.DataFrame({\n",
        "    'title': [\n",
        "\n",
        "        # Adicione mais textos aqui\n",
        "    ]\n",
        "})\n",
        "\n",
        "# Tokenize os textos\n",
        "noticia['tokens'] = noticia['title'].apply(lambda x: tokenizer.tokenize(x))\n",
        "\n",
        "print(noticia)"
      ],
      "metadata": {
        "colab": {
          "base_uri": "https://localhost:8080/"
        },
        "id": "O7zd0pLqhYkA",
        "outputId": "a998a8a3-8193-4ee4-c0ac-7f6c75e14735"
      },
      "execution_count": null,
      "outputs": [
        {
          "output_type": "stream",
          "name": "stdout",
          "text": [
            "                        title                              tokens\n",
            "0  Esta é a primeira notícia.  [Esta, é, a, primeira, notícia, .]\n",
            "1   Esta é a segunda notícia.   [Esta, é, a, segunda, notícia, .]\n"
          ]
        }
      ]
    },
    {
      "cell_type": "code",
      "source": [
        "noticias"
      ],
      "metadata": {
        "colab": {
          "base_uri": "https://localhost:8080/",
          "height": 53
        },
        "id": "dQy6xwJYiamZ",
        "outputId": "f7bbcd73-e98d-444e-864d-b8eaccbb3596"
      },
      "execution_count": null,
      "outputs": [
        {
          "output_type": "execute_result",
          "data": {
            "text/plain": [
              "Empty DataFrame\n",
              "Columns: [title, tokens]\n",
              "Index: []"
            ],
            "text/html": [
              "\n",
              "  <div id=\"df-a4a05c04-fef1-4e99-8904-f09f82030fba\" class=\"colab-df-container\">\n",
              "    <div>\n",
              "<style scoped>\n",
              "    .dataframe tbody tr th:only-of-type {\n",
              "        vertical-align: middle;\n",
              "    }\n",
              "\n",
              "    .dataframe tbody tr th {\n",
              "        vertical-align: top;\n",
              "    }\n",
              "\n",
              "    .dataframe thead th {\n",
              "        text-align: right;\n",
              "    }\n",
              "</style>\n",
              "<table border=\"1\" class=\"dataframe\">\n",
              "  <thead>\n",
              "    <tr style=\"text-align: right;\">\n",
              "      <th></th>\n",
              "      <th>title</th>\n",
              "      <th>tokens</th>\n",
              "    </tr>\n",
              "  </thead>\n",
              "  <tbody>\n",
              "  </tbody>\n",
              "</table>\n",
              "</div>\n",
              "    <div class=\"colab-df-buttons\">\n",
              "\n",
              "  <div class=\"colab-df-container\">\n",
              "    <button class=\"colab-df-convert\" onclick=\"convertToInteractive('df-a4a05c04-fef1-4e99-8904-f09f82030fba')\"\n",
              "            title=\"Convert this dataframe to an interactive table.\"\n",
              "            style=\"display:none;\">\n",
              "\n",
              "  <svg xmlns=\"http://www.w3.org/2000/svg\" height=\"24px\" viewBox=\"0 -960 960 960\">\n",
              "    <path d=\"M120-120v-720h720v720H120Zm60-500h600v-160H180v160Zm220 220h160v-160H400v160Zm0 220h160v-160H400v160ZM180-400h160v-160H180v160Zm440 0h160v-160H620v160ZM180-180h160v-160H180v160Zm440 0h160v-160H620v160Z\"/>\n",
              "  </svg>\n",
              "    </button>\n",
              "\n",
              "  <style>\n",
              "    .colab-df-container {\n",
              "      display:flex;\n",
              "      gap: 12px;\n",
              "    }\n",
              "\n",
              "    .colab-df-convert {\n",
              "      background-color: #E8F0FE;\n",
              "      border: none;\n",
              "      border-radius: 50%;\n",
              "      cursor: pointer;\n",
              "      display: none;\n",
              "      fill: #1967D2;\n",
              "      height: 32px;\n",
              "      padding: 0 0 0 0;\n",
              "      width: 32px;\n",
              "    }\n",
              "\n",
              "    .colab-df-convert:hover {\n",
              "      background-color: #E2EBFA;\n",
              "      box-shadow: 0px 1px 2px rgba(60, 64, 67, 0.3), 0px 1px 3px 1px rgba(60, 64, 67, 0.15);\n",
              "      fill: #174EA6;\n",
              "    }\n",
              "\n",
              "    .colab-df-buttons div {\n",
              "      margin-bottom: 4px;\n",
              "    }\n",
              "\n",
              "    [theme=dark] .colab-df-convert {\n",
              "      background-color: #3B4455;\n",
              "      fill: #D2E3FC;\n",
              "    }\n",
              "\n",
              "    [theme=dark] .colab-df-convert:hover {\n",
              "      background-color: #434B5C;\n",
              "      box-shadow: 0px 1px 3px 1px rgba(0, 0, 0, 0.15);\n",
              "      filter: drop-shadow(0px 1px 2px rgba(0, 0, 0, 0.3));\n",
              "      fill: #FFFFFF;\n",
              "    }\n",
              "  </style>\n",
              "\n",
              "    <script>\n",
              "      const buttonEl =\n",
              "        document.querySelector('#df-a4a05c04-fef1-4e99-8904-f09f82030fba button.colab-df-convert');\n",
              "      buttonEl.style.display =\n",
              "        google.colab.kernel.accessAllowed ? 'block' : 'none';\n",
              "\n",
              "      async function convertToInteractive(key) {\n",
              "        const element = document.querySelector('#df-a4a05c04-fef1-4e99-8904-f09f82030fba');\n",
              "        const dataTable =\n",
              "          await google.colab.kernel.invokeFunction('convertToInteractive',\n",
              "                                                    [key], {});\n",
              "        if (!dataTable) return;\n",
              "\n",
              "        const docLinkHtml = 'Like what you see? Visit the ' +\n",
              "          '<a target=\"_blank\" href=https://colab.research.google.com/notebooks/data_table.ipynb>data table notebook</a>'\n",
              "          + ' to learn more about interactive tables.';\n",
              "        element.innerHTML = '';\n",
              "        dataTable['output_type'] = 'display_data';\n",
              "        await google.colab.output.renderOutput(dataTable, element);\n",
              "        const docLink = document.createElement('div');\n",
              "        docLink.innerHTML = docLinkHtml;\n",
              "        element.appendChild(docLink);\n",
              "      }\n",
              "    </script>\n",
              "  </div>\n",
              "\n",
              "    </div>\n",
              "  </div>\n"
            ]
          },
          "metadata": {},
          "execution_count": 113
        }
      ]
    },
    {
      "cell_type": "code",
      "source": [
        "sample_txt = 'Quem conta um conto aumenta um ponto'"
      ],
      "metadata": {
        "id": "F59QN57AXrTn"
      },
      "execution_count": null,
      "outputs": []
    },
    {
      "cell_type": "code",
      "source": [
        "tokens = tokenizer.tokenize(sample_txt)\n",
        "token_ids = tokenizer.convert_tokens_to_ids(tokens)\n",
        "\n",
        "print(f' Sentence: {sample_txt}')\n",
        "print(f'   Tokens: {tokens}')\n",
        "print(f'Token IDs: {token_ids}')"
      ],
      "metadata": {
        "colab": {
          "base_uri": "https://localhost:8080/"
        },
        "id": "KhmDF8p4a-d6",
        "outputId": "ba899afc-a21f-48b6-cb2d-d20b37a02fa9"
      },
      "execution_count": null,
      "outputs": [
        {
          "output_type": "stream",
          "name": "stdout",
          "text": [
            " Sentence: Quem conta um conto aumenta um ponto\n",
            "   Tokens: ['Quem', 'conta', 'um', 'conto', 'aumenta', 'um', 'ponto']\n",
            "Token IDs: [15807, 1284, 222, 12059, 8101, 222, 2009]\n"
          ]
        }
      ]
    },
    {
      "cell_type": "code",
      "source": [
        "encoding = tokenizer.encode_plus(\n",
        "  sample_txt,\n",
        "  max_length=16,\n",
        "  add_special_tokens=True, # Add '[CLS]' and '[SEP]'\n",
        "  return_token_type_ids=False,\n",
        "  pad_to_max_length=True,\n",
        "  return_attention_mask=True,\n",
        "  return_tensors='pt',  # Return PyTorch tensors\n",
        ")\n",
        "\n",
        "encoding.keys()"
      ],
      "metadata": {
        "colab": {
          "base_uri": "https://localhost:8080/"
        },
        "id": "I_W7jS4YbDaQ",
        "outputId": "5eb1211d-9fb0-47bc-d5b5-30f27b586453"
      },
      "execution_count": null,
      "outputs": [
        {
          "output_type": "stream",
          "name": "stderr",
          "text": [
            "Truncation was not explicitly activated but `max_length` is provided a specific value, please use `truncation=True` to explicitly truncate examples to max length. Defaulting to 'longest_first' truncation strategy. If you encode pairs of sequences (GLUE-style) with the tokenizer you can select this strategy more precisely by providing a specific strategy to `truncation`.\n",
            "/usr/local/lib/python3.10/dist-packages/transformers/tokenization_utils_base.py:2418: FutureWarning: The `pad_to_max_length` argument is deprecated and will be removed in a future version, use `padding=True` or `padding='longest'` to pad to the longest sequence in the batch, or use `padding='max_length'` to pad to a max length. In this case, you can give a specific length with `max_length` (e.g. `max_length=45`) or leave max_length to None to pad to the maximal input size of the model (e.g. 512 for Bert).\n"
          ]
        },
        {
          "output_type": "execute_result",
          "data": {
            "text/plain": [
              "dict_keys(['input_ids', 'attention_mask'])"
            ]
          },
          "metadata": {},
          "execution_count": 117
        }
      ]
    },
    {
      "cell_type": "code",
      "source": [
        "print(len(encoding['input_ids'][0]))\n",
        "encoding['input_ids'][0]"
      ],
      "metadata": {
        "colab": {
          "base_uri": "https://localhost:8080/"
        },
        "id": "KfFoFwfybGAy",
        "outputId": "8ebd0be3-35c5-4dd5-fa2f-d9e8a271e037"
      },
      "execution_count": null,
      "outputs": [
        {
          "output_type": "stream",
          "name": "stdout",
          "text": [
            "16\n"
          ]
        },
        {
          "output_type": "execute_result",
          "data": {
            "text/plain": [
              "tensor([  101, 15807,  1284,   222, 12059,  8101,   222,  2009,   102,     0,\n",
              "            0,     0,     0,     0,     0,     0])"
            ]
          },
          "metadata": {},
          "execution_count": 92
        }
      ]
    },
    {
      "cell_type": "code",
      "source": [
        "print(tokenizer.convert_ids_to_tokens(encoding['input_ids'][0]))"
      ],
      "metadata": {
        "colab": {
          "base_uri": "https://localhost:8080/"
        },
        "id": "uiNhN-icbNMX",
        "outputId": "2f914186-8e1c-4fd8-b45a-21679b2f0d12"
      },
      "execution_count": null,
      "outputs": [
        {
          "output_type": "stream",
          "name": "stdout",
          "text": [
            "['[CLS]', 'Quem', 'conta', 'um', 'conto', 'aumenta', 'um', 'ponto', '[SEP]', '[PAD]', '[PAD]', '[PAD]', '[PAD]', '[PAD]', '[PAD]', '[PAD]']\n"
          ]
        }
      ]
    },
    {
      "cell_type": "code",
      "source": [
        "token_lens = []\n",
        "\n",
        "for txt in df.texto:\n",
        "  tokens = tokenizer.encode(txt, max_length=512)\n",
        "  token_lens.append(len(tokens))"
      ],
      "metadata": {
        "id": "neSVvsMEbRcM"
      },
      "execution_count": null,
      "outputs": []
    },
    {
      "cell_type": "markdown",
      "source": [
        "# Usando Bosque"
      ],
      "metadata": {
        "id": "Fdb2kStle7Qw"
      }
    },
    {
      "cell_type": "code",
      "source": [
        "!pip install spacy"
      ],
      "metadata": {
        "id": "9w__LbYOj21W"
      },
      "execution_count": null,
      "outputs": []
    },
    {
      "cell_type": "code",
      "source": [
        "!python -m spacy project clone tutorials/ner_fashion_brands"
      ],
      "metadata": {
        "id": "DhDUS4A5yElA"
      },
      "execution_count": null,
      "outputs": []
    },
    {
      "cell_type": "code",
      "source": [],
      "metadata": {
        "id": "2YvK1e7FyFde"
      },
      "execution_count": null,
      "outputs": []
    },
    {
      "cell_type": "code",
      "source": [
        "!python -m spacy info"
      ],
      "metadata": {
        "colab": {
          "base_uri": "https://localhost:8080/"
        },
        "id": "CVg--uD1kQKl",
        "outputId": "e13be02b-6e3d-4b8c-ea98-283e30959bd6"
      },
      "execution_count": 47,
      "outputs": [
        {
          "output_type": "stream",
          "name": "stdout",
          "text": [
            "2023-09-22 12:05:03.046621: W tensorflow/compiler/tf2tensorrt/utils/py_utils.cc:38] TF-TRT Warning: Could not find TensorRT\n",
            "/usr/local/lib/python3.10/dist-packages/spacy/util.py:833: UserWarning: [W095] Model 'en_core_web_sm' (3.6.0) was trained with spaCy v3.6 and may not be 100% compatible with the current version (3.2.6). If you see errors or degraded performance, download a newer compatible model or retrain your custom model with the current spaCy version. For more details and available updates, run: python -m spacy validate\n",
            "  warnings.warn(warn_msg)\n",
            "\u001b[1m\n",
            "============================== Info about spaCy ==============================\u001b[0m\n",
            "\n",
            "spaCy version    3.2.6                         \n",
            "Location         /usr/local/lib/python3.10/dist-packages/spacy\n",
            "Platform         Linux-5.15.120+-x86_64-with-glibc2.35\n",
            "Python version   3.10.12                       \n",
            "Pipelines        pt_udv25_portuguesebosque_trf (0.0.1), zh_core_web_trf (3.2.0), pt_core_news_sm (3.2.0), en_core_web_sm (3.6.0)\n",
            "\n"
          ]
        }
      ]
    },
    {
      "cell_type": "code",
      "source": [
        "!pwd"
      ],
      "metadata": {
        "colab": {
          "base_uri": "https://localhost:8080/"
        },
        "id": "bZZ2046etbBc",
        "outputId": "fb2592d3-0b84-49e5-c28d-ccd619dcd193"
      },
      "execution_count": 48,
      "outputs": [
        {
          "output_type": "stream",
          "name": "stdout",
          "text": [
            "/content\n"
          ]
        }
      ]
    },
    {
      "cell_type": "code",
      "source": [
        "!python -m spacy project clone projects/edit_tree_lemmatizer --repo https://github.com/explosion/spacy-experimental\n"
      ],
      "metadata": {
        "id": "K3ozZv9zgTN3"
      },
      "execution_count": null,
      "outputs": []
    },
    {
      "cell_type": "code",
      "source": [
        "!git clone https://github.com/explosion/spacy-experimental.git\n"
      ],
      "metadata": {
        "colab": {
          "base_uri": "https://localhost:8080/"
        },
        "id": "uCFlBlzLgmNU",
        "outputId": "42669083-472a-43e1-fb62-f6ad65c629a5"
      },
      "execution_count": null,
      "outputs": [
        {
          "output_type": "stream",
          "name": "stdout",
          "text": [
            "Cloning into 'spacy-experimental'...\n",
            "remote: Enumerating objects: 1512, done.\u001b[K\n",
            "remote: Counting objects: 100% (519/519), done.\u001b[K\n",
            "remote: Compressing objects: 100% (191/191), done.\u001b[K\n",
            "remote: Total 1512 (delta 379), reused 401 (delta 320), pack-reused 993\u001b[K\n",
            "Receiving objects: 100% (1512/1512), 1.39 MiB | 4.57 MiB/s, done.\n",
            "Resolving deltas: 100% (941/941), done.\n"
          ]
        }
      ]
    },
    {
      "cell_type": "code",
      "source": [
        "!pip install https://huggingface.co/explosion/pt_udv25_portuguesebosque_trf/resolve/main/pt_udv25_portuguesebosque_trf-any-py3-none-any.whl\n",
        "\n"
      ],
      "metadata": {
        "id": "b67qBQUse-6G"
      },
      "execution_count": null,
      "outputs": []
    },
    {
      "cell_type": "code",
      "source": [
        "!pip install thinc==8.0.14"
      ],
      "metadata": {
        "id": "F9zcPsz1lORE"
      },
      "execution_count": null,
      "outputs": []
    },
    {
      "cell_type": "code",
      "source": [],
      "metadata": {
        "id": "4dleiLhnmJ3Q"
      },
      "execution_count": null,
      "outputs": []
    },
    {
      "cell_type": "code",
      "source": [
        "import spacy\n",
        "nlp = spacy.load(\"pt_udv25_portuguesebosque_trf\")\n",
        "doc = nlp(\"meu gato não é como os outros e não come ração\")\n",
        "print(\"original:\", doc)\n",
        "print(\"lematizado:\", \" \".join(token.lemma_ for token in doc))\n"
      ],
      "metadata": {
        "colab": {
          "base_uri": "https://localhost:8080/"
        },
        "id": "nnGvq9nJin8f",
        "outputId": "f0afd13a-acd7-42f8-b6be-c4a866e580c9"
      },
      "execution_count": 60,
      "outputs": [
        {
          "output_type": "stream",
          "name": "stdout",
          "text": [
            "original: meu gato não é como os outros e não come ração\n",
            "lematizado: meu gato não ser como o outro e não comer ração\n"
          ]
        },
        {
          "output_type": "stream",
          "name": "stderr",
          "text": [
            "/usr/local/lib/python3.10/dist-packages/torch/amp/autocast_mode.py:204: UserWarning: User provided device_type of 'cuda', but CUDA is not available. Disabling\n",
            "  warnings.warn('User provided device_type of \\'cuda\\', but CUDA is not available. Disabling')\n"
          ]
        }
      ]
    },
    {
      "cell_type": "code",
      "source": [],
      "metadata": {
        "id": "8i_Y7ugZuCTq"
      },
      "execution_count": null,
      "outputs": []
    },
    {
      "cell_type": "code",
      "source": [
        "# Pré requisito\n",
        "# Ambiente virtual do python\n",
        "# Biblioteca do spaCy\n",
        "\n",
        "# Configurando projeto\n",
        "\n",
        "!python -m pip install -r requirements.txt\n",
        "\n",
        "# Edite o arquivo project.yml\n",
        "vars:\n",
        "  lang: \"pt\"\n",
        "  treebank: \"UD_Portuguese-Bosque\"\n",
        "  train_name: \"pt_bosque-ud-train\"\n",
        "  dev_name: \"pt_bosque-ud-dev\"\n",
        "  test_name: \"pt_bosque-ud-test\"\n",
        "  gpu: -1\n",
        "\n",
        "# Adicione o parâmetro --merge-subtokens ao final do comando spacy convert na seção preprocess do seu yaml.\n",
        "commands:\n",
        "  - name: \"preprocess\"\n",
        "    help: \"Convert data to spaCy format\"\n",
        "    script:\n",
        "      - \"mkdir -p corpus/$ {vars.treebank}\"\n",
        "      - \"python -m spacy convert assets/$ {vars.treebank}/$ {vars.train_name}.conllu corpus/$ {vars.treebank}/ --n-sents 10 --merge-subtokens\"\n",
        "      - \"mv corpus/$ {vars.treebank}/$ {vars.train_name}.spacy corpus/$ {vars.treebank}/train.spacy\"\n",
        "      - \"python -m spacy convert assets/$ {vars.treebank}/$ {vars.dev_name}.conllu corpus/$ {vars.treebank}/ --n-sents 10 --merge-subtokens\"\n",
        "      - \"mv corpus/$ {vars.treebank}/$ {vars.dev_name}.spacy corpus/$ {vars.treebank}/dev.spacy\"\n",
        "      - \"python -m spacy convert assets/$ {vars.treebank}/$ {vars.test_name}.conllu corpus/$ {vars.treebank}/ --n-sents 10 --merge-subtokens\"\n",
        "      - \"mv corpus/$ {vars.treebank}/$ {vars.test_name}.spacy corpus/$ {vars.treebank}/test.spacy\"\n",
        "    deps:\n",
        "      - \"assets/$ {vars.treebank}/\"\n",
        "    outputs:\n",
        "      - \"corpus/$ {vars.treebank}/train.spacy\"\n",
        "      - \"corpus/$ {vars.treebank}/dev.spacy\"\n",
        "      - \"corpus/$ {vars.treebank}/test.spacy\"\n",
        "\n",
        "# Execute o projeto\n"
      ],
      "metadata": {
        "id": "oZAFwqn7iuql"
      },
      "execution_count": null,
      "outputs": []
    },
    {
      "cell_type": "code",
      "source": [
        "!python -m spacy project assets /content/ner_fashion_brands/\n",
        "!python -m spacy project run preprocess /content/ner_fashion_brands/\n",
        "!python -m spacy project run create-config /content/ner_fashion_brands/"
      ],
      "metadata": {
        "colab": {
          "base_uri": "https://localhost:8080/"
        },
        "id": "LVNuxUXFjjPs",
        "outputId": "8542eb36-3472-4c32-df18-abf12848ae9f"
      },
      "execution_count": 45,
      "outputs": [
        {
          "output_type": "stream",
          "name": "stdout",
          "text": [
            "2023-09-22 12:03:24.508345: W tensorflow/compiler/tf2tensorrt/utils/py_utils.cc:38] TF-TRT Warning: Could not find TensorRT\n",
            "\u001b[38;5;4mℹ Fetching 3 asset(s)\u001b[0m\n",
            "\u001b[38;5;2m✔ Asset exists with matching checksum:\n",
            "/content/ner_fashion_brands/assets/fashion_brands_training.jsonl\u001b[0m\n",
            "\u001b[38;5;2m✔ Asset exists with matching checksum:\n",
            "/content/ner_fashion_brands/assets/fashion_brands_eval.jsonl\u001b[0m\n",
            "\u001b[38;5;2m✔ Asset exists with matching checksum:\n",
            "/content/ner_fashion_brands/assets/fashion_brands_patterns.jsonl\u001b[0m\n",
            "2023-09-22 12:03:32.004939: W tensorflow/compiler/tf2tensorrt/utils/py_utils.cc:38] TF-TRT Warning: Could not find TensorRT\n",
            "\u001b[1m\n",
            "================================= preprocess =================================\u001b[0m\n",
            "Running command: /usr/bin/python3 scripts/preprocess.py assets/fashion_brands_training.jsonl corpus/fashion_brands_training.spacy\n",
            "2023-09-22 12:03:40.432550: W tensorflow/compiler/tf2tensorrt/utils/py_utils.cc:38] TF-TRT Warning: Could not find TensorRT\n",
            "Processed 1235 documents: fashion_brands_training.spacy\n",
            "Running command: /usr/bin/python3 scripts/preprocess.py assets/fashion_brands_eval.jsonl corpus/fashion_brands_eval.spacy\n",
            "2023-09-22 12:03:50.815253: W tensorflow/compiler/tf2tensorrt/utils/py_utils.cc:38] TF-TRT Warning: Could not find TensorRT\n",
            "Processed 500 documents: fashion_brands_eval.spacy\n",
            "2023-09-22 12:04:01.663040: W tensorflow/compiler/tf2tensorrt/utils/py_utils.cc:38] TF-TRT Warning: Could not find TensorRT\n",
            "\n",
            "\u001b[38;5;1m✘ Can't find project.yml\u001b[0m\n",
            "/content/project.yml\n",
            "\n"
          ]
        }
      ]
    },
    {
      "cell_type": "code",
      "source": [
        "!python -m spacy project run create-config /content/ner_fashion_brands/"
      ],
      "metadata": {
        "colab": {
          "base_uri": "https://localhost:8080/"
        },
        "id": "YKwVs5fWx4yF",
        "outputId": "2a35eb52-66c4-4be2-c5fc-ea458b73943a"
      },
      "execution_count": 46,
      "outputs": [
        {
          "output_type": "stream",
          "name": "stdout",
          "text": [
            "2023-09-22 12:04:40.584889: W tensorflow/compiler/tf2tensorrt/utils/py_utils.cc:38] TF-TRT Warning: Could not find TensorRT\n",
            "\n",
            "\u001b[38;5;1m✘ Can't find command or workflow 'create-config' in project.yml\u001b[0m\n",
            "Available commands: preprocess, train, evaluate, package, visualize-model,\n",
            "visualize-data. Available workflows: all\n",
            "\n"
          ]
        }
      ]
    },
    {
      "cell_type": "code",
      "source": [],
      "metadata": {
        "id": "D-vA-hSvpLDk",
        "colab": {
          "base_uri": "https://localhost:8080/"
        },
        "outputId": "2d0b22c9-f198-4b88-ed3b-38cc7898553e"
      },
      "execution_count": 44,
      "outputs": [
        {
          "output_type": "stream",
          "name": "stdout",
          "text": [
            "2023-09-22 12:02:12.956408: W tensorflow/compiler/tf2tensorrt/utils/py_utils.cc:38] TF-TRT Warning: Could not find TensorRT\n",
            "\u001b[38;5;2m✔ Cloned 'tutorials/ner_fashion_brands' from explosion/projects\u001b[0m\n",
            "/content/ner_fashion_brands\n",
            "\u001b[38;5;2m✔ Your project is now ready!\u001b[0m\n",
            "To fetch the assets, run:\n",
            "python -m spacy project assets /content/ner_fashion_brands\n"
          ]
        }
      ]
    },
    {
      "cell_type": "code",
      "source": [
        "!pip install spacy\n",
        "!python -m spacy download zh_core_web_trf"
      ],
      "metadata": {
        "id": "lg4gG59ysUB3"
      },
      "execution_count": null,
      "outputs": []
    },
    {
      "cell_type": "code",
      "source": [
        "import nltk\n",
        "nltk.download('stopwords')\n",
        "stopwords = nltk.corpus.stopwords.words('portuguese')\n",
        "print(stopwords)\n"
      ],
      "metadata": {
        "colab": {
          "base_uri": "https://localhost:8080/"
        },
        "id": "7z-9iRmxuEdu",
        "outputId": "22c33aa8-0e28-4e69-e166-324d8fe389a8"
      },
      "execution_count": 23,
      "outputs": [
        {
          "output_type": "stream",
          "name": "stderr",
          "text": [
            "[nltk_data] Downloading package stopwords to /root/nltk_data...\n",
            "[nltk_data]   Unzipping corpora/stopwords.zip.\n"
          ]
        },
        {
          "output_type": "stream",
          "name": "stdout",
          "text": [
            "['a', 'à', 'ao', 'aos', 'aquela', 'aquelas', 'aquele', 'aqueles', 'aquilo', 'as', 'às', 'até', 'com', 'como', 'da', 'das', 'de', 'dela', 'delas', 'dele', 'deles', 'depois', 'do', 'dos', 'e', 'é', 'ela', 'elas', 'ele', 'eles', 'em', 'entre', 'era', 'eram', 'éramos', 'essa', 'essas', 'esse', 'esses', 'esta', 'está', 'estamos', 'estão', 'estar', 'estas', 'estava', 'estavam', 'estávamos', 'este', 'esteja', 'estejam', 'estejamos', 'estes', 'esteve', 'estive', 'estivemos', 'estiver', 'estivera', 'estiveram', 'estivéramos', 'estiverem', 'estivermos', 'estivesse', 'estivessem', 'estivéssemos', 'estou', 'eu', 'foi', 'fomos', 'for', 'fora', 'foram', 'fôramos', 'forem', 'formos', 'fosse', 'fossem', 'fôssemos', 'fui', 'há', 'haja', 'hajam', 'hajamos', 'hão', 'havemos', 'haver', 'hei', 'houve', 'houvemos', 'houver', 'houvera', 'houverá', 'houveram', 'houvéramos', 'houverão', 'houverei', 'houverem', 'houveremos', 'houveria', 'houveriam', 'houveríamos', 'houvermos', 'houvesse', 'houvessem', 'houvéssemos', 'isso', 'isto', 'já', 'lhe', 'lhes', 'mais', 'mas', 'me', 'mesmo', 'meu', 'meus', 'minha', 'minhas', 'muito', 'na', 'não', 'nas', 'nem', 'no', 'nos', 'nós', 'nossa', 'nossas', 'nosso', 'nossos', 'num', 'numa', 'o', 'os', 'ou', 'para', 'pela', 'pelas', 'pelo', 'pelos', 'por', 'qual', 'quando', 'que', 'quem', 'são', 'se', 'seja', 'sejam', 'sejamos', 'sem', 'ser', 'será', 'serão', 'serei', 'seremos', 'seria', 'seriam', 'seríamos', 'seu', 'seus', 'só', 'somos', 'sou', 'sua', 'suas', 'também', 'te', 'tem', 'tém', 'temos', 'tenha', 'tenham', 'tenhamos', 'tenho', 'terá', 'terão', 'terei', 'teremos', 'teria', 'teriam', 'teríamos', 'teu', 'teus', 'teve', 'tinha', 'tinham', 'tínhamos', 'tive', 'tivemos', 'tiver', 'tivera', 'tiveram', 'tivéramos', 'tiverem', 'tivermos', 'tivesse', 'tivessem', 'tivéssemos', 'tu', 'tua', 'tuas', 'um', 'uma', 'você', 'vocês', 'vos']\n"
          ]
        }
      ]
    },
    {
      "cell_type": "code",
      "source": [
        "!python -m spacy project run train /content/ner_fashion_brands/"
      ],
      "metadata": {
        "colab": {
          "base_uri": "https://localhost:8080/"
        },
        "id": "VHYym7yjynPI",
        "outputId": "09a1d1c3-d85d-4faf-8d27-339ac7fe7ff5"
      },
      "execution_count": 62,
      "outputs": [
        {
          "output_type": "stream",
          "name": "stdout",
          "text": [
            "2023-09-22 12:29:21.072350: W tensorflow/compiler/tf2tensorrt/utils/py_utils.cc:38] TF-TRT Warning: Could not find TensorRT\n",
            "\u001b[1m\n",
            "=================================== train ===================================\u001b[0m\n",
            "Running command: /usr/bin/python3 -m spacy train configs/config.cfg --output training/ --paths.train corpus/fashion_brands_training.spacy --paths.dev corpus/fashion_brands_eval.spacy\n",
            "2023-09-22 12:29:28.428770: W tensorflow/compiler/tf2tensorrt/utils/py_utils.cc:38] TF-TRT Warning: Could not find TensorRT\n",
            "\u001b[38;5;4mℹ Saving to output directory: training\u001b[0m\n",
            "\u001b[38;5;4mℹ Using CPU\u001b[0m\n",
            "\u001b[1m\n",
            "=========================== Initializing pipeline ===========================\u001b[0m\n",
            "[2023-09-22 12:29:31,606] [INFO] Set up nlp object from config\n",
            "[2023-09-22 12:29:31,626] [INFO] Pipeline: ['tok2vec', 'ner']\n",
            "[2023-09-22 12:29:31,631] [INFO] Created vocabulary\n",
            "[2023-09-22 12:29:31,633] [INFO] Finished initializing nlp object\n",
            "[2023-09-22 12:29:37,215] [INFO] Initialized pipeline components: ['tok2vec', 'ner']\n",
            "\u001b[38;5;2m✔ Initialized pipeline\u001b[0m\n",
            "\u001b[1m\n",
            "============================= Training pipeline =============================\u001b[0m\n",
            "\u001b[38;5;4mℹ Pipeline: ['tok2vec', 'ner']\u001b[0m\n",
            "\u001b[38;5;4mℹ Initial learn rate: 0.0\u001b[0m\n",
            "E    #       LOSS TOK2VEC  LOSS NER  ENTS_F  ENTS_P  ENTS_R  SCORE \n",
            "---  ------  ------------  --------  ------  ------  ------  ------\n",
            "  0       0          0.00     46.17    0.00    0.00    0.00    0.00\n",
            "  0     200         10.44  14143.23    0.00    0.00    0.00    0.00\n",
            "  0     400         17.36    921.58    0.00    0.00    0.00    0.00\n",
            "  1     600         18.69    517.67    0.00    0.00    0.00    0.00\n",
            "  1     800         22.25    619.51    0.83   50.00    0.42    0.01\n",
            "  2    1000         26.63    656.25    4.84   60.00    2.52    0.05\n",
            "  3    1200         29.68    745.73    8.99   41.38    5.04    0.09\n",
            "  4    1400         37.85    754.63   20.92   47.06   13.45    0.21\n",
            "  6    1600         82.78    884.98   31.07   47.41   23.11    0.31\n",
            "  7    1800        392.38    985.25   35.64   48.55   28.15    0.36\n",
            "  9    2000        354.55   1073.87   39.60   48.19   33.61    0.40\n",
            " 12    2200        107.72    990.02   40.91   51.27   34.03    0.41\n",
            " 15    2400        138.53   1033.30   47.23   55.37   41.18    0.47\n",
            " 19    2600        149.29    957.00   49.88   56.68   44.54    0.50\n",
            " 22    2800        123.24    696.10   51.67   60.00   45.38    0.52\n",
            " 25    3000        119.57    576.94   53.85   62.92   47.06    0.54\n",
            " 29    3200        113.70    433.66   54.07   62.78   47.48    0.54\n",
            " 32    3400        114.97    375.64   56.12   65.36   49.16    0.56\n",
            " 35    3600        121.65    301.57   55.29   64.61   48.32    0.55\n",
            " 38    3800        131.14    299.99   57.99   69.82   49.58    0.58\n",
            " 42    4000        130.60    251.45   57.56   68.60   49.58    0.58\n",
            " 45    4200        186.30    223.32   57.56   68.60   49.58    0.58\n",
            " 48    4400        201.81    213.32   57.76   66.85   50.84    0.58\n",
            " 52    4600        189.68    169.53   57.35   67.23   50.00    0.57\n",
            " 55    4800         97.62    106.95   58.25   68.97   50.42    0.58\n",
            " 58    5000        134.30     99.19   58.11   68.57   50.42    0.58\n",
            " 62    5200        102.22     78.59   59.08   69.71   51.26    0.59\n",
            " 65    5400         93.39     74.52   60.10   72.62   51.26    0.60\n",
            " 68    5600        111.55     60.58   59.80   71.76   51.26    0.60\n",
            " 72    5800        233.45     54.16   60.78   72.94   52.10    0.61\n",
            " 75    6000        140.18     47.82   60.62   70.17   53.36    0.61\n",
            " 78    6200         74.19     40.91   61.58   74.40   52.52    0.62\n",
            " 82    6400         71.04     33.00   61.12   73.10   52.52    0.61\n",
            " 85    6600         77.00     29.12   61.17   72.41   52.94    0.61\n",
            " 88    6800        126.04     41.17   61.80   73.41   53.36    0.62\n",
            " 91    7000         65.78     29.81   61.80   73.41   53.36    0.62\n",
            " 95    7200         42.28     18.88   61.50   72.57   53.36    0.62\n",
            " 98    7400         53.33     17.22   61.46   73.26   52.94    0.61\n",
            "101    7600         32.37      9.70   60.91   70.95   53.36    0.61\n",
            "105    7800         22.01     10.18   59.85   73.62   50.42    0.60\n",
            "108    8000         78.60     24.10   62.38   71.98   55.04    0.62\n",
            "111    8200         26.55      8.43   62.47   73.71   54.20    0.62\n",
            "115    8400         31.60     11.20   62.29   73.99   53.78    0.62\n",
            "118    8600         19.20      6.78   62.53   72.38   55.04    0.63\n",
            "121    8800         40.51     12.66   62.98   73.60   55.04    0.63\n",
            "125    9000         24.54      7.30   60.87   71.59   52.94    0.61\n",
            "128    9200         30.89      9.98   61.90   71.43   54.62    0.62\n",
            "131    9400         56.09     18.77   62.50   73.03   54.62    0.62\n",
            "134    9600         12.86      3.78   61.35   72.16   53.36    0.61\n",
            "138    9800         23.26      6.69   60.49   72.09   52.10    0.60\n",
            "141   10000         78.56     21.30   61.65   72.99   53.36    0.62\n",
            "144   10200         19.22      5.73   62.17   72.88   54.20    0.62\n",
            "148   10400         52.02     13.22   62.10   74.27   53.36    0.62\n",
            "\u001b[38;5;2m✔ Saved pipeline to output directory\u001b[0m\n",
            "training/model-last\n"
          ]
        }
      ]
    },
    {
      "cell_type": "code",
      "source": [
        "!python -m spacy project run evaluate /content/ner_fashion_brands/"
      ],
      "metadata": {
        "colab": {
          "base_uri": "https://localhost:8080/"
        },
        "id": "YhtQHyzPzDkW",
        "outputId": "d1a7f211-7db4-4ee6-dd1f-84cc38109aff"
      },
      "execution_count": 63,
      "outputs": [
        {
          "output_type": "stream",
          "name": "stdout",
          "text": [
            "2023-09-22 13:20:54.918817: W tensorflow/compiler/tf2tensorrt/utils/py_utils.cc:38] TF-TRT Warning: Could not find TensorRT\n",
            "\u001b[1m\n",
            "================================== evaluate ==================================\u001b[0m\n",
            "Running command: /usr/bin/python3 -m spacy evaluate training/model-best corpus/fashion_brands_eval.spacy --output training/metrics.json\n",
            "2023-09-22 13:21:03.144911: W tensorflow/compiler/tf2tensorrt/utils/py_utils.cc:38] TF-TRT Warning: Could not find TensorRT\n",
            "\u001b[38;5;4mℹ Using CPU\u001b[0m\n",
            "\u001b[1m\n",
            "================================== Results ==================================\u001b[0m\n",
            "\n",
            "TOK     99.99\n",
            "NER P   73.60\n",
            "NER R   55.04\n",
            "NER F   62.98\n",
            "SPEED   17805\n",
            "\n",
            "\u001b[1m\n",
            "=============================== NER (per type) ===============================\u001b[0m\n",
            "\n",
            "                    P       R       F\n",
            "FASHION_BRAND   73.60   55.04   62.98\n",
            "\n",
            "\u001b[38;5;2m✔ Saved results to training/metrics.json\u001b[0m\n"
          ]
        }
      ]
    },
    {
      "cell_type": "code",
      "source": [
        "import spacy\n",
        "\n",
        "# cria o objeto nlp ao carregar o lematizador\n",
        "nlp = spacy.load(\n",
        "    \"/content/ner_fashion_brands/training/model-best\"\n",
        ")\n",
        "\n",
        "# processa o texto\n",
        "doc = nlp(\"meu gato não é como os outros e não come ração\")\n",
        "\n",
        "print(\"original:\", doc)\n",
        "print(\"lematizado:\", \" \".join(token.lemma_ for token in doc))"
      ],
      "metadata": {
        "colab": {
          "base_uri": "https://localhost:8080/"
        },
        "id": "zIZjcZ8k1IzP",
        "outputId": "43b159fa-12f9-4378-9d66-853da2fb2952"
      },
      "execution_count": 64,
      "outputs": [
        {
          "output_type": "stream",
          "name": "stdout",
          "text": [
            "original: meu gato não é como os outros e não come ração\n",
            "lematizado:           \n"
          ]
        }
      ]
    },
    {
      "cell_type": "code",
      "source": [],
      "metadata": {
        "id": "Q1BfvYSw3dlV"
      },
      "execution_count": null,
      "outputs": []
    },
    {
      "cell_type": "code",
      "source": [],
      "metadata": {
        "id": "dCPT9wRuEbQ3"
      },
      "execution_count": null,
      "outputs": []
    },
    {
      "cell_type": "markdown",
      "source": [
        "# LeIA"
      ],
      "metadata": {
        "id": "9vMg60dOEcQK"
      }
    },
    {
      "cell_type": "code",
      "source": [
        "!pip3 install leia\n"
      ],
      "metadata": {
        "colab": {
          "base_uri": "https://localhost:8080/"
        },
        "id": "nG3hXFqREeaY",
        "outputId": "e27c33b5-1119-4092-98d3-5343f555b4de"
      },
      "execution_count": 66,
      "outputs": [
        {
          "output_type": "stream",
          "name": "stdout",
          "text": [
            "Requirement already satisfied: leia in /usr/local/lib/python3.10/dist-packages (0.1.0)\n"
          ]
        }
      ]
    },
    {
      "cell_type": "code",
      "source": [
        "!pip install --upgrade leia"
      ],
      "metadata": {
        "colab": {
          "base_uri": "https://localhost:8080/"
        },
        "id": "0Ow0VsG3E842",
        "outputId": "dfc53f9d-344a-4c65-e9db-c7036c8b89b1"
      },
      "execution_count": 70,
      "outputs": [
        {
          "output_type": "stream",
          "name": "stdout",
          "text": [
            "Requirement already satisfied: leia in /usr/local/lib/python3.10/dist-packages (0.1.0)\n"
          ]
        }
      ]
    },
    {
      "cell_type": "code",
      "source": [
        "!pip install vaderSentiment"
      ],
      "metadata": {
        "colab": {
          "base_uri": "https://localhost:8080/"
        },
        "id": "RXpFPeJUFu-_",
        "outputId": "9d7eb42f-fa69-4382-dce4-3e9094668a1d"
      },
      "execution_count": 72,
      "outputs": [
        {
          "output_type": "stream",
          "name": "stdout",
          "text": [
            "Collecting vaderSentiment\n",
            "  Downloading vaderSentiment-3.3.2-py2.py3-none-any.whl (125 kB)\n",
            "\u001b[2K     \u001b[90m━━━━━━━━━━━━━━━━━━━━━━━━━━━━━━━━━━━━━━━\u001b[0m \u001b[32m126.0/126.0 kB\u001b[0m \u001b[31m1.7 MB/s\u001b[0m eta \u001b[36m0:00:00\u001b[0m\n",
            "\u001b[?25hRequirement already satisfied: requests in /usr/local/lib/python3.10/dist-packages (from vaderSentiment) (2.31.0)\n",
            "Requirement already satisfied: charset-normalizer<4,>=2 in /usr/local/lib/python3.10/dist-packages (from requests->vaderSentiment) (3.2.0)\n",
            "Requirement already satisfied: idna<4,>=2.5 in /usr/local/lib/python3.10/dist-packages (from requests->vaderSentiment) (3.4)\n",
            "Requirement already satisfied: urllib3<3,>=1.21.1 in /usr/local/lib/python3.10/dist-packages (from requests->vaderSentiment) (2.0.4)\n",
            "Requirement already satisfied: certifi>=2017.4.17 in /usr/local/lib/python3.10/dist-packages (from requests->vaderSentiment) (2023.7.22)\n",
            "Installing collected packages: vaderSentiment\n",
            "Successfully installed vaderSentiment-3.3.2\n"
          ]
        }
      ]
    },
    {
      "cell_type": "code",
      "source": [
        "# importando a classe\n",
        "from vaderSentiment.vaderSentiment import SentimentIntensityAnalyzer\n",
        "\n",
        "# instanciando\n",
        "analyser = SentimentIntensityAnalyzer"
      ],
      "metadata": {
        "id": "YcLHu-IUFrVB"
      },
      "execution_count": 73,
      "outputs": []
    },
    {
      "cell_type": "code",
      "source": [
        "df = pd.read_excel(\"/content/Noticias_All.xlsx\")"
      ],
      "metadata": {
        "id": "RQdBaBgsGCDk"
      },
      "execution_count": 78,
      "outputs": []
    },
    {
      "cell_type": "code",
      "source": [
        "df['sentiment'] = df['title'].apply(lambda text: analyser.polarity_scores(text))\n"
      ],
      "metadata": {
        "colab": {
          "base_uri": "https://localhost:8080/",
          "height": 251
        },
        "id": "HBKq7YtREm0M",
        "outputId": "4410c31c-2789-4402-c2bd-cae4027c6c00"
      },
      "execution_count": 82,
      "outputs": [
        {
          "output_type": "error",
          "ename": "TypeError",
          "evalue": "ignored",
          "traceback": [
            "\u001b[0;31m---------------------------------------------------------------------------\u001b[0m",
            "\u001b[0;31mTypeError\u001b[0m                                 Traceback (most recent call last)",
            "\u001b[0;32m<ipython-input-82-a588f3ce8930>\u001b[0m in \u001b[0;36m<cell line: 1>\u001b[0;34m()\u001b[0m\n\u001b[0;32m----> 1\u001b[0;31m \u001b[0mdf\u001b[0m\u001b[0;34m[\u001b[0m\u001b[0;34m'sentiment'\u001b[0m\u001b[0;34m]\u001b[0m \u001b[0;34m=\u001b[0m \u001b[0mdf\u001b[0m\u001b[0;34m[\u001b[0m\u001b[0;34m'title'\u001b[0m\u001b[0;34m]\u001b[0m\u001b[0;34m.\u001b[0m\u001b[0mapply\u001b[0m\u001b[0;34m(\u001b[0m\u001b[0;32mlambda\u001b[0m \u001b[0mtext\u001b[0m\u001b[0;34m:\u001b[0m \u001b[0manalyser\u001b[0m\u001b[0;34m.\u001b[0m\u001b[0mpolarity_scores\u001b[0m\u001b[0;34m(\u001b[0m\u001b[0mtext\u001b[0m\u001b[0;34m)\u001b[0m\u001b[0;34m)\u001b[0m\u001b[0;34m\u001b[0m\u001b[0;34m\u001b[0m\u001b[0m\n\u001b[0m",
            "\u001b[0;32m/usr/local/lib/python3.10/dist-packages/pandas/core/series.py\u001b[0m in \u001b[0;36mapply\u001b[0;34m(self, func, convert_dtype, args, **kwargs)\u001b[0m\n\u001b[1;32m   4769\u001b[0m         \u001b[0mdtype\u001b[0m\u001b[0;34m:\u001b[0m \u001b[0mfloat64\u001b[0m\u001b[0;34m\u001b[0m\u001b[0;34m\u001b[0m\u001b[0m\n\u001b[1;32m   4770\u001b[0m         \"\"\"\n\u001b[0;32m-> 4771\u001b[0;31m         \u001b[0;32mreturn\u001b[0m \u001b[0mSeriesApply\u001b[0m\u001b[0;34m(\u001b[0m\u001b[0mself\u001b[0m\u001b[0;34m,\u001b[0m \u001b[0mfunc\u001b[0m\u001b[0;34m,\u001b[0m \u001b[0mconvert_dtype\u001b[0m\u001b[0;34m,\u001b[0m \u001b[0margs\u001b[0m\u001b[0;34m,\u001b[0m \u001b[0mkwargs\u001b[0m\u001b[0;34m)\u001b[0m\u001b[0;34m.\u001b[0m\u001b[0mapply\u001b[0m\u001b[0;34m(\u001b[0m\u001b[0;34m)\u001b[0m\u001b[0;34m\u001b[0m\u001b[0;34m\u001b[0m\u001b[0m\n\u001b[0m\u001b[1;32m   4772\u001b[0m \u001b[0;34m\u001b[0m\u001b[0m\n\u001b[1;32m   4773\u001b[0m     def _reduce(\n",
            "\u001b[0;32m/usr/local/lib/python3.10/dist-packages/pandas/core/apply.py\u001b[0m in \u001b[0;36mapply\u001b[0;34m(self)\u001b[0m\n\u001b[1;32m   1121\u001b[0m \u001b[0;34m\u001b[0m\u001b[0m\n\u001b[1;32m   1122\u001b[0m         \u001b[0;31m# self.f is Callable\u001b[0m\u001b[0;34m\u001b[0m\u001b[0;34m\u001b[0m\u001b[0m\n\u001b[0;32m-> 1123\u001b[0;31m         \u001b[0;32mreturn\u001b[0m \u001b[0mself\u001b[0m\u001b[0;34m.\u001b[0m\u001b[0mapply_standard\u001b[0m\u001b[0;34m(\u001b[0m\u001b[0;34m)\u001b[0m\u001b[0;34m\u001b[0m\u001b[0;34m\u001b[0m\u001b[0m\n\u001b[0m\u001b[1;32m   1124\u001b[0m \u001b[0;34m\u001b[0m\u001b[0m\n\u001b[1;32m   1125\u001b[0m     \u001b[0;32mdef\u001b[0m \u001b[0magg\u001b[0m\u001b[0;34m(\u001b[0m\u001b[0mself\u001b[0m\u001b[0;34m)\u001b[0m\u001b[0;34m:\u001b[0m\u001b[0;34m\u001b[0m\u001b[0;34m\u001b[0m\u001b[0m\n",
            "\u001b[0;32m/usr/local/lib/python3.10/dist-packages/pandas/core/apply.py\u001b[0m in \u001b[0;36mapply_standard\u001b[0;34m(self)\u001b[0m\n\u001b[1;32m   1172\u001b[0m             \u001b[0;32melse\u001b[0m\u001b[0;34m:\u001b[0m\u001b[0;34m\u001b[0m\u001b[0;34m\u001b[0m\u001b[0m\n\u001b[1;32m   1173\u001b[0m                 \u001b[0mvalues\u001b[0m \u001b[0;34m=\u001b[0m \u001b[0mobj\u001b[0m\u001b[0;34m.\u001b[0m\u001b[0mastype\u001b[0m\u001b[0;34m(\u001b[0m\u001b[0mobject\u001b[0m\u001b[0;34m)\u001b[0m\u001b[0;34m.\u001b[0m\u001b[0m_values\u001b[0m\u001b[0;34m\u001b[0m\u001b[0;34m\u001b[0m\u001b[0m\n\u001b[0;32m-> 1174\u001b[0;31m                 mapped = lib.map_infer(\n\u001b[0m\u001b[1;32m   1175\u001b[0m                     \u001b[0mvalues\u001b[0m\u001b[0;34m,\u001b[0m\u001b[0;34m\u001b[0m\u001b[0;34m\u001b[0m\u001b[0m\n\u001b[1;32m   1176\u001b[0m                     \u001b[0mf\u001b[0m\u001b[0;34m,\u001b[0m\u001b[0;34m\u001b[0m\u001b[0;34m\u001b[0m\u001b[0m\n",
            "\u001b[0;32m/usr/local/lib/python3.10/dist-packages/pandas/_libs/lib.pyx\u001b[0m in \u001b[0;36mpandas._libs.lib.map_infer\u001b[0;34m()\u001b[0m\n",
            "\u001b[0;32m<ipython-input-82-a588f3ce8930>\u001b[0m in \u001b[0;36m<lambda>\u001b[0;34m(text)\u001b[0m\n\u001b[0;32m----> 1\u001b[0;31m \u001b[0mdf\u001b[0m\u001b[0;34m[\u001b[0m\u001b[0;34m'sentiment'\u001b[0m\u001b[0;34m]\u001b[0m \u001b[0;34m=\u001b[0m \u001b[0mdf\u001b[0m\u001b[0;34m[\u001b[0m\u001b[0;34m'title'\u001b[0m\u001b[0;34m]\u001b[0m\u001b[0;34m.\u001b[0m\u001b[0mapply\u001b[0m\u001b[0;34m(\u001b[0m\u001b[0;32mlambda\u001b[0m \u001b[0mtext\u001b[0m\u001b[0;34m:\u001b[0m \u001b[0manalyser\u001b[0m\u001b[0;34m.\u001b[0m\u001b[0mpolarity_scores\u001b[0m\u001b[0;34m(\u001b[0m\u001b[0mtext\u001b[0m\u001b[0;34m)\u001b[0m\u001b[0;34m)\u001b[0m\u001b[0;34m\u001b[0m\u001b[0;34m\u001b[0m\u001b[0m\n\u001b[0m",
            "\u001b[0;31mTypeError\u001b[0m: SentimentIntensityAnalyzer.polarity_scores() missing 1 required positional argument: 'text'"
          ]
        }
      ]
    },
    {
      "cell_type": "code",
      "source": [],
      "metadata": {
        "id": "Qk5EWI_CE5e5"
      },
      "execution_count": null,
      "outputs": []
    },
    {
      "cell_type": "markdown",
      "source": [
        "# OUTROS"
      ],
      "metadata": {
        "id": "_16Sfa7YLKm5"
      }
    },
    {
      "cell_type": "code",
      "source": [
        "import nltk\n",
        "nltk.download('punkt')\n",
        "\n",
        "!pip install deep-translator"
      ],
      "metadata": {
        "colab": {
          "base_uri": "https://localhost:8080/"
        },
        "id": "Xz5Pu8CulfyB",
        "outputId": "c1a5be82-5723-47a2-af4f-a141bfb9b17f"
      },
      "execution_count": 92,
      "outputs": [
        {
          "output_type": "stream",
          "name": "stderr",
          "text": [
            "[nltk_data] Downloading package punkt to /root/nltk_data...\n",
            "[nltk_data]   Package punkt is already up-to-date!\n"
          ]
        },
        {
          "output_type": "stream",
          "name": "stdout",
          "text": [
            "Requirement already satisfied: deep-translator in /usr/local/lib/python3.10/dist-packages (1.11.4)\n",
            "Requirement already satisfied: beautifulsoup4<5.0.0,>=4.9.1 in /usr/local/lib/python3.10/dist-packages (from deep-translator) (4.11.2)\n",
            "Requirement already satisfied: requests<3.0.0,>=2.23.0 in /usr/local/lib/python3.10/dist-packages (from deep-translator) (2.31.0)\n",
            "Requirement already satisfied: soupsieve>1.2 in /usr/local/lib/python3.10/dist-packages (from beautifulsoup4<5.0.0,>=4.9.1->deep-translator) (2.5)\n",
            "Requirement already satisfied: charset-normalizer<4,>=2 in /usr/local/lib/python3.10/dist-packages (from requests<3.0.0,>=2.23.0->deep-translator) (3.2.0)\n",
            "Requirement already satisfied: idna<4,>=2.5 in /usr/local/lib/python3.10/dist-packages (from requests<3.0.0,>=2.23.0->deep-translator) (3.4)\n",
            "Requirement already satisfied: urllib3<3,>=1.21.1 in /usr/local/lib/python3.10/dist-packages (from requests<3.0.0,>=2.23.0->deep-translator) (2.0.4)\n",
            "Requirement already satisfied: certifi>=2017.4.17 in /usr/local/lib/python3.10/dist-packages (from requests<3.0.0,>=2.23.0->deep-translator) (2023.7.22)\n"
          ]
        }
      ]
    },
    {
      "cell_type": "code",
      "source": [
        "#Step 1 — Importing and downloading stopwords from nltk.\n",
        "import nltk\n",
        "nltk.download('stopwords')\n",
        "from nltk.corpus import stopwords\n"
      ],
      "metadata": {
        "colab": {
          "base_uri": "https://localhost:8080/"
        },
        "id": "Lq7jvm90r7NB",
        "outputId": "ad635824-3abd-4f66-cdb5-6053fdca89cc"
      },
      "execution_count": 84,
      "outputs": [
        {
          "output_type": "stream",
          "name": "stderr",
          "text": [
            "[nltk_data] Downloading package stopwords to /root/nltk_data...\n",
            "[nltk_data]   Package stopwords is already up-to-date!\n"
          ]
        }
      ]
    },
    {
      "cell_type": "code",
      "source": [
        "#Step 2— Checking the stopwords list present in nltk library for english language.\n",
        "stopwords = nltk.corpus.stopwords.words('portuguese')\n",
        "print(stopwords)\n"
      ],
      "metadata": {
        "colab": {
          "base_uri": "https://localhost:8080/"
        },
        "id": "fwVROqSUuZ3e",
        "outputId": "428d5126-9fce-4ef6-901b-4266bf78cc27"
      },
      "execution_count": 93,
      "outputs": [
        {
          "output_type": "stream",
          "name": "stdout",
          "text": [
            "['a', 'à', 'ao', 'aos', 'aquela', 'aquelas', 'aquele', 'aqueles', 'aquilo', 'as', 'às', 'até', 'com', 'como', 'da', 'das', 'de', 'dela', 'delas', 'dele', 'deles', 'depois', 'do', 'dos', 'e', 'é', 'ela', 'elas', 'ele', 'eles', 'em', 'entre', 'era', 'eram', 'éramos', 'essa', 'essas', 'esse', 'esses', 'esta', 'está', 'estamos', 'estão', 'estar', 'estas', 'estava', 'estavam', 'estávamos', 'este', 'esteja', 'estejam', 'estejamos', 'estes', 'esteve', 'estive', 'estivemos', 'estiver', 'estivera', 'estiveram', 'estivéramos', 'estiverem', 'estivermos', 'estivesse', 'estivessem', 'estivéssemos', 'estou', 'eu', 'foi', 'fomos', 'for', 'fora', 'foram', 'fôramos', 'forem', 'formos', 'fosse', 'fossem', 'fôssemos', 'fui', 'há', 'haja', 'hajam', 'hajamos', 'hão', 'havemos', 'haver', 'hei', 'houve', 'houvemos', 'houver', 'houvera', 'houverá', 'houveram', 'houvéramos', 'houverão', 'houverei', 'houverem', 'houveremos', 'houveria', 'houveriam', 'houveríamos', 'houvermos', 'houvesse', 'houvessem', 'houvéssemos', 'isso', 'isto', 'já', 'lhe', 'lhes', 'mais', 'mas', 'me', 'mesmo', 'meu', 'meus', 'minha', 'minhas', 'muito', 'na', 'não', 'nas', 'nem', 'no', 'nos', 'nós', 'nossa', 'nossas', 'nosso', 'nossos', 'num', 'numa', 'o', 'os', 'ou', 'para', 'pela', 'pelas', 'pelo', 'pelos', 'por', 'qual', 'quando', 'que', 'quem', 'são', 'se', 'seja', 'sejam', 'sejamos', 'sem', 'ser', 'será', 'serão', 'serei', 'seremos', 'seria', 'seriam', 'seríamos', 'seu', 'seus', 'só', 'somos', 'sou', 'sua', 'suas', 'também', 'te', 'tem', 'tém', 'temos', 'tenha', 'tenham', 'tenhamos', 'tenho', 'terá', 'terão', 'terei', 'teremos', 'teria', 'teriam', 'teríamos', 'teu', 'teus', 'teve', 'tinha', 'tinham', 'tínhamos', 'tive', 'tivemos', 'tiver', 'tivera', 'tiveram', 'tivéramos', 'tiverem', 'tivermos', 'tivesse', 'tivessem', 'tivéssemos', 'tu', 'tua', 'tuas', 'um', 'uma', 'você', 'vocês', 'vos']\n"
          ]
        }
      ]
    },
    {
      "cell_type": "code",
      "source": [
        "#Step 3 — Let’s create a text / paragraph.\n",
        "\n",
        "text = '''Um vício que substituiu o outro DAADADAD 15646446 @#$%%$#@!\n",
        "©Fornecido por Showbizz Daily (Brasil)\n",
        "Russell Brand garante que, na época relatada pelas mulheres, ele teria se libertado da dependência de substâncias narcóticas, mas que, em seu lugar, veio o vício em prazeres físicos e lutas mentais..'''\n",
        "#converting text into lower case\n",
        "text = text.lower()\n",
        "print(text)\n"
      ],
      "metadata": {
        "colab": {
          "base_uri": "https://localhost:8080/"
        },
        "id": "FeNbZ1cBueCP",
        "outputId": "0b7e16c0-31ca-4b1e-c13c-80513479de74"
      },
      "execution_count": 29,
      "outputs": [
        {
          "output_type": "stream",
          "name": "stdout",
          "text": [
            "um vício que substituiu o outro daadadad 15646446 @#$%%$#@!\n",
            "©fornecido por showbizz daily (brasil)\n",
            "russell brand garante que, na época relatada pelas mulheres, ele teria se libertado da dependência de substâncias narcóticas, mas que, em seu lugar, veio o vício em prazeres físicos e lutas mentais..\n"
          ]
        }
      ]
    },
    {
      "cell_type": "code",
      "source": [
        "import unicodedata\n",
        "import re\n",
        "\n",
        "def remover_acentos_e_caracteres_especiais(palavra):\n",
        "    # Unicode normalize transforma um caracter em seu equivalente em latin.\n",
        "    nfkd = unicodedata.normalize('NFKD', palavra)\n",
        "    palavra_sem_acento = u\"\".join([c for c in nfkd if not unicodedata.combining(c)])\n",
        "\n",
        "    # Usa expressão regular para retornar a palavra apenas com números, letras e espaço\n",
        "    return re.sub('[^a-zA-Z0-9 \\\\\\]', '', palavra_sem_acento)\n",
        "\n",
        "# Testando a função\n",
        "print(teremover_acentos_e_caracteres_especiais(text))\n",
        "\n"
      ],
      "metadata": {
        "colab": {
          "base_uri": "https://localhost:8080/"
        },
        "id": "tqCtj6VzvQyX",
        "outputId": "4bd2a3f8-6381-49b9-fcf6-267ac046c395"
      },
      "execution_count": 31,
      "outputs": [
        {
          "output_type": "stream",
          "name": "stdout",
          "text": [
            "um vicio que substituiu o outro daadadad 15646446 fornecido por showbizz daily brasilrussell brand garante que na epoca relatada pelas mulheres ele teria se libertado da dependencia de substancias narcoticas mas que em seu lugar veio o vicio em prazeres fisicos e lutas mentais\n"
          ]
        }
      ]
    },
    {
      "cell_type": "code",
      "source": [
        "\n",
        "#Step 4 — Creating custom list of stopwords.\n",
        "\n",
        "#creating a custom list of stopwords\n",
        "stop_list = [\".\",\"(\",\",\",\".\",\"—\"]\n",
        "\n",
        "\n"
      ],
      "metadata": {
        "id": "LMo4QEdFugya"
      },
      "execution_count": 38,
      "outputs": []
    },
    {
      "cell_type": "code",
      "source": [
        "#Step 5 — Adding custom list of stopwords into nltk list of stopwords.\n",
        "\n",
        "stpwrd = nltk.corpus.stopwords.words('portuguese')\n",
        "\n",
        "# entend()function is used to add custom stopwords\n",
        "stpwrd.extend(stop_list)\n",
        "print(stpwrd)\n"
      ],
      "metadata": {
        "colab": {
          "base_uri": "https://localhost:8080/"
        },
        "id": "cFznY0URvt9m",
        "outputId": "507fb271-ef00-4cb0-b335-695f9d26df40"
      },
      "execution_count": 39,
      "outputs": [
        {
          "output_type": "stream",
          "name": "stdout",
          "text": [
            "['a', 'à', 'ao', 'aos', 'aquela', 'aquelas', 'aquele', 'aqueles', 'aquilo', 'as', 'às', 'até', 'com', 'como', 'da', 'das', 'de', 'dela', 'delas', 'dele', 'deles', 'depois', 'do', 'dos', 'e', 'é', 'ela', 'elas', 'ele', 'eles', 'em', 'entre', 'era', 'eram', 'éramos', 'essa', 'essas', 'esse', 'esses', 'esta', 'está', 'estamos', 'estão', 'estar', 'estas', 'estava', 'estavam', 'estávamos', 'este', 'esteja', 'estejam', 'estejamos', 'estes', 'esteve', 'estive', 'estivemos', 'estiver', 'estivera', 'estiveram', 'estivéramos', 'estiverem', 'estivermos', 'estivesse', 'estivessem', 'estivéssemos', 'estou', 'eu', 'foi', 'fomos', 'for', 'fora', 'foram', 'fôramos', 'forem', 'formos', 'fosse', 'fossem', 'fôssemos', 'fui', 'há', 'haja', 'hajam', 'hajamos', 'hão', 'havemos', 'haver', 'hei', 'houve', 'houvemos', 'houver', 'houvera', 'houverá', 'houveram', 'houvéramos', 'houverão', 'houverei', 'houverem', 'houveremos', 'houveria', 'houveriam', 'houveríamos', 'houvermos', 'houvesse', 'houvessem', 'houvéssemos', 'isso', 'isto', 'já', 'lhe', 'lhes', 'mais', 'mas', 'me', 'mesmo', 'meu', 'meus', 'minha', 'minhas', 'muito', 'na', 'não', 'nas', 'nem', 'no', 'nos', 'nós', 'nossa', 'nossas', 'nosso', 'nossos', 'num', 'numa', 'o', 'os', 'ou', 'para', 'pela', 'pelas', 'pelo', 'pelos', 'por', 'qual', 'quando', 'que', 'quem', 'são', 'se', 'seja', 'sejam', 'sejamos', 'sem', 'ser', 'será', 'serão', 'serei', 'seremos', 'seria', 'seriam', 'seríamos', 'seu', 'seus', 'só', 'somos', 'sou', 'sua', 'suas', 'também', 'te', 'tem', 'tém', 'temos', 'tenha', 'tenham', 'tenhamos', 'tenho', 'terá', 'terão', 'terei', 'teremos', 'teria', 'teriam', 'teríamos', 'teu', 'teus', 'teve', 'tinha', 'tinham', 'tínhamos', 'tive', 'tivemos', 'tiver', 'tivera', 'tiveram', 'tivéramos', 'tiverem', 'tivermos', 'tivesse', 'tivessem', 'tivéssemos', 'tu', 'tua', 'tuas', 'um', 'uma', 'você', 'vocês', 'vos', '.', '(', ',', '.', '—']\n"
          ]
        }
      ]
    },
    {
      "cell_type": "code",
      "source": [
        "\n",
        "#Step 6 — Downloading and importing tokenizer from nltk.\n",
        "# importing tokenizer from nltk\n",
        "from nltk.tokenize import word_tokenize\n",
        "\n"
      ],
      "metadata": {
        "id": "rZQZRo3ovzoS"
      },
      "execution_count": 40,
      "outputs": []
    },
    {
      "cell_type": "code",
      "source": [
        "\n",
        "#Step 7 — Performing word tokenization on text.\n",
        "\n",
        "word_tokens = word_tokenize(text)\n",
        "print(word_tokens)\n"
      ],
      "metadata": {
        "colab": {
          "base_uri": "https://localhost:8080/"
        },
        "id": "in01vKmcv1kY",
        "outputId": "516f9a7e-7a72-498e-e127-2ac269946bef"
      },
      "execution_count": 41,
      "outputs": [
        {
          "output_type": "stream",
          "name": "stdout",
          "text": [
            "['um', 'vício', 'que', 'substituiu', 'o', 'outro', 'daadadad', '15646446', '@', '#', '$', '%', '%', '$', '#', '@', '!', '©fornecido', 'por', 'showbizz', 'daily', '(', 'brasil', ')', 'russell', 'brand', 'garante', 'que', ',', 'na', 'época', 'relatada', 'pelas', 'mulheres', ',', 'ele', 'teria', 'se', 'libertado', 'da', 'dependência', 'de', 'substâncias', 'narcóticas', ',', 'mas', 'que', ',', 'em', 'seu', 'lugar', ',', 'veio', 'o', 'vício', 'em', 'prazeres', 'físicos', 'e', 'lutas', 'mentais', '..']\n"
          ]
        }
      ]
    },
    {
      "cell_type": "code",
      "source": [
        "\n",
        "#Step 8 — Removing custom stop words.\n",
        "custom_words = [words for words in word_tokens if not words in stpwrd]\n",
        "print(custom_words)"
      ],
      "metadata": {
        "colab": {
          "base_uri": "https://localhost:8080/"
        },
        "id": "cXxbBvY6v2vC",
        "outputId": "66918949-14c3-4116-9af5-4a7dee301174"
      },
      "execution_count": 36,
      "outputs": [
        {
          "output_type": "stream",
          "name": "stdout",
          "text": [
            "['vício', 'substituiu', 'outro', 'daadadad', '15646446', '@', '#', '$', '%', '%', '$', '#', '@', '!', '©fornecido', 'showbizz', 'daily', 'brasil', ')', 'russell', 'brand', 'garante', 'época', 'relatada', 'mulheres', 'libertado', 'dependência', 'substâncias', 'narcóticas', 'lugar', 'veio', 'vício', 'prazeres', 'físicos', 'lutas', 'mentais', '..']\n"
          ]
        }
      ]
    },
    {
      "cell_type": "code",
      "source": [],
      "metadata": {
        "id": "wWwcibL1w1Gg"
      },
      "execution_count": null,
      "outputs": []
    },
    {
      "cell_type": "code",
      "source": [
        "from deep_translator import GoogleTranslator\n",
        "\n",
        "def traducoes(text):\n",
        "    deep_translator = GoogleTranslator()\n",
        "    translated = GoogleTranslator(source='pt', target='en').translate()\n",
        "    return text"
      ],
      "metadata": {
        "id": "eh5YGOBVtsj-"
      },
      "execution_count": 42,
      "outputs": []
    },
    {
      "cell_type": "code",
      "source": [
        "df2[[\"token\",\"tokenizing\"]].head(5)"
      ],
      "metadata": {
        "colab": {
          "base_uri": "https://localhost:8080/",
          "height": 175
        },
        "id": "FKqG931Dtvbe",
        "outputId": "61082219-bc74-45fe-80f6-81cea024c0b8"
      },
      "execution_count": null,
      "outputs": [
        {
          "output_type": "error",
          "ename": "NameError",
          "evalue": "ignored",
          "traceback": [
            "\u001b[0;31m---------------------------------------------------------------------------\u001b[0m",
            "\u001b[0;31mNameError\u001b[0m                                 Traceback (most recent call last)",
            "\u001b[0;32m<ipython-input-122-7c988d93d917>\u001b[0m in \u001b[0;36m<cell line: 1>\u001b[0;34m()\u001b[0m\n\u001b[0;32m----> 1\u001b[0;31m \u001b[0mdf2\u001b[0m\u001b[0;34m[\u001b[0m\u001b[0;34m[\u001b[0m\u001b[0;34m\"token\"\u001b[0m\u001b[0;34m,\u001b[0m\u001b[0;34m\"tokenizing\"\u001b[0m\u001b[0;34m]\u001b[0m\u001b[0;34m]\u001b[0m\u001b[0;34m.\u001b[0m\u001b[0mhead\u001b[0m\u001b[0;34m(\u001b[0m\u001b[0;36m5\u001b[0m\u001b[0;34m)\u001b[0m\u001b[0;34m\u001b[0m\u001b[0;34m\u001b[0m\u001b[0m\n\u001b[0m",
            "\u001b[0;31mNameError\u001b[0m: name 'df2' is not defined"
          ]
        }
      ]
    },
    {
      "cell_type": "code",
      "source": [
        "\n",
        "def cleanText(text):\n",
        "    text = re.sub(r\"[?!.,;:#@_+()|\\/<>]'\",\" \",text)\n",
        "    return text\n",
        "\n",
        "df2['token'] =df2['token'].apply(str)\n",
        "df2['token'] = df2['token'].apply(remove_punctuation)\n",
        "df2[[\"token\",\"tokenizing\"]].head(5)\n"
      ],
      "metadata": {
        "id": "pZuyu6CFPtVl"
      },
      "execution_count": null,
      "outputs": []
    },
    {
      "cell_type": "code",
      "source": [
        "def remover_acentos_e_caracteres_especiais(palavra):\n",
        "    # Unicode normalize transforma um caracter em seu equivalente em latin.\n",
        "    nfkd = unicodedata.normalize('NFKD', palavra)\n",
        "    palavra_sem_acento = u\"\".join([c for c in nfkd if not unicodedata.combining(c)])\n",
        "\n",
        "    # Usa expressão regular para retornar a palavra apenas com números, letras e espaço\n",
        "    return re.sub('[^a-zA-Z0-9 \\\\\\]', '', palavra_sem_acento)\n"
      ],
      "metadata": {
        "id": "FFFSMzw_wSHI"
      },
      "execution_count": null,
      "outputs": []
    },
    {
      "cell_type": "code",
      "source": [
        "pip install deep-translator"
      ],
      "metadata": {
        "id": "UPe_ulWsR6Zx",
        "colab": {
          "base_uri": "https://localhost:8080/"
        },
        "outputId": "c3d88794-36d6-4681-c2c6-69d2c72ee54f"
      },
      "execution_count": null,
      "outputs": [
        {
          "output_type": "stream",
          "name": "stdout",
          "text": [
            "Collecting deep-translator\n",
            "  Downloading deep_translator-1.11.4-py3-none-any.whl (42 kB)\n",
            "\u001b[?25l     \u001b[90m━━━━━━━━━━━━━━━━━━━━━━━━━━━━━━━━━━━━━━━━\u001b[0m \u001b[32m0.0/42.3 kB\u001b[0m \u001b[31m?\u001b[0m eta \u001b[36m-:--:--\u001b[0m\r\u001b[2K     \u001b[90m━━━━━━━━━━━━━━━━━━━━━━━━━━━━━━━━━━━━━━━━\u001b[0m \u001b[32m42.3/42.3 kB\u001b[0m \u001b[31m1.4 MB/s\u001b[0m eta \u001b[36m0:00:00\u001b[0m\n",
            "\u001b[?25hRequirement already satisfied: beautifulsoup4<5.0.0,>=4.9.1 in /usr/local/lib/python3.10/dist-packages (from deep-translator) (4.11.2)\n",
            "Requirement already satisfied: requests<3.0.0,>=2.23.0 in /usr/local/lib/python3.10/dist-packages (from deep-translator) (2.31.0)\n",
            "Requirement already satisfied: soupsieve>1.2 in /usr/local/lib/python3.10/dist-packages (from beautifulsoup4<5.0.0,>=4.9.1->deep-translator) (2.5)\n",
            "Requirement already satisfied: charset-normalizer<4,>=2 in /usr/local/lib/python3.10/dist-packages (from requests<3.0.0,>=2.23.0->deep-translator) (3.2.0)\n",
            "Requirement already satisfied: idna<4,>=2.5 in /usr/local/lib/python3.10/dist-packages (from requests<3.0.0,>=2.23.0->deep-translator) (3.4)\n",
            "Requirement already satisfied: urllib3<3,>=1.21.1 in /usr/local/lib/python3.10/dist-packages (from requests<3.0.0,>=2.23.0->deep-translator) (2.0.4)\n",
            "Requirement already satisfied: certifi>=2017.4.17 in /usr/local/lib/python3.10/dist-packages (from requests<3.0.0,>=2.23.0->deep-translator) (2023.7.22)\n",
            "Installing collected packages: deep-translator\n",
            "Successfully installed deep-translator-1.11.4\n"
          ]
        }
      ]
    },
    {
      "cell_type": "code",
      "source": [
        "from deep_translator import GoogleTranslator\n",
        "\n",
        "def traducoes(text):\n",
        "    deep_translator = GoogleTranslator()\n",
        "    translated = GoogleTranslator(source='pt', target='en').translate()\n",
        "    return text\n"
      ],
      "metadata": {
        "id": "1kibnBCmPyJM"
      },
      "execution_count": null,
      "outputs": []
    },
    {
      "cell_type": "code",
      "source": [
        "df2 = df2.astype(str)\n",
        "print(df2.dtypes)"
      ],
      "metadata": {
        "colab": {
          "base_uri": "https://localhost:8080/"
        },
        "id": "nvMIFZsEp8Qb",
        "outputId": "b6255384-4d1a-4654-a16e-0fc7a3175f9c"
      },
      "execution_count": null,
      "outputs": [
        {
          "output_type": "stream",
          "name": "stdout",
          "text": [
            "title         object\n",
            "media         object\n",
            "datetime      object\n",
            "title2        object\n",
            "tokenizing    object\n",
            "token         object\n",
            "traduzido     object\n",
            "translated    object\n",
            "dtype: object\n"
          ]
        }
      ]
    },
    {
      "cell_type": "code",
      "source": [
        "df2"
      ],
      "metadata": {
        "colab": {
          "base_uri": "https://localhost:8080/",
          "height": 175
        },
        "id": "OKWJiU0JpB6v",
        "outputId": "4fe8e29b-bbef-49e2-eefb-1effac616a2d"
      },
      "execution_count": null,
      "outputs": [
        {
          "output_type": "error",
          "ename": "NameError",
          "evalue": "ignored",
          "traceback": [
            "\u001b[0;31m---------------------------------------------------------------------------\u001b[0m",
            "\u001b[0;31mNameError\u001b[0m                                 Traceback (most recent call last)",
            "\u001b[0;32m<ipython-input-124-2068723f1203>\u001b[0m in \u001b[0;36m<cell line: 1>\u001b[0;34m()\u001b[0m\n\u001b[0;32m----> 1\u001b[0;31m \u001b[0mdf2\u001b[0m\u001b[0;34m\u001b[0m\u001b[0;34m\u001b[0m\u001b[0m\n\u001b[0m",
            "\u001b[0;31mNameError\u001b[0m: name 'df2' is not defined"
          ]
        }
      ]
    },
    {
      "cell_type": "code",
      "source": [
        "print(df2.dtypes)"
      ],
      "metadata": {
        "colab": {
          "base_uri": "https://localhost:8080/"
        },
        "id": "BbYS0KkkpOJe",
        "outputId": "6b7fd7b4-1f75-454e-fd2e-03277572a93c"
      },
      "execution_count": null,
      "outputs": [
        {
          "output_type": "stream",
          "name": "stdout",
          "text": [
            "title         object\n",
            "media         object\n",
            "datetime      object\n",
            "title2        object\n",
            "tokenizing    object\n",
            "token         object\n",
            "traduzido     object\n",
            "translated    object\n",
            "dtype: object\n"
          ]
        }
      ]
    },
    {
      "cell_type": "code",
      "source": [
        "df2['traduzido'] = df2['token'].iloc[:10].apply(traducoes)\n",
        "df2[['traduzido', 'token']].head(5)"
      ],
      "metadata": {
        "colab": {
          "base_uri": "https://localhost:8080/",
          "height": 321
        },
        "id": "nYzHme_Foz0U",
        "outputId": "8ed1dcbc-d728-4217-9738-019c606e6fb3"
      },
      "execution_count": null,
      "outputs": [
        {
          "output_type": "error",
          "ename": "TypeError",
          "evalue": "ignored",
          "traceback": [
            "\u001b[0;31m---------------------------------------------------------------------------\u001b[0m",
            "\u001b[0;31mTypeError\u001b[0m                                 Traceback (most recent call last)",
            "\u001b[0;32m<ipython-input-363-735fed3454c9>\u001b[0m in \u001b[0;36m<cell line: 1>\u001b[0;34m()\u001b[0m\n\u001b[0;32m----> 1\u001b[0;31m \u001b[0mdf2\u001b[0m\u001b[0;34m[\u001b[0m\u001b[0;34m'traduzido'\u001b[0m\u001b[0;34m]\u001b[0m \u001b[0;34m=\u001b[0m \u001b[0mdf2\u001b[0m\u001b[0;34m[\u001b[0m\u001b[0;34m'token'\u001b[0m\u001b[0;34m]\u001b[0m\u001b[0;34m.\u001b[0m\u001b[0miloc\u001b[0m\u001b[0;34m[\u001b[0m\u001b[0;34m:\u001b[0m\u001b[0;36m10\u001b[0m\u001b[0;34m]\u001b[0m\u001b[0;34m.\u001b[0m\u001b[0mapply\u001b[0m\u001b[0;34m(\u001b[0m\u001b[0mtraducoes\u001b[0m\u001b[0;34m)\u001b[0m\u001b[0;34m\u001b[0m\u001b[0;34m\u001b[0m\u001b[0m\n\u001b[0m\u001b[1;32m      2\u001b[0m \u001b[0mdf2\u001b[0m\u001b[0;34m[\u001b[0m\u001b[0;34m[\u001b[0m\u001b[0;34m'traduzido'\u001b[0m\u001b[0;34m,\u001b[0m \u001b[0;34m'token'\u001b[0m\u001b[0;34m]\u001b[0m\u001b[0;34m]\u001b[0m\u001b[0;34m.\u001b[0m\u001b[0mhead\u001b[0m\u001b[0;34m(\u001b[0m\u001b[0;36m5\u001b[0m\u001b[0;34m)\u001b[0m\u001b[0;34m\u001b[0m\u001b[0;34m\u001b[0m\u001b[0m\n",
            "\u001b[0;32m/usr/local/lib/python3.10/dist-packages/pandas/core/series.py\u001b[0m in \u001b[0;36mapply\u001b[0;34m(self, func, convert_dtype, args, **kwargs)\u001b[0m\n\u001b[1;32m   4769\u001b[0m         \u001b[0mdtype\u001b[0m\u001b[0;34m:\u001b[0m \u001b[0mfloat64\u001b[0m\u001b[0;34m\u001b[0m\u001b[0;34m\u001b[0m\u001b[0m\n\u001b[1;32m   4770\u001b[0m         \"\"\"\n\u001b[0;32m-> 4771\u001b[0;31m         \u001b[0;32mreturn\u001b[0m \u001b[0mSeriesApply\u001b[0m\u001b[0;34m(\u001b[0m\u001b[0mself\u001b[0m\u001b[0;34m,\u001b[0m \u001b[0mfunc\u001b[0m\u001b[0;34m,\u001b[0m \u001b[0mconvert_dtype\u001b[0m\u001b[0;34m,\u001b[0m \u001b[0margs\u001b[0m\u001b[0;34m,\u001b[0m \u001b[0mkwargs\u001b[0m\u001b[0;34m)\u001b[0m\u001b[0;34m.\u001b[0m\u001b[0mapply\u001b[0m\u001b[0;34m(\u001b[0m\u001b[0;34m)\u001b[0m\u001b[0;34m\u001b[0m\u001b[0;34m\u001b[0m\u001b[0m\n\u001b[0m\u001b[1;32m   4772\u001b[0m \u001b[0;34m\u001b[0m\u001b[0m\n\u001b[1;32m   4773\u001b[0m     def _reduce(\n",
            "\u001b[0;32m/usr/local/lib/python3.10/dist-packages/pandas/core/apply.py\u001b[0m in \u001b[0;36mapply\u001b[0;34m(self)\u001b[0m\n\u001b[1;32m   1121\u001b[0m \u001b[0;34m\u001b[0m\u001b[0m\n\u001b[1;32m   1122\u001b[0m         \u001b[0;31m# self.f is Callable\u001b[0m\u001b[0;34m\u001b[0m\u001b[0;34m\u001b[0m\u001b[0m\n\u001b[0;32m-> 1123\u001b[0;31m         \u001b[0;32mreturn\u001b[0m \u001b[0mself\u001b[0m\u001b[0;34m.\u001b[0m\u001b[0mapply_standard\u001b[0m\u001b[0;34m(\u001b[0m\u001b[0;34m)\u001b[0m\u001b[0;34m\u001b[0m\u001b[0;34m\u001b[0m\u001b[0m\n\u001b[0m\u001b[1;32m   1124\u001b[0m \u001b[0;34m\u001b[0m\u001b[0m\n\u001b[1;32m   1125\u001b[0m     \u001b[0;32mdef\u001b[0m \u001b[0magg\u001b[0m\u001b[0;34m(\u001b[0m\u001b[0mself\u001b[0m\u001b[0;34m)\u001b[0m\u001b[0;34m:\u001b[0m\u001b[0;34m\u001b[0m\u001b[0;34m\u001b[0m\u001b[0m\n",
            "\u001b[0;32m/usr/local/lib/python3.10/dist-packages/pandas/core/apply.py\u001b[0m in \u001b[0;36mapply_standard\u001b[0;34m(self)\u001b[0m\n\u001b[1;32m   1172\u001b[0m             \u001b[0;32melse\u001b[0m\u001b[0;34m:\u001b[0m\u001b[0;34m\u001b[0m\u001b[0;34m\u001b[0m\u001b[0m\n\u001b[1;32m   1173\u001b[0m                 \u001b[0mvalues\u001b[0m \u001b[0;34m=\u001b[0m \u001b[0mobj\u001b[0m\u001b[0;34m.\u001b[0m\u001b[0mastype\u001b[0m\u001b[0;34m(\u001b[0m\u001b[0mobject\u001b[0m\u001b[0;34m)\u001b[0m\u001b[0;34m.\u001b[0m\u001b[0m_values\u001b[0m\u001b[0;34m\u001b[0m\u001b[0;34m\u001b[0m\u001b[0m\n\u001b[0;32m-> 1174\u001b[0;31m                 mapped = lib.map_infer(\n\u001b[0m\u001b[1;32m   1175\u001b[0m                     \u001b[0mvalues\u001b[0m\u001b[0;34m,\u001b[0m\u001b[0;34m\u001b[0m\u001b[0;34m\u001b[0m\u001b[0m\n\u001b[1;32m   1176\u001b[0m                     \u001b[0mf\u001b[0m\u001b[0;34m,\u001b[0m\u001b[0;34m\u001b[0m\u001b[0;34m\u001b[0m\u001b[0m\n",
            "\u001b[0;32m/usr/local/lib/python3.10/dist-packages/pandas/_libs/lib.pyx\u001b[0m in \u001b[0;36mpandas._libs.lib.map_infer\u001b[0;34m()\u001b[0m\n",
            "\u001b[0;32m<ipython-input-361-72a547704104>\u001b[0m in \u001b[0;36mtraducoes\u001b[0;34m(text)\u001b[0m\n\u001b[1;32m      3\u001b[0m \u001b[0;32mdef\u001b[0m \u001b[0mtraducoes\u001b[0m\u001b[0;34m(\u001b[0m\u001b[0mtext\u001b[0m\u001b[0;34m)\u001b[0m\u001b[0;34m:\u001b[0m\u001b[0;34m\u001b[0m\u001b[0;34m\u001b[0m\u001b[0m\n\u001b[1;32m      4\u001b[0m     \u001b[0mdeep_translator\u001b[0m \u001b[0;34m=\u001b[0m \u001b[0mGoogleTranslator\u001b[0m\u001b[0;34m(\u001b[0m\u001b[0;34m)\u001b[0m\u001b[0;34m\u001b[0m\u001b[0;34m\u001b[0m\u001b[0m\n\u001b[0;32m----> 5\u001b[0;31m     \u001b[0mtranslated\u001b[0m \u001b[0;34m=\u001b[0m \u001b[0mGoogleTranslator\u001b[0m\u001b[0;34m(\u001b[0m\u001b[0msource\u001b[0m\u001b[0;34m=\u001b[0m\u001b[0;34m'pt'\u001b[0m\u001b[0;34m,\u001b[0m \u001b[0mtarget\u001b[0m\u001b[0;34m=\u001b[0m\u001b[0;34m'en'\u001b[0m\u001b[0;34m)\u001b[0m\u001b[0;34m.\u001b[0m\u001b[0mtranslate\u001b[0m\u001b[0;34m(\u001b[0m\u001b[0;34m)\u001b[0m\u001b[0;34m\u001b[0m\u001b[0;34m\u001b[0m\u001b[0m\n\u001b[0m\u001b[1;32m      6\u001b[0m     \u001b[0;32mreturn\u001b[0m \u001b[0mtext\u001b[0m\u001b[0;34m\u001b[0m\u001b[0;34m\u001b[0m\u001b[0m\n",
            "\u001b[0;31mTypeError\u001b[0m: GoogleTranslator.translate() missing 1 required positional argument: 'text'"
          ]
        }
      ]
    },
    {
      "cell_type": "code",
      "source": [
        "from googletrans import Translator\n",
        "\n",
        "def traduzir(text):\n",
        "    translator = Translator()\n",
        "    traducao = translator.translate(text, src='pt', dest='en')\n",
        "    return traducao.text"
      ],
      "metadata": {
        "id": "wm0W1Xl7Py-N"
      },
      "execution_count": null,
      "outputs": []
    },
    {
      "cell_type": "code",
      "source": [
        "\n",
        "#Translate GOOGLE\n",
        "from translate import Translator\n",
        "\n",
        "def traduzir(text):\n",
        "    translator = Translator(to_lang='en')\n",
        "    traducao = translator.translate(text)\n",
        "    return traducao\n",
        "\n",
        "df2['traduzido'] = df2['token'].apply(traduzir).str.lower()\n",
        "df2[['traduzido','token']].head(5)"
      ],
      "metadata": {
        "colab": {
          "base_uri": "https://localhost:8080/",
          "height": 206
        },
        "id": "mQBLcC_-T3Db",
        "outputId": "60ad0d16-8e36-496a-e359-9b642863b519"
      },
      "execution_count": null,
      "outputs": [
        {
          "output_type": "execute_result",
          "data": {
            "text/plain": [
              "                                           traduzido  \\\n",
              "0  sao paulo quebrar tabus incomodos flamengo cop...   \n",
              "1  brasil atropela peru engata  vitoria pre olimp...   \n",
              "2                mostra reune obras museu origens sp   \n",
              "3  copa brasil assistir flamengo x sao paulo vivo...   \n",
              "4  flamengo sao paulo iniciam briga titulo copa b...   \n",
              "\n",
              "                                               token  \n",
              "0  sao paulo quebrar tabus incomodos flamengo cop...  \n",
              "1  brasil atropela peru engata  vitoria pre olimp...  \n",
              "2                mostra reune obras museu origens sp  \n",
              "3  copa brasil assistir flamengo x sao paulo vivo...  \n",
              "4  flamengo sao paulo iniciam briga titulo copa b...  "
            ],
            "text/html": [
              "\n",
              "  <div id=\"df-c00578b4-ac33-4eed-bb0f-5532873ca03e\" class=\"colab-df-container\">\n",
              "    <div>\n",
              "<style scoped>\n",
              "    .dataframe tbody tr th:only-of-type {\n",
              "        vertical-align: middle;\n",
              "    }\n",
              "\n",
              "    .dataframe tbody tr th {\n",
              "        vertical-align: top;\n",
              "    }\n",
              "\n",
              "    .dataframe thead th {\n",
              "        text-align: right;\n",
              "    }\n",
              "</style>\n",
              "<table border=\"1\" class=\"dataframe\">\n",
              "  <thead>\n",
              "    <tr style=\"text-align: right;\">\n",
              "      <th></th>\n",
              "      <th>traduzido</th>\n",
              "      <th>token</th>\n",
              "    </tr>\n",
              "  </thead>\n",
              "  <tbody>\n",
              "    <tr>\n",
              "      <th>0</th>\n",
              "      <td>sao paulo quebrar tabus incomodos flamengo cop...</td>\n",
              "      <td>sao paulo quebrar tabus incomodos flamengo cop...</td>\n",
              "    </tr>\n",
              "    <tr>\n",
              "      <th>1</th>\n",
              "      <td>brasil atropela peru engata  vitoria pre olimp...</td>\n",
              "      <td>brasil atropela peru engata  vitoria pre olimp...</td>\n",
              "    </tr>\n",
              "    <tr>\n",
              "      <th>2</th>\n",
              "      <td>mostra reune obras museu origens sp</td>\n",
              "      <td>mostra reune obras museu origens sp</td>\n",
              "    </tr>\n",
              "    <tr>\n",
              "      <th>3</th>\n",
              "      <td>copa brasil assistir flamengo x sao paulo vivo...</td>\n",
              "      <td>copa brasil assistir flamengo x sao paulo vivo...</td>\n",
              "    </tr>\n",
              "    <tr>\n",
              "      <th>4</th>\n",
              "      <td>flamengo sao paulo iniciam briga titulo copa b...</td>\n",
              "      <td>flamengo sao paulo iniciam briga titulo copa b...</td>\n",
              "    </tr>\n",
              "  </tbody>\n",
              "</table>\n",
              "</div>\n",
              "    <div class=\"colab-df-buttons\">\n",
              "\n",
              "  <div class=\"colab-df-container\">\n",
              "    <button class=\"colab-df-convert\" onclick=\"convertToInteractive('df-c00578b4-ac33-4eed-bb0f-5532873ca03e')\"\n",
              "            title=\"Convert this dataframe to an interactive table.\"\n",
              "            style=\"display:none;\">\n",
              "\n",
              "  <svg xmlns=\"http://www.w3.org/2000/svg\" height=\"24px\" viewBox=\"0 -960 960 960\">\n",
              "    <path d=\"M120-120v-720h720v720H120Zm60-500h600v-160H180v160Zm220 220h160v-160H400v160Zm0 220h160v-160H400v160ZM180-400h160v-160H180v160Zm440 0h160v-160H620v160ZM180-180h160v-160H180v160Zm440 0h160v-160H620v160Z\"/>\n",
              "  </svg>\n",
              "    </button>\n",
              "\n",
              "  <style>\n",
              "    .colab-df-container {\n",
              "      display:flex;\n",
              "      gap: 12px;\n",
              "    }\n",
              "\n",
              "    .colab-df-convert {\n",
              "      background-color: #E8F0FE;\n",
              "      border: none;\n",
              "      border-radius: 50%;\n",
              "      cursor: pointer;\n",
              "      display: none;\n",
              "      fill: #1967D2;\n",
              "      height: 32px;\n",
              "      padding: 0 0 0 0;\n",
              "      width: 32px;\n",
              "    }\n",
              "\n",
              "    .colab-df-convert:hover {\n",
              "      background-color: #E2EBFA;\n",
              "      box-shadow: 0px 1px 2px rgba(60, 64, 67, 0.3), 0px 1px 3px 1px rgba(60, 64, 67, 0.15);\n",
              "      fill: #174EA6;\n",
              "    }\n",
              "\n",
              "    .colab-df-buttons div {\n",
              "      margin-bottom: 4px;\n",
              "    }\n",
              "\n",
              "    [theme=dark] .colab-df-convert {\n",
              "      background-color: #3B4455;\n",
              "      fill: #D2E3FC;\n",
              "    }\n",
              "\n",
              "    [theme=dark] .colab-df-convert:hover {\n",
              "      background-color: #434B5C;\n",
              "      box-shadow: 0px 1px 3px 1px rgba(0, 0, 0, 0.15);\n",
              "      filter: drop-shadow(0px 1px 2px rgba(0, 0, 0, 0.3));\n",
              "      fill: #FFFFFF;\n",
              "    }\n",
              "  </style>\n",
              "\n",
              "    <script>\n",
              "      const buttonEl =\n",
              "        document.querySelector('#df-c00578b4-ac33-4eed-bb0f-5532873ca03e button.colab-df-convert');\n",
              "      buttonEl.style.display =\n",
              "        google.colab.kernel.accessAllowed ? 'block' : 'none';\n",
              "\n",
              "      async function convertToInteractive(key) {\n",
              "        const element = document.querySelector('#df-c00578b4-ac33-4eed-bb0f-5532873ca03e');\n",
              "        const dataTable =\n",
              "          await google.colab.kernel.invokeFunction('convertToInteractive',\n",
              "                                                    [key], {});\n",
              "        if (!dataTable) return;\n",
              "\n",
              "        const docLinkHtml = 'Like what you see? Visit the ' +\n",
              "          '<a target=\"_blank\" href=https://colab.research.google.com/notebooks/data_table.ipynb>data table notebook</a>'\n",
              "          + ' to learn more about interactive tables.';\n",
              "        element.innerHTML = '';\n",
              "        dataTable['output_type'] = 'display_data';\n",
              "        await google.colab.output.renderOutput(dataTable, element);\n",
              "        const docLink = document.createElement('div');\n",
              "        docLink.innerHTML = docLinkHtml;\n",
              "        element.appendChild(docLink);\n",
              "      }\n",
              "    </script>\n",
              "  </div>\n",
              "\n",
              "\n",
              "<div id=\"df-2a68c871-f246-4c9c-85e5-92a32f2fbad5\">\n",
              "  <button class=\"colab-df-quickchart\" onclick=\"quickchart('df-2a68c871-f246-4c9c-85e5-92a32f2fbad5')\"\n",
              "            title=\"Suggest charts.\"\n",
              "            style=\"display:none;\">\n",
              "\n",
              "<svg xmlns=\"http://www.w3.org/2000/svg\" height=\"24px\"viewBox=\"0 0 24 24\"\n",
              "     width=\"24px\">\n",
              "    <g>\n",
              "        <path d=\"M19 3H5c-1.1 0-2 .9-2 2v14c0 1.1.9 2 2 2h14c1.1 0 2-.9 2-2V5c0-1.1-.9-2-2-2zM9 17H7v-7h2v7zm4 0h-2V7h2v10zm4 0h-2v-4h2v4z\"/>\n",
              "    </g>\n",
              "</svg>\n",
              "  </button>\n",
              "\n",
              "<style>\n",
              "  .colab-df-quickchart {\n",
              "      --bg-color: #E8F0FE;\n",
              "      --fill-color: #1967D2;\n",
              "      --hover-bg-color: #E2EBFA;\n",
              "      --hover-fill-color: #174EA6;\n",
              "      --disabled-fill-color: #AAA;\n",
              "      --disabled-bg-color: #DDD;\n",
              "  }\n",
              "\n",
              "  [theme=dark] .colab-df-quickchart {\n",
              "      --bg-color: #3B4455;\n",
              "      --fill-color: #D2E3FC;\n",
              "      --hover-bg-color: #434B5C;\n",
              "      --hover-fill-color: #FFFFFF;\n",
              "      --disabled-bg-color: #3B4455;\n",
              "      --disabled-fill-color: #666;\n",
              "  }\n",
              "\n",
              "  .colab-df-quickchart {\n",
              "    background-color: var(--bg-color);\n",
              "    border: none;\n",
              "    border-radius: 50%;\n",
              "    cursor: pointer;\n",
              "    display: none;\n",
              "    fill: var(--fill-color);\n",
              "    height: 32px;\n",
              "    padding: 0;\n",
              "    width: 32px;\n",
              "  }\n",
              "\n",
              "  .colab-df-quickchart:hover {\n",
              "    background-color: var(--hover-bg-color);\n",
              "    box-shadow: 0 1px 2px rgba(60, 64, 67, 0.3), 0 1px 3px 1px rgba(60, 64, 67, 0.15);\n",
              "    fill: var(--button-hover-fill-color);\n",
              "  }\n",
              "\n",
              "  .colab-df-quickchart-complete:disabled,\n",
              "  .colab-df-quickchart-complete:disabled:hover {\n",
              "    background-color: var(--disabled-bg-color);\n",
              "    fill: var(--disabled-fill-color);\n",
              "    box-shadow: none;\n",
              "  }\n",
              "\n",
              "  .colab-df-spinner {\n",
              "    border: 2px solid var(--fill-color);\n",
              "    border-color: transparent;\n",
              "    border-bottom-color: var(--fill-color);\n",
              "    animation:\n",
              "      spin 1s steps(1) infinite;\n",
              "  }\n",
              "\n",
              "  @keyframes spin {\n",
              "    0% {\n",
              "      border-color: transparent;\n",
              "      border-bottom-color: var(--fill-color);\n",
              "      border-left-color: var(--fill-color);\n",
              "    }\n",
              "    20% {\n",
              "      border-color: transparent;\n",
              "      border-left-color: var(--fill-color);\n",
              "      border-top-color: var(--fill-color);\n",
              "    }\n",
              "    30% {\n",
              "      border-color: transparent;\n",
              "      border-left-color: var(--fill-color);\n",
              "      border-top-color: var(--fill-color);\n",
              "      border-right-color: var(--fill-color);\n",
              "    }\n",
              "    40% {\n",
              "      border-color: transparent;\n",
              "      border-right-color: var(--fill-color);\n",
              "      border-top-color: var(--fill-color);\n",
              "    }\n",
              "    60% {\n",
              "      border-color: transparent;\n",
              "      border-right-color: var(--fill-color);\n",
              "    }\n",
              "    80% {\n",
              "      border-color: transparent;\n",
              "      border-right-color: var(--fill-color);\n",
              "      border-bottom-color: var(--fill-color);\n",
              "    }\n",
              "    90% {\n",
              "      border-color: transparent;\n",
              "      border-bottom-color: var(--fill-color);\n",
              "    }\n",
              "  }\n",
              "</style>\n",
              "\n",
              "  <script>\n",
              "    async function quickchart(key) {\n",
              "      const quickchartButtonEl =\n",
              "        document.querySelector('#' + key + ' button');\n",
              "      quickchartButtonEl.disabled = true;  // To prevent multiple clicks.\n",
              "      quickchartButtonEl.classList.add('colab-df-spinner');\n",
              "      try {\n",
              "        const charts = await google.colab.kernel.invokeFunction(\n",
              "            'suggestCharts', [key], {});\n",
              "      } catch (error) {\n",
              "        console.error('Error during call to suggestCharts:', error);\n",
              "      }\n",
              "      quickchartButtonEl.classList.remove('colab-df-spinner');\n",
              "      quickchartButtonEl.classList.add('colab-df-quickchart-complete');\n",
              "    }\n",
              "    (() => {\n",
              "      let quickchartButtonEl =\n",
              "        document.querySelector('#df-2a68c871-f246-4c9c-85e5-92a32f2fbad5 button');\n",
              "      quickchartButtonEl.style.display =\n",
              "        google.colab.kernel.accessAllowed ? 'block' : 'none';\n",
              "    })();\n",
              "  </script>\n",
              "</div>\n",
              "    </div>\n",
              "  </div>\n"
            ]
          },
          "metadata": {},
          "execution_count": 318
        }
      ]
    },
    {
      "cell_type": "code",
      "source": [
        "outross"
      ],
      "metadata": {
        "id": "vplDXpOemMHy"
      },
      "execution_count": null,
      "outputs": []
    },
    {
      "cell_type": "markdown",
      "source": [
        "# outross"
      ],
      "metadata": {
        "id": "bzgjvEUKmPH0"
      }
    },
    {
      "cell_type": "code",
      "source": [
        "outros"
      ],
      "metadata": {
        "id": "clkwzf-omN5_"
      },
      "execution_count": null,
      "outputs": []
    },
    {
      "cell_type": "code",
      "source": [
        "from googletrans import Translator\n",
        "translator = Translator()\n",
        "#Translate GOOGLE\n",
        "df2['transalted']  = df2['token'].apply(translator.translate,dest='en').apply(getattr, args=('text',)).str.lower()\n",
        "df2[['transalted','token']].head(5)"
      ],
      "metadata": {
        "id": "rg4L3q_jUIp9"
      },
      "execution_count": null,
      "outputs": []
    },
    {
      "cell_type": "code",
      "source": [
        "from translate import Translator\n",
        "\n",
        "def traduzir(row):\n",
        "    translator = Translator(from_lang='pt-br', to_lang='en')\n",
        "    translation = translator.translate(row)\n",
        "    return translation.lower()\n"
      ],
      "metadata": {
        "id": "0s6yNxtYXl-l"
      },
      "execution_count": null,
      "outputs": []
    },
    {
      "cell_type": "code",
      "source": [
        "t = traduzir('olá')\n",
        "print(t)"
      ],
      "metadata": {
        "colab": {
          "base_uri": "https://localhost:8080/",
          "height": 192
        },
        "id": "2fz3st2-ZF-f",
        "outputId": "5c3aef3f-d811-4b31-ce46-68417effcec7"
      },
      "execution_count": 43,
      "outputs": [
        {
          "output_type": "error",
          "ename": "NameError",
          "evalue": "ignored",
          "traceback": [
            "\u001b[0;31m---------------------------------------------------------------------------\u001b[0m",
            "\u001b[0;31mNameError\u001b[0m                                 Traceback (most recent call last)",
            "\u001b[0;32m<ipython-input-43-e52269536007>\u001b[0m in \u001b[0;36m<cell line: 1>\u001b[0;34m()\u001b[0m\n\u001b[0;32m----> 1\u001b[0;31m \u001b[0mt\u001b[0m \u001b[0;34m=\u001b[0m \u001b[0mtraduzir\u001b[0m\u001b[0;34m(\u001b[0m\u001b[0;34m'olá'\u001b[0m\u001b[0;34m)\u001b[0m\u001b[0;34m\u001b[0m\u001b[0;34m\u001b[0m\u001b[0m\n\u001b[0m\u001b[1;32m      2\u001b[0m \u001b[0mprint\u001b[0m\u001b[0;34m(\u001b[0m\u001b[0mt\u001b[0m\u001b[0;34m)\u001b[0m\u001b[0;34m\u001b[0m\u001b[0;34m\u001b[0m\u001b[0m\n",
            "\u001b[0;31mNameError\u001b[0m: name 'traduzir' is not defined"
          ]
        }
      ]
    },
    {
      "cell_type": "code",
      "source": [
        "df2[['translated', 'tokenizing']].head(5)"
      ],
      "metadata": {
        "colab": {
          "base_uri": "https://localhost:8080/",
          "height": 206
        },
        "id": "jNdnWPLTkqPw",
        "outputId": "e47974bf-f64b-4cbd-c3ce-7acdb329e871"
      },
      "execution_count": null,
      "outputs": [
        {
          "output_type": "execute_result",
          "data": {
            "text/plain": [
              "                                          translated  \\\n",
              "0  sao paulo quebrar tabus incomodos flamengo cop...   \n",
              "1  brasil atropela peru engata  vitoria pre olimp...   \n",
              "2                mostra reune obras museu origens sp   \n",
              "3  copa brasil assistir flamengo x sao paulo vivo...   \n",
              "4  flamengo sao paulo iniciam briga titulo copa b...   \n",
              "\n",
              "                                          tokenizing  \n",
              "0  [sao, paulo, pode, quebrar, tabus, incomodos, ...  \n",
              "1  [brasil, atropela, peru, e, engata, 2, ?, vito...  \n",
              "2  [mostra, reune, mais, de, mil, obras, para, o,...  \n",
              "3  [final, da, copa, do, brasil, onde, assistir, ...  \n",
              "4  [flamengo, e, sao, paulo, iniciam, hoje, a, br...  "
            ],
            "text/html": [
              "\n",
              "  <div id=\"df-bc7bec70-50fc-4651-81ba-37f419876764\" class=\"colab-df-container\">\n",
              "    <div>\n",
              "<style scoped>\n",
              "    .dataframe tbody tr th:only-of-type {\n",
              "        vertical-align: middle;\n",
              "    }\n",
              "\n",
              "    .dataframe tbody tr th {\n",
              "        vertical-align: top;\n",
              "    }\n",
              "\n",
              "    .dataframe thead th {\n",
              "        text-align: right;\n",
              "    }\n",
              "</style>\n",
              "<table border=\"1\" class=\"dataframe\">\n",
              "  <thead>\n",
              "    <tr style=\"text-align: right;\">\n",
              "      <th></th>\n",
              "      <th>translated</th>\n",
              "      <th>tokenizing</th>\n",
              "    </tr>\n",
              "  </thead>\n",
              "  <tbody>\n",
              "    <tr>\n",
              "      <th>0</th>\n",
              "      <td>sao paulo quebrar tabus incomodos flamengo cop...</td>\n",
              "      <td>[sao, paulo, pode, quebrar, tabus, incomodos, ...</td>\n",
              "    </tr>\n",
              "    <tr>\n",
              "      <th>1</th>\n",
              "      <td>brasil atropela peru engata  vitoria pre olimp...</td>\n",
              "      <td>[brasil, atropela, peru, e, engata, 2, ?, vito...</td>\n",
              "    </tr>\n",
              "    <tr>\n",
              "      <th>2</th>\n",
              "      <td>mostra reune obras museu origens sp</td>\n",
              "      <td>[mostra, reune, mais, de, mil, obras, para, o,...</td>\n",
              "    </tr>\n",
              "    <tr>\n",
              "      <th>3</th>\n",
              "      <td>copa brasil assistir flamengo x sao paulo vivo...</td>\n",
              "      <td>[final, da, copa, do, brasil, onde, assistir, ...</td>\n",
              "    </tr>\n",
              "    <tr>\n",
              "      <th>4</th>\n",
              "      <td>flamengo sao paulo iniciam briga titulo copa b...</td>\n",
              "      <td>[flamengo, e, sao, paulo, iniciam, hoje, a, br...</td>\n",
              "    </tr>\n",
              "  </tbody>\n",
              "</table>\n",
              "</div>\n",
              "    <div class=\"colab-df-buttons\">\n",
              "\n",
              "  <div class=\"colab-df-container\">\n",
              "    <button class=\"colab-df-convert\" onclick=\"convertToInteractive('df-bc7bec70-50fc-4651-81ba-37f419876764')\"\n",
              "            title=\"Convert this dataframe to an interactive table.\"\n",
              "            style=\"display:none;\">\n",
              "\n",
              "  <svg xmlns=\"http://www.w3.org/2000/svg\" height=\"24px\" viewBox=\"0 -960 960 960\">\n",
              "    <path d=\"M120-120v-720h720v720H120Zm60-500h600v-160H180v160Zm220 220h160v-160H400v160Zm0 220h160v-160H400v160ZM180-400h160v-160H180v160Zm440 0h160v-160H620v160ZM180-180h160v-160H180v160Zm440 0h160v-160H620v160Z\"/>\n",
              "  </svg>\n",
              "    </button>\n",
              "\n",
              "  <style>\n",
              "    .colab-df-container {\n",
              "      display:flex;\n",
              "      gap: 12px;\n",
              "    }\n",
              "\n",
              "    .colab-df-convert {\n",
              "      background-color: #E8F0FE;\n",
              "      border: none;\n",
              "      border-radius: 50%;\n",
              "      cursor: pointer;\n",
              "      display: none;\n",
              "      fill: #1967D2;\n",
              "      height: 32px;\n",
              "      padding: 0 0 0 0;\n",
              "      width: 32px;\n",
              "    }\n",
              "\n",
              "    .colab-df-convert:hover {\n",
              "      background-color: #E2EBFA;\n",
              "      box-shadow: 0px 1px 2px rgba(60, 64, 67, 0.3), 0px 1px 3px 1px rgba(60, 64, 67, 0.15);\n",
              "      fill: #174EA6;\n",
              "    }\n",
              "\n",
              "    .colab-df-buttons div {\n",
              "      margin-bottom: 4px;\n",
              "    }\n",
              "\n",
              "    [theme=dark] .colab-df-convert {\n",
              "      background-color: #3B4455;\n",
              "      fill: #D2E3FC;\n",
              "    }\n",
              "\n",
              "    [theme=dark] .colab-df-convert:hover {\n",
              "      background-color: #434B5C;\n",
              "      box-shadow: 0px 1px 3px 1px rgba(0, 0, 0, 0.15);\n",
              "      filter: drop-shadow(0px 1px 2px rgba(0, 0, 0, 0.3));\n",
              "      fill: #FFFFFF;\n",
              "    }\n",
              "  </style>\n",
              "\n",
              "    <script>\n",
              "      const buttonEl =\n",
              "        document.querySelector('#df-bc7bec70-50fc-4651-81ba-37f419876764 button.colab-df-convert');\n",
              "      buttonEl.style.display =\n",
              "        google.colab.kernel.accessAllowed ? 'block' : 'none';\n",
              "\n",
              "      async function convertToInteractive(key) {\n",
              "        const element = document.querySelector('#df-bc7bec70-50fc-4651-81ba-37f419876764');\n",
              "        const dataTable =\n",
              "          await google.colab.kernel.invokeFunction('convertToInteractive',\n",
              "                                                    [key], {});\n",
              "        if (!dataTable) return;\n",
              "\n",
              "        const docLinkHtml = 'Like what you see? Visit the ' +\n",
              "          '<a target=\"_blank\" href=https://colab.research.google.com/notebooks/data_table.ipynb>data table notebook</a>'\n",
              "          + ' to learn more about interactive tables.';\n",
              "        element.innerHTML = '';\n",
              "        dataTable['output_type'] = 'display_data';\n",
              "        await google.colab.output.renderOutput(dataTable, element);\n",
              "        const docLink = document.createElement('div');\n",
              "        docLink.innerHTML = docLinkHtml;\n",
              "        element.appendChild(docLink);\n",
              "      }\n",
              "    </script>\n",
              "  </div>\n",
              "\n",
              "\n",
              "<div id=\"df-857bb2d5-11a4-4044-b251-564a57402d44\">\n",
              "  <button class=\"colab-df-quickchart\" onclick=\"quickchart('df-857bb2d5-11a4-4044-b251-564a57402d44')\"\n",
              "            title=\"Suggest charts.\"\n",
              "            style=\"display:none;\">\n",
              "\n",
              "<svg xmlns=\"http://www.w3.org/2000/svg\" height=\"24px\"viewBox=\"0 0 24 24\"\n",
              "     width=\"24px\">\n",
              "    <g>\n",
              "        <path d=\"M19 3H5c-1.1 0-2 .9-2 2v14c0 1.1.9 2 2 2h14c1.1 0 2-.9 2-2V5c0-1.1-.9-2-2-2zM9 17H7v-7h2v7zm4 0h-2V7h2v10zm4 0h-2v-4h2v4z\"/>\n",
              "    </g>\n",
              "</svg>\n",
              "  </button>\n",
              "\n",
              "<style>\n",
              "  .colab-df-quickchart {\n",
              "      --bg-color: #E8F0FE;\n",
              "      --fill-color: #1967D2;\n",
              "      --hover-bg-color: #E2EBFA;\n",
              "      --hover-fill-color: #174EA6;\n",
              "      --disabled-fill-color: #AAA;\n",
              "      --disabled-bg-color: #DDD;\n",
              "  }\n",
              "\n",
              "  [theme=dark] .colab-df-quickchart {\n",
              "      --bg-color: #3B4455;\n",
              "      --fill-color: #D2E3FC;\n",
              "      --hover-bg-color: #434B5C;\n",
              "      --hover-fill-color: #FFFFFF;\n",
              "      --disabled-bg-color: #3B4455;\n",
              "      --disabled-fill-color: #666;\n",
              "  }\n",
              "\n",
              "  .colab-df-quickchart {\n",
              "    background-color: var(--bg-color);\n",
              "    border: none;\n",
              "    border-radius: 50%;\n",
              "    cursor: pointer;\n",
              "    display: none;\n",
              "    fill: var(--fill-color);\n",
              "    height: 32px;\n",
              "    padding: 0;\n",
              "    width: 32px;\n",
              "  }\n",
              "\n",
              "  .colab-df-quickchart:hover {\n",
              "    background-color: var(--hover-bg-color);\n",
              "    box-shadow: 0 1px 2px rgba(60, 64, 67, 0.3), 0 1px 3px 1px rgba(60, 64, 67, 0.15);\n",
              "    fill: var(--button-hover-fill-color);\n",
              "  }\n",
              "\n",
              "  .colab-df-quickchart-complete:disabled,\n",
              "  .colab-df-quickchart-complete:disabled:hover {\n",
              "    background-color: var(--disabled-bg-color);\n",
              "    fill: var(--disabled-fill-color);\n",
              "    box-shadow: none;\n",
              "  }\n",
              "\n",
              "  .colab-df-spinner {\n",
              "    border: 2px solid var(--fill-color);\n",
              "    border-color: transparent;\n",
              "    border-bottom-color: var(--fill-color);\n",
              "    animation:\n",
              "      spin 1s steps(1) infinite;\n",
              "  }\n",
              "\n",
              "  @keyframes spin {\n",
              "    0% {\n",
              "      border-color: transparent;\n",
              "      border-bottom-color: var(--fill-color);\n",
              "      border-left-color: var(--fill-color);\n",
              "    }\n",
              "    20% {\n",
              "      border-color: transparent;\n",
              "      border-left-color: var(--fill-color);\n",
              "      border-top-color: var(--fill-color);\n",
              "    }\n",
              "    30% {\n",
              "      border-color: transparent;\n",
              "      border-left-color: var(--fill-color);\n",
              "      border-top-color: var(--fill-color);\n",
              "      border-right-color: var(--fill-color);\n",
              "    }\n",
              "    40% {\n",
              "      border-color: transparent;\n",
              "      border-right-color: var(--fill-color);\n",
              "      border-top-color: var(--fill-color);\n",
              "    }\n",
              "    60% {\n",
              "      border-color: transparent;\n",
              "      border-right-color: var(--fill-color);\n",
              "    }\n",
              "    80% {\n",
              "      border-color: transparent;\n",
              "      border-right-color: var(--fill-color);\n",
              "      border-bottom-color: var(--fill-color);\n",
              "    }\n",
              "    90% {\n",
              "      border-color: transparent;\n",
              "      border-bottom-color: var(--fill-color);\n",
              "    }\n",
              "  }\n",
              "</style>\n",
              "\n",
              "  <script>\n",
              "    async function quickchart(key) {\n",
              "      const quickchartButtonEl =\n",
              "        document.querySelector('#' + key + ' button');\n",
              "      quickchartButtonEl.disabled = true;  // To prevent multiple clicks.\n",
              "      quickchartButtonEl.classList.add('colab-df-spinner');\n",
              "      try {\n",
              "        const charts = await google.colab.kernel.invokeFunction(\n",
              "            'suggestCharts', [key], {});\n",
              "      } catch (error) {\n",
              "        console.error('Error during call to suggestCharts:', error);\n",
              "      }\n",
              "      quickchartButtonEl.classList.remove('colab-df-spinner');\n",
              "      quickchartButtonEl.classList.add('colab-df-quickchart-complete');\n",
              "    }\n",
              "    (() => {\n",
              "      let quickchartButtonEl =\n",
              "        document.querySelector('#df-857bb2d5-11a4-4044-b251-564a57402d44 button');\n",
              "      quickchartButtonEl.style.display =\n",
              "        google.colab.kernel.accessAllowed ? 'block' : 'none';\n",
              "    })();\n",
              "  </script>\n",
              "</div>\n",
              "    </div>\n",
              "  </div>\n"
            ]
          },
          "metadata": {},
          "execution_count": 325
        }
      ]
    },
    {
      "cell_type": "code",
      "source": [
        "#df2['translated'] = df2['token'].apply(traduzirs)\n",
        "\n",
        "df2['translated'] = df2['token'].iloc[:10].apply(traduzir)\n",
        "df2[['translated', 'token']].head(5)"
      ],
      "metadata": {
        "colab": {
          "base_uri": "https://localhost:8080/",
          "height": 206
        },
        "id": "O_TdRYjnYXmG",
        "outputId": "7078596d-c52b-4713-dddc-46a1a8eab81f"
      },
      "execution_count": null,
      "outputs": [
        {
          "output_type": "execute_result",
          "data": {
            "text/plain": [
              "                                          translated  \\\n",
              "0  sao paulo quebrar tabus incomodos flamengo cop...   \n",
              "1  brasil atropela peru engata  vitoria pre olimp...   \n",
              "2                mostra reune obras museu origens sp   \n",
              "3  copa brasil assistir flamengo x sao paulo vivo...   \n",
              "4  flamengo sao paulo iniciam briga titulo copa b...   \n",
              "\n",
              "                                               token  \n",
              "0  sao paulo quebrar tabus incomodos flamengo cop...  \n",
              "1  brasil atropela peru engata  vitoria pre olimp...  \n",
              "2                mostra reune obras museu origens sp  \n",
              "3  copa brasil assistir flamengo x sao paulo vivo...  \n",
              "4  flamengo sao paulo iniciam briga titulo copa b...  "
            ],
            "text/html": [
              "\n",
              "  <div id=\"df-1a08e3c1-765b-4c41-ba0e-b2362ee5aa0d\" class=\"colab-df-container\">\n",
              "    <div>\n",
              "<style scoped>\n",
              "    .dataframe tbody tr th:only-of-type {\n",
              "        vertical-align: middle;\n",
              "    }\n",
              "\n",
              "    .dataframe tbody tr th {\n",
              "        vertical-align: top;\n",
              "    }\n",
              "\n",
              "    .dataframe thead th {\n",
              "        text-align: right;\n",
              "    }\n",
              "</style>\n",
              "<table border=\"1\" class=\"dataframe\">\n",
              "  <thead>\n",
              "    <tr style=\"text-align: right;\">\n",
              "      <th></th>\n",
              "      <th>translated</th>\n",
              "      <th>token</th>\n",
              "    </tr>\n",
              "  </thead>\n",
              "  <tbody>\n",
              "    <tr>\n",
              "      <th>0</th>\n",
              "      <td>sao paulo quebrar tabus incomodos flamengo cop...</td>\n",
              "      <td>sao paulo quebrar tabus incomodos flamengo cop...</td>\n",
              "    </tr>\n",
              "    <tr>\n",
              "      <th>1</th>\n",
              "      <td>brasil atropela peru engata  vitoria pre olimp...</td>\n",
              "      <td>brasil atropela peru engata  vitoria pre olimp...</td>\n",
              "    </tr>\n",
              "    <tr>\n",
              "      <th>2</th>\n",
              "      <td>mostra reune obras museu origens sp</td>\n",
              "      <td>mostra reune obras museu origens sp</td>\n",
              "    </tr>\n",
              "    <tr>\n",
              "      <th>3</th>\n",
              "      <td>copa brasil assistir flamengo x sao paulo vivo...</td>\n",
              "      <td>copa brasil assistir flamengo x sao paulo vivo...</td>\n",
              "    </tr>\n",
              "    <tr>\n",
              "      <th>4</th>\n",
              "      <td>flamengo sao paulo iniciam briga titulo copa b...</td>\n",
              "      <td>flamengo sao paulo iniciam briga titulo copa b...</td>\n",
              "    </tr>\n",
              "  </tbody>\n",
              "</table>\n",
              "</div>\n",
              "    <div class=\"colab-df-buttons\">\n",
              "\n",
              "  <div class=\"colab-df-container\">\n",
              "    <button class=\"colab-df-convert\" onclick=\"convertToInteractive('df-1a08e3c1-765b-4c41-ba0e-b2362ee5aa0d')\"\n",
              "            title=\"Convert this dataframe to an interactive table.\"\n",
              "            style=\"display:none;\">\n",
              "\n",
              "  <svg xmlns=\"http://www.w3.org/2000/svg\" height=\"24px\" viewBox=\"0 -960 960 960\">\n",
              "    <path d=\"M120-120v-720h720v720H120Zm60-500h600v-160H180v160Zm220 220h160v-160H400v160Zm0 220h160v-160H400v160ZM180-400h160v-160H180v160Zm440 0h160v-160H620v160ZM180-180h160v-160H180v160Zm440 0h160v-160H620v160Z\"/>\n",
              "  </svg>\n",
              "    </button>\n",
              "\n",
              "  <style>\n",
              "    .colab-df-container {\n",
              "      display:flex;\n",
              "      gap: 12px;\n",
              "    }\n",
              "\n",
              "    .colab-df-convert {\n",
              "      background-color: #E8F0FE;\n",
              "      border: none;\n",
              "      border-radius: 50%;\n",
              "      cursor: pointer;\n",
              "      display: none;\n",
              "      fill: #1967D2;\n",
              "      height: 32px;\n",
              "      padding: 0 0 0 0;\n",
              "      width: 32px;\n",
              "    }\n",
              "\n",
              "    .colab-df-convert:hover {\n",
              "      background-color: #E2EBFA;\n",
              "      box-shadow: 0px 1px 2px rgba(60, 64, 67, 0.3), 0px 1px 3px 1px rgba(60, 64, 67, 0.15);\n",
              "      fill: #174EA6;\n",
              "    }\n",
              "\n",
              "    .colab-df-buttons div {\n",
              "      margin-bottom: 4px;\n",
              "    }\n",
              "\n",
              "    [theme=dark] .colab-df-convert {\n",
              "      background-color: #3B4455;\n",
              "      fill: #D2E3FC;\n",
              "    }\n",
              "\n",
              "    [theme=dark] .colab-df-convert:hover {\n",
              "      background-color: #434B5C;\n",
              "      box-shadow: 0px 1px 3px 1px rgba(0, 0, 0, 0.15);\n",
              "      filter: drop-shadow(0px 1px 2px rgba(0, 0, 0, 0.3));\n",
              "      fill: #FFFFFF;\n",
              "    }\n",
              "  </style>\n",
              "\n",
              "    <script>\n",
              "      const buttonEl =\n",
              "        document.querySelector('#df-1a08e3c1-765b-4c41-ba0e-b2362ee5aa0d button.colab-df-convert');\n",
              "      buttonEl.style.display =\n",
              "        google.colab.kernel.accessAllowed ? 'block' : 'none';\n",
              "\n",
              "      async function convertToInteractive(key) {\n",
              "        const element = document.querySelector('#df-1a08e3c1-765b-4c41-ba0e-b2362ee5aa0d');\n",
              "        const dataTable =\n",
              "          await google.colab.kernel.invokeFunction('convertToInteractive',\n",
              "                                                    [key], {});\n",
              "        if (!dataTable) return;\n",
              "\n",
              "        const docLinkHtml = 'Like what you see? Visit the ' +\n",
              "          '<a target=\"_blank\" href=https://colab.research.google.com/notebooks/data_table.ipynb>data table notebook</a>'\n",
              "          + ' to learn more about interactive tables.';\n",
              "        element.innerHTML = '';\n",
              "        dataTable['output_type'] = 'display_data';\n",
              "        await google.colab.output.renderOutput(dataTable, element);\n",
              "        const docLink = document.createElement('div');\n",
              "        docLink.innerHTML = docLinkHtml;\n",
              "        element.appendChild(docLink);\n",
              "      }\n",
              "    </script>\n",
              "  </div>\n",
              "\n",
              "\n",
              "<div id=\"df-d348a4c0-07aa-49d4-b0ff-2f26b0f4cd2e\">\n",
              "  <button class=\"colab-df-quickchart\" onclick=\"quickchart('df-d348a4c0-07aa-49d4-b0ff-2f26b0f4cd2e')\"\n",
              "            title=\"Suggest charts.\"\n",
              "            style=\"display:none;\">\n",
              "\n",
              "<svg xmlns=\"http://www.w3.org/2000/svg\" height=\"24px\"viewBox=\"0 0 24 24\"\n",
              "     width=\"24px\">\n",
              "    <g>\n",
              "        <path d=\"M19 3H5c-1.1 0-2 .9-2 2v14c0 1.1.9 2 2 2h14c1.1 0 2-.9 2-2V5c0-1.1-.9-2-2-2zM9 17H7v-7h2v7zm4 0h-2V7h2v10zm4 0h-2v-4h2v4z\"/>\n",
              "    </g>\n",
              "</svg>\n",
              "  </button>\n",
              "\n",
              "<style>\n",
              "  .colab-df-quickchart {\n",
              "      --bg-color: #E8F0FE;\n",
              "      --fill-color: #1967D2;\n",
              "      --hover-bg-color: #E2EBFA;\n",
              "      --hover-fill-color: #174EA6;\n",
              "      --disabled-fill-color: #AAA;\n",
              "      --disabled-bg-color: #DDD;\n",
              "  }\n",
              "\n",
              "  [theme=dark] .colab-df-quickchart {\n",
              "      --bg-color: #3B4455;\n",
              "      --fill-color: #D2E3FC;\n",
              "      --hover-bg-color: #434B5C;\n",
              "      --hover-fill-color: #FFFFFF;\n",
              "      --disabled-bg-color: #3B4455;\n",
              "      --disabled-fill-color: #666;\n",
              "  }\n",
              "\n",
              "  .colab-df-quickchart {\n",
              "    background-color: var(--bg-color);\n",
              "    border: none;\n",
              "    border-radius: 50%;\n",
              "    cursor: pointer;\n",
              "    display: none;\n",
              "    fill: var(--fill-color);\n",
              "    height: 32px;\n",
              "    padding: 0;\n",
              "    width: 32px;\n",
              "  }\n",
              "\n",
              "  .colab-df-quickchart:hover {\n",
              "    background-color: var(--hover-bg-color);\n",
              "    box-shadow: 0 1px 2px rgba(60, 64, 67, 0.3), 0 1px 3px 1px rgba(60, 64, 67, 0.15);\n",
              "    fill: var(--button-hover-fill-color);\n",
              "  }\n",
              "\n",
              "  .colab-df-quickchart-complete:disabled,\n",
              "  .colab-df-quickchart-complete:disabled:hover {\n",
              "    background-color: var(--disabled-bg-color);\n",
              "    fill: var(--disabled-fill-color);\n",
              "    box-shadow: none;\n",
              "  }\n",
              "\n",
              "  .colab-df-spinner {\n",
              "    border: 2px solid var(--fill-color);\n",
              "    border-color: transparent;\n",
              "    border-bottom-color: var(--fill-color);\n",
              "    animation:\n",
              "      spin 1s steps(1) infinite;\n",
              "  }\n",
              "\n",
              "  @keyframes spin {\n",
              "    0% {\n",
              "      border-color: transparent;\n",
              "      border-bottom-color: var(--fill-color);\n",
              "      border-left-color: var(--fill-color);\n",
              "    }\n",
              "    20% {\n",
              "      border-color: transparent;\n",
              "      border-left-color: var(--fill-color);\n",
              "      border-top-color: var(--fill-color);\n",
              "    }\n",
              "    30% {\n",
              "      border-color: transparent;\n",
              "      border-left-color: var(--fill-color);\n",
              "      border-top-color: var(--fill-color);\n",
              "      border-right-color: var(--fill-color);\n",
              "    }\n",
              "    40% {\n",
              "      border-color: transparent;\n",
              "      border-right-color: var(--fill-color);\n",
              "      border-top-color: var(--fill-color);\n",
              "    }\n",
              "    60% {\n",
              "      border-color: transparent;\n",
              "      border-right-color: var(--fill-color);\n",
              "    }\n",
              "    80% {\n",
              "      border-color: transparent;\n",
              "      border-right-color: var(--fill-color);\n",
              "      border-bottom-color: var(--fill-color);\n",
              "    }\n",
              "    90% {\n",
              "      border-color: transparent;\n",
              "      border-bottom-color: var(--fill-color);\n",
              "    }\n",
              "  }\n",
              "</style>\n",
              "\n",
              "  <script>\n",
              "    async function quickchart(key) {\n",
              "      const quickchartButtonEl =\n",
              "        document.querySelector('#' + key + ' button');\n",
              "      quickchartButtonEl.disabled = true;  // To prevent multiple clicks.\n",
              "      quickchartButtonEl.classList.add('colab-df-spinner');\n",
              "      try {\n",
              "        const charts = await google.colab.kernel.invokeFunction(\n",
              "            'suggestCharts', [key], {});\n",
              "      } catch (error) {\n",
              "        console.error('Error during call to suggestCharts:', error);\n",
              "      }\n",
              "      quickchartButtonEl.classList.remove('colab-df-spinner');\n",
              "      quickchartButtonEl.classList.add('colab-df-quickchart-complete');\n",
              "    }\n",
              "    (() => {\n",
              "      let quickchartButtonEl =\n",
              "        document.querySelector('#df-d348a4c0-07aa-49d4-b0ff-2f26b0f4cd2e button');\n",
              "      quickchartButtonEl.style.display =\n",
              "        google.colab.kernel.accessAllowed ? 'block' : 'none';\n",
              "    })();\n",
              "  </script>\n",
              "</div>\n",
              "    </div>\n",
              "  </div>\n"
            ]
          },
          "metadata": {},
          "execution_count": 317
        }
      ]
    },
    {
      "cell_type": "code",
      "source": [
        "df2[['translated', 'token']].head(5)"
      ],
      "metadata": {
        "colab": {
          "base_uri": "https://localhost:8080/",
          "height": 206
        },
        "id": "AZ1wWW7-kNKw",
        "outputId": "0c2258be-4505-4dbe-8d62-9f1ee467cfea"
      },
      "execution_count": null,
      "outputs": [
        {
          "output_type": "execute_result",
          "data": {
            "text/plain": [
              "                                          translated  \\\n",
              "0  sao paulo pode quebrar tabus incomodos contra ...   \n",
              "1  brasil atropela peru e engata 2? vitoria no pr...   \n",
              "2  mostra reune mais de mil obras para o museu da...   \n",
              "3  final da copa do brasil  onde assistir a flame...   \n",
              "4  flamengo e sao paulo iniciam hoje a briga pelo...   \n",
              "\n",
              "                                               token  \n",
              "0  sao paulo quebrar tabus incomodos flamengo cop...  \n",
              "1  brasil atropela peru engata  vitoria pre olimp...  \n",
              "2                mostra reune obras museu origens sp  \n",
              "3  copa brasil assistir flamengo x sao paulo vivo...  \n",
              "4  flamengo sao paulo iniciam briga titulo copa b...  "
            ],
            "text/html": [
              "\n",
              "  <div id=\"df-8c8ddf8a-fe81-4530-aef1-7ad5e62e4112\" class=\"colab-df-container\">\n",
              "    <div>\n",
              "<style scoped>\n",
              "    .dataframe tbody tr th:only-of-type {\n",
              "        vertical-align: middle;\n",
              "    }\n",
              "\n",
              "    .dataframe tbody tr th {\n",
              "        vertical-align: top;\n",
              "    }\n",
              "\n",
              "    .dataframe thead th {\n",
              "        text-align: right;\n",
              "    }\n",
              "</style>\n",
              "<table border=\"1\" class=\"dataframe\">\n",
              "  <thead>\n",
              "    <tr style=\"text-align: right;\">\n",
              "      <th></th>\n",
              "      <th>translated</th>\n",
              "      <th>token</th>\n",
              "    </tr>\n",
              "  </thead>\n",
              "  <tbody>\n",
              "    <tr>\n",
              "      <th>0</th>\n",
              "      <td>sao paulo pode quebrar tabus incomodos contra ...</td>\n",
              "      <td>sao paulo quebrar tabus incomodos flamengo cop...</td>\n",
              "    </tr>\n",
              "    <tr>\n",
              "      <th>1</th>\n",
              "      <td>brasil atropela peru e engata 2? vitoria no pr...</td>\n",
              "      <td>brasil atropela peru engata  vitoria pre olimp...</td>\n",
              "    </tr>\n",
              "    <tr>\n",
              "      <th>2</th>\n",
              "      <td>mostra reune mais de mil obras para o museu da...</td>\n",
              "      <td>mostra reune obras museu origens sp</td>\n",
              "    </tr>\n",
              "    <tr>\n",
              "      <th>3</th>\n",
              "      <td>final da copa do brasil  onde assistir a flame...</td>\n",
              "      <td>copa brasil assistir flamengo x sao paulo vivo...</td>\n",
              "    </tr>\n",
              "    <tr>\n",
              "      <th>4</th>\n",
              "      <td>flamengo e sao paulo iniciam hoje a briga pelo...</td>\n",
              "      <td>flamengo sao paulo iniciam briga titulo copa b...</td>\n",
              "    </tr>\n",
              "  </tbody>\n",
              "</table>\n",
              "</div>\n",
              "    <div class=\"colab-df-buttons\">\n",
              "\n",
              "  <div class=\"colab-df-container\">\n",
              "    <button class=\"colab-df-convert\" onclick=\"convertToInteractive('df-8c8ddf8a-fe81-4530-aef1-7ad5e62e4112')\"\n",
              "            title=\"Convert this dataframe to an interactive table.\"\n",
              "            style=\"display:none;\">\n",
              "\n",
              "  <svg xmlns=\"http://www.w3.org/2000/svg\" height=\"24px\" viewBox=\"0 -960 960 960\">\n",
              "    <path d=\"M120-120v-720h720v720H120Zm60-500h600v-160H180v160Zm220 220h160v-160H400v160Zm0 220h160v-160H400v160ZM180-400h160v-160H180v160Zm440 0h160v-160H620v160ZM180-180h160v-160H180v160Zm440 0h160v-160H620v160Z\"/>\n",
              "  </svg>\n",
              "    </button>\n",
              "\n",
              "  <style>\n",
              "    .colab-df-container {\n",
              "      display:flex;\n",
              "      gap: 12px;\n",
              "    }\n",
              "\n",
              "    .colab-df-convert {\n",
              "      background-color: #E8F0FE;\n",
              "      border: none;\n",
              "      border-radius: 50%;\n",
              "      cursor: pointer;\n",
              "      display: none;\n",
              "      fill: #1967D2;\n",
              "      height: 32px;\n",
              "      padding: 0 0 0 0;\n",
              "      width: 32px;\n",
              "    }\n",
              "\n",
              "    .colab-df-convert:hover {\n",
              "      background-color: #E2EBFA;\n",
              "      box-shadow: 0px 1px 2px rgba(60, 64, 67, 0.3), 0px 1px 3px 1px rgba(60, 64, 67, 0.15);\n",
              "      fill: #174EA6;\n",
              "    }\n",
              "\n",
              "    .colab-df-buttons div {\n",
              "      margin-bottom: 4px;\n",
              "    }\n",
              "\n",
              "    [theme=dark] .colab-df-convert {\n",
              "      background-color: #3B4455;\n",
              "      fill: #D2E3FC;\n",
              "    }\n",
              "\n",
              "    [theme=dark] .colab-df-convert:hover {\n",
              "      background-color: #434B5C;\n",
              "      box-shadow: 0px 1px 3px 1px rgba(0, 0, 0, 0.15);\n",
              "      filter: drop-shadow(0px 1px 2px rgba(0, 0, 0, 0.3));\n",
              "      fill: #FFFFFF;\n",
              "    }\n",
              "  </style>\n",
              "\n",
              "    <script>\n",
              "      const buttonEl =\n",
              "        document.querySelector('#df-8c8ddf8a-fe81-4530-aef1-7ad5e62e4112 button.colab-df-convert');\n",
              "      buttonEl.style.display =\n",
              "        google.colab.kernel.accessAllowed ? 'block' : 'none';\n",
              "\n",
              "      async function convertToInteractive(key) {\n",
              "        const element = document.querySelector('#df-8c8ddf8a-fe81-4530-aef1-7ad5e62e4112');\n",
              "        const dataTable =\n",
              "          await google.colab.kernel.invokeFunction('convertToInteractive',\n",
              "                                                    [key], {});\n",
              "        if (!dataTable) return;\n",
              "\n",
              "        const docLinkHtml = 'Like what you see? Visit the ' +\n",
              "          '<a target=\"_blank\" href=https://colab.research.google.com/notebooks/data_table.ipynb>data table notebook</a>'\n",
              "          + ' to learn more about interactive tables.';\n",
              "        element.innerHTML = '';\n",
              "        dataTable['output_type'] = 'display_data';\n",
              "        await google.colab.output.renderOutput(dataTable, element);\n",
              "        const docLink = document.createElement('div');\n",
              "        docLink.innerHTML = docLinkHtml;\n",
              "        element.appendChild(docLink);\n",
              "      }\n",
              "    </script>\n",
              "  </div>\n",
              "\n",
              "\n",
              "<div id=\"df-ed2a5e8a-3f30-41f1-8b0a-68e31cf05222\">\n",
              "  <button class=\"colab-df-quickchart\" onclick=\"quickchart('df-ed2a5e8a-3f30-41f1-8b0a-68e31cf05222')\"\n",
              "            title=\"Suggest charts.\"\n",
              "            style=\"display:none;\">\n",
              "\n",
              "<svg xmlns=\"http://www.w3.org/2000/svg\" height=\"24px\"viewBox=\"0 0 24 24\"\n",
              "     width=\"24px\">\n",
              "    <g>\n",
              "        <path d=\"M19 3H5c-1.1 0-2 .9-2 2v14c0 1.1.9 2 2 2h14c1.1 0 2-.9 2-2V5c0-1.1-.9-2-2-2zM9 17H7v-7h2v7zm4 0h-2V7h2v10zm4 0h-2v-4h2v4z\"/>\n",
              "    </g>\n",
              "</svg>\n",
              "  </button>\n",
              "\n",
              "<style>\n",
              "  .colab-df-quickchart {\n",
              "      --bg-color: #E8F0FE;\n",
              "      --fill-color: #1967D2;\n",
              "      --hover-bg-color: #E2EBFA;\n",
              "      --hover-fill-color: #174EA6;\n",
              "      --disabled-fill-color: #AAA;\n",
              "      --disabled-bg-color: #DDD;\n",
              "  }\n",
              "\n",
              "  [theme=dark] .colab-df-quickchart {\n",
              "      --bg-color: #3B4455;\n",
              "      --fill-color: #D2E3FC;\n",
              "      --hover-bg-color: #434B5C;\n",
              "      --hover-fill-color: #FFFFFF;\n",
              "      --disabled-bg-color: #3B4455;\n",
              "      --disabled-fill-color: #666;\n",
              "  }\n",
              "\n",
              "  .colab-df-quickchart {\n",
              "    background-color: var(--bg-color);\n",
              "    border: none;\n",
              "    border-radius: 50%;\n",
              "    cursor: pointer;\n",
              "    display: none;\n",
              "    fill: var(--fill-color);\n",
              "    height: 32px;\n",
              "    padding: 0;\n",
              "    width: 32px;\n",
              "  }\n",
              "\n",
              "  .colab-df-quickchart:hover {\n",
              "    background-color: var(--hover-bg-color);\n",
              "    box-shadow: 0 1px 2px rgba(60, 64, 67, 0.3), 0 1px 3px 1px rgba(60, 64, 67, 0.15);\n",
              "    fill: var(--button-hover-fill-color);\n",
              "  }\n",
              "\n",
              "  .colab-df-quickchart-complete:disabled,\n",
              "  .colab-df-quickchart-complete:disabled:hover {\n",
              "    background-color: var(--disabled-bg-color);\n",
              "    fill: var(--disabled-fill-color);\n",
              "    box-shadow: none;\n",
              "  }\n",
              "\n",
              "  .colab-df-spinner {\n",
              "    border: 2px solid var(--fill-color);\n",
              "    border-color: transparent;\n",
              "    border-bottom-color: var(--fill-color);\n",
              "    animation:\n",
              "      spin 1s steps(1) infinite;\n",
              "  }\n",
              "\n",
              "  @keyframes spin {\n",
              "    0% {\n",
              "      border-color: transparent;\n",
              "      border-bottom-color: var(--fill-color);\n",
              "      border-left-color: var(--fill-color);\n",
              "    }\n",
              "    20% {\n",
              "      border-color: transparent;\n",
              "      border-left-color: var(--fill-color);\n",
              "      border-top-color: var(--fill-color);\n",
              "    }\n",
              "    30% {\n",
              "      border-color: transparent;\n",
              "      border-left-color: var(--fill-color);\n",
              "      border-top-color: var(--fill-color);\n",
              "      border-right-color: var(--fill-color);\n",
              "    }\n",
              "    40% {\n",
              "      border-color: transparent;\n",
              "      border-right-color: var(--fill-color);\n",
              "      border-top-color: var(--fill-color);\n",
              "    }\n",
              "    60% {\n",
              "      border-color: transparent;\n",
              "      border-right-color: var(--fill-color);\n",
              "    }\n",
              "    80% {\n",
              "      border-color: transparent;\n",
              "      border-right-color: var(--fill-color);\n",
              "      border-bottom-color: var(--fill-color);\n",
              "    }\n",
              "    90% {\n",
              "      border-color: transparent;\n",
              "      border-bottom-color: var(--fill-color);\n",
              "    }\n",
              "  }\n",
              "</style>\n",
              "\n",
              "  <script>\n",
              "    async function quickchart(key) {\n",
              "      const quickchartButtonEl =\n",
              "        document.querySelector('#' + key + ' button');\n",
              "      quickchartButtonEl.disabled = true;  // To prevent multiple clicks.\n",
              "      quickchartButtonEl.classList.add('colab-df-spinner');\n",
              "      try {\n",
              "        const charts = await google.colab.kernel.invokeFunction(\n",
              "            'suggestCharts', [key], {});\n",
              "      } catch (error) {\n",
              "        console.error('Error during call to suggestCharts:', error);\n",
              "      }\n",
              "      quickchartButtonEl.classList.remove('colab-df-spinner');\n",
              "      quickchartButtonEl.classList.add('colab-df-quickchart-complete');\n",
              "    }\n",
              "    (() => {\n",
              "      let quickchartButtonEl =\n",
              "        document.querySelector('#df-ed2a5e8a-3f30-41f1-8b0a-68e31cf05222 button');\n",
              "      quickchartButtonEl.style.display =\n",
              "        google.colab.kernel.accessAllowed ? 'block' : 'none';\n",
              "    })();\n",
              "  </script>\n",
              "</div>\n",
              "    </div>\n",
              "  </div>\n"
            ]
          },
          "metadata": {},
          "execution_count": 315
        }
      ]
    },
    {
      "cell_type": "code",
      "source": [
        "pip install tqdm"
      ],
      "metadata": {
        "colab": {
          "base_uri": "https://localhost:8080/"
        },
        "id": "X_sTfGIzYcRu",
        "outputId": "a4e4345c-6b8d-4ef5-ea92-5af8cc2fa550"
      },
      "execution_count": null,
      "outputs": [
        {
          "output_type": "stream",
          "name": "stdout",
          "text": [
            "Requirement already satisfied: tqdm in /usr/local/lib/python3.10/dist-packages (4.66.1)\n"
          ]
        }
      ]
    },
    {
      "cell_type": "code",
      "source": [
        "import tqdm\n",
        "import time"
      ],
      "metadata": {
        "id": "KcGUb-IIZY17"
      },
      "execution_count": null,
      "outputs": []
    },
    {
      "cell_type": "code",
      "source": [
        "nltk.download('vader_lexicon')"
      ],
      "metadata": {
        "colab": {
          "base_uri": "https://localhost:8080/"
        },
        "id": "dEUdRGAiZqep",
        "outputId": "33818e56-b35e-4aab-ff42-2c60e3cb5ecc"
      },
      "execution_count": null,
      "outputs": [
        {
          "output_type": "stream",
          "name": "stderr",
          "text": [
            "[nltk_data] Downloading package vader_lexicon to /root/nltk_data...\n"
          ]
        },
        {
          "output_type": "execute_result",
          "data": {
            "text/plain": [
              "True"
            ]
          },
          "metadata": {},
          "execution_count": 265
        }
      ]
    },
    {
      "cell_type": "code",
      "source": [
        "\n",
        "from nltk.sentiment import SentimentIntensityAnalyzer\n",
        "\n",
        "sia = SentimentIntensityAnalyzer()\n",
        "\n"
      ],
      "metadata": {
        "id": "txbTAVyxZnrj"
      },
      "execution_count": null,
      "outputs": []
    },
    {
      "cell_type": "code",
      "source": [
        "\n",
        "sia.polarity_scores(\" I'm happy \")\n"
      ],
      "metadata": {
        "colab": {
          "base_uri": "https://localhost:8080/"
        },
        "id": "QupiyBpSZ3J0",
        "outputId": "c9be9f04-43a3-40d4-c8b3-3ff09f51397e"
      },
      "execution_count": null,
      "outputs": [
        {
          "output_type": "execute_result",
          "data": {
            "text/plain": [
              "{'neg': 0.0, 'neu': 0.213, 'pos': 0.787, 'compound': 0.5719}"
            ]
          },
          "metadata": {},
          "execution_count": 267
        }
      ]
    },
    {
      "cell_type": "code",
      "source": [
        "\n",
        "from translate import Translator\n",
        "\n",
        "translator = Translator(from_lang = 'pt', to_lang = 'en')\n",
        "traducao = translator.translate(df2['token'][0])\n",
        "print(traducao)\n"
      ],
      "metadata": {
        "colab": {
          "base_uri": "https://localhost:8080/"
        },
        "id": "KQsY3_nLZ5ok",
        "outputId": "f1011e9f-b5f8-4028-d026-5cc2bf8f18e2"
      },
      "execution_count": null,
      "outputs": [
        {
          "output_type": "stream",
          "name": "stdout",
          "text": [
            "MYMEMORY WARNING: YOU USED ALL AVAILABLE FREE TRANSLATIONS FOR TODAY. NEXT AVAILABLE IN  19 HOURS 14 MINUTES 48 SECONDS VISIT HTTPS://MYMEMORY.TRANSLATED.NET/DOC/USAGELIMITS.PHP TO TRANSLATE MORE\n"
          ]
        }
      ]
    },
    {
      "cell_type": "code",
      "source": [
        "x = sia.polarity_scores(traducao)\n",
        "\n",
        "x"
      ],
      "metadata": {
        "colab": {
          "base_uri": "https://localhost:8080/"
        },
        "id": "ClVFdxDYarvd",
        "outputId": "c72812f7-c98b-4b2e-f4d8-b14ac605ed9a"
      },
      "execution_count": null,
      "outputs": [
        {
          "output_type": "execute_result",
          "data": {
            "text/plain": [
              "{'neg': 0.107, 'neu': 0.754, 'pos': 0.138, 'compound': 0.2263}"
            ]
          },
          "metadata": {},
          "execution_count": 297
        }
      ]
    },
    {
      "cell_type": "code",
      "source": [
        "pol = []\n",
        "#for i, row in df2.iterrows():\n",
        "for i, row in df2.head(100).iterrows():\n",
        "    text = row['token']\n",
        "    text_t = traduzirs(text)\n",
        "    time.sleep(2)\n",
        "    pol.append(sia.polarity_scores(text_t))\n"
      ],
      "metadata": {
        "id": "7YXG5N94YaPz"
      },
      "execution_count": null,
      "outputs": []
    },
    {
      "cell_type": "code",
      "source": [
        "pol\n"
      ],
      "metadata": {
        "colab": {
          "base_uri": "https://localhost:8080/"
        },
        "id": "s8vBKTwReR_C",
        "outputId": "45bf717f-0e81-43c0-a85e-89c2202de24f"
      },
      "execution_count": null,
      "outputs": [
        {
          "output_type": "execute_result",
          "data": {
            "text/plain": [
              "[{'neg': 0.087, 'neu': 0.794, 'pos': 0.119, 'compound': 0.2263},\n",
              " {'neg': 0.087, 'neu': 0.794, 'pos': 0.119, 'compound': 0.2263},\n",
              " {'neg': 0.087, 'neu': 0.794, 'pos': 0.119, 'compound': 0.2263},\n",
              " {'neg': 0.087, 'neu': 0.794, 'pos': 0.119, 'compound': 0.2263},\n",
              " {'neg': 0.087, 'neu': 0.794, 'pos': 0.119, 'compound': 0.2263},\n",
              " {'neg': 0.087, 'neu': 0.794, 'pos': 0.119, 'compound': 0.2263},\n",
              " {'neg': 0.087, 'neu': 0.794, 'pos': 0.119, 'compound': 0.2263},\n",
              " {'neg': 0.087, 'neu': 0.794, 'pos': 0.119, 'compound': 0.2263},\n",
              " {'neg': 0.087, 'neu': 0.794, 'pos': 0.119, 'compound': 0.2263},\n",
              " {'neg': 0.087, 'neu': 0.794, 'pos': 0.119, 'compound': 0.2263},\n",
              " {'neg': 0.087, 'neu': 0.794, 'pos': 0.119, 'compound': 0.2263},\n",
              " {'neg': 0.087, 'neu': 0.794, 'pos': 0.119, 'compound': 0.2263},\n",
              " {'neg': 0.087, 'neu': 0.794, 'pos': 0.119, 'compound': 0.2263},\n",
              " {'neg': 0.087, 'neu': 0.794, 'pos': 0.119, 'compound': 0.2263},\n",
              " {'neg': 0.087, 'neu': 0.794, 'pos': 0.119, 'compound': 0.2263},\n",
              " {'neg': 0.087, 'neu': 0.794, 'pos': 0.119, 'compound': 0.2263},\n",
              " {'neg': 0.087, 'neu': 0.794, 'pos': 0.119, 'compound': 0.2263},\n",
              " {'neg': 0.087, 'neu': 0.794, 'pos': 0.119, 'compound': 0.2263},\n",
              " {'neg': 0.087, 'neu': 0.794, 'pos': 0.119, 'compound': 0.2263},\n",
              " {'neg': 0.087, 'neu': 0.794, 'pos': 0.119, 'compound': 0.2263},\n",
              " {'neg': 0.087, 'neu': 0.794, 'pos': 0.119, 'compound': 0.2263},\n",
              " {'neg': 0.087, 'neu': 0.794, 'pos': 0.119, 'compound': 0.2263},\n",
              " {'neg': 0.087, 'neu': 0.794, 'pos': 0.119, 'compound': 0.2263},\n",
              " {'neg': 0.087, 'neu': 0.794, 'pos': 0.119, 'compound': 0.2263},\n",
              " {'neg': 0.087, 'neu': 0.794, 'pos': 0.119, 'compound': 0.2263},\n",
              " {'neg': 0.087, 'neu': 0.794, 'pos': 0.119, 'compound': 0.2263},\n",
              " {'neg': 0.087, 'neu': 0.794, 'pos': 0.119, 'compound': 0.2263},\n",
              " {'neg': 0.087, 'neu': 0.794, 'pos': 0.119, 'compound': 0.2263},\n",
              " {'neg': 0.087, 'neu': 0.794, 'pos': 0.119, 'compound': 0.2263},\n",
              " {'neg': 0.087, 'neu': 0.794, 'pos': 0.119, 'compound': 0.2263},\n",
              " {'neg': 0.087, 'neu': 0.794, 'pos': 0.119, 'compound': 0.2263},\n",
              " {'neg': 0.087, 'neu': 0.794, 'pos': 0.119, 'compound': 0.2263},\n",
              " {'neg': 0.087, 'neu': 0.794, 'pos': 0.119, 'compound': 0.2263},\n",
              " {'neg': 0.087, 'neu': 0.794, 'pos': 0.119, 'compound': 0.2263},\n",
              " {'neg': 0.087, 'neu': 0.794, 'pos': 0.119, 'compound': 0.2263},\n",
              " {'neg': 0.087, 'neu': 0.794, 'pos': 0.119, 'compound': 0.2263},\n",
              " {'neg': 0.087, 'neu': 0.794, 'pos': 0.119, 'compound': 0.2263},\n",
              " {'neg': 0.087, 'neu': 0.794, 'pos': 0.119, 'compound': 0.2263},\n",
              " {'neg': 0.087, 'neu': 0.794, 'pos': 0.119, 'compound': 0.2263},\n",
              " {'neg': 0.087, 'neu': 0.794, 'pos': 0.119, 'compound': 0.2263},\n",
              " {'neg': 0.087, 'neu': 0.794, 'pos': 0.119, 'compound': 0.2263},\n",
              " {'neg': 0.087, 'neu': 0.794, 'pos': 0.119, 'compound': 0.2263},\n",
              " {'neg': 0.087, 'neu': 0.794, 'pos': 0.119, 'compound': 0.2263},\n",
              " {'neg': 0.087, 'neu': 0.794, 'pos': 0.119, 'compound': 0.2263},\n",
              " {'neg': 0.087, 'neu': 0.794, 'pos': 0.119, 'compound': 0.2263},\n",
              " {'neg': 0.087, 'neu': 0.794, 'pos': 0.119, 'compound': 0.2263},\n",
              " {'neg': 0.087, 'neu': 0.794, 'pos': 0.119, 'compound': 0.2263},\n",
              " {'neg': 0.087, 'neu': 0.794, 'pos': 0.119, 'compound': 0.2263},\n",
              " {'neg': 0.087, 'neu': 0.794, 'pos': 0.119, 'compound': 0.2263},\n",
              " {'neg': 0.087, 'neu': 0.794, 'pos': 0.119, 'compound': 0.2263},\n",
              " {'neg': 0.087, 'neu': 0.794, 'pos': 0.119, 'compound': 0.2263},\n",
              " {'neg': 0.087, 'neu': 0.794, 'pos': 0.119, 'compound': 0.2263},\n",
              " {'neg': 0.087, 'neu': 0.794, 'pos': 0.119, 'compound': 0.2263},\n",
              " {'neg': 0.087, 'neu': 0.794, 'pos': 0.119, 'compound': 0.2263},\n",
              " {'neg': 0.087, 'neu': 0.794, 'pos': 0.119, 'compound': 0.2263},\n",
              " {'neg': 0.087, 'neu': 0.794, 'pos': 0.119, 'compound': 0.2263},\n",
              " {'neg': 0.087, 'neu': 0.794, 'pos': 0.119, 'compound': 0.2263},\n",
              " {'neg': 0.087, 'neu': 0.794, 'pos': 0.119, 'compound': 0.2263},\n",
              " {'neg': 0.087, 'neu': 0.794, 'pos': 0.119, 'compound': 0.2263},\n",
              " {'neg': 0.087, 'neu': 0.794, 'pos': 0.119, 'compound': 0.2263},\n",
              " {'neg': 0.087, 'neu': 0.794, 'pos': 0.119, 'compound': 0.2263},\n",
              " {'neg': 0.087, 'neu': 0.794, 'pos': 0.119, 'compound': 0.2263},\n",
              " {'neg': 0.087, 'neu': 0.794, 'pos': 0.119, 'compound': 0.2263},\n",
              " {'neg': 0.087, 'neu': 0.794, 'pos': 0.119, 'compound': 0.2263},\n",
              " {'neg': 0.087, 'neu': 0.794, 'pos': 0.119, 'compound': 0.2263},\n",
              " {'neg': 0.087, 'neu': 0.794, 'pos': 0.119, 'compound': 0.2263},\n",
              " {'neg': 0.087, 'neu': 0.794, 'pos': 0.119, 'compound': 0.2263},\n",
              " {'neg': 0.087, 'neu': 0.794, 'pos': 0.119, 'compound': 0.2263},\n",
              " {'neg': 0.087, 'neu': 0.794, 'pos': 0.119, 'compound': 0.2263},\n",
              " {'neg': 0.087, 'neu': 0.794, 'pos': 0.119, 'compound': 0.2263},\n",
              " {'neg': 0.087, 'neu': 0.794, 'pos': 0.119, 'compound': 0.2263},\n",
              " {'neg': 0.087, 'neu': 0.794, 'pos': 0.119, 'compound': 0.2263},\n",
              " {'neg': 0.087, 'neu': 0.794, 'pos': 0.119, 'compound': 0.2263},\n",
              " {'neg': 0.087, 'neu': 0.794, 'pos': 0.119, 'compound': 0.2263},\n",
              " {'neg': 0.087, 'neu': 0.794, 'pos': 0.119, 'compound': 0.2263},\n",
              " {'neg': 0.087, 'neu': 0.794, 'pos': 0.119, 'compound': 0.2263},\n",
              " {'neg': 0.087, 'neu': 0.794, 'pos': 0.119, 'compound': 0.2263},\n",
              " {'neg': 0.087, 'neu': 0.794, 'pos': 0.119, 'compound': 0.2263},\n",
              " {'neg': 0.087, 'neu': 0.794, 'pos': 0.119, 'compound': 0.2263},\n",
              " {'neg': 0.087, 'neu': 0.794, 'pos': 0.119, 'compound': 0.2263},\n",
              " {'neg': 0.087, 'neu': 0.794, 'pos': 0.119, 'compound': 0.2263},\n",
              " {'neg': 0.087, 'neu': 0.794, 'pos': 0.119, 'compound': 0.2263},\n",
              " {'neg': 0.087, 'neu': 0.794, 'pos': 0.119, 'compound': 0.2263},\n",
              " {'neg': 0.087, 'neu': 0.794, 'pos': 0.119, 'compound': 0.2263},\n",
              " {'neg': 0.087, 'neu': 0.794, 'pos': 0.119, 'compound': 0.2263},\n",
              " {'neg': 0.087, 'neu': 0.794, 'pos': 0.119, 'compound': 0.2263},\n",
              " {'neg': 0.087, 'neu': 0.794, 'pos': 0.119, 'compound': 0.2263},\n",
              " {'neg': 0.087, 'neu': 0.794, 'pos': 0.119, 'compound': 0.2263},\n",
              " {'neg': 0.087, 'neu': 0.794, 'pos': 0.119, 'compound': 0.2263},\n",
              " {'neg': 0.087, 'neu': 0.794, 'pos': 0.119, 'compound': 0.2263},\n",
              " {'neg': 0.087, 'neu': 0.794, 'pos': 0.119, 'compound': 0.2263},\n",
              " {'neg': 0.087, 'neu': 0.794, 'pos': 0.119, 'compound': 0.2263},\n",
              " {'neg': 0.087, 'neu': 0.794, 'pos': 0.119, 'compound': 0.2263},\n",
              " {'neg': 0.087, 'neu': 0.794, 'pos': 0.119, 'compound': 0.2263},\n",
              " {'neg': 0.087, 'neu': 0.794, 'pos': 0.119, 'compound': 0.2263},\n",
              " {'neg': 0.087, 'neu': 0.794, 'pos': 0.119, 'compound': 0.2263},\n",
              " {'neg': 0.087, 'neu': 0.794, 'pos': 0.119, 'compound': 0.2263},\n",
              " {'neg': 0.087, 'neu': 0.794, 'pos': 0.119, 'compound': 0.2263},\n",
              " {'neg': 0.087, 'neu': 0.794, 'pos': 0.119, 'compound': 0.2263},\n",
              " {'neg': 0.087, 'neu': 0.794, 'pos': 0.119, 'compound': 0.2263}]"
            ]
          },
          "metadata": {},
          "execution_count": 298
        }
      ]
    },
    {
      "cell_type": "code",
      "source": [
        "df2"
      ],
      "metadata": {
        "colab": {
          "base_uri": "https://localhost:8080/",
          "height": 857
        },
        "id": "tjm17u-phHVx",
        "outputId": "beec3821-7f88-4cf7-ace8-9b99c2172bfe"
      },
      "execution_count": null,
      "outputs": [
        {
          "output_type": "execute_result",
          "data": {
            "text/plain": [
              "                                                  title               media  \\\n",
              "0     São Paulo pode quebrar tabus incômodos contra ...               Terra   \n",
              "1     Brasil atropela Peru e engata 2ª vitória no Pr...         ESPN Brasil   \n",
              "2     Mostra reúne mais de mil obras para o Museu da...      Agência Brasil   \n",
              "3     Final da Copa do Brasil: Onde assistir a Flame...      Notícias da TV   \n",
              "4     Flamengo e São Paulo iniciam hoje a briga pelo...                Band   \n",
              "...                                                 ...                 ...   \n",
              "1528  O dia em direto nos mercados e na economia – 1...                 Eco   \n",
              "1529  Nova edição do Expresso nas bancas, com novida...            Expresso   \n",
              "1530  Mercado do Bolhão. Maioria dos comerciantes de...  Notícias ao Minuto   \n",
              "1531  Cimeira G77+China começa hoje em Cuba procuran...                SAPO   \n",
              "1532  Turismo mantém economia europeia à tona. Até q...               Visão   \n",
              "\n",
              "                datetime                                             title2  \\\n",
              "0    2023-09-17 11:14:00  sao paulo pode quebrar tabus incomodos contra ...   \n",
              "1    2023-09-17 11:14:00  brasil atropela peru e engata 2? vitoria no pr...   \n",
              "2    2023-09-17 11:14:00  mostra reune mais de mil obras para o museu da...   \n",
              "3    2023-09-17 11:14:00  final da copa do brasil  onde assistir a flame...   \n",
              "4    2023-09-17 11:14:00  flamengo e sao paulo iniciam hoje a briga pelo...   \n",
              "...                  ...                                                ...   \n",
              "1528 2023-09-15 00:00:00  o dia em direto nos mercados e na economia ? 1...   \n",
              "1529 2023-09-15 00:00:00  nova edicao do expresso nas bancas  com novida...   \n",
              "1530 2023-09-15 00:00:00  mercado do bolhao. maioria dos comerciantes de...   \n",
              "1531 2023-09-15 00:00:00  cimeira g77+china comeca hoje em cuba procuran...   \n",
              "1532 2023-09-15 00:00:00  turismo mantem economia europeia a tona. ate q...   \n",
              "\n",
              "                                             tokenizing  \\\n",
              "0     [sao, paulo, pode, quebrar, tabus, incomodos, ...   \n",
              "1     [brasil, atropela, peru, e, engata, 2, ?, vito...   \n",
              "2     [mostra, reune, mais, de, mil, obras, para, o,...   \n",
              "3     [final, da, copa, do, brasil, onde, assistir, ...   \n",
              "4     [flamengo, e, sao, paulo, iniciam, hoje, a, br...   \n",
              "...                                                 ...   \n",
              "1528  [o, dia, em, direto, nos, mercados, e, na, eco...   \n",
              "1529  [nova, edicao, do, expresso, nas, bancas, com,...   \n",
              "1530  [mercado, do, bolhao, ., maioria, dos, comerci...   \n",
              "1531  [cimeira, g77+china, comeca, hoje, em, cuba, p...   \n",
              "1532  [turismo, mantem, economia, europeia, a, tona,...   \n",
              "\n",
              "                                                  token  \\\n",
              "0     sao paulo quebrar tabus incomodos flamengo cop...   \n",
              "1     brasil atropela peru engata  vitoria pre olimp...   \n",
              "2                   mostra reune obras museu origens sp   \n",
              "3     copa brasil assistir flamengo x sao paulo vivo...   \n",
              "4     flamengo sao paulo iniciam briga titulo copa b...   \n",
              "...                                                 ...   \n",
              "1528              direto mercados economia  15 setembro   \n",
              "1529  edicao expresso bancas novidades credito habit...   \n",
              "1530  mercado bolhao  comerciantes descontente atual...   \n",
              "1531  cimeira g77china comeca cuba procurando ordem ...   \n",
              "1532        turismo mantem economia europeia tona  ate    \n",
              "\n",
              "                                              traduzido  \\\n",
              "0     sao paulo quebrar tabus incomodos flamengo cop...   \n",
              "1     brasil atropela peru engata  vitoria pre olimp...   \n",
              "2                   mostra reune obras museu origens sp   \n",
              "3     copa brasil assistir flamengo x sao paulo vivo...   \n",
              "4     flamengo sao paulo iniciam briga titulo copa b...   \n",
              "...                                                 ...   \n",
              "1528              direto mercados economia  15 setembro   \n",
              "1529  edicao expresso bancas novidades credito habit...   \n",
              "1530  mercado bolhao  comerciantes descontente atual...   \n",
              "1531  cimeira g77china comeca cuba procurando ordem ...   \n",
              "1532        turismo mantem economia europeia tona  ate    \n",
              "\n",
              "                                             translated  \n",
              "0     sao paulo pode quebrar tabus incomodos contra ...  \n",
              "1     brasil atropela peru e engata 2? vitoria no pr...  \n",
              "2     mostra reune mais de mil obras para o museu da...  \n",
              "3     final da copa do brasil  onde assistir a flame...  \n",
              "4     flamengo e sao paulo iniciam hoje a briga pelo...  \n",
              "...                                                 ...  \n",
              "1528  o dia em direto nos mercados e na economia ? 1...  \n",
              "1529  nova edicao do expresso nas bancas  com novida...  \n",
              "1530  mercado do bolhao. maioria dos comerciantes de...  \n",
              "1531  cimeira g77+china comeca hoje em cuba procuran...  \n",
              "1532  turismo mantem economia europeia a tona. ate q...  \n",
              "\n",
              "[1533 rows x 8 columns]"
            ],
            "text/html": [
              "\n",
              "  <div id=\"df-91e0e3b4-0037-4a21-ac12-9395fb244a70\" class=\"colab-df-container\">\n",
              "    <div>\n",
              "<style scoped>\n",
              "    .dataframe tbody tr th:only-of-type {\n",
              "        vertical-align: middle;\n",
              "    }\n",
              "\n",
              "    .dataframe tbody tr th {\n",
              "        vertical-align: top;\n",
              "    }\n",
              "\n",
              "    .dataframe thead th {\n",
              "        text-align: right;\n",
              "    }\n",
              "</style>\n",
              "<table border=\"1\" class=\"dataframe\">\n",
              "  <thead>\n",
              "    <tr style=\"text-align: right;\">\n",
              "      <th></th>\n",
              "      <th>title</th>\n",
              "      <th>media</th>\n",
              "      <th>datetime</th>\n",
              "      <th>title2</th>\n",
              "      <th>tokenizing</th>\n",
              "      <th>token</th>\n",
              "      <th>traduzido</th>\n",
              "      <th>translated</th>\n",
              "    </tr>\n",
              "  </thead>\n",
              "  <tbody>\n",
              "    <tr>\n",
              "      <th>0</th>\n",
              "      <td>São Paulo pode quebrar tabus incômodos contra ...</td>\n",
              "      <td>Terra</td>\n",
              "      <td>2023-09-17 11:14:00</td>\n",
              "      <td>sao paulo pode quebrar tabus incomodos contra ...</td>\n",
              "      <td>[sao, paulo, pode, quebrar, tabus, incomodos, ...</td>\n",
              "      <td>sao paulo quebrar tabus incomodos flamengo cop...</td>\n",
              "      <td>sao paulo quebrar tabus incomodos flamengo cop...</td>\n",
              "      <td>sao paulo pode quebrar tabus incomodos contra ...</td>\n",
              "    </tr>\n",
              "    <tr>\n",
              "      <th>1</th>\n",
              "      <td>Brasil atropela Peru e engata 2ª vitória no Pr...</td>\n",
              "      <td>ESPN Brasil</td>\n",
              "      <td>2023-09-17 11:14:00</td>\n",
              "      <td>brasil atropela peru e engata 2? vitoria no pr...</td>\n",
              "      <td>[brasil, atropela, peru, e, engata, 2, ?, vito...</td>\n",
              "      <td>brasil atropela peru engata  vitoria pre olimp...</td>\n",
              "      <td>brasil atropela peru engata  vitoria pre olimp...</td>\n",
              "      <td>brasil atropela peru e engata 2? vitoria no pr...</td>\n",
              "    </tr>\n",
              "    <tr>\n",
              "      <th>2</th>\n",
              "      <td>Mostra reúne mais de mil obras para o Museu da...</td>\n",
              "      <td>Agência Brasil</td>\n",
              "      <td>2023-09-17 11:14:00</td>\n",
              "      <td>mostra reune mais de mil obras para o museu da...</td>\n",
              "      <td>[mostra, reune, mais, de, mil, obras, para, o,...</td>\n",
              "      <td>mostra reune obras museu origens sp</td>\n",
              "      <td>mostra reune obras museu origens sp</td>\n",
              "      <td>mostra reune mais de mil obras para o museu da...</td>\n",
              "    </tr>\n",
              "    <tr>\n",
              "      <th>3</th>\n",
              "      <td>Final da Copa do Brasil: Onde assistir a Flame...</td>\n",
              "      <td>Notícias da TV</td>\n",
              "      <td>2023-09-17 11:14:00</td>\n",
              "      <td>final da copa do brasil  onde assistir a flame...</td>\n",
              "      <td>[final, da, copa, do, brasil, onde, assistir, ...</td>\n",
              "      <td>copa brasil assistir flamengo x sao paulo vivo...</td>\n",
              "      <td>copa brasil assistir flamengo x sao paulo vivo...</td>\n",
              "      <td>final da copa do brasil  onde assistir a flame...</td>\n",
              "    </tr>\n",
              "    <tr>\n",
              "      <th>4</th>\n",
              "      <td>Flamengo e São Paulo iniciam hoje a briga pelo...</td>\n",
              "      <td>Band</td>\n",
              "      <td>2023-09-17 11:14:00</td>\n",
              "      <td>flamengo e sao paulo iniciam hoje a briga pelo...</td>\n",
              "      <td>[flamengo, e, sao, paulo, iniciam, hoje, a, br...</td>\n",
              "      <td>flamengo sao paulo iniciam briga titulo copa b...</td>\n",
              "      <td>flamengo sao paulo iniciam briga titulo copa b...</td>\n",
              "      <td>flamengo e sao paulo iniciam hoje a briga pelo...</td>\n",
              "    </tr>\n",
              "    <tr>\n",
              "      <th>...</th>\n",
              "      <td>...</td>\n",
              "      <td>...</td>\n",
              "      <td>...</td>\n",
              "      <td>...</td>\n",
              "      <td>...</td>\n",
              "      <td>...</td>\n",
              "      <td>...</td>\n",
              "      <td>...</td>\n",
              "    </tr>\n",
              "    <tr>\n",
              "      <th>1528</th>\n",
              "      <td>O dia em direto nos mercados e na economia – 1...</td>\n",
              "      <td>Eco</td>\n",
              "      <td>2023-09-15 00:00:00</td>\n",
              "      <td>o dia em direto nos mercados e na economia ? 1...</td>\n",
              "      <td>[o, dia, em, direto, nos, mercados, e, na, eco...</td>\n",
              "      <td>direto mercados economia  15 setembro</td>\n",
              "      <td>direto mercados economia  15 setembro</td>\n",
              "      <td>o dia em direto nos mercados e na economia ? 1...</td>\n",
              "    </tr>\n",
              "    <tr>\n",
              "      <th>1529</th>\n",
              "      <td>Nova edição do Expresso nas bancas, com novida...</td>\n",
              "      <td>Expresso</td>\n",
              "      <td>2023-09-15 00:00:00</td>\n",
              "      <td>nova edicao do expresso nas bancas  com novida...</td>\n",
              "      <td>[nova, edicao, do, expresso, nas, bancas, com,...</td>\n",
              "      <td>edicao expresso bancas novidades credito habit...</td>\n",
              "      <td>edicao expresso bancas novidades credito habit...</td>\n",
              "      <td>nova edicao do expresso nas bancas  com novida...</td>\n",
              "    </tr>\n",
              "    <tr>\n",
              "      <th>1530</th>\n",
              "      <td>Mercado do Bolhão. Maioria dos comerciantes de...</td>\n",
              "      <td>Notícias ao Minuto</td>\n",
              "      <td>2023-09-15 00:00:00</td>\n",
              "      <td>mercado do bolhao. maioria dos comerciantes de...</td>\n",
              "      <td>[mercado, do, bolhao, ., maioria, dos, comerci...</td>\n",
              "      <td>mercado bolhao  comerciantes descontente atual...</td>\n",
              "      <td>mercado bolhao  comerciantes descontente atual...</td>\n",
              "      <td>mercado do bolhao. maioria dos comerciantes de...</td>\n",
              "    </tr>\n",
              "    <tr>\n",
              "      <th>1531</th>\n",
              "      <td>Cimeira G77+China começa hoje em Cuba procuran...</td>\n",
              "      <td>SAPO</td>\n",
              "      <td>2023-09-15 00:00:00</td>\n",
              "      <td>cimeira g77+china comeca hoje em cuba procuran...</td>\n",
              "      <td>[cimeira, g77+china, comeca, hoje, em, cuba, p...</td>\n",
              "      <td>cimeira g77china comeca cuba procurando ordem ...</td>\n",
              "      <td>cimeira g77china comeca cuba procurando ordem ...</td>\n",
              "      <td>cimeira g77+china comeca hoje em cuba procuran...</td>\n",
              "    </tr>\n",
              "    <tr>\n",
              "      <th>1532</th>\n",
              "      <td>Turismo mantém economia europeia à tona. Até q...</td>\n",
              "      <td>Visão</td>\n",
              "      <td>2023-09-15 00:00:00</td>\n",
              "      <td>turismo mantem economia europeia a tona. ate q...</td>\n",
              "      <td>[turismo, mantem, economia, europeia, a, tona,...</td>\n",
              "      <td>turismo mantem economia europeia tona  ate</td>\n",
              "      <td>turismo mantem economia europeia tona  ate</td>\n",
              "      <td>turismo mantem economia europeia a tona. ate q...</td>\n",
              "    </tr>\n",
              "  </tbody>\n",
              "</table>\n",
              "<p>1533 rows × 8 columns</p>\n",
              "</div>\n",
              "    <div class=\"colab-df-buttons\">\n",
              "\n",
              "  <div class=\"colab-df-container\">\n",
              "    <button class=\"colab-df-convert\" onclick=\"convertToInteractive('df-91e0e3b4-0037-4a21-ac12-9395fb244a70')\"\n",
              "            title=\"Convert this dataframe to an interactive table.\"\n",
              "            style=\"display:none;\">\n",
              "\n",
              "  <svg xmlns=\"http://www.w3.org/2000/svg\" height=\"24px\" viewBox=\"0 -960 960 960\">\n",
              "    <path d=\"M120-120v-720h720v720H120Zm60-500h600v-160H180v160Zm220 220h160v-160H400v160Zm0 220h160v-160H400v160ZM180-400h160v-160H180v160Zm440 0h160v-160H620v160ZM180-180h160v-160H180v160Zm440 0h160v-160H620v160Z\"/>\n",
              "  </svg>\n",
              "    </button>\n",
              "\n",
              "  <style>\n",
              "    .colab-df-container {\n",
              "      display:flex;\n",
              "      gap: 12px;\n",
              "    }\n",
              "\n",
              "    .colab-df-convert {\n",
              "      background-color: #E8F0FE;\n",
              "      border: none;\n",
              "      border-radius: 50%;\n",
              "      cursor: pointer;\n",
              "      display: none;\n",
              "      fill: #1967D2;\n",
              "      height: 32px;\n",
              "      padding: 0 0 0 0;\n",
              "      width: 32px;\n",
              "    }\n",
              "\n",
              "    .colab-df-convert:hover {\n",
              "      background-color: #E2EBFA;\n",
              "      box-shadow: 0px 1px 2px rgba(60, 64, 67, 0.3), 0px 1px 3px 1px rgba(60, 64, 67, 0.15);\n",
              "      fill: #174EA6;\n",
              "    }\n",
              "\n",
              "    .colab-df-buttons div {\n",
              "      margin-bottom: 4px;\n",
              "    }\n",
              "\n",
              "    [theme=dark] .colab-df-convert {\n",
              "      background-color: #3B4455;\n",
              "      fill: #D2E3FC;\n",
              "    }\n",
              "\n",
              "    [theme=dark] .colab-df-convert:hover {\n",
              "      background-color: #434B5C;\n",
              "      box-shadow: 0px 1px 3px 1px rgba(0, 0, 0, 0.15);\n",
              "      filter: drop-shadow(0px 1px 2px rgba(0, 0, 0, 0.3));\n",
              "      fill: #FFFFFF;\n",
              "    }\n",
              "  </style>\n",
              "\n",
              "    <script>\n",
              "      const buttonEl =\n",
              "        document.querySelector('#df-91e0e3b4-0037-4a21-ac12-9395fb244a70 button.colab-df-convert');\n",
              "      buttonEl.style.display =\n",
              "        google.colab.kernel.accessAllowed ? 'block' : 'none';\n",
              "\n",
              "      async function convertToInteractive(key) {\n",
              "        const element = document.querySelector('#df-91e0e3b4-0037-4a21-ac12-9395fb244a70');\n",
              "        const dataTable =\n",
              "          await google.colab.kernel.invokeFunction('convertToInteractive',\n",
              "                                                    [key], {});\n",
              "        if (!dataTable) return;\n",
              "\n",
              "        const docLinkHtml = 'Like what you see? Visit the ' +\n",
              "          '<a target=\"_blank\" href=https://colab.research.google.com/notebooks/data_table.ipynb>data table notebook</a>'\n",
              "          + ' to learn more about interactive tables.';\n",
              "        element.innerHTML = '';\n",
              "        dataTable['output_type'] = 'display_data';\n",
              "        await google.colab.output.renderOutput(dataTable, element);\n",
              "        const docLink = document.createElement('div');\n",
              "        docLink.innerHTML = docLinkHtml;\n",
              "        element.appendChild(docLink);\n",
              "      }\n",
              "    </script>\n",
              "  </div>\n",
              "\n",
              "\n",
              "<div id=\"df-62464ec1-3caf-48bf-89ef-d92c4fd95199\">\n",
              "  <button class=\"colab-df-quickchart\" onclick=\"quickchart('df-62464ec1-3caf-48bf-89ef-d92c4fd95199')\"\n",
              "            title=\"Suggest charts.\"\n",
              "            style=\"display:none;\">\n",
              "\n",
              "<svg xmlns=\"http://www.w3.org/2000/svg\" height=\"24px\"viewBox=\"0 0 24 24\"\n",
              "     width=\"24px\">\n",
              "    <g>\n",
              "        <path d=\"M19 3H5c-1.1 0-2 .9-2 2v14c0 1.1.9 2 2 2h14c1.1 0 2-.9 2-2V5c0-1.1-.9-2-2-2zM9 17H7v-7h2v7zm4 0h-2V7h2v10zm4 0h-2v-4h2v4z\"/>\n",
              "    </g>\n",
              "</svg>\n",
              "  </button>\n",
              "\n",
              "<style>\n",
              "  .colab-df-quickchart {\n",
              "      --bg-color: #E8F0FE;\n",
              "      --fill-color: #1967D2;\n",
              "      --hover-bg-color: #E2EBFA;\n",
              "      --hover-fill-color: #174EA6;\n",
              "      --disabled-fill-color: #AAA;\n",
              "      --disabled-bg-color: #DDD;\n",
              "  }\n",
              "\n",
              "  [theme=dark] .colab-df-quickchart {\n",
              "      --bg-color: #3B4455;\n",
              "      --fill-color: #D2E3FC;\n",
              "      --hover-bg-color: #434B5C;\n",
              "      --hover-fill-color: #FFFFFF;\n",
              "      --disabled-bg-color: #3B4455;\n",
              "      --disabled-fill-color: #666;\n",
              "  }\n",
              "\n",
              "  .colab-df-quickchart {\n",
              "    background-color: var(--bg-color);\n",
              "    border: none;\n",
              "    border-radius: 50%;\n",
              "    cursor: pointer;\n",
              "    display: none;\n",
              "    fill: var(--fill-color);\n",
              "    height: 32px;\n",
              "    padding: 0;\n",
              "    width: 32px;\n",
              "  }\n",
              "\n",
              "  .colab-df-quickchart:hover {\n",
              "    background-color: var(--hover-bg-color);\n",
              "    box-shadow: 0 1px 2px rgba(60, 64, 67, 0.3), 0 1px 3px 1px rgba(60, 64, 67, 0.15);\n",
              "    fill: var(--button-hover-fill-color);\n",
              "  }\n",
              "\n",
              "  .colab-df-quickchart-complete:disabled,\n",
              "  .colab-df-quickchart-complete:disabled:hover {\n",
              "    background-color: var(--disabled-bg-color);\n",
              "    fill: var(--disabled-fill-color);\n",
              "    box-shadow: none;\n",
              "  }\n",
              "\n",
              "  .colab-df-spinner {\n",
              "    border: 2px solid var(--fill-color);\n",
              "    border-color: transparent;\n",
              "    border-bottom-color: var(--fill-color);\n",
              "    animation:\n",
              "      spin 1s steps(1) infinite;\n",
              "  }\n",
              "\n",
              "  @keyframes spin {\n",
              "    0% {\n",
              "      border-color: transparent;\n",
              "      border-bottom-color: var(--fill-color);\n",
              "      border-left-color: var(--fill-color);\n",
              "    }\n",
              "    20% {\n",
              "      border-color: transparent;\n",
              "      border-left-color: var(--fill-color);\n",
              "      border-top-color: var(--fill-color);\n",
              "    }\n",
              "    30% {\n",
              "      border-color: transparent;\n",
              "      border-left-color: var(--fill-color);\n",
              "      border-top-color: var(--fill-color);\n",
              "      border-right-color: var(--fill-color);\n",
              "    }\n",
              "    40% {\n",
              "      border-color: transparent;\n",
              "      border-right-color: var(--fill-color);\n",
              "      border-top-color: var(--fill-color);\n",
              "    }\n",
              "    60% {\n",
              "      border-color: transparent;\n",
              "      border-right-color: var(--fill-color);\n",
              "    }\n",
              "    80% {\n",
              "      border-color: transparent;\n",
              "      border-right-color: var(--fill-color);\n",
              "      border-bottom-color: var(--fill-color);\n",
              "    }\n",
              "    90% {\n",
              "      border-color: transparent;\n",
              "      border-bottom-color: var(--fill-color);\n",
              "    }\n",
              "  }\n",
              "</style>\n",
              "\n",
              "  <script>\n",
              "    async function quickchart(key) {\n",
              "      const quickchartButtonEl =\n",
              "        document.querySelector('#' + key + ' button');\n",
              "      quickchartButtonEl.disabled = true;  // To prevent multiple clicks.\n",
              "      quickchartButtonEl.classList.add('colab-df-spinner');\n",
              "      try {\n",
              "        const charts = await google.colab.kernel.invokeFunction(\n",
              "            'suggestCharts', [key], {});\n",
              "      } catch (error) {\n",
              "        console.error('Error during call to suggestCharts:', error);\n",
              "      }\n",
              "      quickchartButtonEl.classList.remove('colab-df-spinner');\n",
              "      quickchartButtonEl.classList.add('colab-df-quickchart-complete');\n",
              "    }\n",
              "    (() => {\n",
              "      let quickchartButtonEl =\n",
              "        document.querySelector('#df-62464ec1-3caf-48bf-89ef-d92c4fd95199 button');\n",
              "      quickchartButtonEl.style.display =\n",
              "        google.colab.kernel.accessAllowed ? 'block' : 'none';\n",
              "    })();\n",
              "  </script>\n",
              "</div>\n",
              "    </div>\n",
              "  </div>\n"
            ]
          },
          "metadata": {},
          "execution_count": 299
        }
      ]
    },
    {
      "cell_type": "code",
      "source": [
        "from sklearn.model_selection import train_test_split\n",
        "from sklearn.feature_extraction.text import CountVectorizer\n",
        "from sklearn.linear_model import LogisticRegression\n",
        "from sklearn.metrics import accuracy_score, f1_score, precision_score, recall_score\n",
        "\n",
        "from sklearn.pipeline import make_pipeline\n",
        "nltk.download('vader_lexicon')\n",
        "from nltk.sentiment.vader import SentimentIntensityAnalyzer\n",
        "from nltk.sentiment.util import *\n",
        "from textblob import TextBlob"
      ],
      "metadata": {
        "colab": {
          "base_uri": "https://localhost:8080/"
        },
        "id": "ZCvjkyuceTYL",
        "outputId": "4e9c58b5-d013-4893-82f0-31b3d3f9e7c7"
      },
      "execution_count": 83,
      "outputs": [
        {
          "output_type": "stream",
          "name": "stderr",
          "text": [
            "[nltk_data] Downloading package vader_lexicon to /root/nltk_data...\n"
          ]
        }
      ]
    },
    {
      "cell_type": "markdown",
      "source": [
        "# **Label Using TextBolb**"
      ],
      "metadata": {
        "id": "_GDqMUSAgwfd"
      }
    },
    {
      "cell_type": "code",
      "source": [
        "df2['transalted'] = df2['transalted'].astype('str')\n",
        "\n",
        "def get_polarity(text):\n",
        "    return TextBlob(text).sentiment.polarity\n",
        "\n",
        "df2['Polarity'] = df2['transalted'].apply(get_polarity)\n",
        "df2[['transalted','Polarity']].head()\n",
        "\n",
        "df2['Sentiment_Type']=''\n",
        "df2.loc[df2.Polarity>0,'Sentiment_Type']='POSITIVE'\n",
        "df2.loc[df2.Polarity==0,'Sentiment_Type']='NEUTRAL'\n",
        "df2.loc[df2.Polarity<0,'Sentiment_Type']='NEGATIVE'\n",
        "\n",
        "print(df2['Sentiment_Type'].value_counts())\n",
        "#twit_post = komentar[komentar[\"Sentiment_Type\"] == \"NEGATIVE\"]\n",
        "\n",
        "df2[['transalted','Sentiment_Type','hasil']].head(5)"
      ],
      "metadata": {
        "colab": {
          "base_uri": "https://localhost:8080/",
          "height": 511
        },
        "id": "RWSnvdzDgsfi",
        "outputId": "e9d5562a-7bfd-428d-d33e-36a9c3a4a83e"
      },
      "execution_count": null,
      "outputs": [
        {
          "output_type": "error",
          "ename": "KeyError",
          "evalue": "ignored",
          "traceback": [
            "\u001b[0;31m---------------------------------------------------------------------------\u001b[0m",
            "\u001b[0;31mKeyError\u001b[0m                                  Traceback (most recent call last)",
            "\u001b[0;32m/usr/local/lib/python3.10/dist-packages/pandas/core/indexes/base.py\u001b[0m in \u001b[0;36mget_loc\u001b[0;34m(self, key, method, tolerance)\u001b[0m\n\u001b[1;32m   3801\u001b[0m             \u001b[0;32mtry\u001b[0m\u001b[0;34m:\u001b[0m\u001b[0;34m\u001b[0m\u001b[0;34m\u001b[0m\u001b[0m\n\u001b[0;32m-> 3802\u001b[0;31m                 \u001b[0;32mreturn\u001b[0m \u001b[0mself\u001b[0m\u001b[0;34m.\u001b[0m\u001b[0m_engine\u001b[0m\u001b[0;34m.\u001b[0m\u001b[0mget_loc\u001b[0m\u001b[0;34m(\u001b[0m\u001b[0mcasted_key\u001b[0m\u001b[0;34m)\u001b[0m\u001b[0;34m\u001b[0m\u001b[0;34m\u001b[0m\u001b[0m\n\u001b[0m\u001b[1;32m   3803\u001b[0m             \u001b[0;32mexcept\u001b[0m \u001b[0mKeyError\u001b[0m \u001b[0;32mas\u001b[0m \u001b[0merr\u001b[0m\u001b[0;34m:\u001b[0m\u001b[0;34m\u001b[0m\u001b[0;34m\u001b[0m\u001b[0m\n",
            "\u001b[0;32m/usr/local/lib/python3.10/dist-packages/pandas/_libs/index.pyx\u001b[0m in \u001b[0;36mpandas._libs.index.IndexEngine.get_loc\u001b[0;34m()\u001b[0m\n",
            "\u001b[0;32m/usr/local/lib/python3.10/dist-packages/pandas/_libs/index.pyx\u001b[0m in \u001b[0;36mpandas._libs.index.IndexEngine.get_loc\u001b[0;34m()\u001b[0m\n",
            "\u001b[0;32mpandas/_libs/hashtable_class_helper.pxi\u001b[0m in \u001b[0;36mpandas._libs.hashtable.PyObjectHashTable.get_item\u001b[0;34m()\u001b[0m\n",
            "\u001b[0;32mpandas/_libs/hashtable_class_helper.pxi\u001b[0m in \u001b[0;36mpandas._libs.hashtable.PyObjectHashTable.get_item\u001b[0;34m()\u001b[0m\n",
            "\u001b[0;31mKeyError\u001b[0m: 'transalted'",
            "\nThe above exception was the direct cause of the following exception:\n",
            "\u001b[0;31mKeyError\u001b[0m                                  Traceback (most recent call last)",
            "\u001b[0;32m<ipython-input-300-2b913f44a1e8>\u001b[0m in \u001b[0;36m<cell line: 1>\u001b[0;34m()\u001b[0m\n\u001b[0;32m----> 1\u001b[0;31m \u001b[0mdf2\u001b[0m\u001b[0;34m[\u001b[0m\u001b[0;34m'transalted'\u001b[0m\u001b[0;34m]\u001b[0m \u001b[0;34m=\u001b[0m \u001b[0mdf2\u001b[0m\u001b[0;34m[\u001b[0m\u001b[0;34m'transalted'\u001b[0m\u001b[0;34m]\u001b[0m\u001b[0;34m.\u001b[0m\u001b[0mastype\u001b[0m\u001b[0;34m(\u001b[0m\u001b[0;34m'str'\u001b[0m\u001b[0;34m)\u001b[0m\u001b[0;34m\u001b[0m\u001b[0;34m\u001b[0m\u001b[0m\n\u001b[0m\u001b[1;32m      2\u001b[0m \u001b[0;34m\u001b[0m\u001b[0m\n\u001b[1;32m      3\u001b[0m \u001b[0;32mdef\u001b[0m \u001b[0mget_polarity\u001b[0m\u001b[0;34m(\u001b[0m\u001b[0mtext\u001b[0m\u001b[0;34m)\u001b[0m\u001b[0;34m:\u001b[0m\u001b[0;34m\u001b[0m\u001b[0;34m\u001b[0m\u001b[0m\n\u001b[1;32m      4\u001b[0m     \u001b[0;32mreturn\u001b[0m \u001b[0mTextBlob\u001b[0m\u001b[0;34m(\u001b[0m\u001b[0mtext\u001b[0m\u001b[0;34m)\u001b[0m\u001b[0;34m.\u001b[0m\u001b[0msentiment\u001b[0m\u001b[0;34m.\u001b[0m\u001b[0mpolarity\u001b[0m\u001b[0;34m\u001b[0m\u001b[0;34m\u001b[0m\u001b[0m\n\u001b[1;32m      5\u001b[0m \u001b[0;34m\u001b[0m\u001b[0m\n",
            "\u001b[0;32m/usr/local/lib/python3.10/dist-packages/pandas/core/frame.py\u001b[0m in \u001b[0;36m__getitem__\u001b[0;34m(self, key)\u001b[0m\n\u001b[1;32m   3805\u001b[0m             \u001b[0;32mif\u001b[0m \u001b[0mself\u001b[0m\u001b[0;34m.\u001b[0m\u001b[0mcolumns\u001b[0m\u001b[0;34m.\u001b[0m\u001b[0mnlevels\u001b[0m \u001b[0;34m>\u001b[0m \u001b[0;36m1\u001b[0m\u001b[0;34m:\u001b[0m\u001b[0;34m\u001b[0m\u001b[0;34m\u001b[0m\u001b[0m\n\u001b[1;32m   3806\u001b[0m                 \u001b[0;32mreturn\u001b[0m \u001b[0mself\u001b[0m\u001b[0;34m.\u001b[0m\u001b[0m_getitem_multilevel\u001b[0m\u001b[0;34m(\u001b[0m\u001b[0mkey\u001b[0m\u001b[0;34m)\u001b[0m\u001b[0;34m\u001b[0m\u001b[0;34m\u001b[0m\u001b[0m\n\u001b[0;32m-> 3807\u001b[0;31m             \u001b[0mindexer\u001b[0m \u001b[0;34m=\u001b[0m \u001b[0mself\u001b[0m\u001b[0;34m.\u001b[0m\u001b[0mcolumns\u001b[0m\u001b[0;34m.\u001b[0m\u001b[0mget_loc\u001b[0m\u001b[0;34m(\u001b[0m\u001b[0mkey\u001b[0m\u001b[0;34m)\u001b[0m\u001b[0;34m\u001b[0m\u001b[0;34m\u001b[0m\u001b[0m\n\u001b[0m\u001b[1;32m   3808\u001b[0m             \u001b[0;32mif\u001b[0m \u001b[0mis_integer\u001b[0m\u001b[0;34m(\u001b[0m\u001b[0mindexer\u001b[0m\u001b[0;34m)\u001b[0m\u001b[0;34m:\u001b[0m\u001b[0;34m\u001b[0m\u001b[0;34m\u001b[0m\u001b[0m\n\u001b[1;32m   3809\u001b[0m                 \u001b[0mindexer\u001b[0m \u001b[0;34m=\u001b[0m \u001b[0;34m[\u001b[0m\u001b[0mindexer\u001b[0m\u001b[0;34m]\u001b[0m\u001b[0;34m\u001b[0m\u001b[0;34m\u001b[0m\u001b[0m\n",
            "\u001b[0;32m/usr/local/lib/python3.10/dist-packages/pandas/core/indexes/base.py\u001b[0m in \u001b[0;36mget_loc\u001b[0;34m(self, key, method, tolerance)\u001b[0m\n\u001b[1;32m   3802\u001b[0m                 \u001b[0;32mreturn\u001b[0m \u001b[0mself\u001b[0m\u001b[0;34m.\u001b[0m\u001b[0m_engine\u001b[0m\u001b[0;34m.\u001b[0m\u001b[0mget_loc\u001b[0m\u001b[0;34m(\u001b[0m\u001b[0mcasted_key\u001b[0m\u001b[0;34m)\u001b[0m\u001b[0;34m\u001b[0m\u001b[0;34m\u001b[0m\u001b[0m\n\u001b[1;32m   3803\u001b[0m             \u001b[0;32mexcept\u001b[0m \u001b[0mKeyError\u001b[0m \u001b[0;32mas\u001b[0m \u001b[0merr\u001b[0m\u001b[0;34m:\u001b[0m\u001b[0;34m\u001b[0m\u001b[0;34m\u001b[0m\u001b[0m\n\u001b[0;32m-> 3804\u001b[0;31m                 \u001b[0;32mraise\u001b[0m \u001b[0mKeyError\u001b[0m\u001b[0;34m(\u001b[0m\u001b[0mkey\u001b[0m\u001b[0;34m)\u001b[0m \u001b[0;32mfrom\u001b[0m \u001b[0merr\u001b[0m\u001b[0;34m\u001b[0m\u001b[0;34m\u001b[0m\u001b[0m\n\u001b[0m\u001b[1;32m   3805\u001b[0m             \u001b[0;32mexcept\u001b[0m \u001b[0mTypeError\u001b[0m\u001b[0;34m:\u001b[0m\u001b[0;34m\u001b[0m\u001b[0;34m\u001b[0m\u001b[0m\n\u001b[1;32m   3806\u001b[0m                 \u001b[0;31m# If we have a listlike key, _check_indexing_error will raise\u001b[0m\u001b[0;34m\u001b[0m\u001b[0;34m\u001b[0m\u001b[0m\n",
            "\u001b[0;31mKeyError\u001b[0m: 'transalted'"
          ]
        }
      ]
    }
  ]
}